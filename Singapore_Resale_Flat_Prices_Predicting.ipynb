{
  "cells": [
    {
      "cell_type": "markdown",
      "metadata": {
        "id": "view-in-github",
        "colab_type": "text"
      },
      "source": [
        "<a href=\"https://colab.research.google.com/github/kalinharikumar/singapore_real_estate_price_prediction/blob/main/Singapore_Resale_Flat_Prices_Predicting.ipynb\" target=\"_parent\"><img src=\"https://colab.research.google.com/assets/colab-badge.svg\" alt=\"Open In Colab\"/></a>"
      ]
    },
    {
      "cell_type": "code",
      "execution_count": null,
      "metadata": {
        "colab": {
          "base_uri": "https://localhost:8080/"
        },
        "id": "6MwhJHs147c4",
        "outputId": "5f273de9-29ef-4193-a43c-305f4b26219f"
      },
      "outputs": [
        {
          "output_type": "stream",
          "name": "stdout",
          "text": [
            "Archive:  /content/ResaleFlatPrices.zip\n",
            "  inflating: Resale Flat Prices (Based on Registration Date), From Mar 2012 to Dec 2014.csv  \n",
            "  inflating: Resale Flat Prices (Based on Registration Date), From Jan 2015 to Dec 2016.csv  \n",
            "  inflating: Resale Flat Prices (Based on Approval Date), 2000 - Feb 2012.csv  \n",
            "  inflating: Resale Flat Prices (Based on Approval Date), 1990 - 1999.csv  \n",
            "  inflating: Resale flat prices based on registration date from Jan-2017 onwards.csv  \n"
          ]
        }
      ],
      "source": [
        "# unzip file\n",
        "\n",
        "!unzip /content/ResaleFlatPrices.zip\n"
      ]
    },
    {
      "cell_type": "code",
      "execution_count": null,
      "metadata": {
        "colab": {
          "base_uri": "https://localhost:8080/"
        },
        "id": "RF4nWuv16-Rm",
        "outputId": "4033df5a-7d9d-47ac-c210-c5521d223d62"
      },
      "outputs": [
        {
          "output_type": "stream",
          "name": "stdout",
          "text": [
            "shapeof /content/Resale Flat Prices (Based on Registration Date), From Jan 2015 to Dec 2016.csv is (37153, 11)\n",
            "shapeof /content/Resale flat prices based on registration date from Jan-2017 onwards.csv is (206029, 11)\n",
            "shapeof /content/Resale Flat Prices (Based on Approval Date), 2000 - Feb 2012.csv is (369651, 10)\n",
            "shapeof /content/Resale Flat Prices (Based on Registration Date), From Mar 2012 to Dec 2014.csv is (52203, 10)\n",
            "shapeof /content/Resale Flat Prices (Based on Approval Date), 1990 - 1999.csv is (287196, 10)\n",
            "shapeof combined df is (952232, 11)\n"
          ]
        }
      ],
      "source": [
        "# read concat all csv file\n",
        "\n",
        "import pandas as pd\n",
        "import glob\n",
        "import os\n",
        "\n",
        "# Assuming the CSV files are in the 'ResaleFlatPrices' directory after unzipping\n",
        "csv_files = glob.glob('/content/*.csv')\n",
        "\n",
        "# Create an empty list to store the dataframes\n",
        "dfs = []\n",
        "\n",
        "# Loop through each CSV file and read it into a dataframe\n",
        "for file in csv_files:\n",
        "    try:\n",
        "        df = pd.read_csv(file)\n",
        "        print(f\"shapeof {file} is {df.shape}\")\n",
        "        dfs.append(df)\n",
        "    except pd.errors.EmptyDataError:\n",
        "        print(f\"Warning: Skipping empty file {file}\")\n",
        "    except pd.errors.ParserError:\n",
        "        print(f\"Warning: Skipping file with parsing errors {file}\")\n",
        "\n",
        "# Concatenate all dataframes into a single dataframe\n",
        "if dfs:\n",
        "  combined_df = pd.concat(dfs, ignore_index=True)\n",
        "  print(f\"shapeof combined df is {combined_df.shape}\")\n",
        "else:\n",
        "  print(\"No valid CSV files found or all files encountered errors.\")\n"
      ]
    },
    {
      "cell_type": "code",
      "source": [
        "# save combined df\n",
        "combined_df.to_csv('/content/drive/MyDrive/capstone/price_prediction/combined_df.csv', index=False)"
      ],
      "metadata": {
        "id": "xPtrJBHbsro_"
      },
      "execution_count": null,
      "outputs": []
    },
    {
      "cell_type": "code",
      "source": [
        "# read csv\n",
        "import pandas as pd\n",
        "df = pd.read_csv('/content/drive/MyDrive/capstone/price_prediction/combined_df.csv')\n",
        "df.columns"
      ],
      "metadata": {
        "colab": {
          "base_uri": "https://localhost:8080/"
        },
        "id": "ndqVFuZstO3N",
        "outputId": "701bb36a-ff86-4850-ef3f-32a37ae8a3bc"
      },
      "execution_count": null,
      "outputs": [
        {
          "output_type": "stream",
          "name": "stderr",
          "text": [
            "<ipython-input-27-d32664da195e>:3: DtypeWarning: Columns (9) have mixed types. Specify dtype option on import or set low_memory=False.\n",
            "  df = pd.read_csv('/content/drive/MyDrive/capstone/price_prediction/combined_df.csv')\n"
          ]
        },
        {
          "output_type": "execute_result",
          "data": {
            "text/plain": [
              "Index(['month', 'town', 'flat_type', 'block', 'street_name', 'storey_range',\n",
              "       'floor_area_sqm', 'flat_model', 'lease_commence_date',\n",
              "       'remaining_lease', 'resale_price'],\n",
              "      dtype='object')"
            ]
          },
          "metadata": {},
          "execution_count": 27
        }
      ]
    },
    {
      "cell_type": "code",
      "source": [
        "df.head()"
      ],
      "metadata": {
        "colab": {
          "base_uri": "https://localhost:8080/",
          "height": 400
        },
        "id": "UgpWingWop30",
        "outputId": "6ca95777-e031-4e0e-f610-783b9a715402"
      },
      "execution_count": null,
      "outputs": [
        {
          "output_type": "execute_result",
          "data": {
            "text/plain": [
              "     month        town flat_type block        street_name storey_range  \\\n",
              "0  2015-01  ANG MO KIO    3 ROOM   174   ANG MO KIO AVE 4     07 TO 09   \n",
              "1  2015-01  ANG MO KIO    3 ROOM   541  ANG MO KIO AVE 10     01 TO 03   \n",
              "2  2015-01  ANG MO KIO    3 ROOM   163   ANG MO KIO AVE 4     01 TO 03   \n",
              "3  2015-01  ANG MO KIO    3 ROOM   446  ANG MO KIO AVE 10     01 TO 03   \n",
              "4  2015-01  ANG MO KIO    3 ROOM   557  ANG MO KIO AVE 10     07 TO 09   \n",
              "\n",
              "   floor_area_sqm      flat_model  lease_commence_date remaining_lease  \\\n",
              "0            60.0        Improved                 1986              70   \n",
              "1            68.0  New Generation                 1981              65   \n",
              "2            69.0  New Generation                 1980              64   \n",
              "3            68.0  New Generation                 1979              63   \n",
              "4            68.0  New Generation                 1980              64   \n",
              "\n",
              "   resale_price  \n",
              "0      255000.0  \n",
              "1      275000.0  \n",
              "2      285000.0  \n",
              "3      290000.0  \n",
              "4      290000.0  "
            ],
            "text/html": [
              "\n",
              "  <div id=\"df-1bb68ec0-9d41-440a-bcc1-0062822863e5\" class=\"colab-df-container\">\n",
              "    <div>\n",
              "<style scoped>\n",
              "    .dataframe tbody tr th:only-of-type {\n",
              "        vertical-align: middle;\n",
              "    }\n",
              "\n",
              "    .dataframe tbody tr th {\n",
              "        vertical-align: top;\n",
              "    }\n",
              "\n",
              "    .dataframe thead th {\n",
              "        text-align: right;\n",
              "    }\n",
              "</style>\n",
              "<table border=\"1\" class=\"dataframe\">\n",
              "  <thead>\n",
              "    <tr style=\"text-align: right;\">\n",
              "      <th></th>\n",
              "      <th>month</th>\n",
              "      <th>town</th>\n",
              "      <th>flat_type</th>\n",
              "      <th>block</th>\n",
              "      <th>street_name</th>\n",
              "      <th>storey_range</th>\n",
              "      <th>floor_area_sqm</th>\n",
              "      <th>flat_model</th>\n",
              "      <th>lease_commence_date</th>\n",
              "      <th>remaining_lease</th>\n",
              "      <th>resale_price</th>\n",
              "    </tr>\n",
              "  </thead>\n",
              "  <tbody>\n",
              "    <tr>\n",
              "      <th>0</th>\n",
              "      <td>2015-01</td>\n",
              "      <td>ANG MO KIO</td>\n",
              "      <td>3 ROOM</td>\n",
              "      <td>174</td>\n",
              "      <td>ANG MO KIO AVE 4</td>\n",
              "      <td>07 TO 09</td>\n",
              "      <td>60.0</td>\n",
              "      <td>Improved</td>\n",
              "      <td>1986</td>\n",
              "      <td>70</td>\n",
              "      <td>255000.0</td>\n",
              "    </tr>\n",
              "    <tr>\n",
              "      <th>1</th>\n",
              "      <td>2015-01</td>\n",
              "      <td>ANG MO KIO</td>\n",
              "      <td>3 ROOM</td>\n",
              "      <td>541</td>\n",
              "      <td>ANG MO KIO AVE 10</td>\n",
              "      <td>01 TO 03</td>\n",
              "      <td>68.0</td>\n",
              "      <td>New Generation</td>\n",
              "      <td>1981</td>\n",
              "      <td>65</td>\n",
              "      <td>275000.0</td>\n",
              "    </tr>\n",
              "    <tr>\n",
              "      <th>2</th>\n",
              "      <td>2015-01</td>\n",
              "      <td>ANG MO KIO</td>\n",
              "      <td>3 ROOM</td>\n",
              "      <td>163</td>\n",
              "      <td>ANG MO KIO AVE 4</td>\n",
              "      <td>01 TO 03</td>\n",
              "      <td>69.0</td>\n",
              "      <td>New Generation</td>\n",
              "      <td>1980</td>\n",
              "      <td>64</td>\n",
              "      <td>285000.0</td>\n",
              "    </tr>\n",
              "    <tr>\n",
              "      <th>3</th>\n",
              "      <td>2015-01</td>\n",
              "      <td>ANG MO KIO</td>\n",
              "      <td>3 ROOM</td>\n",
              "      <td>446</td>\n",
              "      <td>ANG MO KIO AVE 10</td>\n",
              "      <td>01 TO 03</td>\n",
              "      <td>68.0</td>\n",
              "      <td>New Generation</td>\n",
              "      <td>1979</td>\n",
              "      <td>63</td>\n",
              "      <td>290000.0</td>\n",
              "    </tr>\n",
              "    <tr>\n",
              "      <th>4</th>\n",
              "      <td>2015-01</td>\n",
              "      <td>ANG MO KIO</td>\n",
              "      <td>3 ROOM</td>\n",
              "      <td>557</td>\n",
              "      <td>ANG MO KIO AVE 10</td>\n",
              "      <td>07 TO 09</td>\n",
              "      <td>68.0</td>\n",
              "      <td>New Generation</td>\n",
              "      <td>1980</td>\n",
              "      <td>64</td>\n",
              "      <td>290000.0</td>\n",
              "    </tr>\n",
              "  </tbody>\n",
              "</table>\n",
              "</div>\n",
              "    <div class=\"colab-df-buttons\">\n",
              "\n",
              "  <div class=\"colab-df-container\">\n",
              "    <button class=\"colab-df-convert\" onclick=\"convertToInteractive('df-1bb68ec0-9d41-440a-bcc1-0062822863e5')\"\n",
              "            title=\"Convert this dataframe to an interactive table.\"\n",
              "            style=\"display:none;\">\n",
              "\n",
              "  <svg xmlns=\"http://www.w3.org/2000/svg\" height=\"24px\" viewBox=\"0 -960 960 960\">\n",
              "    <path d=\"M120-120v-720h720v720H120Zm60-500h600v-160H180v160Zm220 220h160v-160H400v160Zm0 220h160v-160H400v160ZM180-400h160v-160H180v160Zm440 0h160v-160H620v160ZM180-180h160v-160H180v160Zm440 0h160v-160H620v160Z\"/>\n",
              "  </svg>\n",
              "    </button>\n",
              "\n",
              "  <style>\n",
              "    .colab-df-container {\n",
              "      display:flex;\n",
              "      gap: 12px;\n",
              "    }\n",
              "\n",
              "    .colab-df-convert {\n",
              "      background-color: #E8F0FE;\n",
              "      border: none;\n",
              "      border-radius: 50%;\n",
              "      cursor: pointer;\n",
              "      display: none;\n",
              "      fill: #1967D2;\n",
              "      height: 32px;\n",
              "      padding: 0 0 0 0;\n",
              "      width: 32px;\n",
              "    }\n",
              "\n",
              "    .colab-df-convert:hover {\n",
              "      background-color: #E2EBFA;\n",
              "      box-shadow: 0px 1px 2px rgba(60, 64, 67, 0.3), 0px 1px 3px 1px rgba(60, 64, 67, 0.15);\n",
              "      fill: #174EA6;\n",
              "    }\n",
              "\n",
              "    .colab-df-buttons div {\n",
              "      margin-bottom: 4px;\n",
              "    }\n",
              "\n",
              "    [theme=dark] .colab-df-convert {\n",
              "      background-color: #3B4455;\n",
              "      fill: #D2E3FC;\n",
              "    }\n",
              "\n",
              "    [theme=dark] .colab-df-convert:hover {\n",
              "      background-color: #434B5C;\n",
              "      box-shadow: 0px 1px 3px 1px rgba(0, 0, 0, 0.15);\n",
              "      filter: drop-shadow(0px 1px 2px rgba(0, 0, 0, 0.3));\n",
              "      fill: #FFFFFF;\n",
              "    }\n",
              "  </style>\n",
              "\n",
              "    <script>\n",
              "      const buttonEl =\n",
              "        document.querySelector('#df-1bb68ec0-9d41-440a-bcc1-0062822863e5 button.colab-df-convert');\n",
              "      buttonEl.style.display =\n",
              "        google.colab.kernel.accessAllowed ? 'block' : 'none';\n",
              "\n",
              "      async function convertToInteractive(key) {\n",
              "        const element = document.querySelector('#df-1bb68ec0-9d41-440a-bcc1-0062822863e5');\n",
              "        const dataTable =\n",
              "          await google.colab.kernel.invokeFunction('convertToInteractive',\n",
              "                                                    [key], {});\n",
              "        if (!dataTable) return;\n",
              "\n",
              "        const docLinkHtml = 'Like what you see? Visit the ' +\n",
              "          '<a target=\"_blank\" href=https://colab.research.google.com/notebooks/data_table.ipynb>data table notebook</a>'\n",
              "          + ' to learn more about interactive tables.';\n",
              "        element.innerHTML = '';\n",
              "        dataTable['output_type'] = 'display_data';\n",
              "        await google.colab.output.renderOutput(dataTable, element);\n",
              "        const docLink = document.createElement('div');\n",
              "        docLink.innerHTML = docLinkHtml;\n",
              "        element.appendChild(docLink);\n",
              "      }\n",
              "    </script>\n",
              "  </div>\n",
              "\n",
              "\n",
              "    <div id=\"df-af61733d-e107-4194-ba79-33c6292c9b09\">\n",
              "      <button class=\"colab-df-quickchart\" onclick=\"quickchart('df-af61733d-e107-4194-ba79-33c6292c9b09')\"\n",
              "                title=\"Suggest charts\"\n",
              "                style=\"display:none;\">\n",
              "\n",
              "<svg xmlns=\"http://www.w3.org/2000/svg\" height=\"24px\"viewBox=\"0 0 24 24\"\n",
              "     width=\"24px\">\n",
              "    <g>\n",
              "        <path d=\"M19 3H5c-1.1 0-2 .9-2 2v14c0 1.1.9 2 2 2h14c1.1 0 2-.9 2-2V5c0-1.1-.9-2-2-2zM9 17H7v-7h2v7zm4 0h-2V7h2v10zm4 0h-2v-4h2v4z\"/>\n",
              "    </g>\n",
              "</svg>\n",
              "      </button>\n",
              "\n",
              "<style>\n",
              "  .colab-df-quickchart {\n",
              "      --bg-color: #E8F0FE;\n",
              "      --fill-color: #1967D2;\n",
              "      --hover-bg-color: #E2EBFA;\n",
              "      --hover-fill-color: #174EA6;\n",
              "      --disabled-fill-color: #AAA;\n",
              "      --disabled-bg-color: #DDD;\n",
              "  }\n",
              "\n",
              "  [theme=dark] .colab-df-quickchart {\n",
              "      --bg-color: #3B4455;\n",
              "      --fill-color: #D2E3FC;\n",
              "      --hover-bg-color: #434B5C;\n",
              "      --hover-fill-color: #FFFFFF;\n",
              "      --disabled-bg-color: #3B4455;\n",
              "      --disabled-fill-color: #666;\n",
              "  }\n",
              "\n",
              "  .colab-df-quickchart {\n",
              "    background-color: var(--bg-color);\n",
              "    border: none;\n",
              "    border-radius: 50%;\n",
              "    cursor: pointer;\n",
              "    display: none;\n",
              "    fill: var(--fill-color);\n",
              "    height: 32px;\n",
              "    padding: 0;\n",
              "    width: 32px;\n",
              "  }\n",
              "\n",
              "  .colab-df-quickchart:hover {\n",
              "    background-color: var(--hover-bg-color);\n",
              "    box-shadow: 0 1px 2px rgba(60, 64, 67, 0.3), 0 1px 3px 1px rgba(60, 64, 67, 0.15);\n",
              "    fill: var(--button-hover-fill-color);\n",
              "  }\n",
              "\n",
              "  .colab-df-quickchart-complete:disabled,\n",
              "  .colab-df-quickchart-complete:disabled:hover {\n",
              "    background-color: var(--disabled-bg-color);\n",
              "    fill: var(--disabled-fill-color);\n",
              "    box-shadow: none;\n",
              "  }\n",
              "\n",
              "  .colab-df-spinner {\n",
              "    border: 2px solid var(--fill-color);\n",
              "    border-color: transparent;\n",
              "    border-bottom-color: var(--fill-color);\n",
              "    animation:\n",
              "      spin 1s steps(1) infinite;\n",
              "  }\n",
              "\n",
              "  @keyframes spin {\n",
              "    0% {\n",
              "      border-color: transparent;\n",
              "      border-bottom-color: var(--fill-color);\n",
              "      border-left-color: var(--fill-color);\n",
              "    }\n",
              "    20% {\n",
              "      border-color: transparent;\n",
              "      border-left-color: var(--fill-color);\n",
              "      border-top-color: var(--fill-color);\n",
              "    }\n",
              "    30% {\n",
              "      border-color: transparent;\n",
              "      border-left-color: var(--fill-color);\n",
              "      border-top-color: var(--fill-color);\n",
              "      border-right-color: var(--fill-color);\n",
              "    }\n",
              "    40% {\n",
              "      border-color: transparent;\n",
              "      border-right-color: var(--fill-color);\n",
              "      border-top-color: var(--fill-color);\n",
              "    }\n",
              "    60% {\n",
              "      border-color: transparent;\n",
              "      border-right-color: var(--fill-color);\n",
              "    }\n",
              "    80% {\n",
              "      border-color: transparent;\n",
              "      border-right-color: var(--fill-color);\n",
              "      border-bottom-color: var(--fill-color);\n",
              "    }\n",
              "    90% {\n",
              "      border-color: transparent;\n",
              "      border-bottom-color: var(--fill-color);\n",
              "    }\n",
              "  }\n",
              "</style>\n",
              "\n",
              "      <script>\n",
              "        async function quickchart(key) {\n",
              "          const quickchartButtonEl =\n",
              "            document.querySelector('#' + key + ' button');\n",
              "          quickchartButtonEl.disabled = true;  // To prevent multiple clicks.\n",
              "          quickchartButtonEl.classList.add('colab-df-spinner');\n",
              "          try {\n",
              "            const charts = await google.colab.kernel.invokeFunction(\n",
              "                'suggestCharts', [key], {});\n",
              "          } catch (error) {\n",
              "            console.error('Error during call to suggestCharts:', error);\n",
              "          }\n",
              "          quickchartButtonEl.classList.remove('colab-df-spinner');\n",
              "          quickchartButtonEl.classList.add('colab-df-quickchart-complete');\n",
              "        }\n",
              "        (() => {\n",
              "          let quickchartButtonEl =\n",
              "            document.querySelector('#df-af61733d-e107-4194-ba79-33c6292c9b09 button');\n",
              "          quickchartButtonEl.style.display =\n",
              "            google.colab.kernel.accessAllowed ? 'block' : 'none';\n",
              "        })();\n",
              "      </script>\n",
              "    </div>\n",
              "\n",
              "    </div>\n",
              "  </div>\n"
            ],
            "application/vnd.google.colaboratory.intrinsic+json": {
              "type": "dataframe",
              "variable_name": "df"
            }
          },
          "metadata": {},
          "execution_count": 28
        }
      ]
    },
    {
      "cell_type": "code",
      "source": [
        "#check duplicates\n",
        "df.duplicated().sum()"
      ],
      "metadata": {
        "colab": {
          "base_uri": "https://localhost:8080/"
        },
        "id": "yWqpTWWPt5-g",
        "outputId": "58048962-78ef-425e-d12d-62ac53d327a5"
      },
      "execution_count": null,
      "outputs": [
        {
          "output_type": "execute_result",
          "data": {
            "text/plain": [
              "np.int64(1912)"
            ]
          },
          "metadata": {},
          "execution_count": 29
        }
      ]
    },
    {
      "cell_type": "code",
      "source": [
        "# Drop duplicates\n",
        "df.drop_duplicates(inplace=True)\n",
        "\n",
        "df.duplicated().sum()"
      ],
      "metadata": {
        "colab": {
          "base_uri": "https://localhost:8080/"
        },
        "id": "khGe5ZlNumh7",
        "outputId": "b8caaeea-da9d-4a2f-de9f-818d5b70568c"
      },
      "execution_count": null,
      "outputs": [
        {
          "output_type": "execute_result",
          "data": {
            "text/plain": [
              "np.int64(0)"
            ]
          },
          "metadata": {},
          "execution_count": 30
        }
      ]
    },
    {
      "cell_type": "code",
      "source": [
        "# check null values\n",
        "df.isnull().sum()"
      ],
      "metadata": {
        "colab": {
          "base_uri": "https://localhost:8080/",
          "height": 429
        },
        "id": "w8w0D2T4uvVv",
        "outputId": "a76f4b8e-c762-46a3-8856-0044b66cdca7"
      },
      "execution_count": null,
      "outputs": [
        {
          "output_type": "execute_result",
          "data": {
            "text/plain": [
              "month                       0\n",
              "town                        0\n",
              "flat_type                   0\n",
              "block                       0\n",
              "street_name                 0\n",
              "storey_range                0\n",
              "floor_area_sqm              0\n",
              "flat_model                  0\n",
              "lease_commence_date         0\n",
              "remaining_lease        707463\n",
              "resale_price                0\n",
              "dtype: int64"
            ],
            "text/html": [
              "<div>\n",
              "<style scoped>\n",
              "    .dataframe tbody tr th:only-of-type {\n",
              "        vertical-align: middle;\n",
              "    }\n",
              "\n",
              "    .dataframe tbody tr th {\n",
              "        vertical-align: top;\n",
              "    }\n",
              "\n",
              "    .dataframe thead th {\n",
              "        text-align: right;\n",
              "    }\n",
              "</style>\n",
              "<table border=\"1\" class=\"dataframe\">\n",
              "  <thead>\n",
              "    <tr style=\"text-align: right;\">\n",
              "      <th></th>\n",
              "      <th>0</th>\n",
              "    </tr>\n",
              "  </thead>\n",
              "  <tbody>\n",
              "    <tr>\n",
              "      <th>month</th>\n",
              "      <td>0</td>\n",
              "    </tr>\n",
              "    <tr>\n",
              "      <th>town</th>\n",
              "      <td>0</td>\n",
              "    </tr>\n",
              "    <tr>\n",
              "      <th>flat_type</th>\n",
              "      <td>0</td>\n",
              "    </tr>\n",
              "    <tr>\n",
              "      <th>block</th>\n",
              "      <td>0</td>\n",
              "    </tr>\n",
              "    <tr>\n",
              "      <th>street_name</th>\n",
              "      <td>0</td>\n",
              "    </tr>\n",
              "    <tr>\n",
              "      <th>storey_range</th>\n",
              "      <td>0</td>\n",
              "    </tr>\n",
              "    <tr>\n",
              "      <th>floor_area_sqm</th>\n",
              "      <td>0</td>\n",
              "    </tr>\n",
              "    <tr>\n",
              "      <th>flat_model</th>\n",
              "      <td>0</td>\n",
              "    </tr>\n",
              "    <tr>\n",
              "      <th>lease_commence_date</th>\n",
              "      <td>0</td>\n",
              "    </tr>\n",
              "    <tr>\n",
              "      <th>remaining_lease</th>\n",
              "      <td>707463</td>\n",
              "    </tr>\n",
              "    <tr>\n",
              "      <th>resale_price</th>\n",
              "      <td>0</td>\n",
              "    </tr>\n",
              "  </tbody>\n",
              "</table>\n",
              "</div><br><label><b>dtype:</b> int64</label>"
            ]
          },
          "metadata": {},
          "execution_count": 31
        }
      ]
    },
    {
      "cell_type": "code",
      "source": [
        "# Feature Engineering - 1\n",
        "# split month column records to two columns by spliting '-' new columns as year and month\n",
        "\n",
        "# Assuming 'month' column exists and is in 'YYYY-MM' format\n",
        "df[['year', 'month']] = df['month'].str.split('-', expand=True)\n",
        "df.head()"
      ],
      "metadata": {
        "colab": {
          "base_uri": "https://localhost:8080/",
          "height": 400
        },
        "id": "vcwMAkRbwd3J",
        "outputId": "699b01cd-280b-4b4f-e285-150609a298c2"
      },
      "execution_count": null,
      "outputs": [
        {
          "output_type": "execute_result",
          "data": {
            "text/plain": [
              "  month        town flat_type block        street_name storey_range  \\\n",
              "0    01  ANG MO KIO    3 ROOM   174   ANG MO KIO AVE 4     07 TO 09   \n",
              "1    01  ANG MO KIO    3 ROOM   541  ANG MO KIO AVE 10     01 TO 03   \n",
              "2    01  ANG MO KIO    3 ROOM   163   ANG MO KIO AVE 4     01 TO 03   \n",
              "3    01  ANG MO KIO    3 ROOM   446  ANG MO KIO AVE 10     01 TO 03   \n",
              "4    01  ANG MO KIO    3 ROOM   557  ANG MO KIO AVE 10     07 TO 09   \n",
              "\n",
              "   floor_area_sqm      flat_model  lease_commence_date remaining_lease  \\\n",
              "0            60.0        Improved                 1986              70   \n",
              "1            68.0  New Generation                 1981              65   \n",
              "2            69.0  New Generation                 1980              64   \n",
              "3            68.0  New Generation                 1979              63   \n",
              "4            68.0  New Generation                 1980              64   \n",
              "\n",
              "   resale_price  year  \n",
              "0      255000.0  2015  \n",
              "1      275000.0  2015  \n",
              "2      285000.0  2015  \n",
              "3      290000.0  2015  \n",
              "4      290000.0  2015  "
            ],
            "text/html": [
              "\n",
              "  <div id=\"df-aae41f39-3d19-4993-8824-dbd4002d4aef\" class=\"colab-df-container\">\n",
              "    <div>\n",
              "<style scoped>\n",
              "    .dataframe tbody tr th:only-of-type {\n",
              "        vertical-align: middle;\n",
              "    }\n",
              "\n",
              "    .dataframe tbody tr th {\n",
              "        vertical-align: top;\n",
              "    }\n",
              "\n",
              "    .dataframe thead th {\n",
              "        text-align: right;\n",
              "    }\n",
              "</style>\n",
              "<table border=\"1\" class=\"dataframe\">\n",
              "  <thead>\n",
              "    <tr style=\"text-align: right;\">\n",
              "      <th></th>\n",
              "      <th>month</th>\n",
              "      <th>town</th>\n",
              "      <th>flat_type</th>\n",
              "      <th>block</th>\n",
              "      <th>street_name</th>\n",
              "      <th>storey_range</th>\n",
              "      <th>floor_area_sqm</th>\n",
              "      <th>flat_model</th>\n",
              "      <th>lease_commence_date</th>\n",
              "      <th>remaining_lease</th>\n",
              "      <th>resale_price</th>\n",
              "      <th>year</th>\n",
              "    </tr>\n",
              "  </thead>\n",
              "  <tbody>\n",
              "    <tr>\n",
              "      <th>0</th>\n",
              "      <td>01</td>\n",
              "      <td>ANG MO KIO</td>\n",
              "      <td>3 ROOM</td>\n",
              "      <td>174</td>\n",
              "      <td>ANG MO KIO AVE 4</td>\n",
              "      <td>07 TO 09</td>\n",
              "      <td>60.0</td>\n",
              "      <td>Improved</td>\n",
              "      <td>1986</td>\n",
              "      <td>70</td>\n",
              "      <td>255000.0</td>\n",
              "      <td>2015</td>\n",
              "    </tr>\n",
              "    <tr>\n",
              "      <th>1</th>\n",
              "      <td>01</td>\n",
              "      <td>ANG MO KIO</td>\n",
              "      <td>3 ROOM</td>\n",
              "      <td>541</td>\n",
              "      <td>ANG MO KIO AVE 10</td>\n",
              "      <td>01 TO 03</td>\n",
              "      <td>68.0</td>\n",
              "      <td>New Generation</td>\n",
              "      <td>1981</td>\n",
              "      <td>65</td>\n",
              "      <td>275000.0</td>\n",
              "      <td>2015</td>\n",
              "    </tr>\n",
              "    <tr>\n",
              "      <th>2</th>\n",
              "      <td>01</td>\n",
              "      <td>ANG MO KIO</td>\n",
              "      <td>3 ROOM</td>\n",
              "      <td>163</td>\n",
              "      <td>ANG MO KIO AVE 4</td>\n",
              "      <td>01 TO 03</td>\n",
              "      <td>69.0</td>\n",
              "      <td>New Generation</td>\n",
              "      <td>1980</td>\n",
              "      <td>64</td>\n",
              "      <td>285000.0</td>\n",
              "      <td>2015</td>\n",
              "    </tr>\n",
              "    <tr>\n",
              "      <th>3</th>\n",
              "      <td>01</td>\n",
              "      <td>ANG MO KIO</td>\n",
              "      <td>3 ROOM</td>\n",
              "      <td>446</td>\n",
              "      <td>ANG MO KIO AVE 10</td>\n",
              "      <td>01 TO 03</td>\n",
              "      <td>68.0</td>\n",
              "      <td>New Generation</td>\n",
              "      <td>1979</td>\n",
              "      <td>63</td>\n",
              "      <td>290000.0</td>\n",
              "      <td>2015</td>\n",
              "    </tr>\n",
              "    <tr>\n",
              "      <th>4</th>\n",
              "      <td>01</td>\n",
              "      <td>ANG MO KIO</td>\n",
              "      <td>3 ROOM</td>\n",
              "      <td>557</td>\n",
              "      <td>ANG MO KIO AVE 10</td>\n",
              "      <td>07 TO 09</td>\n",
              "      <td>68.0</td>\n",
              "      <td>New Generation</td>\n",
              "      <td>1980</td>\n",
              "      <td>64</td>\n",
              "      <td>290000.0</td>\n",
              "      <td>2015</td>\n",
              "    </tr>\n",
              "  </tbody>\n",
              "</table>\n",
              "</div>\n",
              "    <div class=\"colab-df-buttons\">\n",
              "\n",
              "  <div class=\"colab-df-container\">\n",
              "    <button class=\"colab-df-convert\" onclick=\"convertToInteractive('df-aae41f39-3d19-4993-8824-dbd4002d4aef')\"\n",
              "            title=\"Convert this dataframe to an interactive table.\"\n",
              "            style=\"display:none;\">\n",
              "\n",
              "  <svg xmlns=\"http://www.w3.org/2000/svg\" height=\"24px\" viewBox=\"0 -960 960 960\">\n",
              "    <path d=\"M120-120v-720h720v720H120Zm60-500h600v-160H180v160Zm220 220h160v-160H400v160Zm0 220h160v-160H400v160ZM180-400h160v-160H180v160Zm440 0h160v-160H620v160ZM180-180h160v-160H180v160Zm440 0h160v-160H620v160Z\"/>\n",
              "  </svg>\n",
              "    </button>\n",
              "\n",
              "  <style>\n",
              "    .colab-df-container {\n",
              "      display:flex;\n",
              "      gap: 12px;\n",
              "    }\n",
              "\n",
              "    .colab-df-convert {\n",
              "      background-color: #E8F0FE;\n",
              "      border: none;\n",
              "      border-radius: 50%;\n",
              "      cursor: pointer;\n",
              "      display: none;\n",
              "      fill: #1967D2;\n",
              "      height: 32px;\n",
              "      padding: 0 0 0 0;\n",
              "      width: 32px;\n",
              "    }\n",
              "\n",
              "    .colab-df-convert:hover {\n",
              "      background-color: #E2EBFA;\n",
              "      box-shadow: 0px 1px 2px rgba(60, 64, 67, 0.3), 0px 1px 3px 1px rgba(60, 64, 67, 0.15);\n",
              "      fill: #174EA6;\n",
              "    }\n",
              "\n",
              "    .colab-df-buttons div {\n",
              "      margin-bottom: 4px;\n",
              "    }\n",
              "\n",
              "    [theme=dark] .colab-df-convert {\n",
              "      background-color: #3B4455;\n",
              "      fill: #D2E3FC;\n",
              "    }\n",
              "\n",
              "    [theme=dark] .colab-df-convert:hover {\n",
              "      background-color: #434B5C;\n",
              "      box-shadow: 0px 1px 3px 1px rgba(0, 0, 0, 0.15);\n",
              "      filter: drop-shadow(0px 1px 2px rgba(0, 0, 0, 0.3));\n",
              "      fill: #FFFFFF;\n",
              "    }\n",
              "  </style>\n",
              "\n",
              "    <script>\n",
              "      const buttonEl =\n",
              "        document.querySelector('#df-aae41f39-3d19-4993-8824-dbd4002d4aef button.colab-df-convert');\n",
              "      buttonEl.style.display =\n",
              "        google.colab.kernel.accessAllowed ? 'block' : 'none';\n",
              "\n",
              "      async function convertToInteractive(key) {\n",
              "        const element = document.querySelector('#df-aae41f39-3d19-4993-8824-dbd4002d4aef');\n",
              "        const dataTable =\n",
              "          await google.colab.kernel.invokeFunction('convertToInteractive',\n",
              "                                                    [key], {});\n",
              "        if (!dataTable) return;\n",
              "\n",
              "        const docLinkHtml = 'Like what you see? Visit the ' +\n",
              "          '<a target=\"_blank\" href=https://colab.research.google.com/notebooks/data_table.ipynb>data table notebook</a>'\n",
              "          + ' to learn more about interactive tables.';\n",
              "        element.innerHTML = '';\n",
              "        dataTable['output_type'] = 'display_data';\n",
              "        await google.colab.output.renderOutput(dataTable, element);\n",
              "        const docLink = document.createElement('div');\n",
              "        docLink.innerHTML = docLinkHtml;\n",
              "        element.appendChild(docLink);\n",
              "      }\n",
              "    </script>\n",
              "  </div>\n",
              "\n",
              "\n",
              "    <div id=\"df-941f59e5-bea8-4d11-96ce-7d47c53a11b4\">\n",
              "      <button class=\"colab-df-quickchart\" onclick=\"quickchart('df-941f59e5-bea8-4d11-96ce-7d47c53a11b4')\"\n",
              "                title=\"Suggest charts\"\n",
              "                style=\"display:none;\">\n",
              "\n",
              "<svg xmlns=\"http://www.w3.org/2000/svg\" height=\"24px\"viewBox=\"0 0 24 24\"\n",
              "     width=\"24px\">\n",
              "    <g>\n",
              "        <path d=\"M19 3H5c-1.1 0-2 .9-2 2v14c0 1.1.9 2 2 2h14c1.1 0 2-.9 2-2V5c0-1.1-.9-2-2-2zM9 17H7v-7h2v7zm4 0h-2V7h2v10zm4 0h-2v-4h2v4z\"/>\n",
              "    </g>\n",
              "</svg>\n",
              "      </button>\n",
              "\n",
              "<style>\n",
              "  .colab-df-quickchart {\n",
              "      --bg-color: #E8F0FE;\n",
              "      --fill-color: #1967D2;\n",
              "      --hover-bg-color: #E2EBFA;\n",
              "      --hover-fill-color: #174EA6;\n",
              "      --disabled-fill-color: #AAA;\n",
              "      --disabled-bg-color: #DDD;\n",
              "  }\n",
              "\n",
              "  [theme=dark] .colab-df-quickchart {\n",
              "      --bg-color: #3B4455;\n",
              "      --fill-color: #D2E3FC;\n",
              "      --hover-bg-color: #434B5C;\n",
              "      --hover-fill-color: #FFFFFF;\n",
              "      --disabled-bg-color: #3B4455;\n",
              "      --disabled-fill-color: #666;\n",
              "  }\n",
              "\n",
              "  .colab-df-quickchart {\n",
              "    background-color: var(--bg-color);\n",
              "    border: none;\n",
              "    border-radius: 50%;\n",
              "    cursor: pointer;\n",
              "    display: none;\n",
              "    fill: var(--fill-color);\n",
              "    height: 32px;\n",
              "    padding: 0;\n",
              "    width: 32px;\n",
              "  }\n",
              "\n",
              "  .colab-df-quickchart:hover {\n",
              "    background-color: var(--hover-bg-color);\n",
              "    box-shadow: 0 1px 2px rgba(60, 64, 67, 0.3), 0 1px 3px 1px rgba(60, 64, 67, 0.15);\n",
              "    fill: var(--button-hover-fill-color);\n",
              "  }\n",
              "\n",
              "  .colab-df-quickchart-complete:disabled,\n",
              "  .colab-df-quickchart-complete:disabled:hover {\n",
              "    background-color: var(--disabled-bg-color);\n",
              "    fill: var(--disabled-fill-color);\n",
              "    box-shadow: none;\n",
              "  }\n",
              "\n",
              "  .colab-df-spinner {\n",
              "    border: 2px solid var(--fill-color);\n",
              "    border-color: transparent;\n",
              "    border-bottom-color: var(--fill-color);\n",
              "    animation:\n",
              "      spin 1s steps(1) infinite;\n",
              "  }\n",
              "\n",
              "  @keyframes spin {\n",
              "    0% {\n",
              "      border-color: transparent;\n",
              "      border-bottom-color: var(--fill-color);\n",
              "      border-left-color: var(--fill-color);\n",
              "    }\n",
              "    20% {\n",
              "      border-color: transparent;\n",
              "      border-left-color: var(--fill-color);\n",
              "      border-top-color: var(--fill-color);\n",
              "    }\n",
              "    30% {\n",
              "      border-color: transparent;\n",
              "      border-left-color: var(--fill-color);\n",
              "      border-top-color: var(--fill-color);\n",
              "      border-right-color: var(--fill-color);\n",
              "    }\n",
              "    40% {\n",
              "      border-color: transparent;\n",
              "      border-right-color: var(--fill-color);\n",
              "      border-top-color: var(--fill-color);\n",
              "    }\n",
              "    60% {\n",
              "      border-color: transparent;\n",
              "      border-right-color: var(--fill-color);\n",
              "    }\n",
              "    80% {\n",
              "      border-color: transparent;\n",
              "      border-right-color: var(--fill-color);\n",
              "      border-bottom-color: var(--fill-color);\n",
              "    }\n",
              "    90% {\n",
              "      border-color: transparent;\n",
              "      border-bottom-color: var(--fill-color);\n",
              "    }\n",
              "  }\n",
              "</style>\n",
              "\n",
              "      <script>\n",
              "        async function quickchart(key) {\n",
              "          const quickchartButtonEl =\n",
              "            document.querySelector('#' + key + ' button');\n",
              "          quickchartButtonEl.disabled = true;  // To prevent multiple clicks.\n",
              "          quickchartButtonEl.classList.add('colab-df-spinner');\n",
              "          try {\n",
              "            const charts = await google.colab.kernel.invokeFunction(\n",
              "                'suggestCharts', [key], {});\n",
              "          } catch (error) {\n",
              "            console.error('Error during call to suggestCharts:', error);\n",
              "          }\n",
              "          quickchartButtonEl.classList.remove('colab-df-spinner');\n",
              "          quickchartButtonEl.classList.add('colab-df-quickchart-complete');\n",
              "        }\n",
              "        (() => {\n",
              "          let quickchartButtonEl =\n",
              "            document.querySelector('#df-941f59e5-bea8-4d11-96ce-7d47c53a11b4 button');\n",
              "          quickchartButtonEl.style.display =\n",
              "            google.colab.kernel.accessAllowed ? 'block' : 'none';\n",
              "        })();\n",
              "      </script>\n",
              "    </div>\n",
              "\n",
              "    </div>\n",
              "  </div>\n"
            ],
            "application/vnd.google.colaboratory.intrinsic+json": {
              "type": "dataframe",
              "variable_name": "df"
            }
          },
          "metadata": {},
          "execution_count": 32
        }
      ]
    },
    {
      "cell_type": "code",
      "source": [
        "# Fill NaN values in 'remaining_lease'\n",
        "\n",
        "df['remaining_lease'] = df['remaining_lease'].fillna(99 - (df['year'].astype(int) - df['lease_commence_date'].astype(int)))\n",
        "df.isnull().sum()"
      ],
      "metadata": {
        "colab": {
          "base_uri": "https://localhost:8080/",
          "height": 460
        },
        "id": "9NnqZgyPxyRG",
        "outputId": "e97800d0-6465-4801-b4b3-2a099424e2f3"
      },
      "execution_count": null,
      "outputs": [
        {
          "output_type": "execute_result",
          "data": {
            "text/plain": [
              "month                  0\n",
              "town                   0\n",
              "flat_type              0\n",
              "block                  0\n",
              "street_name            0\n",
              "storey_range           0\n",
              "floor_area_sqm         0\n",
              "flat_model             0\n",
              "lease_commence_date    0\n",
              "remaining_lease        0\n",
              "resale_price           0\n",
              "year                   0\n",
              "dtype: int64"
            ],
            "text/html": [
              "<div>\n",
              "<style scoped>\n",
              "    .dataframe tbody tr th:only-of-type {\n",
              "        vertical-align: middle;\n",
              "    }\n",
              "\n",
              "    .dataframe tbody tr th {\n",
              "        vertical-align: top;\n",
              "    }\n",
              "\n",
              "    .dataframe thead th {\n",
              "        text-align: right;\n",
              "    }\n",
              "</style>\n",
              "<table border=\"1\" class=\"dataframe\">\n",
              "  <thead>\n",
              "    <tr style=\"text-align: right;\">\n",
              "      <th></th>\n",
              "      <th>0</th>\n",
              "    </tr>\n",
              "  </thead>\n",
              "  <tbody>\n",
              "    <tr>\n",
              "      <th>month</th>\n",
              "      <td>0</td>\n",
              "    </tr>\n",
              "    <tr>\n",
              "      <th>town</th>\n",
              "      <td>0</td>\n",
              "    </tr>\n",
              "    <tr>\n",
              "      <th>flat_type</th>\n",
              "      <td>0</td>\n",
              "    </tr>\n",
              "    <tr>\n",
              "      <th>block</th>\n",
              "      <td>0</td>\n",
              "    </tr>\n",
              "    <tr>\n",
              "      <th>street_name</th>\n",
              "      <td>0</td>\n",
              "    </tr>\n",
              "    <tr>\n",
              "      <th>storey_range</th>\n",
              "      <td>0</td>\n",
              "    </tr>\n",
              "    <tr>\n",
              "      <th>floor_area_sqm</th>\n",
              "      <td>0</td>\n",
              "    </tr>\n",
              "    <tr>\n",
              "      <th>flat_model</th>\n",
              "      <td>0</td>\n",
              "    </tr>\n",
              "    <tr>\n",
              "      <th>lease_commence_date</th>\n",
              "      <td>0</td>\n",
              "    </tr>\n",
              "    <tr>\n",
              "      <th>remaining_lease</th>\n",
              "      <td>0</td>\n",
              "    </tr>\n",
              "    <tr>\n",
              "      <th>resale_price</th>\n",
              "      <td>0</td>\n",
              "    </tr>\n",
              "    <tr>\n",
              "      <th>year</th>\n",
              "      <td>0</td>\n",
              "    </tr>\n",
              "  </tbody>\n",
              "</table>\n",
              "</div><br><label><b>dtype:</b> int64</label>"
            ]
          },
          "metadata": {},
          "execution_count": 33
        }
      ]
    },
    {
      "cell_type": "code",
      "source": [
        "# drop year since its not a relevent feature\n",
        "# df = df.drop('year', axis=1)\n",
        "# df.columns"
      ],
      "metadata": {
        "id": "I0lQC1xiyeFh"
      },
      "execution_count": null,
      "outputs": []
    },
    {
      "cell_type": "code",
      "source": [
        "df.nunique()"
      ],
      "metadata": {
        "colab": {
          "base_uri": "https://localhost:8080/",
          "height": 460
        },
        "id": "RJ7l9uwGyx8h",
        "outputId": "e994636b-76eb-4030-a6cf-1b26eef93492"
      },
      "execution_count": null,
      "outputs": [
        {
          "output_type": "execute_result",
          "data": {
            "text/plain": [
              "month                    12\n",
              "town                     27\n",
              "flat_type                 8\n",
              "block                  2743\n",
              "street_name             592\n",
              "storey_range             25\n",
              "floor_area_sqm          220\n",
              "flat_model               34\n",
              "lease_commence_date      56\n",
              "remaining_lease         787\n",
              "resale_price           9909\n",
              "year                     36\n",
              "dtype: int64"
            ],
            "text/html": [
              "<div>\n",
              "<style scoped>\n",
              "    .dataframe tbody tr th:only-of-type {\n",
              "        vertical-align: middle;\n",
              "    }\n",
              "\n",
              "    .dataframe tbody tr th {\n",
              "        vertical-align: top;\n",
              "    }\n",
              "\n",
              "    .dataframe thead th {\n",
              "        text-align: right;\n",
              "    }\n",
              "</style>\n",
              "<table border=\"1\" class=\"dataframe\">\n",
              "  <thead>\n",
              "    <tr style=\"text-align: right;\">\n",
              "      <th></th>\n",
              "      <th>0</th>\n",
              "    </tr>\n",
              "  </thead>\n",
              "  <tbody>\n",
              "    <tr>\n",
              "      <th>month</th>\n",
              "      <td>12</td>\n",
              "    </tr>\n",
              "    <tr>\n",
              "      <th>town</th>\n",
              "      <td>27</td>\n",
              "    </tr>\n",
              "    <tr>\n",
              "      <th>flat_type</th>\n",
              "      <td>8</td>\n",
              "    </tr>\n",
              "    <tr>\n",
              "      <th>block</th>\n",
              "      <td>2743</td>\n",
              "    </tr>\n",
              "    <tr>\n",
              "      <th>street_name</th>\n",
              "      <td>592</td>\n",
              "    </tr>\n",
              "    <tr>\n",
              "      <th>storey_range</th>\n",
              "      <td>25</td>\n",
              "    </tr>\n",
              "    <tr>\n",
              "      <th>floor_area_sqm</th>\n",
              "      <td>220</td>\n",
              "    </tr>\n",
              "    <tr>\n",
              "      <th>flat_model</th>\n",
              "      <td>34</td>\n",
              "    </tr>\n",
              "    <tr>\n",
              "      <th>lease_commence_date</th>\n",
              "      <td>56</td>\n",
              "    </tr>\n",
              "    <tr>\n",
              "      <th>remaining_lease</th>\n",
              "      <td>787</td>\n",
              "    </tr>\n",
              "    <tr>\n",
              "      <th>resale_price</th>\n",
              "      <td>9909</td>\n",
              "    </tr>\n",
              "    <tr>\n",
              "      <th>year</th>\n",
              "      <td>36</td>\n",
              "    </tr>\n",
              "  </tbody>\n",
              "</table>\n",
              "</div><br><label><b>dtype:</b> int64</label>"
            ]
          },
          "metadata": {},
          "execution_count": 34
        }
      ]
    },
    {
      "cell_type": "code",
      "source": [
        "# looks df['block'] has values like 335B 1A ...\n",
        "for value in df['block'].unique():\n",
        "    try:\n",
        "        int(value)\n",
        "    except ValueError:\n",
        "        print(f\"Value '{value}' in 'block' column cannot be converted to an integer.\")\n"
      ],
      "metadata": {
        "colab": {
          "base_uri": "https://localhost:8080/"
        },
        "collapsed": true,
        "id": "j9fnXd_41Pi_",
        "outputId": "166eb44f-c407-430c-d7cb-0d4cb3b2ba8b"
      },
      "execution_count": null,
      "outputs": [
        {
          "output_type": "stream",
          "name": "stdout",
          "text": [
            "Value '596B' in 'block' column cannot be converted to an integer.\n",
            "Value '253A' in 'block' column cannot be converted to an integer.\n",
            "Value '315B' in 'block' column cannot be converted to an integer.\n",
            "Value '700C' in 'block' column cannot be converted to an integer.\n",
            "Value '221B' in 'block' column cannot be converted to an integer.\n",
            "Value '219A' in 'block' column cannot be converted to an integer.\n",
            "Value '10D' in 'block' column cannot be converted to an integer.\n",
            "Value '291B' in 'block' column cannot be converted to an integer.\n",
            "Value '288D' in 'block' column cannot be converted to an integer.\n",
            "Value '290D' in 'block' column cannot be converted to an integer.\n",
            "Value '291D' in 'block' column cannot be converted to an integer.\n",
            "Value '291A' in 'block' column cannot be converted to an integer.\n",
            "Value '26D' in 'block' column cannot be converted to an integer.\n",
            "Value '26C' in 'block' column cannot be converted to an integer.\n",
            "Value '106A' in 'block' column cannot be converted to an integer.\n",
            "Value '112B' in 'block' column cannot be converted to an integer.\n",
            "Value '8A' in 'block' column cannot be converted to an integer.\n",
            "Value '27A' in 'block' column cannot be converted to an integer.\n",
            "Value '2A' in 'block' column cannot be converted to an integer.\n",
            "Value '106B' in 'block' column cannot be converted to an integer.\n",
            "Value '119B' in 'block' column cannot be converted to an integer.\n",
            "Value '75C' in 'block' column cannot be converted to an integer.\n",
            "Value '2C' in 'block' column cannot be converted to an integer.\n",
            "Value '1A' in 'block' column cannot be converted to an integer.\n",
            "Value '1F' in 'block' column cannot be converted to an integer.\n",
            "Value '1C' in 'block' column cannot be converted to an integer.\n",
            "Value '1B' in 'block' column cannot be converted to an integer.\n",
            "Value '1E' in 'block' column cannot be converted to an integer.\n",
            "Value '690A' in 'block' column cannot be converted to an integer.\n",
            "Value '688A' in 'block' column cannot be converted to an integer.\n",
            "Value '485A' in 'block' column cannot be converted to an integer.\n",
            "Value '687A' in 'block' column cannot be converted to an integer.\n",
            "Value '686C' in 'block' column cannot be converted to an integer.\n",
            "Value '670A' in 'block' column cannot be converted to an integer.\n",
            "Value '296A' in 'block' column cannot be converted to an integer.\n",
            "Value '691B' in 'block' column cannot be converted to an integer.\n",
            "Value '689A' in 'block' column cannot be converted to an integer.\n",
            "Value '690B' in 'block' column cannot be converted to an integer.\n",
            "Value '699C' in 'block' column cannot be converted to an integer.\n",
            "Value '699A' in 'block' column cannot be converted to an integer.\n",
            "Value '339A' in 'block' column cannot be converted to an integer.\n",
            "Value '337B' in 'block' column cannot be converted to an integer.\n",
            "Value '276A' in 'block' column cannot be converted to an integer.\n",
            "Value '273D' in 'block' column cannot be converted to an integer.\n",
            "Value '275B' in 'block' column cannot be converted to an integer.\n",
            "Value '655A' in 'block' column cannot be converted to an integer.\n",
            "Value '338A' in 'block' column cannot be converted to an integer.\n",
            "Value '673A' in 'block' column cannot be converted to an integer.\n",
            "Value '675A' in 'block' column cannot be converted to an integer.\n",
            "Value '662B' in 'block' column cannot be converted to an integer.\n",
            "Value '659D' in 'block' column cannot be converted to an integer.\n",
            "Value '681C' in 'block' column cannot be converted to an integer.\n",
            "Value '684B' in 'block' column cannot be converted to an integer.\n",
            "Value '660B' in 'block' column cannot be converted to an integer.\n",
            "Value '273B' in 'block' column cannot be converted to an integer.\n",
            "Value '268C' in 'block' column cannot be converted to an integer.\n",
            "Value '275D' in 'block' column cannot be converted to an integer.\n",
            "Value '275C' in 'block' column cannot be converted to an integer.\n",
            "Value '667D' in 'block' column cannot be converted to an integer.\n",
            "Value '677C' in 'block' column cannot be converted to an integer.\n",
            "Value '673B' in 'block' column cannot be converted to an integer.\n",
            "Value '650C' in 'block' column cannot be converted to an integer.\n",
            "Value '653B' in 'block' column cannot be converted to an integer.\n",
            "Value '686B' in 'block' column cannot be converted to an integer.\n",
            "Value '650B' in 'block' column cannot be converted to an integer.\n",
            "Value '988A' in 'block' column cannot be converted to an integer.\n",
            "Value '989B' in 'block' column cannot be converted to an integer.\n",
            "Value '658B' in 'block' column cannot be converted to an integer.\n",
            "Value '660C' in 'block' column cannot be converted to an integer.\n",
            "Value '987B' in 'block' column cannot be converted to an integer.\n",
            "Value '830A' in 'block' column cannot be converted to an integer.\n",
            "Value '671C' in 'block' column cannot be converted to an integer.\n",
            "Value '656C' in 'block' column cannot be converted to an integer.\n",
            "Value '669D' in 'block' column cannot be converted to an integer.\n",
            "Value '679A' in 'block' column cannot be converted to an integer.\n",
            "Value '3C' in 'block' column cannot be converted to an integer.\n",
            "Value '38D' in 'block' column cannot be converted to an integer.\n",
            "Value '5A' in 'block' column cannot be converted to an integer.\n",
            "Value '196B' in 'block' column cannot be converted to an integer.\n",
            "Value '642A' in 'block' column cannot be converted to an integer.\n",
            "Value '642B' in 'block' column cannot be converted to an integer.\n",
            "Value '303C' in 'block' column cannot be converted to an integer.\n",
            "Value '636A' in 'block' column cannot be converted to an integer.\n",
            "Value '126C' in 'block' column cannot be converted to an integer.\n",
            "Value '638C' in 'block' column cannot be converted to an integer.\n",
            "Value '204B' in 'block' column cannot be converted to an integer.\n",
            "Value '201B' in 'block' column cannot be converted to an integer.\n",
            "Value '633B' in 'block' column cannot be converted to an integer.\n",
            "Value '635A' in 'block' column cannot be converted to an integer.\n",
            "Value '303A' in 'block' column cannot be converted to an integer.\n",
            "Value '302B' in 'block' column cannot be converted to an integer.\n",
            "Value '302D' in 'block' column cannot be converted to an integer.\n",
            "Value '301D' in 'block' column cannot be converted to an integer.\n",
            "Value '301A' in 'block' column cannot be converted to an integer.\n",
            "Value '302C' in 'block' column cannot be converted to an integer.\n",
            "Value '302A' in 'block' column cannot be converted to an integer.\n",
            "Value '303D' in 'block' column cannot be converted to an integer.\n",
            "Value '126A' in 'block' column cannot be converted to an integer.\n",
            "Value '101C' in 'block' column cannot be converted to an integer.\n",
            "Value '641C' in 'block' column cannot be converted to an integer.\n",
            "Value '199B' in 'block' column cannot be converted to an integer.\n",
            "Value '176B' in 'block' column cannot be converted to an integer.\n",
            "Value '196C' in 'block' column cannot be converted to an integer.\n",
            "Value '173C' in 'block' column cannot be converted to an integer.\n",
            "Value '160A' in 'block' column cannot be converted to an integer.\n",
            "Value '160B' in 'block' column cannot be converted to an integer.\n",
            "Value '171A' in 'block' column cannot be converted to an integer.\n",
            "Value '61B' in 'block' column cannot be converted to an integer.\n",
            "Value '168A' in 'block' column cannot be converted to an integer.\n",
            "Value '28B' in 'block' column cannot be converted to an integer.\n",
            "Value '30A' in 'block' column cannot be converted to an integer.\n",
            "Value '18C' in 'block' column cannot be converted to an integer.\n",
            "Value '28A' in 'block' column cannot be converted to an integer.\n",
            "Value '18D' in 'block' column cannot be converted to an integer.\n",
            "Value '589B' in 'block' column cannot be converted to an integer.\n",
            "Value '359B' in 'block' column cannot be converted to an integer.\n",
            "Value '501B' in 'block' column cannot be converted to an integer.\n",
            "Value '507B' in 'block' column cannot be converted to an integer.\n",
            "Value '466A' in 'block' column cannot be converted to an integer.\n",
            "Value '510B' in 'block' column cannot be converted to an integer.\n",
            "Value '354B' in 'block' column cannot be converted to an integer.\n",
            "Value '341B' in 'block' column cannot be converted to an integer.\n",
            "Value '468D' in 'block' column cannot be converted to an integer.\n",
            "Value '502A' in 'block' column cannot be converted to an integer.\n",
            "Value '209A' in 'block' column cannot be converted to an integer.\n",
            "Value '183C' in 'block' column cannot be converted to an integer.\n",
            "Value '290B' in 'block' column cannot be converted to an integer.\n",
            "Value '306C' in 'block' column cannot be converted to an integer.\n",
            "Value '185D' in 'block' column cannot be converted to an integer.\n",
            "Value '116A' in 'block' column cannot be converted to an integer.\n",
            "Value '303B' in 'block' column cannot be converted to an integer.\n",
            "Value '124C' in 'block' column cannot be converted to an integer.\n",
            "Value '123E' in 'block' column cannot be converted to an integer.\n",
            "Value '226A' in 'block' column cannot be converted to an integer.\n",
            "Value '322A' in 'block' column cannot be converted to an integer.\n",
            "Value '200A' in 'block' column cannot be converted to an integer.\n",
            "Value '412B' in 'block' column cannot be converted to an integer.\n",
            "Value '406C' in 'block' column cannot be converted to an integer.\n",
            "Value '325A' in 'block' column cannot be converted to an integer.\n",
            "Value '259B' in 'block' column cannot be converted to an integer.\n",
            "Value '208B' in 'block' column cannot be converted to an integer.\n",
            "Value '438B' in 'block' column cannot be converted to an integer.\n",
            "Value '261C' in 'block' column cannot be converted to an integer.\n",
            "Value '439A' in 'block' column cannot be converted to an integer.\n",
            "Value '264D' in 'block' column cannot be converted to an integer.\n",
            "Value '271B' in 'block' column cannot be converted to an integer.\n",
            "Value '265A' in 'block' column cannot be converted to an integer.\n",
            "Value '272D' in 'block' column cannot be converted to an integer.\n",
            "Value '271A' in 'block' column cannot be converted to an integer.\n",
            "Value '275A' in 'block' column cannot be converted to an integer.\n",
            "Value '277B' in 'block' column cannot be converted to an integer.\n",
            "Value '273C' in 'block' column cannot be converted to an integer.\n",
            "Value '157D' in 'block' column cannot be converted to an integer.\n",
            "Value '158C' in 'block' column cannot be converted to an integer.\n",
            "Value '183B' in 'block' column cannot be converted to an integer.\n",
            "Value '200B' in 'block' column cannot be converted to an integer.\n",
            "Value '122E' in 'block' column cannot be converted to an integer.\n",
            "Value '123B' in 'block' column cannot be converted to an integer.\n",
            "Value '187A' in 'block' column cannot be converted to an integer.\n",
            "Value '188B' in 'block' column cannot be converted to an integer.\n",
            "Value '191A' in 'block' column cannot be converted to an integer.\n",
            "Value '207B' in 'block' column cannot be converted to an integer.\n",
            "Value '298A' in 'block' column cannot be converted to an integer.\n",
            "Value '228C' in 'block' column cannot be converted to an integer.\n",
            "Value '158A' in 'block' column cannot be converted to an integer.\n",
            "Value '186D' in 'block' column cannot be converted to an integer.\n",
            "Value '297B' in 'block' column cannot be converted to an integer.\n",
            "Value '228A' in 'block' column cannot be converted to an integer.\n",
            "Value '319B' in 'block' column cannot be converted to an integer.\n",
            "Value '319C' in 'block' column cannot be converted to an integer.\n",
            "Value '201C' in 'block' column cannot be converted to an integer.\n",
            "Value '262D' in 'block' column cannot be converted to an integer.\n",
            "Value '268A' in 'block' column cannot be converted to an integer.\n",
            "Value '298B' in 'block' column cannot be converted to an integer.\n",
            "Value '250B' in 'block' column cannot be converted to an integer.\n",
            "Value '306B' in 'block' column cannot be converted to an integer.\n",
            "Value '202B' in 'block' column cannot be converted to an integer.\n",
            "Value '299B' in 'block' column cannot be converted to an integer.\n",
            "Value '880A' in 'block' column cannot be converted to an integer.\n",
            "Value '871A' in 'block' column cannot be converted to an integer.\n",
            "Value '489B' in 'block' column cannot be converted to an integer.\n",
            "Value '230B' in 'block' column cannot be converted to an integer.\n",
            "Value '450F' in 'block' column cannot be converted to an integer.\n",
            "Value '450E' in 'block' column cannot be converted to an integer.\n",
            "Value '842C' in 'block' column cannot be converted to an integer.\n",
            "Value '498L' in 'block' column cannot be converted to an integer.\n",
            "Value '497B' in 'block' column cannot be converted to an integer.\n",
            "Value '518C' in 'block' column cannot be converted to an integer.\n",
            "Value '842B' in 'block' column cannot be converted to an integer.\n",
            "Value '842D' in 'block' column cannot be converted to an integer.\n",
            "Value '515C' in 'block' column cannot be converted to an integer.\n",
            "Value '518A' in 'block' column cannot be converted to an integer.\n",
            "Value '874A' in 'block' column cannot be converted to an integer.\n",
            "Value '856C' in 'block' column cannot be converted to an integer.\n",
            "Value '85A' in 'block' column cannot be converted to an integer.\n",
            "Value '79E' in 'block' column cannot be converted to an integer.\n",
            "Value '786E' in 'block' column cannot be converted to an integer.\n",
            "Value '896B' in 'block' column cannot be converted to an integer.\n",
            "Value '681B' in 'block' column cannot be converted to an integer.\n",
            "Value '896A' in 'block' column cannot be converted to an integer.\n",
            "Value '681A' in 'block' column cannot be converted to an integer.\n",
            "Value '786C' in 'block' column cannot be converted to an integer.\n",
            "Value '689C' in 'block' column cannot be converted to an integer.\n",
            "Value '624B' in 'block' column cannot be converted to an integer.\n",
            "Value '689D' in 'block' column cannot be converted to an integer.\n",
            "Value '894D' in 'block' column cannot be converted to an integer.\n",
            "Value '895C' in 'block' column cannot be converted to an integer.\n",
            "Value '788D' in 'block' column cannot be converted to an integer.\n",
            "Value '700A' in 'block' column cannot be converted to an integer.\n",
            "Value '220C' in 'block' column cannot be converted to an integer.\n",
            "Value '288B' in 'block' column cannot be converted to an integer.\n",
            "Value '289C' in 'block' column cannot be converted to an integer.\n",
            "Value '118D' in 'block' column cannot be converted to an integer.\n",
            "Value '26B' in 'block' column cannot be converted to an integer.\n",
            "Value '76A' in 'block' column cannot be converted to an integer.\n",
            "Value '119C' in 'block' column cannot be converted to an integer.\n",
            "Value '111B' in 'block' column cannot be converted to an integer.\n",
            "Value '131B' in 'block' column cannot be converted to an integer.\n",
            "Value '73A' in 'block' column cannot be converted to an integer.\n",
            "Value '133A' in 'block' column cannot be converted to an integer.\n",
            "Value '1G' in 'block' column cannot be converted to an integer.\n",
            "Value '1D' in 'block' column cannot be converted to an integer.\n",
            "Value '692A' in 'block' column cannot be converted to an integer.\n",
            "Value '687C' in 'block' column cannot be converted to an integer.\n",
            "Value '685A' in 'block' column cannot be converted to an integer.\n",
            "Value '684D' in 'block' column cannot be converted to an integer.\n",
            "Value '686A' in 'block' column cannot be converted to an integer.\n",
            "Value '985A' in 'block' column cannot be converted to an integer.\n",
            "Value '980C' in 'block' column cannot be converted to an integer.\n",
            "Value '699B' in 'block' column cannot be converted to an integer.\n",
            "Value '979C' in 'block' column cannot be converted to an integer.\n",
            "Value '288E' in 'block' column cannot be converted to an integer.\n",
            "Value '268B' in 'block' column cannot be converted to an integer.\n",
            "Value '679C' in 'block' column cannot be converted to an integer.\n",
            "Value '663C' in 'block' column cannot be converted to an integer.\n",
            "Value '657A' in 'block' column cannot be converted to an integer.\n",
            "Value '672A' in 'block' column cannot be converted to an integer.\n",
            "Value '667A' in 'block' column cannot be converted to an integer.\n",
            "Value '664D' in 'block' column cannot be converted to an integer.\n",
            "Value '274D' in 'block' column cannot be converted to an integer.\n",
            "Value '276B' in 'block' column cannot be converted to an integer.\n",
            "Value '272C' in 'block' column cannot be converted to an integer.\n",
            "Value '271D' in 'block' column cannot be converted to an integer.\n",
            "Value '673C' in 'block' column cannot be converted to an integer.\n",
            "Value '648C' in 'block' column cannot be converted to an integer.\n",
            "Value '661A' in 'block' column cannot be converted to an integer.\n",
            "Value '654B' in 'block' column cannot be converted to an integer.\n",
            "Value '654C' in 'block' column cannot be converted to an integer.\n",
            "Value '652C' in 'block' column cannot be converted to an integer.\n",
            "Value '661C' in 'block' column cannot be converted to an integer.\n",
            "Value '517C' in 'block' column cannot be converted to an integer.\n",
            "Value '671B' in 'block' column cannot be converted to an integer.\n",
            "Value '4C' in 'block' column cannot be converted to an integer.\n",
            "Value '128A' in 'block' column cannot be converted to an integer.\n",
            "Value '175B' in 'block' column cannot be converted to an integer.\n",
            "Value '175C' in 'block' column cannot be converted to an integer.\n",
            "Value '637C' in 'block' column cannot be converted to an integer.\n",
            "Value '163B' in 'block' column cannot be converted to an integer.\n",
            "Value '167B' in 'block' column cannot be converted to an integer.\n",
            "Value '128D' in 'block' column cannot be converted to an integer.\n",
            "Value '126D' in 'block' column cannot be converted to an integer.\n",
            "Value '174D' in 'block' column cannot be converted to an integer.\n",
            "Value '102D' in 'block' column cannot be converted to an integer.\n",
            "Value '176A' in 'block' column cannot be converted to an integer.\n",
            "Value '105C' in 'block' column cannot be converted to an integer.\n",
            "Value '176C' in 'block' column cannot be converted to an integer.\n",
            "Value '638B' in 'block' column cannot be converted to an integer.\n",
            "Value '102B' in 'block' column cannot be converted to an integer.\n",
            "Value '110B' in 'block' column cannot be converted to an integer.\n",
            "Value '637B' in 'block' column cannot be converted to an integer.\n",
            "Value '204A' in 'block' column cannot be converted to an integer.\n",
            "Value '199D' in 'block' column cannot be converted to an integer.\n",
            "Value '175D' in 'block' column cannot be converted to an integer.\n",
            "Value '102A' in 'block' column cannot be converted to an integer.\n",
            "Value '641A' in 'block' column cannot be converted to an integer.\n",
            "Value '162B' in 'block' column cannot be converted to an integer.\n",
            "Value '23A' in 'block' column cannot be converted to an integer.\n",
            "Value '23B' in 'block' column cannot be converted to an integer.\n",
            "Value '62A' in 'block' column cannot be converted to an integer.\n",
            "Value '340A' in 'block' column cannot be converted to an integer.\n",
            "Value '589A' in 'block' column cannot be converted to an integer.\n",
            "Value '341A' in 'block' column cannot be converted to an integer.\n",
            "Value '350B' in 'block' column cannot be converted to an integer.\n",
            "Value '509B' in 'block' column cannot be converted to an integer.\n",
            "Value '466C' in 'block' column cannot be converted to an integer.\n",
            "Value '469B' in 'block' column cannot be converted to an integer.\n",
            "Value '588C' in 'block' column cannot be converted to an integer.\n",
            "Value '467A' in 'block' column cannot be converted to an integer.\n",
            "Value '501A' in 'block' column cannot be converted to an integer.\n",
            "Value '467B' in 'block' column cannot be converted to an integer.\n",
            "Value '295A' in 'block' column cannot be converted to an integer.\n",
            "Value '124B' in 'block' column cannot be converted to an integer.\n",
            "Value '295B' in 'block' column cannot be converted to an integer.\n",
            "Value '309C' in 'block' column cannot be converted to an integer.\n",
            "Value '308B' in 'block' column cannot be converted to an integer.\n",
            "Value '159A' in 'block' column cannot be converted to an integer.\n",
            "Value '184C' in 'block' column cannot be converted to an integer.\n",
            "Value '311D' in 'block' column cannot be converted to an integer.\n",
            "Value '309B' in 'block' column cannot be converted to an integer.\n",
            "Value '203A' in 'block' column cannot be converted to an integer.\n",
            "Value '292A' in 'block' column cannot be converted to an integer.\n",
            "Value '408A' in 'block' column cannot be converted to an integer.\n",
            "Value '311B' in 'block' column cannot be converted to an integer.\n",
            "Value '309A' in 'block' column cannot be converted to an integer.\n",
            "Value '438A' in 'block' column cannot be converted to an integer.\n",
            "Value '265E' in 'block' column cannot be converted to an integer.\n",
            "Value '441A' in 'block' column cannot be converted to an integer.\n",
            "Value '320A' in 'block' column cannot be converted to an integer.\n",
            "Value '257C' in 'block' column cannot be converted to an integer.\n",
            "Value '264A' in 'block' column cannot be converted to an integer.\n",
            "Value '266B' in 'block' column cannot be converted to an integer.\n",
            "Value '272A' in 'block' column cannot be converted to an integer.\n",
            "Value '268D' in 'block' column cannot be converted to an integer.\n",
            "Value '266A' in 'block' column cannot be converted to an integer.\n",
            "Value '158B' in 'block' column cannot be converted to an integer.\n",
            "Value '188A' in 'block' column cannot be converted to an integer.\n",
            "Value '157A' in 'block' column cannot be converted to an integer.\n",
            "Value '157B' in 'block' column cannot be converted to an integer.\n",
            "Value '122D' in 'block' column cannot be converted to an integer.\n",
            "Value '318D' in 'block' column cannot be converted to an integer.\n",
            "Value '307D' in 'block' column cannot be converted to an integer.\n",
            "Value '116C' in 'block' column cannot be converted to an integer.\n",
            "Value '123A' in 'block' column cannot be converted to an integer.\n",
            "Value '405B' in 'block' column cannot be converted to an integer.\n",
            "Value '323C' in 'block' column cannot be converted to an integer.\n",
            "Value '122A' in 'block' column cannot be converted to an integer.\n",
            "Value '413A' in 'block' column cannot be converted to an integer.\n",
            "Value '116B' in 'block' column cannot be converted to an integer.\n",
            "Value '312B' in 'block' column cannot be converted to an integer.\n",
            "Value '117A' in 'block' column cannot be converted to an integer.\n",
            "Value '299A' in 'block' column cannot be converted to an integer.\n",
            "Value '497C' in 'block' column cannot be converted to an integer.\n",
            "Value '487B' in 'block' column cannot be converted to an integer.\n",
            "Value '858A' in 'block' column cannot be converted to an integer.\n",
            "Value '862A' in 'block' column cannot be converted to an integer.\n",
            "Value '498J' in 'block' column cannot be converted to an integer.\n",
            "Value '857B' in 'block' column cannot be converted to an integer.\n",
            "Value '518B' in 'block' column cannot be converted to an integer.\n",
            "Value '495E' in 'block' column cannot be converted to an integer.\n",
            "Value '230D' in 'block' column cannot be converted to an integer.\n",
            "Value '79A' in 'block' column cannot be converted to an integer.\n",
            "Value '82A' in 'block' column cannot be converted to an integer.\n",
            "Value '682B' in 'block' column cannot be converted to an integer.\n",
            "Value '683A' in 'block' column cannot be converted to an integer.\n",
            "Value '689F' in 'block' column cannot be converted to an integer.\n",
            "Value '689E' in 'block' column cannot be converted to an integer.\n",
            "Value '897C' in 'block' column cannot be converted to an integer.\n",
            "Value '115A' in 'block' column cannot be converted to an integer.\n",
            "Value '315A' in 'block' column cannot be converted to an integer.\n",
            "Value '316A' in 'block' column cannot be converted to an integer.\n",
            "Value '219D' in 'block' column cannot be converted to an integer.\n",
            "Value '221A' in 'block' column cannot be converted to an integer.\n",
            "Value '289G' in 'block' column cannot be converted to an integer.\n",
            "Value '290F' in 'block' column cannot be converted to an integer.\n",
            "Value '289A' in 'block' column cannot be converted to an integer.\n",
            "Value '111A' in 'block' column cannot be converted to an integer.\n",
            "Value '118A' in 'block' column cannot be converted to an integer.\n",
            "Value '6A' in 'block' column cannot be converted to an integer.\n",
            "Value '75B' in 'block' column cannot be converted to an integer.\n",
            "Value '25B' in 'block' column cannot be converted to an integer.\n",
            "Value '109A' in 'block' column cannot be converted to an integer.\n",
            "Value '687B' in 'block' column cannot be converted to an integer.\n",
            "Value '692B' in 'block' column cannot be converted to an integer.\n",
            "Value '484B' in 'block' column cannot be converted to an integer.\n",
            "Value '690D' in 'block' column cannot be converted to an integer.\n",
            "Value '687D' in 'block' column cannot be converted to an integer.\n",
            "Value '981C' in 'block' column cannot be converted to an integer.\n",
            "Value '698C' in 'block' column cannot be converted to an integer.\n",
            "Value '990B' in 'block' column cannot be converted to an integer.\n",
            "Value '338B' in 'block' column cannot be converted to an integer.\n",
            "Value '339D' in 'block' column cannot be converted to an integer.\n",
            "Value '667C' in 'block' column cannot be converted to an integer.\n",
            "Value '649B' in 'block' column cannot be converted to an integer.\n",
            "Value '649A' in 'block' column cannot be converted to an integer.\n",
            "Value '663A' in 'block' column cannot be converted to an integer.\n",
            "Value '271C' in 'block' column cannot be converted to an integer.\n",
            "Value '276C' in 'block' column cannot be converted to an integer.\n",
            "Value '676B' in 'block' column cannot be converted to an integer.\n",
            "Value '677A' in 'block' column cannot be converted to an integer.\n",
            "Value '337C' in 'block' column cannot be converted to an integer.\n",
            "Value '337D' in 'block' column cannot be converted to an integer.\n",
            "Value '653A' in 'block' column cannot be converted to an integer.\n",
            "Value '678A' in 'block' column cannot be converted to an integer.\n",
            "Value '986A' in 'block' column cannot be converted to an integer.\n",
            "Value '987A' in 'block' column cannot be converted to an integer.\n",
            "Value '656A' in 'block' column cannot be converted to an integer.\n",
            "Value '669B' in 'block' column cannot be converted to an integer.\n",
            "Value '3D' in 'block' column cannot be converted to an integer.\n",
            "Value '3B' in 'block' column cannot be converted to an integer.\n",
            "Value '38A' in 'block' column cannot be converted to an integer.\n",
            "Value '128C' in 'block' column cannot be converted to an integer.\n",
            "Value '203B' in 'block' column cannot be converted to an integer.\n",
            "Value '632B' in 'block' column cannot be converted to an integer.\n",
            "Value '195B' in 'block' column cannot be converted to an integer.\n",
            "Value '301B' in 'block' column cannot be converted to an integer.\n",
            "Value '102C' in 'block' column cannot be converted to an integer.\n",
            "Value '107A' in 'block' column cannot be converted to an integer.\n",
            "Value '204D' in 'block' column cannot be converted to an integer.\n",
            "Value '172B' in 'block' column cannot be converted to an integer.\n",
            "Value '173A' in 'block' column cannot be converted to an integer.\n",
            "Value '107D' in 'block' column cannot be converted to an integer.\n",
            "Value '199C' in 'block' column cannot be converted to an integer.\n",
            "Value '637A' in 'block' column cannot be converted to an integer.\n",
            "Value '166A' in 'block' column cannot be converted to an integer.\n",
            "Value '165A' in 'block' column cannot be converted to an integer.\n",
            "Value '28C' in 'block' column cannot be converted to an integer.\n",
            "Value '508B' in 'block' column cannot be converted to an integer.\n",
            "Value '360A' in 'block' column cannot be converted to an integer.\n",
            "Value '357C' in 'block' column cannot be converted to an integer.\n",
            "Value '353C' in 'block' column cannot be converted to an integer.\n",
            "Value '469A' in 'block' column cannot be converted to an integer.\n",
            "Value '357A' in 'block' column cannot be converted to an integer.\n",
            "Value '355A' in 'block' column cannot be converted to an integer.\n",
            "Value '588B' in 'block' column cannot be converted to an integer.\n",
            "Value '360B' in 'block' column cannot be converted to an integer.\n",
            "Value '359A' in 'block' column cannot be converted to an integer.\n",
            "Value '439B' in 'block' column cannot be converted to an integer.\n",
            "Value '298D' in 'block' column cannot be converted to an integer.\n",
            "Value '305D' in 'block' column cannot be converted to an integer.\n",
            "Value '120A' in 'block' column cannot be converted to an integer.\n",
            "Value '204C' in 'block' column cannot be converted to an integer.\n",
            "Value '207A' in 'block' column cannot be converted to an integer.\n",
            "Value '157C' in 'block' column cannot be converted to an integer.\n",
            "Value '290A' in 'block' column cannot be converted to an integer.\n",
            "Value '201A' in 'block' column cannot be converted to an integer.\n",
            "Value '313C' in 'block' column cannot be converted to an integer.\n",
            "Value '209C' in 'block' column cannot be converted to an integer.\n",
            "Value '404B' in 'block' column cannot be converted to an integer.\n",
            "Value '265C' in 'block' column cannot be converted to an integer.\n",
            "Value '439C' in 'block' column cannot be converted to an integer.\n",
            "Value '441C' in 'block' column cannot be converted to an integer.\n",
            "Value '277C' in 'block' column cannot be converted to an integer.\n",
            "Value '267A' in 'block' column cannot be converted to an integer.\n",
            "Value '273A' in 'block' column cannot be converted to an integer.\n",
            "Value '206C' in 'block' column cannot be converted to an integer.\n",
            "Value '117C' in 'block' column cannot be converted to an integer.\n",
            "Value '310A' in 'block' column cannot be converted to an integer.\n",
            "Value '316C' in 'block' column cannot be converted to an integer.\n",
            "Value '260A' in 'block' column cannot be converted to an integer.\n",
            "Value '301C' in 'block' column cannot be converted to an integer.\n",
            "Value '403A' in 'block' column cannot be converted to an integer.\n",
            "Value '292B' in 'block' column cannot be converted to an integer.\n",
            "Value '403C' in 'block' column cannot be converted to an integer.\n",
            "Value '191B' in 'block' column cannot be converted to an integer.\n",
            "Value '201D' in 'block' column cannot be converted to an integer.\n",
            "Value '321B' in 'block' column cannot be converted to an integer.\n",
            "Value '200D' in 'block' column cannot be converted to an integer.\n",
            "Value '258D' in 'block' column cannot be converted to an integer.\n",
            "Value '412A' in 'block' column cannot be converted to an integer.\n",
            "Value '307B' in 'block' column cannot be converted to an integer.\n",
            "Value '262B' in 'block' column cannot be converted to an integer.\n",
            "Value '202A' in 'block' column cannot be converted to an integer.\n",
            "Value '506A' in 'block' column cannot be converted to an integer.\n",
            "Value '236A' in 'block' column cannot be converted to an integer.\n",
            "Value '486C' in 'block' column cannot be converted to an integer.\n",
            "Value '493C' in 'block' column cannot be converted to an integer.\n",
            "Value '861A' in 'block' column cannot be converted to an integer.\n",
            "Value '888A' in 'block' column cannot be converted to an integer.\n",
            "Value '491D' in 'block' column cannot be converted to an integer.\n",
            "Value '450C' in 'block' column cannot be converted to an integer.\n",
            "Value '494C' in 'block' column cannot be converted to an integer.\n",
            "Value '496B' in 'block' column cannot be converted to an integer.\n",
            "Value '488A' in 'block' column cannot be converted to an integer.\n",
            "Value '498A' in 'block' column cannot be converted to an integer.\n",
            "Value '496C' in 'block' column cannot be converted to an integer.\n",
            "Value '497H' in 'block' column cannot be converted to an integer.\n",
            "Value '859A' in 'block' column cannot be converted to an integer.\n",
            "Value '842E' in 'block' column cannot be converted to an integer.\n",
            "Value '230G' in 'block' column cannot be converted to an integer.\n",
            "Value '495A' in 'block' column cannot be converted to an integer.\n",
            "Value '867A' in 'block' column cannot be converted to an integer.\n",
            "Value '85B' in 'block' column cannot be converted to an integer.\n",
            "Value '10B' in 'block' column cannot be converted to an integer.\n",
            "Value '79B' in 'block' column cannot be converted to an integer.\n",
            "Value '79C' in 'block' column cannot be converted to an integer.\n",
            "Value '99B' in 'block' column cannot be converted to an integer.\n",
            "Value '624A' in 'block' column cannot be converted to an integer.\n",
            "Value '786D' in 'block' column cannot be converted to an integer.\n",
            "Value '892A' in 'block' column cannot be converted to an integer.\n",
            "Value '897A' in 'block' column cannot be converted to an integer.\n",
            "Value '895B' in 'block' column cannot be converted to an integer.\n",
            "Value '787C' in 'block' column cannot be converted to an integer.\n",
            "Value '688F' in 'block' column cannot be converted to an integer.\n",
            "Value '898B' in 'block' column cannot be converted to an integer.\n",
            "Value '628A' in 'block' column cannot be converted to an integer.\n",
            "Value '685C' in 'block' column cannot be converted to an integer.\n",
            "Value '891B' in 'block' column cannot be converted to an integer.\n",
            "Value '115C' in 'block' column cannot be converted to an integer.\n",
            "Value '596D' in 'block' column cannot be converted to an integer.\n",
            "Value '596C' in 'block' column cannot be converted to an integer.\n",
            "Value '219C' in 'block' column cannot be converted to an integer.\n",
            "Value '219B' in 'block' column cannot be converted to an integer.\n",
            "Value '221C' in 'block' column cannot be converted to an integer.\n",
            "Value '94D' in 'block' column cannot be converted to an integer.\n",
            "Value '288C' in 'block' column cannot be converted to an integer.\n",
            "Value '290G' in 'block' column cannot be converted to an integer.\n",
            "Value '26A' in 'block' column cannot be converted to an integer.\n",
            "Value '17A' in 'block' column cannot be converted to an integer.\n",
            "Value '63A' in 'block' column cannot be converted to an integer.\n",
            "Value '131C' in 'block' column cannot be converted to an integer.\n",
            "Value '75A' in 'block' column cannot be converted to an integer.\n",
            "Value '485D' in 'block' column cannot be converted to an integer.\n",
            "Value '297A' in 'block' column cannot be converted to an integer.\n",
            "Value '484D' in 'block' column cannot be converted to an integer.\n",
            "Value '984A' in 'block' column cannot be converted to an integer.\n",
            "Value '980A' in 'block' column cannot be converted to an integer.\n",
            "Value '984C' in 'block' column cannot be converted to an integer.\n",
            "Value '984D' in 'block' column cannot be converted to an integer.\n",
            "Value '675B' in 'block' column cannot be converted to an integer.\n",
            "Value '655B' in 'block' column cannot be converted to an integer.\n",
            "Value '986C' in 'block' column cannot be converted to an integer.\n",
            "Value '651A' in 'block' column cannot be converted to an integer.\n",
            "Value '661D' in 'block' column cannot be converted to an integer.\n",
            "Value '676A' in 'block' column cannot be converted to an integer.\n",
            "Value '517E' in 'block' column cannot be converted to an integer.\n",
            "Value '678D' in 'block' column cannot be converted to an integer.\n",
            "Value '659A' in 'block' column cannot be converted to an integer.\n",
            "Value '648A' in 'block' column cannot be converted to an integer.\n",
            "Value '682C' in 'block' column cannot be converted to an integer.\n",
            "Value '660D' in 'block' column cannot be converted to an integer.\n",
            "Value '662A' in 'block' column cannot be converted to an integer.\n",
            "Value '274A' in 'block' column cannot be converted to an integer.\n",
            "Value '4B' in 'block' column cannot be converted to an integer.\n",
            "Value '2B' in 'block' column cannot be converted to an integer.\n",
            "Value '174C' in 'block' column cannot be converted to an integer.\n",
            "Value '110C' in 'block' column cannot be converted to an integer.\n",
            "Value '107C' in 'block' column cannot be converted to an integer.\n",
            "Value '167D' in 'block' column cannot be converted to an integer.\n",
            "Value '633A' in 'block' column cannot be converted to an integer.\n",
            "Value '195D' in 'block' column cannot be converted to an integer.\n",
            "Value '195A' in 'block' column cannot be converted to an integer.\n",
            "Value '167A' in 'block' column cannot be converted to an integer.\n",
            "Value '642C' in 'block' column cannot be converted to an integer.\n",
            "Value '109B' in 'block' column cannot be converted to an integer.\n",
            "Value '109C' in 'block' column cannot be converted to an integer.\n",
            "Value '171C' in 'block' column cannot be converted to an integer.\n",
            "Value '162A' in 'block' column cannot be converted to an integer.\n",
            "Value '18B' in 'block' column cannot be converted to an integer.\n",
            "Value '508A' in 'block' column cannot be converted to an integer.\n",
            "Value '354A' in 'block' column cannot be converted to an integer.\n",
            "Value '351A' in 'block' column cannot be converted to an integer.\n",
            "Value '504A' in 'block' column cannot be converted to an integer.\n",
            "Value '306A' in 'block' column cannot be converted to an integer.\n",
            "Value '183D' in 'block' column cannot be converted to an integer.\n",
            "Value '323B' in 'block' column cannot be converted to an integer.\n",
            "Value '317A' in 'block' column cannot be converted to an integer.\n",
            "Value '190B' in 'block' column cannot be converted to an integer.\n",
            "Value '207D' in 'block' column cannot be converted to an integer.\n",
            "Value '262A' in 'block' column cannot be converted to an integer.\n",
            "Value '208A' in 'block' column cannot be converted to an integer.\n",
            "Value '408B' in 'block' column cannot be converted to an integer.\n",
            "Value '121B' in 'block' column cannot be converted to an integer.\n",
            "Value '121A' in 'block' column cannot be converted to an integer.\n",
            "Value '206D' in 'block' column cannot be converted to an integer.\n",
            "Value '318A' in 'block' column cannot be converted to an integer.\n",
            "Value '312A' in 'block' column cannot be converted to an integer.\n",
            "Value '316B' in 'block' column cannot be converted to an integer.\n",
            "Value '121C' in 'block' column cannot be converted to an integer.\n",
            "Value '206B' in 'block' column cannot be converted to an integer.\n",
            "Value '305A' in 'block' column cannot be converted to an integer.\n",
            "Value '314C' in 'block' column cannot be converted to an integer.\n",
            "Value '403D' in 'block' column cannot be converted to an integer.\n",
            "Value '223A' in 'block' column cannot be converted to an integer.\n",
            "Value '404A' in 'block' column cannot be converted to an integer.\n",
            "Value '299C' in 'block' column cannot be converted to an integer.\n",
            "Value '317D' in 'block' column cannot be converted to an integer.\n",
            "Value '250C' in 'block' column cannot be converted to an integer.\n",
            "Value '487C' in 'block' column cannot be converted to an integer.\n",
            "Value '889A' in 'block' column cannot be converted to an integer.\n",
            "Value '891A' in 'block' column cannot be converted to an integer.\n",
            "Value '450A' in 'block' column cannot be converted to an integer.\n",
            "Value '490A' in 'block' column cannot be converted to an integer.\n",
            "Value '492C' in 'block' column cannot be converted to an integer.\n",
            "Value '518D' in 'block' column cannot be converted to an integer.\n",
            "Value '515A' in 'block' column cannot be converted to an integer.\n",
            "Value '515B' in 'block' column cannot be converted to an integer.\n",
            "Value '856D' in 'block' column cannot be converted to an integer.\n",
            "Value '153A' in 'block' column cannot be converted to an integer.\n",
            "Value '101A' in 'block' column cannot be converted to an integer.\n",
            "Value '787B' in 'block' column cannot be converted to an integer.\n",
            "Value '625B' in 'block' column cannot be converted to an integer.\n",
            "Value '786B' in 'block' column cannot be converted to an integer.\n",
            "Value '628B' in 'block' column cannot be converted to an integer.\n",
            "Value '681D' in 'block' column cannot be converted to an integer.\n",
            "Value '893C' in 'block' column cannot be converted to an integer.\n",
            "Value '700B' in 'block' column cannot be converted to an integer.\n",
            "Value '596A' in 'block' column cannot be converted to an integer.\n",
            "Value '291C' in 'block' column cannot be converted to an integer.\n",
            "Value '291E' in 'block' column cannot be converted to an integer.\n",
            "Value '289D' in 'block' column cannot be converted to an integer.\n",
            "Value '288A' in 'block' column cannot be converted to an integer.\n",
            "Value '119D' in 'block' column cannot be converted to an integer.\n",
            "Value '8B' in 'block' column cannot be converted to an integer.\n",
            "Value '25A' in 'block' column cannot be converted to an integer.\n",
            "Value '77A' in 'block' column cannot be converted to an integer.\n",
            "Value '335A' in 'block' column cannot be converted to an integer.\n",
            "Value '484A' in 'block' column cannot be converted to an integer.\n",
            "Value '691A' in 'block' column cannot be converted to an integer.\n",
            "Value '690C' in 'block' column cannot be converted to an integer.\n",
            "Value '225A' in 'block' column cannot be converted to an integer.\n",
            "Value '286D' in 'block' column cannot be converted to an integer.\n",
            "Value '287D' in 'block' column cannot be converted to an integer.\n",
            "Value '287A' in 'block' column cannot be converted to an integer.\n",
            "Value '287B' in 'block' column cannot be converted to an integer.\n",
            "Value '276D' in 'block' column cannot be converted to an integer.\n",
            "Value '674B' in 'block' column cannot be converted to an integer.\n",
            "Value '680C' in 'block' column cannot be converted to an integer.\n",
            "Value '651B' in 'block' column cannot be converted to an integer.\n",
            "Value '337A' in 'block' column cannot be converted to an integer.\n",
            "Value '660A' in 'block' column cannot be converted to an integer.\n",
            "Value '659B' in 'block' column cannot be converted to an integer.\n",
            "Value '650A' in 'block' column cannot be converted to an integer.\n",
            "Value '664B' in 'block' column cannot be converted to an integer.\n",
            "Value '652B' in 'block' column cannot be converted to an integer.\n",
            "Value '654A' in 'block' column cannot be converted to an integer.\n",
            "Value '684C' in 'block' column cannot be converted to an integer.\n",
            "Value '685B' in 'block' column cannot be converted to an integer.\n",
            "Value '669C' in 'block' column cannot be converted to an integer.\n",
            "Value '683B' in 'block' column cannot be converted to an integer.\n",
            "Value '176D' in 'block' column cannot be converted to an integer.\n",
            "Value '205A' in 'block' column cannot be converted to an integer.\n",
            "Value '103C' in 'block' column cannot be converted to an integer.\n",
            "Value '105B' in 'block' column cannot be converted to an integer.\n",
            "Value '128B' in 'block' column cannot be converted to an integer.\n",
            "Value '104B' in 'block' column cannot be converted to an integer.\n",
            "Value '3A' in 'block' column cannot be converted to an integer.\n",
            "Value '510A' in 'block' column cannot be converted to an integer.\n",
            "Value '508C' in 'block' column cannot be converted to an integer.\n",
            "Value '354C' in 'block' column cannot be converted to an integer.\n",
            "Value '466B' in 'block' column cannot be converted to an integer.\n",
            "Value '356B' in 'block' column cannot be converted to an integer.\n",
            "Value '354D' in 'block' column cannot be converted to an integer.\n",
            "Value '295C' in 'block' column cannot be converted to an integer.\n",
            "Value '305C' in 'block' column cannot be converted to an integer.\n",
            "Value '185C' in 'block' column cannot be converted to an integer.\n",
            "Value '308C' in 'block' column cannot be converted to an integer.\n",
            "Value '186C' in 'block' column cannot be converted to an integer.\n",
            "Value '260D' in 'block' column cannot be converted to an integer.\n",
            "Value '324A' in 'block' column cannot be converted to an integer.\n",
            "Value '436B' in 'block' column cannot be converted to an integer.\n",
            "Value '441B' in 'block' column cannot be converted to an integer.\n",
            "Value '270A' in 'block' column cannot be converted to an integer.\n",
            "Value '441D' in 'block' column cannot be converted to an integer.\n",
            "Value '269A' in 'block' column cannot be converted to an integer.\n",
            "Value '272B' in 'block' column cannot be converted to an integer.\n",
            "Value '264F' in 'block' column cannot be converted to an integer.\n",
            "Value '277D' in 'block' column cannot be converted to an integer.\n",
            "Value '188D' in 'block' column cannot be converted to an integer.\n",
            "Value '296B' in 'block' column cannot be converted to an integer.\n",
            "Value '184B' in 'block' column cannot be converted to an integer.\n",
            "Value '313B' in 'block' column cannot be converted to an integer.\n",
            "Value '403B' in 'block' column cannot be converted to an integer.\n",
            "Value '318C' in 'block' column cannot be converted to an integer.\n",
            "Value '407B' in 'block' column cannot be converted to an integer.\n",
            "Value '257A' in 'block' column cannot be converted to an integer.\n",
            "Value '260B' in 'block' column cannot be converted to an integer.\n",
            "Value '491C' in 'block' column cannot be converted to an integer.\n",
            "Value '489C' in 'block' column cannot be converted to an integer.\n",
            "Value '498E' in 'block' column cannot be converted to an integer.\n",
            "Value '498D' in 'block' column cannot be converted to an integer.\n",
            "Value '498F' in 'block' column cannot be converted to an integer.\n",
            "Value '842G' in 'block' column cannot be converted to an integer.\n",
            "Value '486A' in 'block' column cannot be converted to an integer.\n",
            "Value '493E' in 'block' column cannot be converted to an integer.\n",
            "Value '842F' in 'block' column cannot be converted to an integer.\n",
            "Value '515D' in 'block' column cannot be converted to an integer.\n",
            "Value '856B' in 'block' column cannot be converted to an integer.\n",
            "Value '79D' in 'block' column cannot be converted to an integer.\n",
            "Value '684A' in 'block' column cannot be converted to an integer.\n",
            "Value '895A' in 'block' column cannot be converted to an integer.\n",
            "Value '688C' in 'block' column cannot be converted to an integer.\n",
            "Value '764A' in 'block' column cannot be converted to an integer.\n",
            "Value '788C' in 'block' column cannot be converted to an integer.\n",
            "Value '115B' in 'block' column cannot be converted to an integer.\n",
            "Value '308A' in 'block' column cannot be converted to an integer.\n",
            "Value '310B' in 'block' column cannot be converted to an integer.\n",
            "Value '94C' in 'block' column cannot be converted to an integer.\n",
            "Value '10E' in 'block' column cannot be converted to an integer.\n",
            "Value '118B' in 'block' column cannot be converted to an integer.\n",
            "Value '672B' in 'block' column cannot be converted to an integer.\n",
            "Value '683C' in 'block' column cannot be converted to an integer.\n",
            "Value '689B' in 'block' column cannot be converted to an integer.\n",
            "Value '297C' in 'block' column cannot be converted to an integer.\n",
            "Value '981D' in 'block' column cannot be converted to an integer.\n",
            "Value '984B' in 'block' column cannot be converted to an integer.\n",
            "Value '978C' in 'block' column cannot be converted to an integer.\n",
            "Value '980D' in 'block' column cannot be converted to an integer.\n",
            "Value '698B' in 'block' column cannot be converted to an integer.\n",
            "Value '698D' in 'block' column cannot be converted to an integer.\n",
            "Value '215A' in 'block' column cannot be converted to an integer.\n",
            "Value '286B' in 'block' column cannot be converted to an integer.\n",
            "Value '668D' in 'block' column cannot be converted to an integer.\n",
            "Value '987D' in 'block' column cannot be converted to an integer.\n",
            "Value '659C' in 'block' column cannot be converted to an integer.\n",
            "Value '988B' in 'block' column cannot be converted to an integer.\n",
            "Value '678C' in 'block' column cannot be converted to an integer.\n",
            "Value '989A' in 'block' column cannot be converted to an integer.\n",
            "Value '653C' in 'block' column cannot be converted to an integer.\n",
            "Value '664A' in 'block' column cannot be converted to an integer.\n",
            "Value '989D' in 'block' column cannot be converted to an integer.\n",
            "Value '987C' in 'block' column cannot be converted to an integer.\n",
            "Value '666B' in 'block' column cannot be converted to an integer.\n",
            "Value '671A' in 'block' column cannot be converted to an integer.\n",
            "Value '665B' in 'block' column cannot be converted to an integer.\n",
            "Value '665A' in 'block' column cannot be converted to an integer.\n",
            "Value '108C' in 'block' column cannot be converted to an integer.\n",
            "Value '38B' in 'block' column cannot be converted to an integer.\n",
            "Value '196D' in 'block' column cannot be converted to an integer.\n",
            "Value '107B' in 'block' column cannot be converted to an integer.\n",
            "Value '638A' in 'block' column cannot be converted to an integer.\n",
            "Value '101D' in 'block' column cannot be converted to an integer.\n",
            "Value '173B' in 'block' column cannot be converted to an integer.\n",
            "Value '126B' in 'block' column cannot be converted to an integer.\n",
            "Value '105D' in 'block' column cannot be converted to an integer.\n",
            "Value '175A' in 'block' column cannot be converted to an integer.\n",
            "Value '61C' in 'block' column cannot be converted to an integer.\n",
            "Value '507C' in 'block' column cannot be converted to an integer.\n",
            "Value '466D' in 'block' column cannot be converted to an integer.\n",
            "Value '359C' in 'block' column cannot be converted to an integer.\n",
            "Value '353A' in 'block' column cannot be converted to an integer.\n",
            "Value '352A' in 'block' column cannot be converted to an integer.\n",
            "Value '504D' in 'block' column cannot be converted to an integer.\n",
            "Value '588A' in 'block' column cannot be converted to an integer.\n",
            "Value '468A' in 'block' column cannot be converted to an integer.\n",
            "Value '436C' in 'block' column cannot be converted to an integer.\n",
            "Value '307A' in 'block' column cannot be converted to an integer.\n",
            "Value '228B' in 'block' column cannot be converted to an integer.\n",
            "Value '120B' in 'block' column cannot be converted to an integer.\n",
            "Value '314B' in 'block' column cannot be converted to an integer.\n",
            "Value '311C' in 'block' column cannot be converted to an integer.\n",
            "Value '307C' in 'block' column cannot be converted to an integer.\n",
            "Value '409B' in 'block' column cannot be converted to an integer.\n",
            "Value '269B' in 'block' column cannot be converted to an integer.\n",
            "Value '264E' in 'block' column cannot be converted to an integer.\n",
            "Value '226B' in 'block' column cannot be converted to an integer.\n",
            "Value '408C' in 'block' column cannot be converted to an integer.\n",
            "Value '413B' in 'block' column cannot be converted to an integer.\n",
            "Value '258B' in 'block' column cannot be converted to an integer.\n",
            "Value '320B' in 'block' column cannot be converted to an integer.\n",
            "Value '317B' in 'block' column cannot be converted to an integer.\n",
            "Value '261B' in 'block' column cannot be converted to an integer.\n",
            "Value '206A' in 'block' column cannot be converted to an integer.\n",
            "Value '258C' in 'block' column cannot be converted to an integer.\n",
            "Value '325B' in 'block' column cannot be converted to an integer.\n",
            "Value '318B' in 'block' column cannot be converted to an integer.\n",
            "Value '225B' in 'block' column cannot be converted to an integer.\n",
            "Value '259C' in 'block' column cannot be converted to an integer.\n",
            "Value '261A' in 'block' column cannot be converted to an integer.\n",
            "Value '261D' in 'block' column cannot be converted to an integer.\n",
            "Value '224D' in 'block' column cannot be converted to an integer.\n",
            "Value '250D' in 'block' column cannot be converted to an integer.\n",
            "Value '496E' in 'block' column cannot be converted to an integer.\n",
            "Value '491B' in 'block' column cannot be converted to an integer.\n",
            "Value '489A' in 'block' column cannot be converted to an integer.\n",
            "Value '494B' in 'block' column cannot be converted to an integer.\n",
            "Value '496F' in 'block' column cannot be converted to an integer.\n",
            "Value '842H' in 'block' column cannot be converted to an integer.\n",
            "Value '856F' in 'block' column cannot be converted to an integer.\n",
            "Value '897B' in 'block' column cannot be converted to an integer.\n",
            "Value '787E' in 'block' column cannot be converted to an integer.\n",
            "Value '892B' in 'block' column cannot be converted to an integer.\n",
            "Value '899B' in 'block' column cannot be converted to an integer.\n",
            "Value '690F' in 'block' column cannot be converted to an integer.\n",
            "Value '688E' in 'block' column cannot be converted to an integer.\n",
            "Value '787D' in 'block' column cannot be converted to an integer.\n",
            "Value '893B' in 'block' column cannot be converted to an integer.\n",
            "Value '310C' in 'block' column cannot be converted to an integer.\n",
            "Value '613B' in 'block' column cannot be converted to an integer.\n",
            "Value '10F' in 'block' column cannot be converted to an integer.\n",
            "Value '290E' in 'block' column cannot be converted to an integer.\n",
            "Value '112A' in 'block' column cannot be converted to an integer.\n",
            "Value '74A' in 'block' column cannot be converted to an integer.\n",
            "Value '296E' in 'block' column cannot be converted to an integer.\n",
            "Value '484C' in 'block' column cannot be converted to an integer.\n",
            "Value '2D' in 'block' column cannot be converted to an integer.\n",
            "Value '981A' in 'block' column cannot be converted to an integer.\n",
            "Value '286A' in 'block' column cannot be converted to an integer.\n",
            "Value '287C' in 'block' column cannot be converted to an integer.\n",
            "Value '285A' in 'block' column cannot be converted to an integer.\n",
            "Value '657B' in 'block' column cannot be converted to an integer.\n",
            "Value '668A' in 'block' column cannot be converted to an integer.\n",
            "Value '648B' in 'block' column cannot be converted to an integer.\n",
            "Value '678B' in 'block' column cannot be converted to an integer.\n",
            "Value '664C' in 'block' column cannot be converted to an integer.\n",
            "Value '679B' in 'block' column cannot be converted to an integer.\n",
            "Value '656D' in 'block' column cannot be converted to an integer.\n",
            "Value '14A' in 'block' column cannot be converted to an integer.\n",
            "Value '199A' in 'block' column cannot be converted to an integer.\n",
            "Value '635C' in 'block' column cannot be converted to an integer.\n",
            "Value '632C' in 'block' column cannot be converted to an integer.\n",
            "Value '642D' in 'block' column cannot be converted to an integer.\n",
            "Value '173D' in 'block' column cannot be converted to an integer.\n",
            "Value '171B' in 'block' column cannot be converted to an integer.\n",
            "Value '62B' in 'block' column cannot be converted to an integer.\n",
            "Value '28D' in 'block' column cannot be converted to an integer.\n",
            "Value '589C' in 'block' column cannot be converted to an integer.\n",
            "Value '589D' in 'block' column cannot be converted to an integer.\n",
            "Value '503B' in 'block' column cannot be converted to an integer.\n",
            "Value '356A' in 'block' column cannot be converted to an integer.\n",
            "Value '350C' in 'block' column cannot be converted to an integer.\n",
            "Value '507D' in 'block' column cannot be converted to an integer.\n",
            "Value '185B' in 'block' column cannot be converted to an integer.\n",
            "Value '184A' in 'block' column cannot be converted to an integer.\n",
            "Value '304A' in 'block' column cannot be converted to an integer.\n",
            "Value '314A' in 'block' column cannot be converted to an integer.\n",
            "Value '119A' in 'block' column cannot be converted to an integer.\n",
            "Value '227A' in 'block' column cannot be converted to an integer.\n",
            "Value '407A' in 'block' column cannot be converted to an integer.\n",
            "Value '325C' in 'block' column cannot be converted to an integer.\n",
            "Value '257B' in 'block' column cannot be converted to an integer.\n",
            "Value '188C' in 'block' column cannot be converted to an integer.\n",
            "Value '304B' in 'block' column cannot be converted to an integer.\n",
            "Value '192C' in 'block' column cannot be converted to an integer.\n",
            "Value '324D' in 'block' column cannot be converted to an integer.\n",
            "Value '203E' in 'block' column cannot be converted to an integer.\n",
            "Value '495C' in 'block' column cannot be converted to an integer.\n",
            "Value '85C' in 'block' column cannot be converted to an integer.\n",
            "Value '82B' in 'block' column cannot be converted to an integer.\n",
            "Value '682A' in 'block' column cannot be converted to an integer.\n",
            "Value '683D' in 'block' column cannot be converted to an integer.\n",
            "Value '896C' in 'block' column cannot be converted to an integer.\n",
            "Value '682D' in 'block' column cannot be converted to an integer.\n",
            "Value '795A' in 'block' column cannot be converted to an integer.\n",
            "Value '124A' in 'block' column cannot be converted to an integer.\n",
            "Value '688B' in 'block' column cannot be converted to an integer.\n",
            "Value '297D' in 'block' column cannot be converted to an integer.\n",
            "Value '339C' in 'block' column cannot be converted to an integer.\n",
            "Value '667B' in 'block' column cannot be converted to an integer.\n",
            "Value '989C' in 'block' column cannot be converted to an integer.\n",
            "Value '662D' in 'block' column cannot be converted to an integer.\n",
            "Value '274C' in 'block' column cannot be converted to an integer.\n",
            "Value '669A' in 'block' column cannot be converted to an integer.\n",
            "Value '108B' in 'block' column cannot be converted to an integer.\n",
            "Value '635B' in 'block' column cannot be converted to an integer.\n",
            "Value '161B' in 'block' column cannot be converted to an integer.\n",
            "Value '195C' in 'block' column cannot be converted to an integer.\n",
            "Value '104A' in 'block' column cannot be converted to an integer.\n",
            "Value '103A' in 'block' column cannot be converted to an integer.\n",
            "Value '103B' in 'block' column cannot be converted to an integer.\n",
            "Value '197A' in 'block' column cannot be converted to an integer.\n",
            "Value '172A' in 'block' column cannot be converted to an integer.\n",
            "Value '504B' in 'block' column cannot be converted to an integer.\n",
            "Value '509A' in 'block' column cannot be converted to an integer.\n",
            "Value '352B' in 'block' column cannot be converted to an integer.\n",
            "Value '501C' in 'block' column cannot be converted to an integer.\n",
            "Value '351B' in 'block' column cannot be converted to an integer.\n",
            "Value '468B' in 'block' column cannot be converted to an integer.\n",
            "Value '351D' in 'block' column cannot be converted to an integer.\n",
            "Value '436A' in 'block' column cannot be converted to an integer.\n",
            "Value '406A' in 'block' column cannot be converted to an integer.\n",
            "Value '314D' in 'block' column cannot be converted to an integer.\n",
            "Value '259A' in 'block' column cannot be converted to an integer.\n",
            "Value '436D' in 'block' column cannot be converted to an integer.\n",
            "Value '183A' in 'block' column cannot be converted to an integer.\n",
            "Value '296C' in 'block' column cannot be converted to an integer.\n",
            "Value '322B' in 'block' column cannot be converted to an integer.\n",
            "Value '315C' in 'block' column cannot be converted to an integer.\n",
            "Value '406B' in 'block' column cannot be converted to an integer.\n",
            "Value '321C' in 'block' column cannot be converted to an integer.\n",
            "Value '267B' in 'block' column cannot be converted to an integer.\n",
            "Value '324C' in 'block' column cannot be converted to an integer.\n",
            "Value '250A' in 'block' column cannot be converted to an integer.\n",
            "Value '506B' in 'block' column cannot be converted to an integer.\n",
            "Value '450D' in 'block' column cannot be converted to an integer.\n",
            "Value '898A' in 'block' column cannot be converted to an integer.\n",
            "Value '690E' in 'block' column cannot be converted to an integer.\n",
            "Value '688D' in 'block' column cannot be converted to an integer.\n",
            "Value '788B' in 'block' column cannot be converted to an integer.\n",
            "Value '288G' in 'block' column cannot be converted to an integer.\n",
            "Value '289B' in 'block' column cannot be converted to an integer.\n",
            "Value '335B' in 'block' column cannot be converted to an integer.\n",
            "Value '686D' in 'block' column cannot be converted to an integer.\n",
            "Value '979A' in 'block' column cannot be converted to an integer.\n",
            "Value '979B' in 'block' column cannot be converted to an integer.\n",
            "Value '985B' in 'block' column cannot be converted to an integer.\n",
            "Value '285B' in 'block' column cannot be converted to an integer.\n",
            "Value '285C' in 'block' column cannot be converted to an integer.\n",
            "Value '677B' in 'block' column cannot be converted to an integer.\n",
            "Value '339B' in 'block' column cannot be converted to an integer.\n",
            "Value '662C' in 'block' column cannot be converted to an integer.\n",
            "Value '59C' in 'block' column cannot be converted to an integer.\n",
            "Value '39A' in 'block' column cannot be converted to an integer.\n",
            "Value '601C' in 'block' column cannot be converted to an integer.\n",
            "Value '106D' in 'block' column cannot be converted to an integer.\n",
            "Value '360C' in 'block' column cannot be converted to an integer.\n",
            "Value '352C' in 'block' column cannot be converted to an integer.\n",
            "Value '503A' in 'block' column cannot be converted to an integer.\n",
            "Value '123C' in 'block' column cannot be converted to an integer.\n",
            "Value '223D' in 'block' column cannot be converted to an integer.\n",
            "Value '209B' in 'block' column cannot be converted to an integer.\n",
            "Value '409A' in 'block' column cannot be converted to an integer.\n",
            "Value '322C' in 'block' column cannot be converted to an integer.\n",
            "Value '223C' in 'block' column cannot be converted to an integer.\n",
            "Value '189C' in 'block' column cannot be converted to an integer.\n",
            "Value '225C' in 'block' column cannot be converted to an integer.\n",
            "Value '232A' in 'block' column cannot be converted to an integer.\n",
            "Value '201E' in 'block' column cannot be converted to an integer.\n",
            "Value '487A' in 'block' column cannot be converted to an integer.\n",
            "Value '491F' in 'block' column cannot be converted to an integer.\n",
            "Value '492B' in 'block' column cannot be converted to an integer.\n",
            "Value '498G' in 'block' column cannot be converted to an integer.\n",
            "Value '486B' in 'block' column cannot be converted to an integer.\n",
            "Value '495D' in 'block' column cannot be converted to an integer.\n",
            "Value '14B' in 'block' column cannot be converted to an integer.\n",
            "Value '899C' in 'block' column cannot be converted to an integer.\n",
            "Value '94E' in 'block' column cannot be converted to an integer.\n",
            "Value '29A' in 'block' column cannot be converted to an integer.\n",
            "Value '289E' in 'block' column cannot be converted to an integer.\n",
            "Value '6B' in 'block' column cannot be converted to an integer.\n",
            "Value '127D' in 'block' column cannot be converted to an integer.\n",
            "Value '980B' in 'block' column cannot be converted to an integer.\n",
            "Value '286C' in 'block' column cannot be converted to an integer.\n",
            "Value '990C' in 'block' column cannot be converted to an integer.\n",
            "Value '668C' in 'block' column cannot be converted to an integer.\n",
            "Value '658C' in 'block' column cannot be converted to an integer.\n",
            "Value '658A' in 'block' column cannot be converted to an integer.\n",
            "Value '652A' in 'block' column cannot be converted to an integer.\n",
            "Value '656B' in 'block' column cannot be converted to an integer.\n",
            "Value '168B' in 'block' column cannot be converted to an integer.\n",
            "Value '174B' in 'block' column cannot be converted to an integer.\n",
            "Value '106C' in 'block' column cannot be converted to an integer.\n",
            "Value '602A' in 'block' column cannot be converted to an integer.\n",
            "Value '196A' in 'block' column cannot be converted to an integer.\n",
            "Value '101B' in 'block' column cannot be converted to an integer.\n",
            "Value '110D' in 'block' column cannot be converted to an integer.\n",
            "Value '163A' in 'block' column cannot be converted to an integer.\n",
            "Value '197B' in 'block' column cannot be converted to an integer.\n",
            "Value '166B' in 'block' column cannot be converted to an integer.\n",
            "Value '18A' in 'block' column cannot be converted to an integer.\n",
            "Value '507A' in 'block' column cannot be converted to an integer.\n",
            "Value '357B' in 'block' column cannot be converted to an integer.\n",
            "Value '503C' in 'block' column cannot be converted to an integer.\n",
            "Value '298C' in 'block' column cannot be converted to an integer.\n",
            "Value '323A' in 'block' column cannot be converted to an integer.\n",
            "Value '269D' in 'block' column cannot be converted to an integer.\n",
            "Value '224A' in 'block' column cannot be converted to an integer.\n",
            "Value '319A' in 'block' column cannot be converted to an integer.\n",
            "Value '120C' in 'block' column cannot be converted to an integer.\n",
            "Value '269C' in 'block' column cannot be converted to an integer.\n",
            "Value '277A' in 'block' column cannot be converted to an integer.\n",
            "Value '187B' in 'block' column cannot be converted to an integer.\n",
            "Value '186B' in 'block' column cannot be converted to an integer.\n",
            "Value '260C' in 'block' column cannot be converted to an integer.\n",
            "Value '313D' in 'block' column cannot be converted to an integer.\n",
            "Value '485B' in 'block' column cannot be converted to an integer.\n",
            "Value '497D' in 'block' column cannot be converted to an integer.\n",
            "Value '497G' in 'block' column cannot be converted to an integer.\n",
            "Value '894C' in 'block' column cannot be converted to an integer.\n",
            "Value '796A' in 'block' column cannot be converted to an integer.\n",
            "Value '220B' in 'block' column cannot be converted to an integer.\n",
            "Value '27B' in 'block' column cannot be converted to an integer.\n",
            "Value '485C' in 'block' column cannot be converted to an integer.\n",
            "Value '674A' in 'block' column cannot be converted to an integer.\n",
            "Value '92A' in 'block' column cannot be converted to an integer.\n",
            "Value '990A' in 'block' column cannot be converted to an integer.\n",
            "Value '988C' in 'block' column cannot be converted to an integer.\n",
            "Value '38C' in 'block' column cannot be converted to an integer.\n",
            "Value '637D' in 'block' column cannot be converted to an integer.\n",
            "Value '601D' in 'block' column cannot be converted to an integer.\n",
            "Value '161A' in 'block' column cannot be converted to an integer.\n",
            "Value '195E' in 'block' column cannot be converted to an integer.\n",
            "Value '604B' in 'block' column cannot be converted to an integer.\n",
            "Value '601A' in 'block' column cannot be converted to an integer.\n",
            "Value '603A' in 'block' column cannot be converted to an integer.\n",
            "Value '172C' in 'block' column cannot be converted to an integer.\n",
            "Value '350A' in 'block' column cannot be converted to an integer.\n",
            "Value '227C' in 'block' column cannot be converted to an integer.\n",
            "Value '443A' in 'block' column cannot be converted to an integer.\n",
            "Value '290C' in 'block' column cannot be converted to an integer.\n",
            "Value '405C' in 'block' column cannot be converted to an integer.\n",
            "Value '117B' in 'block' column cannot be converted to an integer.\n",
            "Value '203D' in 'block' column cannot be converted to an integer.\n",
            "Value '320C' in 'block' column cannot be converted to an integer.\n",
            "Value '488B' in 'block' column cannot be converted to an integer.\n",
            "Value '899A' in 'block' column cannot be converted to an integer.\n",
            "Value '450G' in 'block' column cannot be converted to an integer.\n",
            "Value '491E' in 'block' column cannot be converted to an integer.\n",
            "Value '498M' in 'block' column cannot be converted to an integer.\n",
            "Value '230E' in 'block' column cannot be converted to an integer.\n",
            "Value '127A' in 'block' column cannot be converted to an integer.\n",
            "Value '668B' in 'block' column cannot be converted to an integer.\n",
            "Value '658D' in 'block' column cannot be converted to an integer.\n",
            "Value '602C' in 'block' column cannot be converted to an integer.\n",
            "Value '602B' in 'block' column cannot be converted to an integer.\n",
            "Value '636B' in 'block' column cannot be converted to an integer.\n",
            "Value '306D' in 'block' column cannot be converted to an integer.\n",
            "Value '632A' in 'block' column cannot be converted to an integer.\n",
            "Value '603B' in 'block' column cannot be converted to an integer.\n",
            "Value '603C' in 'block' column cannot be converted to an integer.\n",
            "Value '265D' in 'block' column cannot be converted to an integer.\n",
            "Value '265B' in 'block' column cannot be converted to an integer.\n",
            "Value '313A' in 'block' column cannot be converted to an integer.\n",
            "Value '123D' in 'block' column cannot be converted to an integer.\n",
            "Value '202C' in 'block' column cannot be converted to an integer.\n",
            "Value '205B' in 'block' column cannot be converted to an integer.\n",
            "Value '894A' in 'block' column cannot be converted to an integer.\n",
            "Value '491A' in 'block' column cannot be converted to an integer.\n",
            "Value '493A' in 'block' column cannot be converted to an integer.\n",
            "Value '367A' in 'block' column cannot be converted to an integer.\n",
            "Value '492D' in 'block' column cannot be converted to an integer.\n",
            "Value '495F' in 'block' column cannot be converted to an integer.\n",
            "Value '894B' in 'block' column cannot be converted to an integer.\n",
            "Value '220A' in 'block' column cannot be converted to an integer.\n",
            "Value '42A' in 'block' column cannot be converted to an integer.\n",
            "Value '663B' in 'block' column cannot be converted to an integer.\n",
            "Value '661B' in 'block' column cannot be converted to an integer.\n",
            "Value '680A' in 'block' column cannot be converted to an integer.\n",
            "Value '174A' in 'block' column cannot be converted to an integer.\n",
            "Value '61A' in 'block' column cannot be converted to an integer.\n",
            "Value '410A' in 'block' column cannot be converted to an integer.\n",
            "Value '211D' in 'block' column cannot be converted to an integer.\n",
            "Value '210B' in 'block' column cannot be converted to an integer.\n",
            "Value '210A' in 'block' column cannot be converted to an integer.\n",
            "Value '266C' in 'block' column cannot be converted to an integer.\n",
            "Value '264C' in 'block' column cannot be converted to an integer.\n",
            "Value '121D' in 'block' column cannot be converted to an integer.\n",
            "Value '207C' in 'block' column cannot be converted to an integer.\n",
            "Value '122C' in 'block' column cannot be converted to an integer.\n",
            "Value '234A' in 'block' column cannot be converted to an integer.\n",
            "Value '495B' in 'block' column cannot be converted to an integer.\n",
            "Value '94B' in 'block' column cannot be converted to an integer.\n",
            "Value '118C' in 'block' column cannot be converted to an integer.\n",
            "Value '274B' in 'block' column cannot be converted to an integer.\n",
            "Value '165B' in 'block' column cannot be converted to an integer.\n",
            "Value '410C' in 'block' column cannot be converted to an integer.\n",
            "Value '192B' in 'block' column cannot be converted to an integer.\n",
            "Value '224C' in 'block' column cannot be converted to an integer.\n",
            "Value '305B' in 'block' column cannot be converted to an integer.\n",
            "Value '227D' in 'block' column cannot be converted to an integer.\n",
            "Value '226C' in 'block' column cannot be converted to an integer.\n",
            "Value '498H' in 'block' column cannot be converted to an integer.\n",
            "Value '491G' in 'block' column cannot be converted to an integer.\n",
            "Value '788E' in 'block' column cannot be converted to an integer.\n",
            "Value '289F' in 'block' column cannot be converted to an integer.\n",
            "Value '986B' in 'block' column cannot be converted to an integer.\n",
            "Value '601B' in 'block' column cannot be converted to an integer.\n",
            "Value '604C' in 'block' column cannot be converted to an integer.\n",
            "Value '614B' in 'block' column cannot be converted to an integer.\n",
            "Value '613D' in 'block' column cannot be converted to an integer.\n",
            "Value '110A' in 'block' column cannot be converted to an integer.\n",
            "Value '468C' in 'block' column cannot be converted to an integer.\n",
            "Value '443C' in 'block' column cannot be converted to an integer.\n",
            "Value '443B' in 'block' column cannot be converted to an integer.\n",
            "Value '158D' in 'block' column cannot be converted to an integer.\n",
            "Value '321A' in 'block' column cannot be converted to an integer.\n",
            "Value '210C' in 'block' column cannot be converted to an integer.\n",
            "Value '211A' in 'block' column cannot be converted to an integer.\n",
            "Value '224B' in 'block' column cannot be converted to an integer.\n",
            "Value '189B' in 'block' column cannot be converted to an integer.\n",
            "Value '857A' in 'block' column cannot be converted to an integer.\n",
            "Value '887A' in 'block' column cannot be converted to an integer.\n",
            "Value '230J' in 'block' column cannot be converted to an integer.\n",
            "Value '230H' in 'block' column cannot be converted to an integer.\n",
            "Value '80A' in 'block' column cannot be converted to an integer.\n",
            "Value '893A' in 'block' column cannot be converted to an integer.\n",
            "Value '127C' in 'block' column cannot be converted to an integer.\n",
            "Value '4A' in 'block' column cannot be converted to an integer.\n",
            "Value '663D' in 'block' column cannot be converted to an integer.\n",
            "Value '604A' in 'block' column cannot be converted to an integer.\n",
            "Value '612A' in 'block' column cannot be converted to an integer.\n",
            "Value '641B' in 'block' column cannot be converted to an integer.\n",
            "Value '405A' in 'block' column cannot be converted to an integer.\n",
            "Value '411A' in 'block' column cannot be converted to an integer.\n",
            "Value '411B' in 'block' column cannot be converted to an integer.\n",
            "Value '410B' in 'block' column cannot be converted to an integer.\n",
            "Value '264B' in 'block' column cannot be converted to an integer.\n",
            "Value '186A' in 'block' column cannot be converted to an integer.\n",
            "Value '192A' in 'block' column cannot be converted to an integer.\n",
            "Value '262C' in 'block' column cannot be converted to an integer.\n",
            "Value '168C' in 'block' column cannot be converted to an integer.\n",
            "Value '167C' in 'block' column cannot be converted to an integer.\n",
            "Value '493D' in 'block' column cannot be converted to an integer.\n",
            "Value '168D' in 'block' column cannot be converted to an integer.\n",
            "Value '285D' in 'block' column cannot be converted to an integer.\n",
            "Value '59B' in 'block' column cannot be converted to an integer.\n",
            "Value '612D' in 'block' column cannot be converted to an integer.\n",
            "Value '613C' in 'block' column cannot be converted to an integer.\n",
            "Value '615C' in 'block' column cannot be converted to an integer.\n",
            "Value '614A' in 'block' column cannot be converted to an integer.\n",
            "Value '340B' in 'block' column cannot be converted to an integer.\n",
            "Value '356C' in 'block' column cannot be converted to an integer.\n",
            "Value '501D' in 'block' column cannot be converted to an integer.\n",
            "Value '213B' in 'block' column cannot be converted to an integer.\n",
            "Value '212C' in 'block' column cannot be converted to an integer.\n",
            "Value '213A' in 'block' column cannot be converted to an integer.\n",
            "Value '445B' in 'block' column cannot be converted to an integer.\n",
            "Value '445A' in 'block' column cannot be converted to an integer.\n",
            "Value '317C' in 'block' column cannot be converted to an integer.\n",
            "Value '205C' in 'block' column cannot be converted to an integer.\n",
            "Value '189A' in 'block' column cannot be converted to an integer.\n",
            "Value '864A' in 'block' column cannot be converted to an integer.\n",
            "Value '496G' in 'block' column cannot be converted to an integer.\n",
            "Value '230C' in 'block' column cannot be converted to an integer.\n",
            "Value '786F' in 'block' column cannot be converted to an integer.\n",
            "Value '296D' in 'block' column cannot be converted to an integer.\n",
            "Value '978D' in 'block' column cannot be converted to an integer.\n",
            "Value '615B' in 'block' column cannot be converted to an integer.\n",
            "Value '613A' in 'block' column cannot be converted to an integer.\n",
            "Value '504C' in 'block' column cannot be converted to an integer.\n",
            "Value '353B' in 'block' column cannot be converted to an integer.\n",
            "Value '351C' in 'block' column cannot be converted to an integer.\n",
            "Value '211B' in 'block' column cannot be converted to an integer.\n",
            "Value '190A' in 'block' column cannot be converted to an integer.\n",
            "Value '227B' in 'block' column cannot be converted to an integer.\n",
            "Value '122B' in 'block' column cannot be converted to an integer.\n",
            "Value '84B' in 'block' column cannot be converted to an integer.\n",
            "Value '43A' in 'block' column cannot be converted to an integer.\n",
            "Value '612C' in 'block' column cannot be converted to an integer.\n",
            "Value '211C' in 'block' column cannot be converted to an integer.\n",
            "Value '212B' in 'block' column cannot be converted to an integer.\n",
            "Value '212A' in 'block' column cannot be converted to an integer.\n",
            "Value '309D' in 'block' column cannot be converted to an integer.\n",
            "Value '886A' in 'block' column cannot be converted to an integer.\n",
            "Value '491H' in 'block' column cannot be converted to an integer.\n",
            "Value '493B' in 'block' column cannot be converted to an integer.\n",
            "Value '497A' in 'block' column cannot be converted to an integer.\n",
            "Value '63B' in 'block' column cannot be converted to an integer.\n",
            "Value '517D' in 'block' column cannot be converted to an integer.\n",
            "Value '615A' in 'block' column cannot be converted to an integer.\n",
            "Value '612B' in 'block' column cannot be converted to an integer.\n",
            "Value '105A' in 'block' column cannot be converted to an integer.\n",
            "Value '311A' in 'block' column cannot be converted to an integer.\n",
            "Value '324B' in 'block' column cannot be converted to an integer.\n",
            "Value '81A' in 'block' column cannot be converted to an integer.\n",
            "Value '226E' in 'block' column cannot be converted to an integer.\n",
            "Value '981B' in 'block' column cannot be converted to an integer.\n",
            "Value '648D' in 'block' column cannot be converted to an integer.\n",
            "Value '320D' in 'block' column cannot be converted to an integer.\n",
            "Value '860B' in 'block' column cannot be converted to an integer.\n",
            "Value '497J' in 'block' column cannot be converted to an integer.\n",
            "Value '893D' in 'block' column cannot be converted to an integer.\n",
            "Value '588D' in 'block' column cannot be converted to an integer.\n",
            "Value '267C' in 'block' column cannot be converted to an integer.\n",
            "Value '185A' in 'block' column cannot be converted to an integer.\n",
            "Value '498B' in 'block' column cannot be converted to an integer.\n",
            "Value '99C' in 'block' column cannot be converted to an integer.\n",
            "Value '270B' in 'block' column cannot be converted to an integer.\n",
            "Value '270C' in 'block' column cannot be converted to an integer.\n",
            "Value '490B' in 'block' column cannot be converted to an integer.\n",
            "Value '80C' in 'block' column cannot be converted to an integer.\n",
            "Value '476C' in 'block' column cannot be converted to an integer.\n",
            "Value '59A' in 'block' column cannot be converted to an integer.\n",
            "Value '617C' in 'block' column cannot be converted to an integer.\n",
            "Value '618B' in 'block' column cannot be converted to an integer.\n",
            "Value '435A' in 'block' column cannot be converted to an integer.\n",
            "Value '434A' in 'block' column cannot be converted to an integer.\n",
            "Value '223B' in 'block' column cannot be converted to an integer.\n",
            "Value '81B' in 'block' column cannot be converted to an integer.\n",
            "Value '48A' in 'block' column cannot be converted to an integer.\n",
            "Value '617B' in 'block' column cannot be converted to an integer.\n",
            "Value '446C' in 'block' column cannot be converted to an integer.\n",
            "Value '476B' in 'block' column cannot be converted to an integer.\n",
            "Value '617D' in 'block' column cannot be converted to an integer.\n",
            "Value '434B' in 'block' column cannot be converted to an integer.\n",
            "Value '435B' in 'block' column cannot be converted to an integer.\n",
            "Value '619C' in 'block' column cannot be converted to an integer.\n",
            "Value '619A' in 'block' column cannot be converted to an integer.\n",
            "Value '618C' in 'block' column cannot be converted to an integer.\n",
            "Value '447A' in 'block' column cannot be converted to an integer.\n",
            "Value '435C' in 'block' column cannot be converted to an integer.\n",
            "Value '258A' in 'block' column cannot be converted to an integer.\n",
            "Value '572B' in 'block' column cannot be converted to an integer.\n",
            "Value '12B' in 'block' column cannot be converted to an integer.\n",
            "Value '476A' in 'block' column cannot be converted to an integer.\n",
            "Value '476D' in 'block' column cannot be converted to an integer.\n",
            "Value '698A' in 'block' column cannot be converted to an integer.\n",
            "Value '618D' in 'block' column cannot be converted to an integer.\n",
            "Value '618A' in 'block' column cannot be converted to an integer.\n",
            "Value '619B' in 'block' column cannot be converted to an integer.\n",
            "Value '7A' in 'block' column cannot be converted to an integer.\n",
            "Value '497F' in 'block' column cannot be converted to an integer.\n",
            "Value '12A' in 'block' column cannot be converted to an integer.\n",
            "Value '12C' in 'block' column cannot be converted to an integer.\n",
            "Value '828A' in 'block' column cannot be converted to an integer.\n",
            "Value '666A' in 'block' column cannot be converted to an integer.\n",
            "Value '138B' in 'block' column cannot be converted to an integer.\n",
            "Value '80B' in 'block' column cannot be converted to an integer.\n",
            "Value '623C' in 'block' column cannot be converted to an integer.\n",
            "Value '623A' in 'block' column cannot be converted to an integer.\n",
            "Value '619D' in 'block' column cannot be converted to an integer.\n",
            "Value '624C' in 'block' column cannot be converted to an integer.\n",
            "Value '109D' in 'block' column cannot be converted to an integer.\n",
            "Value '446B' in 'block' column cannot be converted to an integer.\n",
            "Value '139A' in 'block' column cannot be converted to an integer.\n",
            "Value '138A' in 'block' column cannot be converted to an integer.\n",
            "Value '570C' in 'block' column cannot be converted to an integer.\n",
            "Value '633C' in 'block' column cannot be converted to an integer.\n",
            "Value '623B' in 'block' column cannot be converted to an integer.\n",
            "Value '447B' in 'block' column cannot be converted to an integer.\n",
            "Value '863A' in 'block' column cannot be converted to an integer.\n",
            "Value '496D' in 'block' column cannot be converted to an integer.\n",
            "Value '230F' in 'block' column cannot be converted to an integer.\n",
            "Value '138C' in 'block' column cannot be converted to an integer.\n",
            "Value '84A' in 'block' column cannot be converted to an integer.\n",
            "Value '139B' in 'block' column cannot be converted to an integer.\n",
            "Value '625A' in 'block' column cannot be converted to an integer.\n",
            "Value '169B' in 'block' column cannot be converted to an integer.\n",
            "Value '535A' in 'block' column cannot be converted to an integer.\n",
            "Value '570A' in 'block' column cannot be converted to an integer.\n",
            "Value '570B' in 'block' column cannot be converted to an integer.\n",
            "Value '633D' in 'block' column cannot be converted to an integer.\n",
            "Value '622A' in 'block' column cannot be converted to an integer.\n",
            "Value '617A' in 'block' column cannot be converted to an integer.\n",
            "Value '571A' in 'block' column cannot be converted to an integer.\n",
            "Value '288F' in 'block' column cannot be converted to an integer.\n",
            "Value '169C' in 'block' column cannot be converted to an integer.\n",
            "Value '203C' in 'block' column cannot be converted to an integer.\n",
            "Value '99A' in 'block' column cannot be converted to an integer.\n",
            "Value '571C' in 'block' column cannot be converted to an integer.\n",
            "Value '571B' in 'block' column cannot be converted to an integer.\n",
            "Value '181A' in 'block' column cannot be converted to an integer.\n",
            "Value '680B' in 'block' column cannot be converted to an integer.\n",
            "Value '622B' in 'block' column cannot be converted to an integer.\n",
            "Value '170C' in 'block' column cannot be converted to an integer.\n",
            "Value '208C' in 'block' column cannot be converted to an integer.\n",
            "Value '170B' in 'block' column cannot be converted to an integer.\n",
            "Value '169A' in 'block' column cannot be converted to an integer.\n",
            "Value '572A' in 'block' column cannot be converted to an integer.\n",
            "Value '180A' in 'block' column cannot be converted to an integer.\n",
            "Value '622C' in 'block' column cannot be converted to an integer.\n",
            "Value '499B' in 'block' column cannot be converted to an integer.\n",
            "Value '150A' in 'block' column cannot be converted to an integer.\n",
            "Value '180B' in 'block' column cannot be converted to an integer.\n",
            "Value '180C' in 'block' column cannot be converted to an integer.\n",
            "Value '170A' in 'block' column cannot be converted to an integer.\n",
            "Value '450B' in 'block' column cannot be converted to an integer.\n",
            "Value '178D' in 'block' column cannot be converted to an integer.\n",
            "Value '448A' in 'block' column cannot be converted to an integer.\n",
            "Value '430D' in 'block' column cannot be converted to an integer.\n",
            "Value '499A' in 'block' column cannot be converted to an integer.\n",
            "Value '887C' in 'block' column cannot be converted to an integer.\n",
            "Value '181B' in 'block' column cannot be converted to an integer.\n",
            "Value '180D' in 'block' column cannot be converted to an integer.\n",
            "Value '430C' in 'block' column cannot be converted to an integer.\n",
            "Value '433B' in 'block' column cannot be converted to an integer.\n",
            "Value '432B' in 'block' column cannot be converted to an integer.\n",
            "Value '178A' in 'block' column cannot be converted to an integer.\n",
            "Value '886D' in 'block' column cannot be converted to an integer.\n",
            "Value '217A' in 'block' column cannot be converted to an integer.\n",
            "Value '448B' in 'block' column cannot be converted to an integer.\n",
            "Value '887B' in 'block' column cannot be converted to an integer.\n",
            "Value '886C' in 'block' column cannot be converted to an integer.\n",
            "Value '9B' in 'block' column cannot be converted to an integer.\n",
            "Value '430A' in 'block' column cannot be converted to an integer.\n",
            "Value '430B' in 'block' column cannot be converted to an integer.\n",
            "Value '886B' in 'block' column cannot be converted to an integer.\n",
            "Value '9A' in 'block' column cannot be converted to an integer.\n",
            "Value '213C' in 'block' column cannot be converted to an integer.\n",
            "Value '178B' in 'block' column cannot be converted to an integer.\n",
            "Value '433A' in 'block' column cannot be converted to an integer.\n",
            "Value '432A' in 'block' column cannot be converted to an integer.\n",
            "Value '10A' in 'block' column cannot be converted to an integer.\n",
            "Value '463B' in 'block' column cannot be converted to an integer.\n",
            "Value '178C' in 'block' column cannot be converted to an integer.\n",
            "Value '426A' in 'block' column cannot be converted to an integer.\n",
            "Value '347A' in 'block' column cannot be converted to an integer.\n",
            "Value '517A' in 'block' column cannot be converted to an integer.\n",
            "Value '463C' in 'block' column cannot be converted to an integer.\n",
            "Value '451A' in 'block' column cannot be converted to an integer.\n",
            "Value '348D' in 'block' column cannot be converted to an integer.\n",
            "Value '426C' in 'block' column cannot be converted to an integer.\n",
            "Value '336B' in 'block' column cannot be converted to an integer.\n",
            "Value '426D' in 'block' column cannot be converted to an integer.\n",
            "Value '336C' in 'block' column cannot be converted to an integer.\n",
            "Value '463A' in 'block' column cannot be converted to an integer.\n",
            "Value '426B' in 'block' column cannot be converted to an integer.\n",
            "Value '428B' in 'block' column cannot be converted to an integer.\n",
            "Value '452B' in 'block' column cannot be converted to an integer.\n",
            "Value '452A' in 'block' column cannot be converted to an integer.\n",
            "Value '782A' in 'block' column cannot be converted to an integer.\n",
            "Value '348A' in 'block' column cannot be converted to an integer.\n",
            "Value '347B' in 'block' column cannot be converted to an integer.\n",
            "Value '348C' in 'block' column cannot be converted to an integer.\n",
            "Value '590A' in 'block' column cannot be converted to an integer.\n",
            "Value '451B' in 'block' column cannot be converted to an integer.\n",
            "Value '326A' in 'block' column cannot be converted to an integer.\n",
            "Value '860A' in 'block' column cannot be converted to an integer.\n",
            "Value '780B' in 'block' column cannot be converted to an integer.\n",
            "Value '782D' in 'block' column cannot be converted to an integer.\n",
            "Value '782B' in 'block' column cannot be converted to an integer.\n",
            "Value '348B' in 'block' column cannot be converted to an integer.\n",
            "Value '546B' in 'block' column cannot be converted to an integer.\n",
            "Value '266D' in 'block' column cannot be converted to an integer.\n",
            "Value '591A' in 'block' column cannot be converted to an integer.\n",
            "Value '592B' in 'block' column cannot be converted to an integer.\n",
            "Value '593A' in 'block' column cannot be converted to an integer.\n",
            "Value '592C' in 'block' column cannot be converted to an integer.\n",
            "Value '780E' in 'block' column cannot be converted to an integer.\n",
            "Value '424D' in 'block' column cannot be converted to an integer.\n",
            "Value '335C' in 'block' column cannot be converted to an integer.\n",
            "Value '336A' in 'block' column cannot be converted to an integer.\n",
            "Value '546A' in 'block' column cannot be converted to an integer.\n",
            "Value '471A' in 'block' column cannot be converted to an integer.\n",
            "Value '197C' in 'block' column cannot be converted to an integer.\n",
            "Value '592A' in 'block' column cannot be converted to an integer.\n",
            "Value '590B' in 'block' column cannot be converted to an integer.\n",
            "Value '326B' in 'block' column cannot be converted to an integer.\n",
            "Value '327A' in 'block' column cannot be converted to an integer.\n",
            "Value '327C' in 'block' column cannot be converted to an integer.\n",
            "Value '282B' in 'block' column cannot be converted to an integer.\n",
            "Value '281B' in 'block' column cannot be converted to an integer.\n",
            "Value '282A' in 'block' column cannot be converted to an integer.\n",
            "Value '522A' in 'block' column cannot be converted to an integer.\n",
            "Value '522C' in 'block' column cannot be converted to an integer.\n",
            "Value '782C' in 'block' column cannot be converted to an integer.\n",
            "Value '780A' in 'block' column cannot be converted to an integer.\n",
            "Value '780C' in 'block' column cannot be converted to an integer.\n",
            "Value '780D' in 'block' column cannot be converted to an integer.\n",
            "Value '424A' in 'block' column cannot be converted to an integer.\n",
            "Value '333B' in 'block' column cannot be converted to an integer.\n",
            "Value '333A' in 'block' column cannot be converted to an integer.\n",
            "Value '334B' in 'block' column cannot be converted to an integer.\n",
            "Value '547D' in 'block' column cannot be converted to an integer.\n",
            "Value '547A' in 'block' column cannot be converted to an integer.\n",
            "Value '546C' in 'block' column cannot be converted to an integer.\n",
            "Value '470A' in 'block' column cannot be converted to an integer.\n",
            "Value '470C' in 'block' column cannot be converted to an integer.\n",
            "Value '471B' in 'block' column cannot be converted to an integer.\n",
            "Value '593B' in 'block' column cannot be converted to an integer.\n",
            "Value '590C' in 'block' column cannot be converted to an integer.\n",
            "Value '281A' in 'block' column cannot be converted to an integer.\n",
            "Value '332C' in 'block' column cannot be converted to an integer.\n",
            "Value '327B' in 'block' column cannot be converted to an integer.\n",
            "Value '332A' in 'block' column cannot be converted to an integer.\n",
            "Value '332B' in 'block' column cannot be converted to an integer.\n",
            "Value '333D' in 'block' column cannot be converted to an integer.\n",
            "Value '280A' in 'block' column cannot be converted to an integer.\n",
            "Value '869A' in 'block' column cannot be converted to an integer.\n",
            "Value '869B' in 'block' column cannot be converted to an integer.\n",
            "Value '780F' in 'block' column cannot be converted to an integer.\n",
            "Value '424C' in 'block' column cannot be converted to an integer.\n",
            "Value '428A' in 'block' column cannot be converted to an integer.\n",
            "Value '431C' in 'block' column cannot be converted to an integer.\n",
            "Value '431B' in 'block' column cannot be converted to an integer.\n",
            "Value '547B' in 'block' column cannot be converted to an integer.\n",
            "Value '470B' in 'block' column cannot be converted to an integer.\n",
            "Value '197D' in 'block' column cannot be converted to an integer.\n",
            "Value '312C' in 'block' column cannot be converted to an integer.\n",
            "Value '453B' in 'block' column cannot be converted to an integer.\n",
            "Value '334A' in 'block' column cannot be converted to an integer.\n",
            "Value '326C' in 'block' column cannot be converted to an integer.\n",
            "Value '333C' in 'block' column cannot be converted to an integer.\n",
            "Value '280B' in 'block' column cannot be converted to an integer.\n",
            "Value '282C' in 'block' column cannot be converted to an integer.\n",
            "Value '868A' in 'block' column cannot be converted to an integer.\n",
            "Value '522B' in 'block' column cannot be converted to an integer.\n",
            "Value '782E' in 'block' column cannot be converted to an integer.\n",
            "Value '424B' in 'block' column cannot be converted to an integer.\n",
            "Value '429B' in 'block' column cannot be converted to an integer.\n",
            "Value '431D' in 'block' column cannot be converted to an integer.\n",
            "Value '334C' in 'block' column cannot be converted to an integer.\n",
            "Value '432D' in 'block' column cannot be converted to an integer.\n",
            "Value '432C' in 'block' column cannot be converted to an integer.\n",
            "Value '527A' in 'block' column cannot be converted to an integer.\n",
            "Value '453A' in 'block' column cannot be converted to an integer.\n",
            "Value '331C' in 'block' column cannot be converted to an integer.\n",
            "Value '279C' in 'block' column cannot be converted to an integer.\n",
            "Value '326D' in 'block' column cannot be converted to an integer.\n",
            "Value '868C' in 'block' column cannot be converted to an integer.\n",
            "Value '523B' in 'block' column cannot be converted to an integer.\n",
            "Value '523C' in 'block' column cannot be converted to an integer.\n",
            "Value '856E' in 'block' column cannot be converted to an integer.\n",
            "Value '342B' in 'block' column cannot be converted to an integer.\n",
            "Value '334D' in 'block' column cannot be converted to an integer.\n",
            "Value '526A' in 'block' column cannot be converted to an integer.\n",
            "Value '525C' in 'block' column cannot be converted to an integer.\n",
            "Value '524A' in 'block' column cannot be converted to an integer.\n",
            "Value '453D' in 'block' column cannot be converted to an integer.\n",
            "Value '279A' in 'block' column cannot be converted to an integer.\n",
            "Value '440A' in 'block' column cannot be converted to an integer.\n",
            "Value '329A' in 'block' column cannot be converted to an integer.\n",
            "Value '453C' in 'block' column cannot be converted to an integer.\n",
            "Value '279B' in 'block' column cannot be converted to an integer.\n",
            "Value '519C' in 'block' column cannot be converted to an integer.\n",
            "Value '431A' in 'block' column cannot be converted to an integer.\n",
            "Value '547C' in 'block' column cannot be converted to an integer.\n",
            "Value '527B' in 'block' column cannot be converted to an integer.\n",
            "Value '440C' in 'block' column cannot be converted to an integer.\n",
            "Value '329B' in 'block' column cannot be converted to an integer.\n",
            "Value '440B' in 'block' column cannot be converted to an integer.\n",
            "Value '331B' in 'block' column cannot be converted to an integer.\n",
            "Value '524B' in 'block' column cannot be converted to an integer.\n",
            "Value '520A' in 'block' column cannot be converted to an integer.\n",
            "Value '519B' in 'block' column cannot be converted to an integer.\n",
            "Value '523A' in 'block' column cannot be converted to an integer.\n",
            "Value '519D' in 'block' column cannot be converted to an integer.\n",
            "Value '342C' in 'block' column cannot be converted to an integer.\n",
            "Value '550B' in 'block' column cannot be converted to an integer.\n",
            "Value '528B' in 'block' column cannot be converted to an integer.\n",
            "Value '525A' in 'block' column cannot be converted to an integer.\n",
            "Value '526D' in 'block' column cannot be converted to an integer.\n",
            "Value '526B' in 'block' column cannot be converted to an integer.\n",
            "Value '520C' in 'block' column cannot be converted to an integer.\n",
            "Value '523D' in 'block' column cannot be converted to an integer.\n",
            "Value '640A' in 'block' column cannot be converted to an integer.\n",
            "Value '548B' in 'block' column cannot be converted to an integer.\n",
            "Value '549B' in 'block' column cannot be converted to an integer.\n",
            "Value '634A' in 'block' column cannot be converted to an integer.\n",
            "Value '549A' in 'block' column cannot be converted to an integer.\n",
            "Value '528A' in 'block' column cannot be converted to an integer.\n",
            "Value '525B' in 'block' column cannot be converted to an integer.\n",
            "Value '526C' in 'block' column cannot be converted to an integer.\n",
            "Value '330B' in 'block' column cannot be converted to an integer.\n",
            "Value '331A' in 'block' column cannot be converted to an integer.\n",
            "Value '336D' in 'block' column cannot be converted to an integer.\n",
            "Value '890C' in 'block' column cannot be converted to an integer.\n",
            "Value '890A' in 'block' column cannot be converted to an integer.\n",
            "Value '519A' in 'block' column cannot be converted to an integer.\n",
            "Value '429A' in 'block' column cannot be converted to an integer.\n",
            "Value '505C' in 'block' column cannot be converted to an integer.\n",
            "Value '747A' in 'block' column cannot be converted to an integer.\n",
            "Value '748A' in 'block' column cannot be converted to an integer.\n",
            "Value '748C' in 'block' column cannot be converted to an integer.\n",
            "Value '747B' in 'block' column cannot be converted to an integer.\n",
            "Value '550A' in 'block' column cannot be converted to an integer.\n",
            "Value '475C' in 'block' column cannot be converted to an integer.\n",
            "Value '475B' in 'block' column cannot be converted to an integer.\n",
            "Value '138D' in 'block' column cannot be converted to an integer.\n",
            "Value '527C' in 'block' column cannot be converted to an integer.\n",
            "Value '528C' in 'block' column cannot be converted to an integer.\n",
            "Value '672D' in 'block' column cannot be converted to an integer.\n",
            "Value '330A' in 'block' column cannot be converted to an integer.\n",
            "Value '890B' in 'block' column cannot be converted to an integer.\n",
            "Value '342A' in 'block' column cannot be converted to an integer.\n",
            "Value '505B' in 'block' column cannot be converted to an integer.\n",
            "Value '505D' in 'block' column cannot be converted to an integer.\n",
            "Value '634B' in 'block' column cannot be converted to an integer.\n",
            "Value '477A' in 'block' column cannot be converted to an integer.\n",
            "Value '475D' in 'block' column cannot be converted to an integer.\n",
            "Value '524C' in 'block' column cannot be converted to an integer.\n",
            "Value '416B' in 'block' column cannot be converted to an integer.\n",
            "Value '414A' in 'block' column cannot be converted to an integer.\n",
            "Value '494E' in 'block' column cannot be converted to an integer.\n",
            "Value '863B' in 'block' column cannot be converted to an integer.\n",
            "Value '505A' in 'block' column cannot be converted to an integer.\n",
            "Value '748B' in 'block' column cannot be converted to an integer.\n",
            "Value '747C' in 'block' column cannot be converted to an integer.\n",
            "Value '475A' in 'block' column cannot be converted to an integer.\n",
            "Value '477B' in 'block' column cannot be converted to an integer.\n",
            "Value '527D' in 'block' column cannot be converted to an integer.\n",
            "Value '672C' in 'block' column cannot be converted to an integer.\n",
            "Value '414B' in 'block' column cannot be converted to an integer.\n",
            "Value '416C' in 'block' column cannot be converted to an integer.\n",
            "Value '415B' in 'block' column cannot be converted to an integer.\n",
            "Value '548A' in 'block' column cannot be converted to an integer.\n",
            "Value '636C' in 'block' column cannot be converted to an integer.\n",
            "Value '477C' in 'block' column cannot be converted to an integer.\n",
            "Value '415A' in 'block' column cannot be converted to an integer.\n",
            "Value '416A' in 'block' column cannot be converted to an integer.\n",
            "Value '415C' in 'block' column cannot be converted to an integer.\n",
            "Value '472C' in 'block' column cannot be converted to an integer.\n",
            "Value '494D' in 'block' column cannot be converted to an integer.\n",
            "Value '807B' in 'block' column cannot be converted to an integer.\n",
            "Value '665C' in 'block' column cannot be converted to an integer.\n",
            "Value '489D' in 'block' column cannot be converted to an integer.\n",
            "Value '490D' in 'block' column cannot be converted to an integer.\n",
            "Value '471C' in 'block' column cannot be converted to an integer.\n",
            "Value '472A' in 'block' column cannot be converted to an integer.\n",
            "Value '807A' in 'block' column cannot be converted to an integer.\n",
            "Value '488C' in 'block' column cannot be converted to an integer.\n",
            "Value '469C' in 'block' column cannot be converted to an integer.\n",
            "Value '442D' in 'block' column cannot be converted to an integer.\n",
            "Value '490C' in 'block' column cannot be converted to an integer.\n",
            "Value '376A' in 'block' column cannot be converted to an integer.\n",
            "Value '376B' in 'block' column cannot be converted to an integer.\n",
            "Value '530C' in 'block' column cannot be converted to an integer.\n",
            "Value '670C' in 'block' column cannot be converted to an integer.\n",
            "Value '858B' in 'block' column cannot be converted to an integer.\n",
            "Value '807C' in 'block' column cannot be converted to an integer.\n",
            "Value '808A' in 'block' column cannot be converted to an integer.\n",
            "Value '443D' in 'block' column cannot be converted to an integer.\n",
            "Value '488D' in 'block' column cannot be converted to an integer.\n",
            "Value '17B' in 'block' column cannot be converted to an integer.\n",
            "Value '670B' in 'block' column cannot be converted to an integer.\n",
            "Value '472B' in 'block' column cannot be converted to an integer.\n",
            "Value '293D' in 'block' column cannot be converted to an integer.\n",
            "Value '871C' in 'block' column cannot be converted to an integer.\n",
            "Value '808C' in 'block' column cannot be converted to an integer.\n",
            "Value '96A' in 'block' column cannot be converted to an integer.\n",
            "Value '442B' in 'block' column cannot be converted to an integer.\n",
            "Value '442C' in 'block' column cannot be converted to an integer.\n",
            "Value '256C' in 'block' column cannot be converted to an integer.\n",
            "Value '256D' in 'block' column cannot be converted to an integer.\n",
            "Value '868B' in 'block' column cannot be converted to an integer.\n",
            "Value '376C' in 'block' column cannot be converted to an integer.\n",
            "Value '530B' in 'block' column cannot be converted to an integer.\n",
            "Value '530A' in 'block' column cannot be converted to an integer.\n",
            "Value '473A' in 'block' column cannot be converted to an integer.\n",
            "Value '294A' in 'block' column cannot be converted to an integer.\n",
            "Value '164A' in 'block' column cannot be converted to an integer.\n",
            "Value '808B' in 'block' column cannot be converted to an integer.\n",
            "Value '95C' in 'block' column cannot be converted to an integer.\n",
            "Value '815A' in 'block' column cannot be converted to an integer.\n",
            "Value '256B' in 'block' column cannot be converted to an integer.\n",
            "Value '256A' in 'block' column cannot be converted to an integer.\n",
            "Value '164B' in 'block' column cannot be converted to an integer.\n",
            "Value '293A' in 'block' column cannot be converted to an integer.\n",
            "Value '164C' in 'block' column cannot be converted to an integer.\n",
            "Value '870A' in 'block' column cannot be converted to an integer.\n",
            "Value '871B' in 'block' column cannot be converted to an integer.\n",
            "Value '809B' in 'block' column cannot be converted to an integer.\n",
            "Value '803A' in 'block' column cannot be converted to an integer.\n",
            "Value '805A' in 'block' column cannot be converted to an integer.\n",
            "Value '808D' in 'block' column cannot be converted to an integer.\n",
            "Value '809A' in 'block' column cannot be converted to an integer.\n",
            "Value '530D' in 'block' column cannot be converted to an integer.\n",
            "Value '676C' in 'block' column cannot be converted to an integer.\n",
            "Value '293C' in 'block' column cannot be converted to an integer.\n",
            "Value '216A' in 'block' column cannot be converted to an integer.\n",
            "Value '520B' in 'block' column cannot be converted to an integer.\n",
            "Value '889C' in 'block' column cannot be converted to an integer.\n",
            "Value '697A' in 'block' column cannot be converted to an integer.\n",
            "Value '676D' in 'block' column cannot be converted to an integer.\n",
            "Value '316D' in 'block' column cannot be converted to an integer.\n",
            "Value '163C' in 'block' column cannot be converted to an integer.\n",
            "Value '293B' in 'block' column cannot be converted to an integer.\n",
            "Value '215B' in 'block' column cannot be converted to an integer.\n",
            "Value '889B' in 'block' column cannot be converted to an integer.\n",
            "Value '96B' in 'block' column cannot be converted to an integer.\n",
            "Value '70A' in 'block' column cannot be converted to an integer.\n",
            "Value '803B' in 'block' column cannot be converted to an integer.\n",
            "Value '804A' in 'block' column cannot be converted to an integer.\n",
            "Value '815C' in 'block' column cannot be converted to an integer.\n",
            "Value '697B' in 'block' column cannot be converted to an integer.\n",
            "Value '677D' in 'block' column cannot be converted to an integer.\n",
            "Value '216B' in 'block' column cannot be converted to an integer.\n",
            "Value '889D' in 'block' column cannot be converted to an integer.\n",
            "Value '95B' in 'block' column cannot be converted to an integer.\n",
            "Value '70B' in 'block' column cannot be converted to an integer.\n",
            "Value '804B' in 'block' column cannot be converted to an integer.\n",
            "Value '815B' in 'block' column cannot be converted to an integer.\n",
            "Value '473B' in 'block' column cannot be converted to an integer.\n",
            "Value '8C' in 'block' column cannot be converted to an integer.\n",
            "Value '162C' in 'block' column cannot be converted to an integer.\n",
            "Value '95A' in 'block' column cannot be converted to an integer.\n",
            "Value '811A' in 'block' column cannot be converted to an integer.\n",
            "Value '803C' in 'block' column cannot be converted to an integer.\n",
            "Value '816A' in 'block' column cannot be converted to an integer.\n",
            "Value '805B' in 'block' column cannot be converted to an integer.\n",
            "Value '816B' in 'block' column cannot be converted to an integer.\n",
            "Value '473C' in 'block' column cannot be converted to an integer.\n",
            "Value '217C' in 'block' column cannot be converted to an integer.\n",
            "Value '217B' in 'block' column cannot be converted to an integer.\n",
            "Value '878B' in 'block' column cannot be converted to an integer.\n",
            "Value '717B' in 'block' column cannot be converted to an integer.\n",
            "Value '511A' in 'block' column cannot be converted to an integer.\n",
            "Value '70C' in 'block' column cannot be converted to an integer.\n",
            "Value '803D' in 'block' column cannot be converted to an integer.\n",
            "Value '810A' in 'block' column cannot be converted to an integer.\n",
            "Value '473D' in 'block' column cannot be converted to an integer.\n",
            "Value '217D' in 'block' column cannot be converted to an integer.\n",
            "Value '506C' in 'block' column cannot be converted to an integer.\n",
            "Value '511B' in 'block' column cannot be converted to an integer.\n",
            "Value '817A' in 'block' column cannot be converted to an integer.\n",
            "Value '805C' in 'block' column cannot be converted to an integer.\n",
            "Value '817B' in 'block' column cannot be converted to an integer.\n",
            "Value '278B' in 'block' column cannot be converted to an integer.\n",
            "Value '717A' in 'block' column cannot be converted to an integer.\n",
            "Value '194B' in 'block' column cannot be converted to an integer.\n",
            "Value '194A' in 'block' column cannot be converted to an integer.\n",
            "Value '810B' in 'block' column cannot be converted to an integer.\n",
            "Value '812C' in 'block' column cannot be converted to an integer.\n",
            "Value '805D' in 'block' column cannot be converted to an integer.\n",
            "Value '802A' in 'block' column cannot be converted to an integer.\n",
            "Value '801A' in 'block' column cannot be converted to an integer.\n",
            "Value '216C' in 'block' column cannot be converted to an integer.\n",
            "Value '278A' in 'block' column cannot be converted to an integer.\n",
            "Value '879B' in 'block' column cannot be converted to an integer.\n",
            "Value '878A' in 'block' column cannot be converted to an integer.\n",
            "Value '512A' in 'block' column cannot be converted to an integer.\n",
            "Value '801C' in 'block' column cannot be converted to an integer.\n",
            "Value '801B' in 'block' column cannot be converted to an integer.\n",
            "Value '818B' in 'block' column cannot be converted to an integer.\n",
            "Value '812B' in 'block' column cannot be converted to an integer.\n",
            "Value '932B' in 'block' column cannot be converted to an integer.\n",
            "Value '216D' in 'block' column cannot be converted to an integer.\n",
            "Value '511C' in 'block' column cannot be converted to an integer.\n",
            "Value '818A' in 'block' column cannot be converted to an integer.\n",
            "Value '812A' in 'block' column cannot be converted to an integer.\n",
            "Value '818C' in 'block' column cannot be converted to an integer.\n",
            "Value '811B' in 'block' column cannot be converted to an integer.\n",
            "Value '801D' in 'block' column cannot be converted to an integer.\n",
            "Value '817C' in 'block' column cannot be converted to an integer.\n",
            "Value '932A' in 'block' column cannot be converted to an integer.\n",
            "Value '364B' in 'block' column cannot be converted to an integer.\n",
            "Value '697C' in 'block' column cannot be converted to an integer.\n",
            "Value '879A' in 'block' column cannot be converted to an integer.\n",
            "Value '512B' in 'block' column cannot be converted to an integer.\n",
            "Value '802B' in 'block' column cannot be converted to an integer.\n",
            "Value '365A' in 'block' column cannot be converted to an integer.\n",
            "Value '364A' in 'block' column cannot be converted to an integer.\n",
            "Value '365B' in 'block' column cannot be converted to an integer.\n",
            "Value '113C' in 'block' column cannot be converted to an integer.\n",
            "Value '933A' in 'block' column cannot be converted to an integer.\n",
            "Value '113D' in 'block' column cannot be converted to an integer.\n",
            "Value '512C' in 'block' column cannot be converted to an integer.\n",
            "Value '802C' in 'block' column cannot be converted to an integer.\n",
            "Value '365C' in 'block' column cannot be converted to an integer.\n",
            "Value '113B' in 'block' column cannot be converted to an integer.\n",
            "Value '113A' in 'block' column cannot be converted to an integer.\n",
            "Value '278C' in 'block' column cannot be converted to an integer.\n",
            "Value '365D' in 'block' column cannot be converted to an integer.\n",
            "Value '218C' in 'block' column cannot be converted to an integer.\n",
            "Value '10C' in 'block' column cannot be converted to an integer.\n",
            "Value '509C' in 'block' column cannot be converted to an integer.\n",
            "Value '502B' in 'block' column cannot be converted to an integer.\n",
            "Value '455C' in 'block' column cannot be converted to an integer.\n",
            "Value '455A' in 'block' column cannot be converted to an integer.\n",
            "Value '455B' in 'block' column cannot be converted to an integer.\n",
            "Value '226F' in 'block' column cannot be converted to an integer.\n",
            "Value '449B' in 'block' column cannot be converted to an integer.\n",
            "Value '446A' in 'block' column cannot be converted to an integer.\n",
            "Value '448C' in 'block' column cannot be converted to an integer.\n",
            "Value '440D' in 'block' column cannot be converted to an integer.\n",
            "Value '292C' in 'block' column cannot be converted to an integer.\n",
            "Value '91A' in 'block' column cannot be converted to an integer.\n",
            "Value '93A' in 'block' column cannot be converted to an integer.\n",
            "Value '90B' in 'block' column cannot be converted to an integer.\n",
            "Value '218B' in 'block' column cannot be converted to an integer.\n",
            "Value '561A' in 'block' column cannot be converted to an integer.\n",
            "Value '218D' in 'block' column cannot be converted to an integer.\n",
            "Value '561B' in 'block' column cannot be converted to an integer.\n",
            "Value '560A' in 'block' column cannot be converted to an integer.\n",
            "Value '218A' in 'block' column cannot be converted to an integer.\n",
            "Value '222A' in 'block' column cannot be converted to an integer.\n",
            "Value '231B' in 'block' column cannot be converted to an integer.\n",
            "Value '231A' in 'block' column cannot be converted to an integer.\n",
            "Value '233B' in 'block' column cannot be converted to an integer.\n",
            "Value '234B' in 'block' column cannot be converted to an integer.\n",
            "Value '120D' in 'block' column cannot be converted to an integer.\n",
            "Value '130B' in 'block' column cannot be converted to an integer.\n",
            "Value '130A' in 'block' column cannot be converted to an integer.\n",
            "Value '129A' in 'block' column cannot be converted to an integer.\n",
            "Value '129C' in 'block' column cannot be converted to an integer.\n",
            "Value '104D' in 'block' column cannot be converted to an integer.\n",
            "Value '129B' in 'block' column cannot be converted to an integer.\n",
            "Value '108A' in 'block' column cannot be converted to an integer.\n",
            "Value '104C' in 'block' column cannot be converted to an integer.\n",
            "Value '115D' in 'block' column cannot be converted to an integer.\n",
            "Value '338C' in 'block' column cannot be converted to an integer.\n",
            "Value '418A' in 'block' column cannot be converted to an integer.\n",
            "Value '338D' in 'block' column cannot be converted to an integer.\n",
            "Value '418B' in 'block' column cannot be converted to an integer.\n",
            "Value '418C' in 'block' column cannot be converted to an integer.\n",
            "Value '417A' in 'block' column cannot be converted to an integer.\n",
            "Value '492G' in 'block' column cannot be converted to an integer.\n",
            "Value '131A' in 'block' column cannot be converted to an integer.\n",
            "Value '574B' in 'block' column cannot be converted to an integer.\n",
            "Value '785B' in 'block' column cannot be converted to an integer.\n",
            "Value '785C' in 'block' column cannot be converted to an integer.\n",
            "Value '784C' in 'block' column cannot be converted to an integer.\n",
            "Value '785D' in 'block' column cannot be converted to an integer.\n",
            "Value '784A' in 'block' column cannot be converted to an integer.\n",
            "Value '574A' in 'block' column cannot be converted to an integer.\n",
            "Value '573A' in 'block' column cannot be converted to an integer.\n",
            "Value '784B' in 'block' column cannot be converted to an integer.\n",
            "Value '693A' in 'block' column cannot be converted to an integer.\n",
            "Value '783A' in 'block' column cannot be converted to an integer.\n",
            "Value '573C' in 'block' column cannot be converted to an integer.\n",
            "Value '691D' in 'block' column cannot be converted to an integer.\n",
            "Value '573B' in 'block' column cannot be converted to an integer.\n",
            "Value '691C' in 'block' column cannot be converted to an integer.\n",
            "Value '783C' in 'block' column cannot be converted to an integer.\n",
            "Value '783D' in 'block' column cannot be converted to an integer.\n",
            "Value '783B' in 'block' column cannot be converted to an integer.\n",
            "Value '694A' in 'block' column cannot be converted to an integer.\n",
            "Value '693B' in 'block' column cannot be converted to an integer.\n",
            "Value '694D' in 'block' column cannot be converted to an integer.\n",
            "Value '694B' in 'block' column cannot be converted to an integer.\n",
            "Value '694C' in 'block' column cannot be converted to an integer.\n",
            "Value '693C' in 'block' column cannot be converted to an integer.\n",
            "Value '813A' in 'block' column cannot be converted to an integer.\n",
            "Value '502D' in 'block' column cannot be converted to an integer.\n",
            "Value '502C' in 'block' column cannot be converted to an integer.\n",
            "Value '813B' in 'block' column cannot be converted to an integer.\n",
            "Value '513A' in 'block' column cannot be converted to an integer.\n",
            "Value '513D' in 'block' column cannot be converted to an integer.\n",
            "Value '513B' in 'block' column cannot be converted to an integer.\n",
            "Value '513C' in 'block' column cannot be converted to an integer.\n",
            "Value '675D' in 'block' column cannot be converted to an integer.\n",
            "Value '675C' in 'block' column cannot be converted to an integer.\n",
            "Value '449A' in 'block' column cannot be converted to an integer.\n",
            "Value '442A' in 'block' column cannot be converted to an integer.\n",
            "Value '461A' in 'block' column cannot be converted to an integer.\n",
            "Value '461D' in 'block' column cannot be converted to an integer.\n",
            "Value '461C' in 'block' column cannot be converted to an integer.\n",
            "Value '461B' in 'block' column cannot be converted to an integer.\n",
            "Value '90A' in 'block' column cannot be converted to an integer.\n",
            "Value '93B' in 'block' column cannot be converted to an integer.\n",
            "Value '92B' in 'block' column cannot be converted to an integer.\n",
            "Value '997C' in 'block' column cannot be converted to an integer.\n",
            "Value '997A' in 'block' column cannot be converted to an integer.\n",
            "Value '997B' in 'block' column cannot be converted to an integer.\n",
            "Value '992B' in 'block' column cannot be converted to an integer.\n",
            "Value '998B' in 'block' column cannot be converted to an integer.\n",
            "Value '992A' in 'block' column cannot be converted to an integer.\n",
            "Value '991A' in 'block' column cannot be converted to an integer.\n",
            "Value '991B' in 'block' column cannot be converted to an integer.\n",
            "Value '996A' in 'block' column cannot be converted to an integer.\n",
            "Value '996B' in 'block' column cannot be converted to an integer.\n",
            "Value '998A' in 'block' column cannot be converted to an integer.\n",
            "Value '995A' in 'block' column cannot be converted to an integer.\n",
            "Value '996C' in 'block' column cannot be converted to an integer.\n",
            "Value '995C' in 'block' column cannot be converted to an integer.\n",
            "Value '995B' in 'block' column cannot be converted to an integer.\n",
            "Value '999B' in 'block' column cannot be converted to an integer.\n",
            "Value '140B' in 'block' column cannot be converted to an integer.\n",
            "Value '140A' in 'block' column cannot be converted to an integer.\n",
            "Value '140D' in 'block' column cannot be converted to an integer.\n",
            "Value '140C' in 'block' column cannot be converted to an integer.\n",
            "Value '232C' in 'block' column cannot be converted to an integer.\n",
            "Value '233A' in 'block' column cannot be converted to an integer.\n",
            "Value '233C' in 'block' column cannot be converted to an integer.\n",
            "Value '232B' in 'block' column cannot be converted to an integer.\n",
            "Value '322D' in 'block' column cannot be converted to an integer.\n",
            "Value '323D' in 'block' column cannot be converted to an integer.\n",
            "Value '363A' in 'block' column cannot be converted to an integer.\n",
            "Value '362C' in 'block' column cannot be converted to an integer.\n",
            "Value '363B' in 'block' column cannot be converted to an integer.\n",
            "Value '366A' in 'block' column cannot be converted to an integer.\n",
            "Value '362B' in 'block' column cannot be converted to an integer.\n",
            "Value '362A' in 'block' column cannot be converted to an integer.\n",
            "Value '366B' in 'block' column cannot be converted to an integer.\n",
            "Value '494G' in 'block' column cannot be converted to an integer.\n",
            "Value '494H' in 'block' column cannot be converted to an integer.\n",
            "Value '494J' in 'block' column cannot be converted to an integer.\n",
            "Value '606B' in 'block' column cannot be converted to an integer.\n",
            "Value '605B' in 'block' column cannot be converted to an integer.\n",
            "Value '605A' in 'block' column cannot be converted to an integer.\n",
            "Value '605C' in 'block' column cannot be converted to an integer.\n",
            "Value '182A' in 'block' column cannot be converted to an integer.\n",
            "Value '182B' in 'block' column cannot be converted to an integer.\n",
            "Value '462A' in 'block' column cannot be converted to an integer.\n",
            "Value '462C' in 'block' column cannot be converted to an integer.\n",
            "Value '462B' in 'block' column cannot be converted to an integer.\n",
            "Value '462D' in 'block' column cannot be converted to an integer.\n",
            "Value '438C' in 'block' column cannot be converted to an integer.\n",
            "Value '460A' in 'block' column cannot be converted to an integer.\n",
            "Value '460C' in 'block' column cannot be converted to an integer.\n",
            "Value '460B' in 'block' column cannot be converted to an integer.\n",
            "Value '460D' in 'block' column cannot be converted to an integer.\n",
            "Value '437A' in 'block' column cannot be converted to an integer.\n",
            "Value '83B' in 'block' column cannot be converted to an integer.\n",
            "Value '83A' in 'block' column cannot be converted to an integer.\n",
            "Value '240A' in 'block' column cannot be converted to an integer.\n",
            "Value '132A' in 'block' column cannot be converted to an integer.\n",
            "Value '132C' in 'block' column cannot be converted to an integer.\n",
            "Value '132B' in 'block' column cannot be converted to an integer.\n",
            "Value '457B' in 'block' column cannot be converted to an integer.\n",
            "Value '456A' in 'block' column cannot be converted to an integer.\n",
            "Value '458C' in 'block' column cannot be converted to an integer.\n",
            "Value '456B' in 'block' column cannot be converted to an integer.\n",
            "Value '458B' in 'block' column cannot be converted to an integer.\n",
            "Value '458A' in 'block' column cannot be converted to an integer.\n",
            "Value '609D' in 'block' column cannot be converted to an integer.\n",
            "Value '609C' in 'block' column cannot be converted to an integer.\n",
            "Value '608C' in 'block' column cannot be converted to an integer.\n",
            "Value '606A' in 'block' column cannot be converted to an integer.\n",
            "Value '606C' in 'block' column cannot be converted to an integer.\n",
            "Value '605D' in 'block' column cannot be converted to an integer.\n",
            "Value '610C' in 'block' column cannot be converted to an integer.\n",
            "Value '610A' in 'block' column cannot be converted to an integer.\n",
            "Value '610B' in 'block' column cannot be converted to an integer.\n",
            "Value '608A' in 'block' column cannot be converted to an integer.\n",
            "Value '609A' in 'block' column cannot be converted to an integer.\n",
            "Value '609B' in 'block' column cannot be converted to an integer.\n",
            "Value '608B' in 'block' column cannot be converted to an integer.\n",
            "Value '606D' in 'block' column cannot be converted to an integer.\n",
            "Value '464A' in 'block' column cannot be converted to an integer.\n",
            "Value '993A' in 'block' column cannot be converted to an integer.\n",
            "Value '993B' in 'block' column cannot be converted to an integer.\n",
            "Value '994A' in 'block' column cannot be converted to an integer.\n",
            "Value '994B' in 'block' column cannot be converted to an integer.\n",
            "Value '994C' in 'block' column cannot be converted to an integer.\n",
            "Value '457A' in 'block' column cannot be converted to an integer.\n",
            "Value '479A' in 'block' column cannot be converted to an integer.\n",
            "Value '478B' in 'block' column cannot be converted to an integer.\n",
            "Value '479B' in 'block' column cannot be converted to an integer.\n",
            "Value '479C' in 'block' column cannot be converted to an integer.\n",
            "Value '478A' in 'block' column cannot be converted to an integer.\n",
            "Value '645A' in 'block' column cannot be converted to an integer.\n"
          ]
        }
      ]
    },
    {
      "cell_type": "code",
      "source": [
        "# Feature Engineering - 2\n",
        "# Spliting 'block' column into 'Block_number' and 'Block_code'\n",
        "# into numeric and alphabetic using regex\n",
        "df[['block_number', 'block_code']] = df['block'].str.extract(r'(\\d+)([A-Za-z]*)')\n",
        "# Replace empty strings in 'letter' with 'OTHER'\n",
        "df['block_code'] = df['block_code'].replace('', 'OTHER')\n",
        "df = df.drop('block', axis = 1)\n",
        "df\n"
      ],
      "metadata": {
        "id": "KZ7EpNgN15Qb",
        "colab": {
          "base_uri": "https://localhost:8080/",
          "height": 617
        },
        "outputId": "384f1414-78af-4d02-80e7-d2210f047de2",
        "collapsed": true
      },
      "execution_count": null,
      "outputs": [
        {
          "output_type": "execute_result",
          "data": {
            "text/plain": [
              "       month        town  flat_type        street_name storey_range  \\\n",
              "0         01  ANG MO KIO     3 ROOM   ANG MO KIO AVE 4     07 TO 09   \n",
              "1         01  ANG MO KIO     3 ROOM  ANG MO KIO AVE 10     01 TO 03   \n",
              "2         01  ANG MO KIO     3 ROOM   ANG MO KIO AVE 4     01 TO 03   \n",
              "3         01  ANG MO KIO     3 ROOM  ANG MO KIO AVE 10     01 TO 03   \n",
              "4         01  ANG MO KIO     3 ROOM  ANG MO KIO AVE 10     07 TO 09   \n",
              "...      ...         ...        ...                ...          ...   \n",
              "952227    12      YISHUN  EXECUTIVE       YISHUN ST 61     10 TO 12   \n",
              "952228    12      YISHUN  EXECUTIVE        YISHUN CTRL     01 TO 03   \n",
              "952229    12      YISHUN  EXECUTIVE       YISHUN AVE 6     07 TO 09   \n",
              "952230    12      YISHUN  EXECUTIVE     YISHUN RING RD     04 TO 06   \n",
              "952231    12      YISHUN  EXECUTIVE     YISHUN RING RD     01 TO 03   \n",
              "\n",
              "        floor_area_sqm      flat_model  lease_commence_date remaining_lease  \\\n",
              "0                 60.0        Improved                 1986              70   \n",
              "1                 68.0  New Generation                 1981              65   \n",
              "2                 69.0  New Generation                 1980              64   \n",
              "3                 68.0  New Generation                 1979              63   \n",
              "4                 68.0  New Generation                 1980              64   \n",
              "...                ...             ...                  ...             ...   \n",
              "952227           142.0       APARTMENT                 1987              87   \n",
              "952228           142.0       APARTMENT                 1988              88   \n",
              "952229           146.0      MAISONETTE                 1988              88   \n",
              "952230           146.0      MAISONETTE                 1988              88   \n",
              "952231           145.0      MAISONETTE                 1988              88   \n",
              "\n",
              "        resale_price  year block_number block_code  \n",
              "0           255000.0  2015          174      OTHER  \n",
              "1           275000.0  2015          541      OTHER  \n",
              "2           285000.0  2015          163      OTHER  \n",
              "3           290000.0  2015          446      OTHER  \n",
              "4           290000.0  2015          557      OTHER  \n",
              "...              ...   ...          ...        ...  \n",
              "952227      456000.0  1999          611      OTHER  \n",
              "952228      408000.0  1999          324      OTHER  \n",
              "952229      469000.0  1999          392      OTHER  \n",
              "952230      440000.0  1999          356      OTHER  \n",
              "952231      484000.0  1999          358      OTHER  \n",
              "\n",
              "[950320 rows x 13 columns]"
            ],
            "text/html": [
              "\n",
              "  <div id=\"df-951ba036-11c4-4830-912a-101818cc9df2\" class=\"colab-df-container\">\n",
              "    <div>\n",
              "<style scoped>\n",
              "    .dataframe tbody tr th:only-of-type {\n",
              "        vertical-align: middle;\n",
              "    }\n",
              "\n",
              "    .dataframe tbody tr th {\n",
              "        vertical-align: top;\n",
              "    }\n",
              "\n",
              "    .dataframe thead th {\n",
              "        text-align: right;\n",
              "    }\n",
              "</style>\n",
              "<table border=\"1\" class=\"dataframe\">\n",
              "  <thead>\n",
              "    <tr style=\"text-align: right;\">\n",
              "      <th></th>\n",
              "      <th>month</th>\n",
              "      <th>town</th>\n",
              "      <th>flat_type</th>\n",
              "      <th>street_name</th>\n",
              "      <th>storey_range</th>\n",
              "      <th>floor_area_sqm</th>\n",
              "      <th>flat_model</th>\n",
              "      <th>lease_commence_date</th>\n",
              "      <th>remaining_lease</th>\n",
              "      <th>resale_price</th>\n",
              "      <th>year</th>\n",
              "      <th>block_number</th>\n",
              "      <th>block_code</th>\n",
              "    </tr>\n",
              "  </thead>\n",
              "  <tbody>\n",
              "    <tr>\n",
              "      <th>0</th>\n",
              "      <td>01</td>\n",
              "      <td>ANG MO KIO</td>\n",
              "      <td>3 ROOM</td>\n",
              "      <td>ANG MO KIO AVE 4</td>\n",
              "      <td>07 TO 09</td>\n",
              "      <td>60.0</td>\n",
              "      <td>Improved</td>\n",
              "      <td>1986</td>\n",
              "      <td>70</td>\n",
              "      <td>255000.0</td>\n",
              "      <td>2015</td>\n",
              "      <td>174</td>\n",
              "      <td>OTHER</td>\n",
              "    </tr>\n",
              "    <tr>\n",
              "      <th>1</th>\n",
              "      <td>01</td>\n",
              "      <td>ANG MO KIO</td>\n",
              "      <td>3 ROOM</td>\n",
              "      <td>ANG MO KIO AVE 10</td>\n",
              "      <td>01 TO 03</td>\n",
              "      <td>68.0</td>\n",
              "      <td>New Generation</td>\n",
              "      <td>1981</td>\n",
              "      <td>65</td>\n",
              "      <td>275000.0</td>\n",
              "      <td>2015</td>\n",
              "      <td>541</td>\n",
              "      <td>OTHER</td>\n",
              "    </tr>\n",
              "    <tr>\n",
              "      <th>2</th>\n",
              "      <td>01</td>\n",
              "      <td>ANG MO KIO</td>\n",
              "      <td>3 ROOM</td>\n",
              "      <td>ANG MO KIO AVE 4</td>\n",
              "      <td>01 TO 03</td>\n",
              "      <td>69.0</td>\n",
              "      <td>New Generation</td>\n",
              "      <td>1980</td>\n",
              "      <td>64</td>\n",
              "      <td>285000.0</td>\n",
              "      <td>2015</td>\n",
              "      <td>163</td>\n",
              "      <td>OTHER</td>\n",
              "    </tr>\n",
              "    <tr>\n",
              "      <th>3</th>\n",
              "      <td>01</td>\n",
              "      <td>ANG MO KIO</td>\n",
              "      <td>3 ROOM</td>\n",
              "      <td>ANG MO KIO AVE 10</td>\n",
              "      <td>01 TO 03</td>\n",
              "      <td>68.0</td>\n",
              "      <td>New Generation</td>\n",
              "      <td>1979</td>\n",
              "      <td>63</td>\n",
              "      <td>290000.0</td>\n",
              "      <td>2015</td>\n",
              "      <td>446</td>\n",
              "      <td>OTHER</td>\n",
              "    </tr>\n",
              "    <tr>\n",
              "      <th>4</th>\n",
              "      <td>01</td>\n",
              "      <td>ANG MO KIO</td>\n",
              "      <td>3 ROOM</td>\n",
              "      <td>ANG MO KIO AVE 10</td>\n",
              "      <td>07 TO 09</td>\n",
              "      <td>68.0</td>\n",
              "      <td>New Generation</td>\n",
              "      <td>1980</td>\n",
              "      <td>64</td>\n",
              "      <td>290000.0</td>\n",
              "      <td>2015</td>\n",
              "      <td>557</td>\n",
              "      <td>OTHER</td>\n",
              "    </tr>\n",
              "    <tr>\n",
              "      <th>...</th>\n",
              "      <td>...</td>\n",
              "      <td>...</td>\n",
              "      <td>...</td>\n",
              "      <td>...</td>\n",
              "      <td>...</td>\n",
              "      <td>...</td>\n",
              "      <td>...</td>\n",
              "      <td>...</td>\n",
              "      <td>...</td>\n",
              "      <td>...</td>\n",
              "      <td>...</td>\n",
              "      <td>...</td>\n",
              "      <td>...</td>\n",
              "    </tr>\n",
              "    <tr>\n",
              "      <th>952227</th>\n",
              "      <td>12</td>\n",
              "      <td>YISHUN</td>\n",
              "      <td>EXECUTIVE</td>\n",
              "      <td>YISHUN ST 61</td>\n",
              "      <td>10 TO 12</td>\n",
              "      <td>142.0</td>\n",
              "      <td>APARTMENT</td>\n",
              "      <td>1987</td>\n",
              "      <td>87</td>\n",
              "      <td>456000.0</td>\n",
              "      <td>1999</td>\n",
              "      <td>611</td>\n",
              "      <td>OTHER</td>\n",
              "    </tr>\n",
              "    <tr>\n",
              "      <th>952228</th>\n",
              "      <td>12</td>\n",
              "      <td>YISHUN</td>\n",
              "      <td>EXECUTIVE</td>\n",
              "      <td>YISHUN CTRL</td>\n",
              "      <td>01 TO 03</td>\n",
              "      <td>142.0</td>\n",
              "      <td>APARTMENT</td>\n",
              "      <td>1988</td>\n",
              "      <td>88</td>\n",
              "      <td>408000.0</td>\n",
              "      <td>1999</td>\n",
              "      <td>324</td>\n",
              "      <td>OTHER</td>\n",
              "    </tr>\n",
              "    <tr>\n",
              "      <th>952229</th>\n",
              "      <td>12</td>\n",
              "      <td>YISHUN</td>\n",
              "      <td>EXECUTIVE</td>\n",
              "      <td>YISHUN AVE 6</td>\n",
              "      <td>07 TO 09</td>\n",
              "      <td>146.0</td>\n",
              "      <td>MAISONETTE</td>\n",
              "      <td>1988</td>\n",
              "      <td>88</td>\n",
              "      <td>469000.0</td>\n",
              "      <td>1999</td>\n",
              "      <td>392</td>\n",
              "      <td>OTHER</td>\n",
              "    </tr>\n",
              "    <tr>\n",
              "      <th>952230</th>\n",
              "      <td>12</td>\n",
              "      <td>YISHUN</td>\n",
              "      <td>EXECUTIVE</td>\n",
              "      <td>YISHUN RING RD</td>\n",
              "      <td>04 TO 06</td>\n",
              "      <td>146.0</td>\n",
              "      <td>MAISONETTE</td>\n",
              "      <td>1988</td>\n",
              "      <td>88</td>\n",
              "      <td>440000.0</td>\n",
              "      <td>1999</td>\n",
              "      <td>356</td>\n",
              "      <td>OTHER</td>\n",
              "    </tr>\n",
              "    <tr>\n",
              "      <th>952231</th>\n",
              "      <td>12</td>\n",
              "      <td>YISHUN</td>\n",
              "      <td>EXECUTIVE</td>\n",
              "      <td>YISHUN RING RD</td>\n",
              "      <td>01 TO 03</td>\n",
              "      <td>145.0</td>\n",
              "      <td>MAISONETTE</td>\n",
              "      <td>1988</td>\n",
              "      <td>88</td>\n",
              "      <td>484000.0</td>\n",
              "      <td>1999</td>\n",
              "      <td>358</td>\n",
              "      <td>OTHER</td>\n",
              "    </tr>\n",
              "  </tbody>\n",
              "</table>\n",
              "<p>950320 rows × 13 columns</p>\n",
              "</div>\n",
              "    <div class=\"colab-df-buttons\">\n",
              "\n",
              "  <div class=\"colab-df-container\">\n",
              "    <button class=\"colab-df-convert\" onclick=\"convertToInteractive('df-951ba036-11c4-4830-912a-101818cc9df2')\"\n",
              "            title=\"Convert this dataframe to an interactive table.\"\n",
              "            style=\"display:none;\">\n",
              "\n",
              "  <svg xmlns=\"http://www.w3.org/2000/svg\" height=\"24px\" viewBox=\"0 -960 960 960\">\n",
              "    <path d=\"M120-120v-720h720v720H120Zm60-500h600v-160H180v160Zm220 220h160v-160H400v160Zm0 220h160v-160H400v160ZM180-400h160v-160H180v160Zm440 0h160v-160H620v160ZM180-180h160v-160H180v160Zm440 0h160v-160H620v160Z\"/>\n",
              "  </svg>\n",
              "    </button>\n",
              "\n",
              "  <style>\n",
              "    .colab-df-container {\n",
              "      display:flex;\n",
              "      gap: 12px;\n",
              "    }\n",
              "\n",
              "    .colab-df-convert {\n",
              "      background-color: #E8F0FE;\n",
              "      border: none;\n",
              "      border-radius: 50%;\n",
              "      cursor: pointer;\n",
              "      display: none;\n",
              "      fill: #1967D2;\n",
              "      height: 32px;\n",
              "      padding: 0 0 0 0;\n",
              "      width: 32px;\n",
              "    }\n",
              "\n",
              "    .colab-df-convert:hover {\n",
              "      background-color: #E2EBFA;\n",
              "      box-shadow: 0px 1px 2px rgba(60, 64, 67, 0.3), 0px 1px 3px 1px rgba(60, 64, 67, 0.15);\n",
              "      fill: #174EA6;\n",
              "    }\n",
              "\n",
              "    .colab-df-buttons div {\n",
              "      margin-bottom: 4px;\n",
              "    }\n",
              "\n",
              "    [theme=dark] .colab-df-convert {\n",
              "      background-color: #3B4455;\n",
              "      fill: #D2E3FC;\n",
              "    }\n",
              "\n",
              "    [theme=dark] .colab-df-convert:hover {\n",
              "      background-color: #434B5C;\n",
              "      box-shadow: 0px 1px 3px 1px rgba(0, 0, 0, 0.15);\n",
              "      filter: drop-shadow(0px 1px 2px rgba(0, 0, 0, 0.3));\n",
              "      fill: #FFFFFF;\n",
              "    }\n",
              "  </style>\n",
              "\n",
              "    <script>\n",
              "      const buttonEl =\n",
              "        document.querySelector('#df-951ba036-11c4-4830-912a-101818cc9df2 button.colab-df-convert');\n",
              "      buttonEl.style.display =\n",
              "        google.colab.kernel.accessAllowed ? 'block' : 'none';\n",
              "\n",
              "      async function convertToInteractive(key) {\n",
              "        const element = document.querySelector('#df-951ba036-11c4-4830-912a-101818cc9df2');\n",
              "        const dataTable =\n",
              "          await google.colab.kernel.invokeFunction('convertToInteractive',\n",
              "                                                    [key], {});\n",
              "        if (!dataTable) return;\n",
              "\n",
              "        const docLinkHtml = 'Like what you see? Visit the ' +\n",
              "          '<a target=\"_blank\" href=https://colab.research.google.com/notebooks/data_table.ipynb>data table notebook</a>'\n",
              "          + ' to learn more about interactive tables.';\n",
              "        element.innerHTML = '';\n",
              "        dataTable['output_type'] = 'display_data';\n",
              "        await google.colab.output.renderOutput(dataTable, element);\n",
              "        const docLink = document.createElement('div');\n",
              "        docLink.innerHTML = docLinkHtml;\n",
              "        element.appendChild(docLink);\n",
              "      }\n",
              "    </script>\n",
              "  </div>\n",
              "\n",
              "\n",
              "    <div id=\"df-c4c56d80-0a95-44e9-9287-8cb120f32b65\">\n",
              "      <button class=\"colab-df-quickchart\" onclick=\"quickchart('df-c4c56d80-0a95-44e9-9287-8cb120f32b65')\"\n",
              "                title=\"Suggest charts\"\n",
              "                style=\"display:none;\">\n",
              "\n",
              "<svg xmlns=\"http://www.w3.org/2000/svg\" height=\"24px\"viewBox=\"0 0 24 24\"\n",
              "     width=\"24px\">\n",
              "    <g>\n",
              "        <path d=\"M19 3H5c-1.1 0-2 .9-2 2v14c0 1.1.9 2 2 2h14c1.1 0 2-.9 2-2V5c0-1.1-.9-2-2-2zM9 17H7v-7h2v7zm4 0h-2V7h2v10zm4 0h-2v-4h2v4z\"/>\n",
              "    </g>\n",
              "</svg>\n",
              "      </button>\n",
              "\n",
              "<style>\n",
              "  .colab-df-quickchart {\n",
              "      --bg-color: #E8F0FE;\n",
              "      --fill-color: #1967D2;\n",
              "      --hover-bg-color: #E2EBFA;\n",
              "      --hover-fill-color: #174EA6;\n",
              "      --disabled-fill-color: #AAA;\n",
              "      --disabled-bg-color: #DDD;\n",
              "  }\n",
              "\n",
              "  [theme=dark] .colab-df-quickchart {\n",
              "      --bg-color: #3B4455;\n",
              "      --fill-color: #D2E3FC;\n",
              "      --hover-bg-color: #434B5C;\n",
              "      --hover-fill-color: #FFFFFF;\n",
              "      --disabled-bg-color: #3B4455;\n",
              "      --disabled-fill-color: #666;\n",
              "  }\n",
              "\n",
              "  .colab-df-quickchart {\n",
              "    background-color: var(--bg-color);\n",
              "    border: none;\n",
              "    border-radius: 50%;\n",
              "    cursor: pointer;\n",
              "    display: none;\n",
              "    fill: var(--fill-color);\n",
              "    height: 32px;\n",
              "    padding: 0;\n",
              "    width: 32px;\n",
              "  }\n",
              "\n",
              "  .colab-df-quickchart:hover {\n",
              "    background-color: var(--hover-bg-color);\n",
              "    box-shadow: 0 1px 2px rgba(60, 64, 67, 0.3), 0 1px 3px 1px rgba(60, 64, 67, 0.15);\n",
              "    fill: var(--button-hover-fill-color);\n",
              "  }\n",
              "\n",
              "  .colab-df-quickchart-complete:disabled,\n",
              "  .colab-df-quickchart-complete:disabled:hover {\n",
              "    background-color: var(--disabled-bg-color);\n",
              "    fill: var(--disabled-fill-color);\n",
              "    box-shadow: none;\n",
              "  }\n",
              "\n",
              "  .colab-df-spinner {\n",
              "    border: 2px solid var(--fill-color);\n",
              "    border-color: transparent;\n",
              "    border-bottom-color: var(--fill-color);\n",
              "    animation:\n",
              "      spin 1s steps(1) infinite;\n",
              "  }\n",
              "\n",
              "  @keyframes spin {\n",
              "    0% {\n",
              "      border-color: transparent;\n",
              "      border-bottom-color: var(--fill-color);\n",
              "      border-left-color: var(--fill-color);\n",
              "    }\n",
              "    20% {\n",
              "      border-color: transparent;\n",
              "      border-left-color: var(--fill-color);\n",
              "      border-top-color: var(--fill-color);\n",
              "    }\n",
              "    30% {\n",
              "      border-color: transparent;\n",
              "      border-left-color: var(--fill-color);\n",
              "      border-top-color: var(--fill-color);\n",
              "      border-right-color: var(--fill-color);\n",
              "    }\n",
              "    40% {\n",
              "      border-color: transparent;\n",
              "      border-right-color: var(--fill-color);\n",
              "      border-top-color: var(--fill-color);\n",
              "    }\n",
              "    60% {\n",
              "      border-color: transparent;\n",
              "      border-right-color: var(--fill-color);\n",
              "    }\n",
              "    80% {\n",
              "      border-color: transparent;\n",
              "      border-right-color: var(--fill-color);\n",
              "      border-bottom-color: var(--fill-color);\n",
              "    }\n",
              "    90% {\n",
              "      border-color: transparent;\n",
              "      border-bottom-color: var(--fill-color);\n",
              "    }\n",
              "  }\n",
              "</style>\n",
              "\n",
              "      <script>\n",
              "        async function quickchart(key) {\n",
              "          const quickchartButtonEl =\n",
              "            document.querySelector('#' + key + ' button');\n",
              "          quickchartButtonEl.disabled = true;  // To prevent multiple clicks.\n",
              "          quickchartButtonEl.classList.add('colab-df-spinner');\n",
              "          try {\n",
              "            const charts = await google.colab.kernel.invokeFunction(\n",
              "                'suggestCharts', [key], {});\n",
              "          } catch (error) {\n",
              "            console.error('Error during call to suggestCharts:', error);\n",
              "          }\n",
              "          quickchartButtonEl.classList.remove('colab-df-spinner');\n",
              "          quickchartButtonEl.classList.add('colab-df-quickchart-complete');\n",
              "        }\n",
              "        (() => {\n",
              "          let quickchartButtonEl =\n",
              "            document.querySelector('#df-c4c56d80-0a95-44e9-9287-8cb120f32b65 button');\n",
              "          quickchartButtonEl.style.display =\n",
              "            google.colab.kernel.accessAllowed ? 'block' : 'none';\n",
              "        })();\n",
              "      </script>\n",
              "    </div>\n",
              "\n",
              "  <div id=\"id_21c534d6-6d7a-4478-978b-deabbc0066ac\">\n",
              "    <style>\n",
              "      .colab-df-generate {\n",
              "        background-color: #E8F0FE;\n",
              "        border: none;\n",
              "        border-radius: 50%;\n",
              "        cursor: pointer;\n",
              "        display: none;\n",
              "        fill: #1967D2;\n",
              "        height: 32px;\n",
              "        padding: 0 0 0 0;\n",
              "        width: 32px;\n",
              "      }\n",
              "\n",
              "      .colab-df-generate:hover {\n",
              "        background-color: #E2EBFA;\n",
              "        box-shadow: 0px 1px 2px rgba(60, 64, 67, 0.3), 0px 1px 3px 1px rgba(60, 64, 67, 0.15);\n",
              "        fill: #174EA6;\n",
              "      }\n",
              "\n",
              "      [theme=dark] .colab-df-generate {\n",
              "        background-color: #3B4455;\n",
              "        fill: #D2E3FC;\n",
              "      }\n",
              "\n",
              "      [theme=dark] .colab-df-generate:hover {\n",
              "        background-color: #434B5C;\n",
              "        box-shadow: 0px 1px 3px 1px rgba(0, 0, 0, 0.15);\n",
              "        filter: drop-shadow(0px 1px 2px rgba(0, 0, 0, 0.3));\n",
              "        fill: #FFFFFF;\n",
              "      }\n",
              "    </style>\n",
              "    <button class=\"colab-df-generate\" onclick=\"generateWithVariable('df')\"\n",
              "            title=\"Generate code using this dataframe.\"\n",
              "            style=\"display:none;\">\n",
              "\n",
              "  <svg xmlns=\"http://www.w3.org/2000/svg\" height=\"24px\"viewBox=\"0 0 24 24\"\n",
              "       width=\"24px\">\n",
              "    <path d=\"M7,19H8.4L18.45,9,17,7.55,7,17.6ZM5,21V16.75L18.45,3.32a2,2,0,0,1,2.83,0l1.4,1.43a1.91,1.91,0,0,1,.58,1.4,1.91,1.91,0,0,1-.58,1.4L9.25,21ZM18.45,9,17,7.55Zm-12,3A5.31,5.31,0,0,0,4.9,8.1,5.31,5.31,0,0,0,1,6.5,5.31,5.31,0,0,0,4.9,4.9,5.31,5.31,0,0,0,6.5,1,5.31,5.31,0,0,0,8.1,4.9,5.31,5.31,0,0,0,12,6.5,5.46,5.46,0,0,0,6.5,12Z\"/>\n",
              "  </svg>\n",
              "    </button>\n",
              "    <script>\n",
              "      (() => {\n",
              "      const buttonEl =\n",
              "        document.querySelector('#id_21c534d6-6d7a-4478-978b-deabbc0066ac button.colab-df-generate');\n",
              "      buttonEl.style.display =\n",
              "        google.colab.kernel.accessAllowed ? 'block' : 'none';\n",
              "\n",
              "      buttonEl.onclick = () => {\n",
              "        google.colab.notebook.generateWithVariable('df');\n",
              "      }\n",
              "      })();\n",
              "    </script>\n",
              "  </div>\n",
              "\n",
              "    </div>\n",
              "  </div>\n"
            ],
            "application/vnd.google.colaboratory.intrinsic+json": {
              "type": "dataframe",
              "variable_name": "df"
            }
          },
          "metadata": {},
          "execution_count": 36
        }
      ]
    },
    {
      "cell_type": "code",
      "source": [
        "df['block_code'].unique()"
      ],
      "metadata": {
        "colab": {
          "base_uri": "https://localhost:8080/"
        },
        "id": "gEyCrqRW4F9-",
        "outputId": "f3501fee-1553-4c96-b2f1-e4b539218527",
        "collapsed": true
      },
      "execution_count": null,
      "outputs": [
        {
          "output_type": "execute_result",
          "data": {
            "text/plain": [
              "array(['OTHER', 'B', 'A', 'C', 'D', 'F', 'E', 'L', 'G', 'J', 'H', 'M'],\n",
              "      dtype=object)"
            ]
          },
          "metadata": {},
          "execution_count": 37
        }
      ]
    },
    {
      "cell_type": "code",
      "source": [
        "df.info()"
      ],
      "metadata": {
        "id": "oW6q1ec7Zlzo",
        "colab": {
          "base_uri": "https://localhost:8080/"
        },
        "outputId": "70f04680-e2ba-4d3d-c6b5-f1fdb9937333"
      },
      "execution_count": null,
      "outputs": [
        {
          "output_type": "stream",
          "name": "stdout",
          "text": [
            "<class 'pandas.core.frame.DataFrame'>\n",
            "Index: 950320 entries, 0 to 952231\n",
            "Data columns (total 13 columns):\n",
            " #   Column               Non-Null Count   Dtype  \n",
            "---  ------               --------------   -----  \n",
            " 0   month                950320 non-null  object \n",
            " 1   town                 950320 non-null  object \n",
            " 2   flat_type            950320 non-null  object \n",
            " 3   street_name          950320 non-null  object \n",
            " 4   storey_range         950320 non-null  object \n",
            " 5   floor_area_sqm       950320 non-null  float64\n",
            " 6   flat_model           950320 non-null  object \n",
            " 7   lease_commence_date  950320 non-null  int64  \n",
            " 8   remaining_lease      950320 non-null  object \n",
            " 9   resale_price         950320 non-null  float64\n",
            " 10  year                 950320 non-null  object \n",
            " 11  block_number         950320 non-null  object \n",
            " 12  block_code           950320 non-null  object \n",
            "dtypes: float64(2), int64(1), object(10)\n",
            "memory usage: 101.5+ MB\n"
          ]
        }
      ]
    },
    {
      "cell_type": "code",
      "source": [
        "df['remaining_lease'].unique()"
      ],
      "metadata": {
        "colab": {
          "base_uri": "https://localhost:8080/"
        },
        "collapsed": true,
        "id": "TUN8UUEzoHUX",
        "outputId": "3b44b777-1fd5-4b5a-80b8-a21d2ca1a6bd"
      },
      "execution_count": null,
      "outputs": [
        {
          "output_type": "execute_result",
          "data": {
            "text/plain": [
              "array(['70', '65', '64', '63', '62', '69', '60', '61', '86', '77', '80',\n",
              "       '90', '87', '66', '58', '94', '71', '68', '84', '73', '79', '76',\n",
              "       '72', '82', '74', '67', '88', '81', '89', '53', '54', '55', '57',\n",
              "       '93', '83', '85', '92', '91', '59', '95', '52', '51', '56', '75',\n",
              "       '96', '78', '50', '97', '49', '48', '61 years 04 months',\n",
              "       '60 years 07 months', '62 years 05 months', '62 years 01 month',\n",
              "       '63 years', '61 years 06 months', '58 years 04 months',\n",
              "       '59 years 08 months', '59 years 06 months', '60 years',\n",
              "       '62 years 08 months', '61 years', '60 years 10 months',\n",
              "       '59 years 03 months', '61 years 05 months', '60 years 04 months',\n",
              "       '62 years', '60 years 03 months', '63 years 09 months',\n",
              "       '61 years 01 month', '61 years 10 months', '58 years 06 months',\n",
              "       '59 years 04 months', '62 years 11 months', '60 years 08 months',\n",
              "       '93 years 08 months', '93 years 07 months', '60 years 01 month',\n",
              "       '94 years 08 months', '78 years 04 months', '60 years 06 months',\n",
              "       '62 years 06 months', '58 years', '70 years 08 months',\n",
              "       '63 years 04 months', '63 years 06 months', '67 years 07 months',\n",
              "       '61 years 07 months', '68 years 02 months', '68 years 03 months',\n",
              "       '56 years', '67 years 09 months', '67 years 05 months',\n",
              "       '63 years 07 months', '66 years 03 months', '65 years 04 months',\n",
              "       '69 years 05 months', '59 years 11 months', '60 years 05 months',\n",
              "       '69 years 02 months', '69 years 03 months', '68 years 10 months',\n",
              "       '62 years 10 months', '64 years 04 months', '66 years 01 month',\n",
              "       '83 years', '83 years 01 month', '87 years 11 months',\n",
              "       '71 years 02 months', '92 years 04 months', '54 years 06 months',\n",
              "       '78 years 06 months', '82 years 11 months', '75 years 04 months',\n",
              "       '66 years 07 months', '66 years 06 months', '75 years 11 months',\n",
              "       '68 years 04 months', '55 years 09 months', '68 years 07 months',\n",
              "       '67 years 11 months', '68 years', '69 years 01 month',\n",
              "       '69 years 11 months', '74 years 06 months', '74 years 04 months',\n",
              "       '69 years 06 months', '72 years 03 months', '67 years 02 months',\n",
              "       '66 years 05 months', '69 years 04 months', '66 years 11 months',\n",
              "       '66 years 10 months', '80 years', '69 years 08 months',\n",
              "       '66 years 09 months', '67 years 10 months', '80 years 01 month',\n",
              "       '67 years 06 months', '86 years 08 months', '71 years 06 months',\n",
              "       '71 years 03 months', '67 years 04 months', '86 years 11 months',\n",
              "       '86 years 10 months', '79 years 05 months', '65 years 10 months',\n",
              "       '67 years 03 months', '79 years 11 months', '53 years 06 months',\n",
              "       '57 years 02 months', '52 years 01 month', '58 years 03 months',\n",
              "       '51 years 06 months', '58 years 08 months', '56 years 02 months',\n",
              "       '53 years 08 months', '64 years 08 months', '55 years 06 months',\n",
              "       '95 years 07 months', '55 years 01 month', '55 years',\n",
              "       '95 years 04 months', '52 years 06 months', '57 years 04 months',\n",
              "       '57 years', '82 years 06 months', '67 years 08 months', '79 years',\n",
              "       '95 years 08 months', '90 years 11 months', '87 years 10 months',\n",
              "       '82 years 08 months', '68 years 06 months', '81 years 02 months',\n",
              "       '56 years 05 months', '65 years 05 months', '70 years 09 months',\n",
              "       '71 years 01 month', '94 years 10 months', '80 years 03 months',\n",
              "       '83 years 11 months', '70 years 10 months', '81 years 01 month',\n",
              "       '70 years 06 months', '85 years', '81 years 05 months',\n",
              "       '80 years 07 months', '80 years 10 months', '83 years 10 months',\n",
              "       '86 years 09 months', '79 years 09 months', '84 years 10 months',\n",
              "       '80 years 11 months', '70 years 11 months', '84 years 04 months',\n",
              "       '83 years 09 months', '81 years 04 months', '79 years 07 months',\n",
              "       '81 years 03 months', '70 years 01 month', '70 years 05 months',\n",
              "       '70 years 07 months', '56 years 03 months', '64 years',\n",
              "       '68 years 09 months', '65 years 03 months', '59 years 01 month',\n",
              "       '61 years 02 months', '62 years 04 months', '93 years',\n",
              "       '71 years 08 months', '82 years 03 months', '71 years 04 months',\n",
              "       '75 years 05 months', '85 years 01 month', '81 years 09 months',\n",
              "       '72 years 08 months', '75 years 06 months', '78 years 03 months',\n",
              "       '82 years 01 month', '84 years 03 months', '77 years 05 months',\n",
              "       '77 years 07 months', '85 years 04 months', '79 years 04 months',\n",
              "       '78 years 09 months', '81 years 06 months', '78 years',\n",
              "       '63 years 08 months', '62 years 07 months', '65 years 09 months',\n",
              "       '60 years 02 months', '88 years 10 months', '53 years', '49 years',\n",
              "       '51 years', '50 years 05 months', '54 years 11 months',\n",
              "       '59 years 05 months', '82 years 04 months', '65 years 07 months',\n",
              "       '89 years', '72 years 05 months', '78 years 05 months',\n",
              "       '58 years 07 months', '80 years 05 months', '94 years 04 months',\n",
              "       '69 years', '65 years', '65 years 02 months', '71 years 07 months',\n",
              "       '75 years 03 months', '65 years 01 month', '79 years 10 months',\n",
              "       '73 years 04 months', '72 years 04 months', '74 years 08 months',\n",
              "       '74 years 09 months', '80 years 02 months', '81 years 10 months',\n",
              "       '86 years 05 months', '85 years 06 months', '79 years 01 month',\n",
              "       '80 years 06 months', '74 years 11 months', '68 years 08 months',\n",
              "       '68 years 05 months', '48 years 09 months', '63 years 05 months',\n",
              "       '65 years 06 months', '66 years 04 months', '67 years 01 month',\n",
              "       '95 years 09 months', '80 years 09 months', '82 years 02 months',\n",
              "       '61 years 09 months', '90 years 07 months', '57 years 09 months',\n",
              "       '54 years', '53 years 05 months', '71 years', '58 years 10 months',\n",
              "       '92 years 03 months', '66 years 02 months', '64 years 03 months',\n",
              "       '72 years 02 months', '83 years 04 months', '78 years 07 months',\n",
              "       '84 years 01 month', '78 years 08 months', '72 years 10 months',\n",
              "       '71 years 11 months', '76 years', '78 years 02 months',\n",
              "       '71 years 05 months', '72 years 07 months', '83 years 03 months',\n",
              "       '67 years', '72 years 11 months', '90 years 08 months',\n",
              "       '84 years 11 months', '84 years 09 months', '82 years 07 months',\n",
              "       '66 years 08 months', '88 years 04 months', '85 years 10 months',\n",
              "       '90 years 05 months', '90 years 06 months', '83 years 05 months',\n",
              "       '84 years 02 months', '82 years 09 months', '82 years 05 months',\n",
              "       '73 years', '84 years 06 months', '83 years 07 months',\n",
              "       '52 years 05 months', '56 years 08 months', '56 years 06 months',\n",
              "       '68 years 01 month', '64 years 10 months', '57 years 01 month',\n",
              "       '86 years 06 months', '88 years 07 months', '93 years 11 months',\n",
              "       '58 years 02 months', '78 years 10 months', '77 years 08 months',\n",
              "       '75 years 07 months', '77 years 09 months', '75 years 08 months',\n",
              "       '77 years 04 months', '85 years 07 months', '95 years',\n",
              "       '89 years 07 months', '91 years 02 months', '94 years 11 months',\n",
              "       '85 years 11 months', '94 years 06 months', '94 years 07 months',\n",
              "       '95 years 01 month', '95 years 02 months', '95 years 06 months',\n",
              "       '93 years 02 months', '86 years 03 months', '87 years',\n",
              "       '86 years 04 months', '85 years 03 months', '86 years 02 months',\n",
              "       '85 years 09 months', '52 years', '49 years 01 month',\n",
              "       '57 years 06 months', '56 years 04 months', '95 years 03 months',\n",
              "       '88 years 11 months', '59 years', '85 years 08 months',\n",
              "       '92 years 07 months', '83 years 06 months', '83 years 02 months',\n",
              "       '81 years 11 months', '84 years', '94 years 02 months',\n",
              "       '94 years 01 month', '85 years 05 months', '85 years 02 months',\n",
              "       '83 years 08 months', '95 years 10 months', '93 years 10 months',\n",
              "       '81 years', '95 years 05 months', '88 years 01 month',\n",
              "       '94 years 09 months', '92 years 02 months', '90 years 04 months',\n",
              "       '91 years 11 months', '91 years 07 months', '84 years 08 months',\n",
              "       '84 years 05 months', '71 years 10 months', '74 years 10 months',\n",
              "       '69 years 09 months', '79 years 02 months', '64 years 09 months',\n",
              "       '79 years 03 months', '79 years 06 months', '79 years 08 months',\n",
              "       '90 years', '69 years 10 months', '77 years 10 months',\n",
              "       '49 years 05 months', '52 years 07 months', '54 years 07 months',\n",
              "       '88 years', '91 years 03 months', '59 years 10 months',\n",
              "       '62 years 09 months', '78 years 01 month', '71 years 09 months',\n",
              "       '81 years 08 months', '78 years 11 months', '74 years 05 months',\n",
              "       '66 years', '70 years', '70 years 02 months', '77 years 02 months',\n",
              "       '70 years 03 months', '69 years 07 months', '63 years 02 months',\n",
              "       '59 years 02 months', '61 years 11 months', '61 years 03 months',\n",
              "       '60 years 11 months', '75 years 02 months', '76 years 10 months',\n",
              "       '57 years 11 months', '54 years 05 months', '62 years 03 months',\n",
              "       '59 years 07 months', '62 years 02 months', '64 years 05 months',\n",
              "       '63 years 03 months', '82 years 10 months', '64 years 11 months',\n",
              "       '72 years', '74 years 03 months', '80 years 04 months',\n",
              "       '93 years 06 months', '68 years 11 months', '70 years 04 months',\n",
              "       '86 years 07 months', '57 years 03 months', '49 years 04 months',\n",
              "       '51 years 05 months', '52 years 11 months', '55 years 05 months',\n",
              "       '56 years 11 months', '87 years 08 months', '61 years 08 months',\n",
              "       '76 years 11 months', '77 years 06 months', '84 years 07 months',\n",
              "       '87 years 01 month', '59 years 09 months', '92 years 11 months',\n",
              "       '77 years', '76 years 09 months', '88 years 05 months',\n",
              "       '50 years 11 months', '48 years 11 months', '58 years 05 months',\n",
              "       '57 years 05 months', '94 years 03 months', '74 years 07 months',\n",
              "       '64 years 07 months', '64 years 01 month', '80 years 08 months',\n",
              "       '57 years 08 months', '58 years 09 months', '53 years 11 months',\n",
              "       '55 years 11 months', '56 years 01 month', '88 years 08 months',\n",
              "       '88 years 06 months', '92 years', '58 years 11 months',\n",
              "       '76 years 02 months', '76 years 08 months', '75 years 09 months',\n",
              "       '77 years 01 month', '89 years 10 months', '94 years 05 months',\n",
              "       '92 years 05 months', '86 years 01 month', '92 years 06 months',\n",
              "       '92 years 01 month', '94 years', '91 years 04 months',\n",
              "       '89 years 06 months', '90 years 03 months', '91 years 06 months',\n",
              "       '86 years', '90 years 10 months', '77 years 11 months',\n",
              "       '50 years 04 months', '51 years 11 months', '58 years 01 month',\n",
              "       '76 years 04 months', '82 years', '81 years 07 months',\n",
              "       '65 years 11 months', '63 years 01 month', '63 years 10 months',\n",
              "       '93 years 05 months', '93 years 04 months', '57 years 10 months',\n",
              "       '55 years 10 months', '64 years 06 months', '87 years 09 months',\n",
              "       '64 years 02 months', '55 years 07 months', '55 years 08 months',\n",
              "       '74 years 01 month', '65 years 08 months', '75 years',\n",
              "       '51 years 04 months', '54 years 10 months', '55 years 04 months',\n",
              "       '51 years 10 months', '92 years 10 months', '56 years 10 months',\n",
              "       '90 years 09 months', '87 years 07 months', '53 years 03 months',\n",
              "       '77 years 03 months', '50 years 10 months', '48 years 10 months',\n",
              "       '52 years 10 months', '93 years 09 months', '87 years 03 months',\n",
              "       '63 years 11 months', '75 years 01 month', '72 years 01 month',\n",
              "       '56 years 07 months', '57 years 07 months', '53 years 10 months',\n",
              "       '72 years 09 months', '75 years 10 months', '88 years 02 months',\n",
              "       '52 years 03 months', '54 years 04 months', '76 years 01 month',\n",
              "       '72 years 06 months', '89 years 05 months', '52 years 04 months',\n",
              "       '91 years 09 months', '90 years 02 months', '91 years 05 months',\n",
              "       '50 years 03 months', '51 years 03 months', '49 years 03 months',\n",
              "       '91 years 01 month', '76 years 03 months', '60 years 09 months',\n",
              "       '74 years', '54 years 03 months', '52 years 09 months',\n",
              "       '55 years 03 months', '54 years 09 months', '87 years 06 months',\n",
              "       '92 years 09 months', '76 years 07 months', '88 years 09 months',\n",
              "       '50 years 02 months', '53 years 09 months', '52 years 02 months',\n",
              "       '50 years 09 months', '56 years 09 months', '76 years 06 months',\n",
              "       '89 years 08 months', '51 years 09 months', '89 years 03 months',\n",
              "       '91 years 08 months', '89 years 04 months', '90 years 01 month',\n",
              "       '51 years 02 months', '49 years 02 months', '74 years 02 months',\n",
              "       '93 years 03 months', '54 years 02 months', '73 years 11 months',\n",
              "       '51 years 08 months', '54 years 08 months', '87 years 05 months',\n",
              "       '92 years 08 months', '52 years 08 months', '48 years 08 months',\n",
              "       '50 years 08 months', '50 years 01 month', '73 years 02 months',\n",
              "       '55 years 02 months', '88 years 03 months', '89 years 02 months',\n",
              "       '91 years 10 months', '53 years 02 months', '51 years 01 month',\n",
              "       '54 years 01 month', '73 years 10 months', '50 years 07 months',\n",
              "       '53 years 01 month', '87 years 04 months', '48 years 07 months',\n",
              "       '51 years 07 months', '96 years 08 months', '89 years 01 month',\n",
              "       '91 years', '76 years 05 months', '53 years 07 months', '50 years',\n",
              "       '93 years 01 month', '48 years 06 months', '50 years 06 months',\n",
              "       '73 years 01 month', '89 years 11 months', '96 years 07 months',\n",
              "       '73 years 09 months', '73 years 08 months', '87 years 02 months',\n",
              "       '49 years 10 months', '48 years 05 months', '96 years 06 months',\n",
              "       '89 years 09 months', '49 years 11 months', '73 years 07 months',\n",
              "       '48 years 04 months', '49 years 09 months', '53 years 04 months',\n",
              "       '96 years 05 months', '73 years 06 months', '48 years 03 months',\n",
              "       '49 years 08 months', '48 years', '96 years 04 months',\n",
              "       '49 years 07 months', '48 years 02 months', '96 years 03 months',\n",
              "       '73 years 05 months', '48 years 01 month', '49 years 06 months',\n",
              "       '96 years 02 months', '47 years 09 months', '96 years 01 month',\n",
              "       '47 years 11 months', '96 years', '95 years 11 months',\n",
              "       '47 years 10 months', '73 years 03 months', '47 years 08 months',\n",
              "       '47 years 04 months', '47 years 07 months', '47 years 06 months',\n",
              "       '47 years 05 months', '47 years 02 months', '47 years 03 months',\n",
              "       '47 years 01 month', '47 years', '46 years 11 months',\n",
              "       '46 years 10 months', '46 years 09 months', '46 years 08 months',\n",
              "       '66 years 0 months', '95 years 0 months', '46 years 07 months',\n",
              "       '46 years 06 months', '46 years 03 months', '93 years 0 months',\n",
              "       '46 years 05 months', '46 years 04 months', '46 years 01 month',\n",
              "       '46 years 02 months', '46 years', '45 years 09 months',\n",
              "       '45 years 11 months', '45 years 10 months', '45 years 07 months',\n",
              "       '45 years 08 months', '97 years 01 month', '45 years 06 months',\n",
              "       '97 years 09 months', '45 years 05 months', '45 years 04 months',\n",
              "       '97 years', '97 years 07 months', '45 years 03 months',\n",
              "       '45 years 02 months', '96 years 09 months', '45 years 01 month',\n",
              "       '44 years 10 months', '97 years 05 months', '97 years 04 months',\n",
              "       '45 years', '44 years 11 months', '97 years 03 months',\n",
              "       '97 years 02 months', '44 years 09 months', '44 years 08 months',\n",
              "       '96 years 11 months', '44 years 07 months', '44 years 06 months',\n",
              "       '96 years 10 months', '44 years 05 months', '44 years 04 months',\n",
              "       '44 years 03 months', '44 years 01 month', '44 years 02 months',\n",
              "       '44 years', '43 years 10 months', '43 years 09 months',\n",
              "       '43 years 08 months', '43 years 07 months', '43 years 11 months',\n",
              "       '43 years 06 months', '43 years 05 months', '43 years 04 months',\n",
              "       '43 years 03 months', '43 years 01 month', '43 years 02 months',\n",
              "       '42 years 11 months', '42 years 10 months', '42 years 08 months',\n",
              "       '42 years 07 months', '42 years 09 months', '42 years 06 months',\n",
              "       '42 years 05 months', '42 years 04 months', '42 years 03 months',\n",
              "       '42 years 01 month', '42 years 02 months', '43 years',\n",
              "       '41 years 08 months', '41 years 09 months', '41 years 11 months',\n",
              "       '41 years 04 months', '41 years 06 months', '41 years 02 months',\n",
              "       '41 years 10 months', '41 years 07 months', '41 years 05 months',\n",
              "       '41 years 03 months', '42 years', '40 years 11 months',\n",
              "       '41 years 01 month', '41 years', '40 years 10 months',\n",
              "       '40 years 01 month', '40 years 09 months', 85, 75, 76, 80, 78, 83,\n",
              "       79, 77, 84, 92, 81, 95, 93, 73, 82, 86, 88, 94, 72, 91, 89, 87, 68,\n",
              "       74, 66, 70, 69, 71, 67, 90, 96, 97, 65, 64, 98, 63, 62, 61, 101,\n",
              "       100, 99, 60, 59, 58, 57, 56, 55, 54, 53, 52], dtype=object)"
            ]
          },
          "metadata": {},
          "execution_count": 39
        }
      ]
    },
    {
      "cell_type": "code",
      "source": [
        "# Split, select first element, and convert to integers with error handling\n",
        "for index, value in df['remaining_lease'].items():\n",
        "    if isinstance(value, (int)):  # Skip if value is already numeric\n",
        "        continue\n",
        "    try:\n",
        "        df.loc[index, 'remaining_lease'] = int(value.split(' ')[0])  # Convert and update in place\n",
        "    except (ValueError, AttributeError) as e:  # Catch ValueError and AttributeError\n",
        "        print(f\"Error converting value at index {index}: {value}, Error: {e}\")"
      ],
      "metadata": {
        "collapsed": true,
        "id": "gwDzsgU7qRxk"
      },
      "execution_count": null,
      "outputs": []
    },
    {
      "cell_type": "code",
      "source": [
        "df['remaining_lease'].unique()"
      ],
      "metadata": {
        "colab": {
          "base_uri": "https://localhost:8080/"
        },
        "id": "jizIq4sLpSYz",
        "outputId": "2b3ba454-b038-4b25-a742-b09f31e79ea8"
      },
      "execution_count": null,
      "outputs": [
        {
          "output_type": "execute_result",
          "data": {
            "text/plain": [
              "array([70, 65, 64, 63, 62, 69, 60, 61, 86, 77, 80, 90, 87, 66, 58, 94, 71,\n",
              "       68, 84, 73, 79, 76, 72, 82, 74, 67, 88, 81, 89, 53, 54, 55, 57, 93,\n",
              "       83, 85, 92, 91, 59, 95, 52, 51, 56, 75, 96, 78, 50, 97, 49, 48, 47,\n",
              "       46, 45, 44, 43, 42, 41, 40, 98, 101, 100, 99], dtype=object)"
            ]
          },
          "metadata": {},
          "execution_count": 41
        }
      ]
    },
    {
      "cell_type": "code",
      "source": [
        "df.info()"
      ],
      "metadata": {
        "colab": {
          "base_uri": "https://localhost:8080/"
        },
        "id": "dKA-bJDynv80",
        "outputId": "f8a7b0c5-8e98-4caa-84c9-441df8214dd4"
      },
      "execution_count": null,
      "outputs": [
        {
          "output_type": "stream",
          "name": "stdout",
          "text": [
            "<class 'pandas.core.frame.DataFrame'>\n",
            "Index: 950320 entries, 0 to 952231\n",
            "Data columns (total 13 columns):\n",
            " #   Column               Non-Null Count   Dtype  \n",
            "---  ------               --------------   -----  \n",
            " 0   month                950320 non-null  object \n",
            " 1   town                 950320 non-null  object \n",
            " 2   flat_type            950320 non-null  object \n",
            " 3   street_name          950320 non-null  object \n",
            " 4   storey_range         950320 non-null  object \n",
            " 5   floor_area_sqm       950320 non-null  float64\n",
            " 6   flat_model           950320 non-null  object \n",
            " 7   lease_commence_date  950320 non-null  int64  \n",
            " 8   remaining_lease      950320 non-null  object \n",
            " 9   resale_price         950320 non-null  float64\n",
            " 10  year                 950320 non-null  object \n",
            " 11  block_number         950320 non-null  object \n",
            " 12  block_code           950320 non-null  object \n",
            "dtypes: float64(2), int64(1), object(10)\n",
            "memory usage: 133.8+ MB\n"
          ]
        }
      ]
    },
    {
      "cell_type": "code",
      "source": [
        "# changing columns to required data type\n",
        "df['month'] = df['month'].astype('int64')\n",
        "#df['lease_commence_date'] = df['lease_commence_date'].astype('int64')\n",
        "df['remaining_lease'] = df['remaining_lease'].astype('int64')\n",
        "df['block_number'] = df['block_number'].astype('int64')\n",
        "df.info()"
      ],
      "metadata": {
        "colab": {
          "base_uri": "https://localhost:8080/"
        },
        "id": "zNB97Ico0HsW",
        "outputId": "c3409690-3de1-4be8-e641-b9e067cbb5d4"
      },
      "execution_count": null,
      "outputs": [
        {
          "output_type": "stream",
          "name": "stdout",
          "text": [
            "<class 'pandas.core.frame.DataFrame'>\n",
            "Index: 950320 entries, 0 to 952231\n",
            "Data columns (total 13 columns):\n",
            " #   Column               Non-Null Count   Dtype  \n",
            "---  ------               --------------   -----  \n",
            " 0   month                950320 non-null  int64  \n",
            " 1   town                 950320 non-null  object \n",
            " 2   flat_type            950320 non-null  object \n",
            " 3   street_name          950320 non-null  object \n",
            " 4   storey_range         950320 non-null  object \n",
            " 5   floor_area_sqm       950320 non-null  float64\n",
            " 6   flat_model           950320 non-null  object \n",
            " 7   lease_commence_date  950320 non-null  int64  \n",
            " 8   remaining_lease      950320 non-null  int64  \n",
            " 9   resale_price         950320 non-null  float64\n",
            " 10  year                 950320 non-null  object \n",
            " 11  block_number         950320 non-null  int64  \n",
            " 12  block_code           950320 non-null  object \n",
            "dtypes: float64(2), int64(4), object(7)\n",
            "memory usage: 133.8+ MB\n"
          ]
        }
      ]
    },
    {
      "cell_type": "code",
      "source": [
        "df.nunique()"
      ],
      "metadata": {
        "colab": {
          "base_uri": "https://localhost:8080/",
          "height": 492
        },
        "id": "QzPkUbnNKr2V",
        "outputId": "74d8b5c4-5ffa-48da-d53f-a5f447ffc13f"
      },
      "execution_count": null,
      "outputs": [
        {
          "output_type": "execute_result",
          "data": {
            "text/plain": [
              "month                    12\n",
              "town                     27\n",
              "flat_type                 8\n",
              "street_name             592\n",
              "storey_range             25\n",
              "floor_area_sqm          220\n",
              "flat_model               34\n",
              "lease_commence_date      56\n",
              "remaining_lease          62\n",
              "resale_price           9909\n",
              "year                     36\n",
              "block_number            988\n",
              "block_code               12\n",
              "dtype: int64"
            ],
            "text/html": [
              "<div>\n",
              "<style scoped>\n",
              "    .dataframe tbody tr th:only-of-type {\n",
              "        vertical-align: middle;\n",
              "    }\n",
              "\n",
              "    .dataframe tbody tr th {\n",
              "        vertical-align: top;\n",
              "    }\n",
              "\n",
              "    .dataframe thead th {\n",
              "        text-align: right;\n",
              "    }\n",
              "</style>\n",
              "<table border=\"1\" class=\"dataframe\">\n",
              "  <thead>\n",
              "    <tr style=\"text-align: right;\">\n",
              "      <th></th>\n",
              "      <th>0</th>\n",
              "    </tr>\n",
              "  </thead>\n",
              "  <tbody>\n",
              "    <tr>\n",
              "      <th>month</th>\n",
              "      <td>12</td>\n",
              "    </tr>\n",
              "    <tr>\n",
              "      <th>town</th>\n",
              "      <td>27</td>\n",
              "    </tr>\n",
              "    <tr>\n",
              "      <th>flat_type</th>\n",
              "      <td>8</td>\n",
              "    </tr>\n",
              "    <tr>\n",
              "      <th>street_name</th>\n",
              "      <td>592</td>\n",
              "    </tr>\n",
              "    <tr>\n",
              "      <th>storey_range</th>\n",
              "      <td>25</td>\n",
              "    </tr>\n",
              "    <tr>\n",
              "      <th>floor_area_sqm</th>\n",
              "      <td>220</td>\n",
              "    </tr>\n",
              "    <tr>\n",
              "      <th>flat_model</th>\n",
              "      <td>34</td>\n",
              "    </tr>\n",
              "    <tr>\n",
              "      <th>lease_commence_date</th>\n",
              "      <td>56</td>\n",
              "    </tr>\n",
              "    <tr>\n",
              "      <th>remaining_lease</th>\n",
              "      <td>62</td>\n",
              "    </tr>\n",
              "    <tr>\n",
              "      <th>resale_price</th>\n",
              "      <td>9909</td>\n",
              "    </tr>\n",
              "    <tr>\n",
              "      <th>year</th>\n",
              "      <td>36</td>\n",
              "    </tr>\n",
              "    <tr>\n",
              "      <th>block_number</th>\n",
              "      <td>988</td>\n",
              "    </tr>\n",
              "    <tr>\n",
              "      <th>block_code</th>\n",
              "      <td>12</td>\n",
              "    </tr>\n",
              "  </tbody>\n",
              "</table>\n",
              "</div><br><label><b>dtype:</b> int64</label>"
            ]
          },
          "metadata": {},
          "execution_count": 44
        }
      ]
    },
    {
      "cell_type": "code",
      "source": [
        "df.to_csv('/content/drive/MyDrive/capstone/price_prediction/final_df.csv', index=False)\n"
      ],
      "metadata": {
        "id": "JfVu0DU2niws"
      },
      "execution_count": null,
      "outputs": []
    },
    {
      "cell_type": "code",
      "source": [
        "categorical_cols = ['town', 'flat_type', 'street_name', 'storey_range', 'flat_model', 'block_code']\n",
        "# Create dictionaries to store mappings for each column\n",
        "encoding_maps = {}\n",
        "\n",
        "# Loop through the specified categorical columns\n",
        "for col in categorical_cols:\n",
        "    # Get the unique values in the column\n",
        "    unique_values = df[col].unique()\n",
        "\n",
        "    # Create a mapping dictionary\n",
        "    encoding_map = {value: i for i, value in enumerate(unique_values)}\n",
        "    encoding_maps[col] = encoding_map\n",
        "    # Map the values in the column to their encoded values\n",
        "    df[col] = df[col].map(encoding_map)\n",
        "\n",
        "# Save the mapping dictionaries as pickle files\n",
        "for col, encoding_map in encoding_maps.items():\n",
        "    with open(f'/content/drive/MyDrive/capstone/price_prediction/label_encodings/encoding_map_{col}.pkl', 'wb') as file:\n",
        "        pickle.dump(encoding_map, file)\n"
      ],
      "metadata": {
        "id": "Aum0txjtlh-8"
      },
      "execution_count": null,
      "outputs": []
    },
    {
      "cell_type": "code",
      "source": [
        "import pickle\n",
        "# Load the encoding map for 'block_code'\n",
        "with open('/content/drive/MyDrive/capstone/price_prediction/label_encodings/encoding_map_block_code.pkl', 'rb') as file:\n",
        "    encoding_map_block_code = pickle.load(file)\n",
        "\n",
        "# Now you can use encoding_map_block_code\n",
        "encoding_map_block_code\n"
      ],
      "metadata": {
        "colab": {
          "base_uri": "https://localhost:8080/"
        },
        "id": "vM2hd4-inJlQ",
        "outputId": "e584a96f-3cf7-4f93-c22f-419b09f6950b"
      },
      "execution_count": null,
      "outputs": [
        {
          "output_type": "execute_result",
          "data": {
            "text/plain": [
              "{'OTHER': 0,\n",
              " 'B': 1,\n",
              " 'A': 2,\n",
              " 'C': 3,\n",
              " 'D': 4,\n",
              " 'F': 5,\n",
              " 'E': 6,\n",
              " 'L': 7,\n",
              " 'G': 8,\n",
              " 'J': 9,\n",
              " 'H': 10,\n",
              " 'M': 11}"
            ]
          },
          "metadata": {},
          "execution_count": 47
        }
      ]
    },
    {
      "cell_type": "code",
      "source": [
        "df.head()"
      ],
      "metadata": {
        "colab": {
          "base_uri": "https://localhost:8080/",
          "height": 226
        },
        "id": "weE7zmN_L2hE",
        "outputId": "d99cccdf-b9b3-4596-b073-b2796839b02d"
      },
      "execution_count": null,
      "outputs": [
        {
          "output_type": "execute_result",
          "data": {
            "text/plain": [
              "   month  town  flat_type  street_name  storey_range  floor_area_sqm  \\\n",
              "0      1     0          0            0             0            60.0   \n",
              "1      1     0          0            1             1            68.0   \n",
              "2      1     0          0            0             1            69.0   \n",
              "3      1     0          0            1             1            68.0   \n",
              "4      1     0          0            1             0            68.0   \n",
              "\n",
              "   flat_model  lease_commence_date  remaining_lease  resale_price  year  \\\n",
              "0           0                 1986               70      255000.0  2015   \n",
              "1           1                 1981               65      275000.0  2015   \n",
              "2           1                 1980               64      285000.0  2015   \n",
              "3           1                 1979               63      290000.0  2015   \n",
              "4           1                 1980               64      290000.0  2015   \n",
              "\n",
              "   block_number  block_code  \n",
              "0           174           0  \n",
              "1           541           0  \n",
              "2           163           0  \n",
              "3           446           0  \n",
              "4           557           0  "
            ],
            "text/html": [
              "\n",
              "  <div id=\"df-d76ac6b6-561a-493d-be3d-ca3ea295ab56\" class=\"colab-df-container\">\n",
              "    <div>\n",
              "<style scoped>\n",
              "    .dataframe tbody tr th:only-of-type {\n",
              "        vertical-align: middle;\n",
              "    }\n",
              "\n",
              "    .dataframe tbody tr th {\n",
              "        vertical-align: top;\n",
              "    }\n",
              "\n",
              "    .dataframe thead th {\n",
              "        text-align: right;\n",
              "    }\n",
              "</style>\n",
              "<table border=\"1\" class=\"dataframe\">\n",
              "  <thead>\n",
              "    <tr style=\"text-align: right;\">\n",
              "      <th></th>\n",
              "      <th>month</th>\n",
              "      <th>town</th>\n",
              "      <th>flat_type</th>\n",
              "      <th>street_name</th>\n",
              "      <th>storey_range</th>\n",
              "      <th>floor_area_sqm</th>\n",
              "      <th>flat_model</th>\n",
              "      <th>lease_commence_date</th>\n",
              "      <th>remaining_lease</th>\n",
              "      <th>resale_price</th>\n",
              "      <th>year</th>\n",
              "      <th>block_number</th>\n",
              "      <th>block_code</th>\n",
              "    </tr>\n",
              "  </thead>\n",
              "  <tbody>\n",
              "    <tr>\n",
              "      <th>0</th>\n",
              "      <td>1</td>\n",
              "      <td>0</td>\n",
              "      <td>0</td>\n",
              "      <td>0</td>\n",
              "      <td>0</td>\n",
              "      <td>60.0</td>\n",
              "      <td>0</td>\n",
              "      <td>1986</td>\n",
              "      <td>70</td>\n",
              "      <td>255000.0</td>\n",
              "      <td>2015</td>\n",
              "      <td>174</td>\n",
              "      <td>0</td>\n",
              "    </tr>\n",
              "    <tr>\n",
              "      <th>1</th>\n",
              "      <td>1</td>\n",
              "      <td>0</td>\n",
              "      <td>0</td>\n",
              "      <td>1</td>\n",
              "      <td>1</td>\n",
              "      <td>68.0</td>\n",
              "      <td>1</td>\n",
              "      <td>1981</td>\n",
              "      <td>65</td>\n",
              "      <td>275000.0</td>\n",
              "      <td>2015</td>\n",
              "      <td>541</td>\n",
              "      <td>0</td>\n",
              "    </tr>\n",
              "    <tr>\n",
              "      <th>2</th>\n",
              "      <td>1</td>\n",
              "      <td>0</td>\n",
              "      <td>0</td>\n",
              "      <td>0</td>\n",
              "      <td>1</td>\n",
              "      <td>69.0</td>\n",
              "      <td>1</td>\n",
              "      <td>1980</td>\n",
              "      <td>64</td>\n",
              "      <td>285000.0</td>\n",
              "      <td>2015</td>\n",
              "      <td>163</td>\n",
              "      <td>0</td>\n",
              "    </tr>\n",
              "    <tr>\n",
              "      <th>3</th>\n",
              "      <td>1</td>\n",
              "      <td>0</td>\n",
              "      <td>0</td>\n",
              "      <td>1</td>\n",
              "      <td>1</td>\n",
              "      <td>68.0</td>\n",
              "      <td>1</td>\n",
              "      <td>1979</td>\n",
              "      <td>63</td>\n",
              "      <td>290000.0</td>\n",
              "      <td>2015</td>\n",
              "      <td>446</td>\n",
              "      <td>0</td>\n",
              "    </tr>\n",
              "    <tr>\n",
              "      <th>4</th>\n",
              "      <td>1</td>\n",
              "      <td>0</td>\n",
              "      <td>0</td>\n",
              "      <td>1</td>\n",
              "      <td>0</td>\n",
              "      <td>68.0</td>\n",
              "      <td>1</td>\n",
              "      <td>1980</td>\n",
              "      <td>64</td>\n",
              "      <td>290000.0</td>\n",
              "      <td>2015</td>\n",
              "      <td>557</td>\n",
              "      <td>0</td>\n",
              "    </tr>\n",
              "  </tbody>\n",
              "</table>\n",
              "</div>\n",
              "    <div class=\"colab-df-buttons\">\n",
              "\n",
              "  <div class=\"colab-df-container\">\n",
              "    <button class=\"colab-df-convert\" onclick=\"convertToInteractive('df-d76ac6b6-561a-493d-be3d-ca3ea295ab56')\"\n",
              "            title=\"Convert this dataframe to an interactive table.\"\n",
              "            style=\"display:none;\">\n",
              "\n",
              "  <svg xmlns=\"http://www.w3.org/2000/svg\" height=\"24px\" viewBox=\"0 -960 960 960\">\n",
              "    <path d=\"M120-120v-720h720v720H120Zm60-500h600v-160H180v160Zm220 220h160v-160H400v160Zm0 220h160v-160H400v160ZM180-400h160v-160H180v160Zm440 0h160v-160H620v160ZM180-180h160v-160H180v160Zm440 0h160v-160H620v160Z\"/>\n",
              "  </svg>\n",
              "    </button>\n",
              "\n",
              "  <style>\n",
              "    .colab-df-container {\n",
              "      display:flex;\n",
              "      gap: 12px;\n",
              "    }\n",
              "\n",
              "    .colab-df-convert {\n",
              "      background-color: #E8F0FE;\n",
              "      border: none;\n",
              "      border-radius: 50%;\n",
              "      cursor: pointer;\n",
              "      display: none;\n",
              "      fill: #1967D2;\n",
              "      height: 32px;\n",
              "      padding: 0 0 0 0;\n",
              "      width: 32px;\n",
              "    }\n",
              "\n",
              "    .colab-df-convert:hover {\n",
              "      background-color: #E2EBFA;\n",
              "      box-shadow: 0px 1px 2px rgba(60, 64, 67, 0.3), 0px 1px 3px 1px rgba(60, 64, 67, 0.15);\n",
              "      fill: #174EA6;\n",
              "    }\n",
              "\n",
              "    .colab-df-buttons div {\n",
              "      margin-bottom: 4px;\n",
              "    }\n",
              "\n",
              "    [theme=dark] .colab-df-convert {\n",
              "      background-color: #3B4455;\n",
              "      fill: #D2E3FC;\n",
              "    }\n",
              "\n",
              "    [theme=dark] .colab-df-convert:hover {\n",
              "      background-color: #434B5C;\n",
              "      box-shadow: 0px 1px 3px 1px rgba(0, 0, 0, 0.15);\n",
              "      filter: drop-shadow(0px 1px 2px rgba(0, 0, 0, 0.3));\n",
              "      fill: #FFFFFF;\n",
              "    }\n",
              "  </style>\n",
              "\n",
              "    <script>\n",
              "      const buttonEl =\n",
              "        document.querySelector('#df-d76ac6b6-561a-493d-be3d-ca3ea295ab56 button.colab-df-convert');\n",
              "      buttonEl.style.display =\n",
              "        google.colab.kernel.accessAllowed ? 'block' : 'none';\n",
              "\n",
              "      async function convertToInteractive(key) {\n",
              "        const element = document.querySelector('#df-d76ac6b6-561a-493d-be3d-ca3ea295ab56');\n",
              "        const dataTable =\n",
              "          await google.colab.kernel.invokeFunction('convertToInteractive',\n",
              "                                                    [key], {});\n",
              "        if (!dataTable) return;\n",
              "\n",
              "        const docLinkHtml = 'Like what you see? Visit the ' +\n",
              "          '<a target=\"_blank\" href=https://colab.research.google.com/notebooks/data_table.ipynb>data table notebook</a>'\n",
              "          + ' to learn more about interactive tables.';\n",
              "        element.innerHTML = '';\n",
              "        dataTable['output_type'] = 'display_data';\n",
              "        await google.colab.output.renderOutput(dataTable, element);\n",
              "        const docLink = document.createElement('div');\n",
              "        docLink.innerHTML = docLinkHtml;\n",
              "        element.appendChild(docLink);\n",
              "      }\n",
              "    </script>\n",
              "  </div>\n",
              "\n",
              "\n",
              "    <div id=\"df-603bc684-ed9a-4e4c-b789-c74400351b00\">\n",
              "      <button class=\"colab-df-quickchart\" onclick=\"quickchart('df-603bc684-ed9a-4e4c-b789-c74400351b00')\"\n",
              "                title=\"Suggest charts\"\n",
              "                style=\"display:none;\">\n",
              "\n",
              "<svg xmlns=\"http://www.w3.org/2000/svg\" height=\"24px\"viewBox=\"0 0 24 24\"\n",
              "     width=\"24px\">\n",
              "    <g>\n",
              "        <path d=\"M19 3H5c-1.1 0-2 .9-2 2v14c0 1.1.9 2 2 2h14c1.1 0 2-.9 2-2V5c0-1.1-.9-2-2-2zM9 17H7v-7h2v7zm4 0h-2V7h2v10zm4 0h-2v-4h2v4z\"/>\n",
              "    </g>\n",
              "</svg>\n",
              "      </button>\n",
              "\n",
              "<style>\n",
              "  .colab-df-quickchart {\n",
              "      --bg-color: #E8F0FE;\n",
              "      --fill-color: #1967D2;\n",
              "      --hover-bg-color: #E2EBFA;\n",
              "      --hover-fill-color: #174EA6;\n",
              "      --disabled-fill-color: #AAA;\n",
              "      --disabled-bg-color: #DDD;\n",
              "  }\n",
              "\n",
              "  [theme=dark] .colab-df-quickchart {\n",
              "      --bg-color: #3B4455;\n",
              "      --fill-color: #D2E3FC;\n",
              "      --hover-bg-color: #434B5C;\n",
              "      --hover-fill-color: #FFFFFF;\n",
              "      --disabled-bg-color: #3B4455;\n",
              "      --disabled-fill-color: #666;\n",
              "  }\n",
              "\n",
              "  .colab-df-quickchart {\n",
              "    background-color: var(--bg-color);\n",
              "    border: none;\n",
              "    border-radius: 50%;\n",
              "    cursor: pointer;\n",
              "    display: none;\n",
              "    fill: var(--fill-color);\n",
              "    height: 32px;\n",
              "    padding: 0;\n",
              "    width: 32px;\n",
              "  }\n",
              "\n",
              "  .colab-df-quickchart:hover {\n",
              "    background-color: var(--hover-bg-color);\n",
              "    box-shadow: 0 1px 2px rgba(60, 64, 67, 0.3), 0 1px 3px 1px rgba(60, 64, 67, 0.15);\n",
              "    fill: var(--button-hover-fill-color);\n",
              "  }\n",
              "\n",
              "  .colab-df-quickchart-complete:disabled,\n",
              "  .colab-df-quickchart-complete:disabled:hover {\n",
              "    background-color: var(--disabled-bg-color);\n",
              "    fill: var(--disabled-fill-color);\n",
              "    box-shadow: none;\n",
              "  }\n",
              "\n",
              "  .colab-df-spinner {\n",
              "    border: 2px solid var(--fill-color);\n",
              "    border-color: transparent;\n",
              "    border-bottom-color: var(--fill-color);\n",
              "    animation:\n",
              "      spin 1s steps(1) infinite;\n",
              "  }\n",
              "\n",
              "  @keyframes spin {\n",
              "    0% {\n",
              "      border-color: transparent;\n",
              "      border-bottom-color: var(--fill-color);\n",
              "      border-left-color: var(--fill-color);\n",
              "    }\n",
              "    20% {\n",
              "      border-color: transparent;\n",
              "      border-left-color: var(--fill-color);\n",
              "      border-top-color: var(--fill-color);\n",
              "    }\n",
              "    30% {\n",
              "      border-color: transparent;\n",
              "      border-left-color: var(--fill-color);\n",
              "      border-top-color: var(--fill-color);\n",
              "      border-right-color: var(--fill-color);\n",
              "    }\n",
              "    40% {\n",
              "      border-color: transparent;\n",
              "      border-right-color: var(--fill-color);\n",
              "      border-top-color: var(--fill-color);\n",
              "    }\n",
              "    60% {\n",
              "      border-color: transparent;\n",
              "      border-right-color: var(--fill-color);\n",
              "    }\n",
              "    80% {\n",
              "      border-color: transparent;\n",
              "      border-right-color: var(--fill-color);\n",
              "      border-bottom-color: var(--fill-color);\n",
              "    }\n",
              "    90% {\n",
              "      border-color: transparent;\n",
              "      border-bottom-color: var(--fill-color);\n",
              "    }\n",
              "  }\n",
              "</style>\n",
              "\n",
              "      <script>\n",
              "        async function quickchart(key) {\n",
              "          const quickchartButtonEl =\n",
              "            document.querySelector('#' + key + ' button');\n",
              "          quickchartButtonEl.disabled = true;  // To prevent multiple clicks.\n",
              "          quickchartButtonEl.classList.add('colab-df-spinner');\n",
              "          try {\n",
              "            const charts = await google.colab.kernel.invokeFunction(\n",
              "                'suggestCharts', [key], {});\n",
              "          } catch (error) {\n",
              "            console.error('Error during call to suggestCharts:', error);\n",
              "          }\n",
              "          quickchartButtonEl.classList.remove('colab-df-spinner');\n",
              "          quickchartButtonEl.classList.add('colab-df-quickchart-complete');\n",
              "        }\n",
              "        (() => {\n",
              "          let quickchartButtonEl =\n",
              "            document.querySelector('#df-603bc684-ed9a-4e4c-b789-c74400351b00 button');\n",
              "          quickchartButtonEl.style.display =\n",
              "            google.colab.kernel.accessAllowed ? 'block' : 'none';\n",
              "        })();\n",
              "      </script>\n",
              "    </div>\n",
              "\n",
              "    </div>\n",
              "  </div>\n"
            ],
            "application/vnd.google.colaboratory.intrinsic+json": {
              "type": "dataframe",
              "variable_name": "df"
            }
          },
          "metadata": {},
          "execution_count": 48
        }
      ]
    },
    {
      "cell_type": "code",
      "source": [
        "df.to_csv('/content/drive/MyDrive/capstone/price_prediction/label_encoded.csv', index=False)\n"
      ],
      "metadata": {
        "id": "6fXBEuybn2NU"
      },
      "execution_count": null,
      "outputs": []
    },
    {
      "cell_type": "code",
      "source": [
        "# outlier detection for floor_area_sqm, resale_price with box plot\n",
        "\n",
        "import matplotlib.pyplot as plt\n",
        "import seaborn as sns\n",
        "\n",
        "# Create box plots for 'floor_area_sqm' and 'resale_price'\n",
        "plt.figure(figsize=(12, 6))\n",
        "\n",
        "plt.subplot(1, 2, 1)\n",
        "sns.boxplot(y=df['floor_area_sqm'])\n",
        "plt.title('Box Plot of Floor Area (sqm)')\n",
        "\n",
        "plt.subplot(1, 2, 2)\n",
        "sns.boxplot(y=df['resale_price'])\n",
        "plt.title('Box Plot of Resale Price')\n",
        "\n",
        "plt.tight_layout()\n",
        "plt.show()\n"
      ],
      "metadata": {
        "colab": {
          "base_uri": "https://localhost:8080/",
          "height": 484
        },
        "id": "KZ7YHOvnL-p0",
        "outputId": "14b31d92-67ad-4422-ca2c-c74f3936ed70"
      },
      "execution_count": null,
      "outputs": [
        {
          "output_type": "display_data",
          "data": {
            "text/plain": [
              "<Figure size 1200x600 with 2 Axes>"
            ],
            "image/png": "[encoded data removed]"
          },
          "metadata": {}
        }
      ]
    },
    {
      "cell_type": "code",
      "source": [
        "# outlier remove with winzore method\n",
        "\n",
        "import pandas as pd\n",
        "from scipy.stats.mstats import winsorize\n",
        "\n",
        "# Define the limits for winsorizing\n",
        "limits = [0.001, 0.03]  # Winsorize top and bottom\n",
        "\n",
        "df['floor_area_sqm'] = winsorize(df['floor_area_sqm'], limits=limits)\n",
        "\n",
        "df['resale_price'] = winsorize(df['resale_price'], limits=limits)\n",
        "\n",
        "plt.figure(figsize=(12, 6))\n",
        "\n",
        "plt.subplot(1, 2, 1)\n",
        "sns.boxplot(y=df['floor_area_sqm'])\n",
        "plt.title('Box Plot of Winsorized Floor Area (sqm)')\n",
        "\n",
        "plt.subplot(1, 2, 2)\n",
        "sns.boxplot(y=df['resale_price'])\n",
        "plt.title('Box Plot of Winsorized Resale Price')\n",
        "\n",
        "plt.tight_layout()\n",
        "plt.show()\n"
      ],
      "metadata": {
        "colab": {
          "base_uri": "https://localhost:8080/",
          "height": 484
        },
        "id": "16gx-5WWMQDl",
        "outputId": "f443ebc7-a2be-4553-eba4-85d87de16b99"
      },
      "execution_count": null,
      "outputs": [
        {
          "output_type": "display_data",
          "data": {
            "text/plain": [
              "<Figure size 1200x600 with 2 Axes>"
            ],
            "image/png": "[encoded data removed]"
          },
          "metadata": {}
        }
      ]
    },
    {
      "cell_type": "code",
      "source": [
        "import pandas as pd\n",
        "df = pd.read_csv('/content/drive/MyDrive/capstone/price_prediction/label_encoded.csv')\n"
      ],
      "metadata": {
        "id": "GlWGwrTJNng0"
      },
      "execution_count": null,
      "outputs": []
    },
    {
      "cell_type": "code",
      "source": [
        "# heat map to check similareirty\n",
        "import seaborn as sns\n",
        "import matplotlib.pyplot as plt\n",
        "\n",
        "# Select columns for similarity analysis\n",
        "features_for_heatmap = ['floor_area_sqm', 'resale_price', 'month', 'lease_commence_date', 'block_number', 'town', 'flat_type', 'street_name', 'storey_range', 'flat_model', 'block_code', 'remaining_lease']\n",
        "similarity_df = df[features_for_heatmap]\n",
        "\n",
        "\n",
        "# Calculate the correlation matrix\n",
        "correlation_matrix = similarity_df.corr()\n",
        "\n",
        "# Create the heatmap\n",
        "plt.figure(figsize=(12, 10))\n",
        "sns.heatmap(correlation_matrix, annot=True, cmap='coolwarm', fmt=\".2f\")\n",
        "plt.title('Correlation Matrix Heatmap')\n",
        "plt.show()\n"
      ],
      "metadata": {
        "colab": {
          "base_uri": "https://localhost:8080/",
          "height": 887
        },
        "id": "1TtA1HSnSy2C",
        "outputId": "3f114cec-66e1-4574-f8fd-0b4aee343a9c"
      },
      "execution_count": null,
      "outputs": [
        {
          "output_type": "display_data",
          "data": {
            "text/plain": [
              "<Figure size 1200x1000 with 2 Axes>"
            ],
            "image/png": "[encoded data removed]"
          },
          "metadata": {}
        }
      ]
    },
    {
      "cell_type": "code",
      "source": [
        "df.columns"
      ],
      "metadata": {
        "colab": {
          "base_uri": "https://localhost:8080/"
        },
        "id": "dg4EvsjmQvUl",
        "outputId": "1b9a31c8-6ff2-412e-ff20-ca2d5b666a19"
      },
      "execution_count": null,
      "outputs": [
        {
          "output_type": "execute_result",
          "data": {
            "text/plain": [
              "Index(['month', 'town', 'flat_type', 'street_name', 'storey_range',\n",
              "       'floor_area_sqm', 'flat_model', 'lease_commence_date',\n",
              "       'remaining_lease', 'resale_price', 'year', 'block_number',\n",
              "       'block_code'],\n",
              "      dtype='object')"
            ]
          },
          "metadata": {},
          "execution_count": 54
        }
      ]
    },
    {
      "cell_type": "code",
      "source": [
        "# train test split\n",
        "from sklearn.model_selection import train_test_split\n",
        "\n",
        "X = df[['month', 'town', 'flat_type', 'storey_range',\n",
        "       'floor_area_sqm', 'flat_model', 'lease_commence_date',\n",
        "        'block_number',  'block_code', 'remaining_lease']]\n",
        "y = df['resale_price']\n",
        "\n",
        "X_train, X_test, y_train, y_test = train_test_split(X, y, test_size=0.30, random_state=42)"
      ],
      "metadata": {
        "id": "TI3MHAGvNz6k"
      },
      "execution_count": null,
      "outputs": []
    },
    {
      "cell_type": "code",
      "source": [
        "# xg boost\n",
        "\n",
        "import xgboost as xgb\n",
        "from sklearn.metrics import mean_squared_error, r2_score\n",
        "\n",
        "# Create and train the XGBoost model\n",
        "xgb_model = xgb.XGBRegressor(objective='reg:squarederror', random_state=42)\n",
        "xgb_model.fit(X_train, y_train)\n",
        "\n",
        "# Make predictions on the test set\n",
        "y_pred = xgb_model.predict(X_test)\n",
        "\n",
        "# Evaluate the model\n",
        "mse = mean_squared_error(y_test, y_pred)\n",
        "rmse = mse**0.5\n",
        "r2 = r2_score(y_test, y_pred)\n",
        "\n",
        "print(f\"Mean Squared Error: {mse}\")\n",
        "print(f\"Root Mean Squared Error: {rmse}\")\n",
        "print(f\"R-squared: {r2}\")"
      ],
      "metadata": {
        "colab": {
          "base_uri": "https://localhost:8080/"
        },
        "id": "SL46BkXxk2rI",
        "outputId": "b4f370de-026e-4608-fd70-bda6a77f2496"
      },
      "execution_count": null,
      "outputs": [
        {
          "output_type": "stream",
          "name": "stdout",
          "text": [
            "Mean Squared Error: 1177619207.8524609\n",
            "Root Mean Squared Error: 34316.4568079582\n",
            "R-squared: 0.9627703179050088\n"
          ]
        }
      ]
    },
    {
      "cell_type": "code",
      "source": [
        "!pip install catboost"
      ],
      "metadata": {
        "colab": {
          "base_uri": "https://localhost:8080/"
        },
        "collapsed": true,
        "id": "ljQNcbprtJnb",
        "outputId": "250d5cf1-fbfb-44a6-fffa-f00bcae31724"
      },
      "execution_count": null,
      "outputs": [
        {
          "output_type": "stream",
          "name": "stdout",
          "text": [
            "Collecting catboost\n",
            "  Downloading catboost-1.2.8-cp311-cp311-manylinux2014_x86_64.whl.metadata (1.2 kB)\n",
            "Requirement already satisfied: graphviz in /usr/local/lib/python3.11/dist-packages (from catboost) (0.20.3)\n",
            "Requirement already satisfied: matplotlib in /usr/local/lib/python3.11/dist-packages (from catboost) (3.10.0)\n",
            "Requirement already satisfied: numpy<3.0,>=1.16.0 in /usr/local/lib/python3.11/dist-packages (from catboost) (2.0.2)\n",
            "Requirement already satisfied: pandas>=0.24 in /usr/local/lib/python3.11/dist-packages (from catboost) (2.2.2)\n",
            "Requirement already satisfied: scipy in /usr/local/lib/python3.11/dist-packages (from catboost) (1.15.2)\n",
            "Requirement already satisfied: plotly in /usr/local/lib/python3.11/dist-packages (from catboost) (5.24.1)\n",
            "Requirement already satisfied: six in /usr/local/lib/python3.11/dist-packages (from catboost) (1.17.0)\n",
            "Requirement already satisfied: python-dateutil>=2.8.2 in /usr/local/lib/python3.11/dist-packages (from pandas>=0.24->catboost) (2.9.0.post0)\n",
            "Requirement already satisfied: pytz>=2020.1 in /usr/local/lib/python3.11/dist-packages (from pandas>=0.24->catboost) (2025.2)\n",
            "Requirement already satisfied: tzdata>=2022.7 in /usr/local/lib/python3.11/dist-packages (from pandas>=0.24->catboost) (2025.2)\n",
            "Requirement already satisfied: contourpy>=1.0.1 in /usr/local/lib/python3.11/dist-packages (from matplotlib->catboost) (1.3.2)\n",
            "Requirement already satisfied: cycler>=0.10 in /usr/local/lib/python3.11/dist-packages (from matplotlib->catboost) (0.12.1)\n",
            "Requirement already satisfied: fonttools>=4.22.0 in /usr/local/lib/python3.11/dist-packages (from matplotlib->catboost) (4.57.0)\n",
            "Requirement already satisfied: kiwisolver>=1.3.1 in /usr/local/lib/python3.11/dist-packages (from matplotlib->catboost) (1.4.8)\n",
            "Requirement already satisfied: packaging>=20.0 in /usr/local/lib/python3.11/dist-packages (from matplotlib->catboost) (24.2)\n",
            "Requirement already satisfied: pillow>=8 in /usr/local/lib/python3.11/dist-packages (from matplotlib->catboost) (11.2.1)\n",
            "Requirement already satisfied: pyparsing>=2.3.1 in /usr/local/lib/python3.11/dist-packages (from matplotlib->catboost) (3.2.3)\n",
            "Requirement already satisfied: tenacity>=6.2.0 in /usr/local/lib/python3.11/dist-packages (from plotly->catboost) (9.1.2)\n",
            "Downloading catboost-1.2.8-cp311-cp311-manylinux2014_x86_64.whl (99.2 MB)\n",
            "\u001b[2K   \u001b[90m━━━━━━━━━━━━━━━━━━━━━━━━━━━━━━━━━━━━━━━━\u001b[0m \u001b[32m99.2/99.2 MB\u001b[0m \u001b[31m8.2 MB/s\u001b[0m eta \u001b[36m0:00:00\u001b[0m\n",
            "\u001b[?25hInstalling collected packages: catboost\n",
            "Successfully installed catboost-1.2.8\n"
          ]
        }
      ]
    },
    {
      "cell_type": "code",
      "source": [
        "from catboost import CatBoostRegressor\n",
        "\n",
        "# Initialize CatBoostRegressor\n",
        "model = CatBoostRegressor(iterations=1000,\n",
        "                          learning_rate=0.1,\n",
        "                          depth=6,\n",
        "                          loss_function='RMSE',\n",
        "                          eval_metric='RMSE',\n",
        "                          random_seed=42)\n",
        "\n",
        "\n",
        "# Train the model\n",
        "model.fit(X_train, y_train,\n",
        "          eval_set=(X_test, y_test),\n",
        "          verbose=100,\n",
        "          use_best_model=True,\n",
        "          plot=True)\n",
        "\n",
        "# Make predictions\n",
        "y_pred = model.predict(X_test)\n",
        "\n",
        "\n",
        "# Evaluate the model\n",
        "mse = mean_squared_error(y_test, y_pred)\n",
        "rmse = mse**0.5\n",
        "r2 = r2_score(y_test, y_pred)\n",
        "\n",
        "print(f\"Mean Squared Error: {mse}\")\n",
        "print(f\"Root Mean Squared Error: {rmse}\")\n",
        "print(f\"R-squared: {r2}\")"
      ],
      "metadata": {
        "colab": {
          "base_uri": "https://localhost:8080/",
          "height": 329,
          "referenced_widgets": [
            "f0ef87588d314e4784a37cf1534f25b6"
          ]
        },
        "id": "4Fp1M9TmbODn",
        "outputId": "3b0ad743-dd96-4235-c58c-665951608ce0"
      },
      "execution_count": null,
      "outputs": [
        {
          "output_type": "display_data",
          "data": {
            "text/plain": [
              "MetricVisualizer(layout=Layout(align_self='stretch', height='500px'))"
            ],
            "application/vnd.jupyter.widget-view+json": {
              "version_major": 2,
              "version_minor": 0,
              "model_id": "f0ef87588d314e4784a37cf1534f25b6"
            }
          },
          "metadata": {}
        },
        {
          "output_type": "stream",
          "name": "stdout",
          "text": [
            "0:\tlearn: 156041.2340841\ttest: 155787.6206576\tbest: 155787.6206576 (0)\ttotal: 135ms\tremaining: 2m 14s\n",
            "100:\tlearn: 54631.0502870\ttest: 54510.7329096\tbest: 54510.7329096 (100)\ttotal: 11.3s\tremaining: 1m 40s\n",
            "200:\tlearn: 46822.1885524\ttest: 46709.0941017\tbest: 46709.0941017 (200)\ttotal: 22.6s\tremaining: 1m 29s\n",
            "300:\tlearn: 42127.3367612\ttest: 42047.1729007\tbest: 42047.1729007 (300)\ttotal: 32.1s\tremaining: 1m 14s\n",
            "400:\tlearn: 38692.1054197\ttest: 38622.7179531\tbest: 38622.7179531 (400)\ttotal: 43s\tremaining: 1m 4s\n",
            "500:\tlearn: 36413.3674747\ttest: 36369.2395150\tbest: 36369.2395150 (500)\ttotal: 54.4s\tremaining: 54.2s\n",
            "600:\tlearn: 34651.7623087\ttest: 34627.9299085\tbest: 34627.9299085 (600)\ttotal: 1m 6s\tremaining: 43.8s\n",
            "700:\tlearn: 33390.2908307\ttest: 33383.3988971\tbest: 33383.3988971 (700)\ttotal: 1m 17s\tremaining: 33s\n",
            "800:\tlearn: 32277.8845127\ttest: 32292.8862650\tbest: 32292.8862650 (800)\ttotal: 1m 27s\tremaining: 21.7s\n",
            "900:\tlearn: 31375.1056753\ttest: 31412.4400788\tbest: 31412.4400788 (900)\ttotal: 1m 38s\tremaining: 10.9s\n",
            "999:\tlearn: 30646.0754019\ttest: 30698.0691669\tbest: 30698.0691669 (999)\ttotal: 1m 50s\tremaining: 0us\n",
            "\n",
            "bestTest = 30698.06917\n",
            "bestIteration = 999\n",
            "\n",
            "Mean Squared Error: 942371450.5918473\n",
            "Root Mean Squared Error: 30698.069167161757\n",
            "R-squared: 0.9661054122127469\n"
          ]
        }
      ]
    },
    {
      "cell_type": "code",
      "source": [
        "!pip install --upgrade dask distributed --no-cache-dir"
      ],
      "metadata": {
        "colab": {
          "base_uri": "https://localhost:8080/"
        },
        "collapsed": true,
        "id": "tEud8vNvvsyc",
        "outputId": "10d14225-83d2-444b-d43a-3f6c61a4fbf3"
      },
      "execution_count": null,
      "outputs": [
        {
          "output_type": "stream",
          "name": "stdout",
          "text": [
            "Requirement already satisfied: dask in /usr/local/lib/python3.11/dist-packages (2024.12.1)\n",
            "Collecting dask\n",
            "  Downloading dask-2025.4.1-py3-none-any.whl.metadata (3.8 kB)\n",
            "Requirement already satisfied: distributed in /usr/local/lib/python3.11/dist-packages (2024.12.1)\n",
            "Collecting distributed\n",
            "  Downloading distributed-2025.4.1-py3-none-any.whl.metadata (3.4 kB)\n",
            "Requirement already satisfied: click>=8.1 in /usr/local/lib/python3.11/dist-packages (from dask) (8.1.8)\n",
            "Requirement already satisfied: cloudpickle>=3.0.0 in /usr/local/lib/python3.11/dist-packages (from dask) (3.1.1)\n",
            "Requirement already satisfied: fsspec>=2021.09.0 in /usr/local/lib/python3.11/dist-packages (from dask) (2025.3.2)\n",
            "Requirement already satisfied: packaging>=20.0 in /usr/local/lib/python3.11/dist-packages (from dask) (24.2)\n",
            "Requirement already satisfied: partd>=1.4.0 in /usr/local/lib/python3.11/dist-packages (from dask) (1.4.2)\n",
            "Requirement already satisfied: pyyaml>=5.3.1 in /usr/local/lib/python3.11/dist-packages (from dask) (6.0.2)\n",
            "Requirement already satisfied: toolz>=0.10.0 in /usr/local/lib/python3.11/dist-packages (from dask) (0.12.1)\n",
            "Requirement already satisfied: importlib_metadata>=4.13.0 in /usr/local/lib/python3.11/dist-packages (from dask) (8.7.0)\n",
            "Requirement already satisfied: jinja2>=2.10.3 in /usr/local/lib/python3.11/dist-packages (from distributed) (3.1.6)\n",
            "Requirement already satisfied: locket>=1.0.0 in /usr/local/lib/python3.11/dist-packages (from distributed) (1.0.0)\n",
            "Requirement already satisfied: msgpack>=1.0.2 in /usr/local/lib/python3.11/dist-packages (from distributed) (1.1.0)\n",
            "Requirement already satisfied: psutil>=5.8.0 in /usr/local/lib/python3.11/dist-packages (from distributed) (5.9.5)\n",
            "Requirement already satisfied: sortedcontainers>=2.0.5 in /usr/local/lib/python3.11/dist-packages (from distributed) (2.4.0)\n",
            "Requirement already satisfied: tblib>=1.6.0 in /usr/local/lib/python3.11/dist-packages (from distributed) (3.1.0)\n",
            "Requirement already satisfied: tornado>=6.2.0 in /usr/local/lib/python3.11/dist-packages (from distributed) (6.4.2)\n",
            "Requirement already satisfied: urllib3>=1.26.5 in /usr/local/lib/python3.11/dist-packages (from distributed) (2.4.0)\n",
            "Requirement already satisfied: zict>=3.0.0 in /usr/local/lib/python3.11/dist-packages (from distributed) (3.0.0)\n",
            "Requirement already satisfied: zipp>=3.20 in /usr/local/lib/python3.11/dist-packages (from importlib_metadata>=4.13.0->dask) (3.21.0)\n",
            "Requirement already satisfied: MarkupSafe>=2.0 in /usr/local/lib/python3.11/dist-packages (from jinja2>=2.10.3->distributed) (3.0.2)\n",
            "Downloading dask-2025.4.1-py3-none-any.whl (1.5 MB)\n",
            "\u001b[2K   \u001b[90m━━━━━━━━━━━━━━━━━━━━━━━━━━━━━━━━━━━━━━━━\u001b[0m \u001b[32m1.5/1.5 MB\u001b[0m \u001b[31m54.5 MB/s\u001b[0m eta \u001b[36m0:00:00\u001b[0m\n",
            "\u001b[?25hDownloading distributed-2025.4.1-py3-none-any.whl (1.0 MB)\n",
            "\u001b[2K   \u001b[90m━━━━━━━━━━━━━━━━━━━━━━━━━━━━━━━━━━━━━━━━\u001b[0m \u001b[32m1.0/1.0 MB\u001b[0m \u001b[31m324.3 MB/s\u001b[0m eta \u001b[36m0:00:00\u001b[0m\n",
            "\u001b[?25hInstalling collected packages: dask, distributed\n",
            "  Attempting uninstall: dask\n",
            "    Found existing installation: dask 2024.12.1\n",
            "    Uninstalling dask-2024.12.1:\n",
            "      Successfully uninstalled dask-2024.12.1\n",
            "  Attempting uninstall: distributed\n",
            "    Found existing installation: distributed 2024.12.1\n",
            "    Uninstalling distributed-2024.12.1:\n",
            "      Successfully uninstalled distributed-2024.12.1\n",
            "\u001b[31mERROR: pip's dependency resolver does not currently take into account all the packages that are installed. This behaviour is the source of the following dependency conflicts.\n",
            "dask-expr 1.1.21 requires dask==2024.12.1, but you have dask 2025.4.1 which is incompatible.\n",
            "rapids-dask-dependency 25.2.0 requires dask==2024.12.1, but you have dask 2025.4.1 which is incompatible.\n",
            "rapids-dask-dependency 25.2.0 requires distributed==2024.12.1, but you have distributed 2025.4.1 which is incompatible.\u001b[0m\u001b[31m\n",
            "\u001b[0mSuccessfully installed dask-2025.4.1 distributed-2025.4.1\n"
          ]
        },
        {
          "output_type": "display_data",
          "data": {
            "application/vnd.colab-display-data+json": {
              "pip_warning": {
                "packages": [
                  "dask"
                ]
              },
              "id": "1a87c6a924934811821f1f9a3be95a06"
            }
          },
          "metadata": {}
        }
      ]
    },
    {
      "cell_type": "code",
      "source": [
        "import lightgbm as lgb\n",
        "\n",
        "# Create and train the LightGBM model\n",
        "lgb_model = lgb.LGBMRegressor(objective='regression', random_state=42)\n",
        "lgb_model.fit(X_train, y_train)\n",
        "\n",
        "# Make predictions on the test set\n",
        "y_pred = lgb_model.predict(X_test)\n",
        "\n",
        "# Evaluate the model\n",
        "mse = mean_squared_error(y_test, y_pred)\n",
        "rmse = mse**0.5\n",
        "r2 = r2_score(y_test, y_pred)\n",
        "\n",
        "print(f\"Mean Squared Error: {mse}\")\n",
        "print(f\"Root Mean Squared Error: {rmse}\")\n",
        "print(f\"R-squared: {r2}\")"
      ],
      "metadata": {
        "colab": {
          "base_uri": "https://localhost:8080/"
        },
        "id": "sLsLp5vuvnF1",
        "outputId": "2ccf2db4-72e4-441e-82e7-b5aab78fd5c4"
      },
      "execution_count": null,
      "outputs": [
        {
          "output_type": "stream",
          "name": "stdout",
          "text": [
            "[LightGBM] [Info] Auto-choosing row-wise multi-threading, the overhead of testing was 0.038349 seconds.\n",
            "You can set `force_row_wise=true` to remove the overhead.\n",
            "And if memory is not enough, you can set `force_col_wise=true`.\n",
            "[LightGBM] [Info] Total Bins 610\n",
            "[LightGBM] [Info] Number of data points in the train set: 665224, number of used features: 10\n",
            "[LightGBM] [Info] Start training from score 325281.754391\n",
            "Mean Squared Error: 1808523367.8065345\n",
            "Root Mean Squared Error: 42526.737093345575\n",
            "R-squared: 0.934952237764717\n"
          ]
        }
      ]
    },
    {
      "cell_type": "code",
      "source": [
        "from sklearn.ensemble import RandomForestRegressor\n",
        "from sklearn.metrics import mean_squared_error, r2_score\n",
        "\n",
        "# Initialize the RandomForestRegressor model\n",
        "rf_model = RandomForestRegressor(n_estimators=100, random_state=42)\n",
        "\n",
        "# Train the model\n",
        "rf_model.fit(X_train, y_train)\n",
        "\n",
        "# Make predictions on the test set\n",
        "y_pred = rf_model.predict(X_test)\n",
        "\n",
        "# Evaluate the model\n",
        "mse = mean_squared_error(y_test, y_pred)\n",
        "rmse = mse**0.5\n",
        "r2 = r2_score(y_test, y_pred)\n",
        "\n",
        "print(f\"Mean Squared Error: {mse}\")\n",
        "print(f\"Root Mean Squared Error: {rmse}\")\n",
        "print(f\"R-squared: {r2}\")"
      ],
      "metadata": {
        "colab": {
          "base_uri": "https://localhost:8080/"
        },
        "id": "vNmz8VtlOBYk",
        "outputId": "eb476afe-093f-4f3e-9762-0aabbaf9a0aa"
      },
      "execution_count": null,
      "outputs": [
        {
          "output_type": "stream",
          "name": "stdout",
          "text": [
            "Mean Squared Error: 591437227.7140507\n",
            "Root Mean Squared Error: 24319.482472167263\n",
            "R-squared: 0.9813020882980573\n"
          ]
        }
      ]
    },
    {
      "cell_type": "code",
      "source": [
        "# save model file as joblib\n",
        "\n",
        "import joblib\n",
        "\n",
        "joblib.dump(rf_model, '/content/drive/MyDrive/capstone/price_prediction/rf_model.joblib')\n"
      ],
      "metadata": {
        "colab": {
          "base_uri": "https://localhost:8080/"
        },
        "id": "lRnr7Mk6_02d",
        "outputId": "51b320dd-5c02-49fe-b6e1-b43b105c0fa3"
      },
      "execution_count": null,
      "outputs": [
        {
          "output_type": "execute_result",
          "data": {
            "text/plain": [
              "['/content/drive/MyDrive/capstone/price_prediction/rf_model.joblib']"
            ]
          },
          "metadata": {},
          "execution_count": 14
        }
      ]
    },
    {
      "cell_type": "code",
      "source": [
        "# prompt: load /content/drive/MyDrive/capstone/price_prediction/rf_model.joblib\n",
        "\n",
        "loaded_model = joblib.load('/content/drive/MyDrive/capstone/price_prediction/rf_model.joblib')\n"
      ],
      "metadata": {
        "id": "D6oXxzUVDBa6"
      },
      "execution_count": null,
      "outputs": []
    },
    {
      "cell_type": "code",
      "source": [
        "# Saving the trained model\n",
        "import pickle\n",
        "with open('/content/drive/MyDrive/capstone/price_prediction/random_forest_model.pkl', 'wb') as file:\n",
        "    pickle.dump(rf_model, file)\n"
      ],
      "metadata": {
        "id": "7PvHwM7tN7nk"
      },
      "execution_count": null,
      "outputs": []
    },
    {
      "cell_type": "code",
      "source": [
        "df['resale_price'].describe()"
      ],
      "metadata": {
        "colab": {
          "base_uri": "https://localhost:8080/",
          "height": 370
        },
        "id": "atkoHkCc2ZUs",
        "outputId": "c7829ba0-4bd9-4e93-d5f9-24515bc6440f"
      },
      "execution_count": null,
      "outputs": [
        {
          "output_type": "stream",
          "name": "stderr",
          "text": [
            "/usr/local/lib/python3.11/dist-packages/numpy/lib/_function_base_impl.py:3764: UserWarning: Warning: 'partition' will ignore the 'mask' of the MaskedArray.\n",
            "  r = func(a, **kwargs)\n"
          ]
        },
        {
          "output_type": "execute_result",
          "data": {
            "text/plain": [
              "count    950320.000000\n",
              "mean     325359.154169\n",
              "std      166906.933410\n",
              "min       20000.000000\n",
              "25%      196000.000000\n",
              "50%      303000.000000\n",
              "75%      426800.000000\n",
              "max      735000.000000\n",
              "Name: resale_price, dtype: float64"
            ],
            "text/html": [
              "<div>\n",
              "<style scoped>\n",
              "    .dataframe tbody tr th:only-of-type {\n",
              "        vertical-align: middle;\n",
              "    }\n",
              "\n",
              "    .dataframe tbody tr th {\n",
              "        vertical-align: top;\n",
              "    }\n",
              "\n",
              "    .dataframe thead th {\n",
              "        text-align: right;\n",
              "    }\n",
              "</style>\n",
              "<table border=\"1\" class=\"dataframe\">\n",
              "  <thead>\n",
              "    <tr style=\"text-align: right;\">\n",
              "      <th></th>\n",
              "      <th>resale_price</th>\n",
              "    </tr>\n",
              "  </thead>\n",
              "  <tbody>\n",
              "    <tr>\n",
              "      <th>count</th>\n",
              "      <td>950320.000000</td>\n",
              "    </tr>\n",
              "    <tr>\n",
              "      <th>mean</th>\n",
              "      <td>325359.154169</td>\n",
              "    </tr>\n",
              "    <tr>\n",
              "      <th>std</th>\n",
              "      <td>166906.933410</td>\n",
              "    </tr>\n",
              "    <tr>\n",
              "      <th>min</th>\n",
              "      <td>20000.000000</td>\n",
              "    </tr>\n",
              "    <tr>\n",
              "      <th>25%</th>\n",
              "      <td>196000.000000</td>\n",
              "    </tr>\n",
              "    <tr>\n",
              "      <th>50%</th>\n",
              "      <td>303000.000000</td>\n",
              "    </tr>\n",
              "    <tr>\n",
              "      <th>75%</th>\n",
              "      <td>426800.000000</td>\n",
              "    </tr>\n",
              "    <tr>\n",
              "      <th>max</th>\n",
              "      <td>735000.000000</td>\n",
              "    </tr>\n",
              "  </tbody>\n",
              "</table>\n",
              "</div><br><label><b>dtype:</b> float64</label>"
            ]
          },
          "metadata": {},
          "execution_count": 126
        }
      ]
    },
    {
      "cell_type": "code",
      "source": [
        "# so min - 20000 max - 735000\n",
        "# 464342950"
      ],
      "metadata": {
        "id": "GGFa471B2hit"
      },
      "execution_count": null,
      "outputs": []
    },
    {
      "cell_type": "code",
      "source": [],
      "metadata": {
        "id": "jzsJfBGg-DXc"
      },
      "execution_count": null,
      "outputs": []
    },
    {
      "cell_type": "code",
      "source": [
        "%%writefile run.py\n",
        "import streamlit as st\n",
        "import joblib\n",
        "import pickle\n",
        "\n",
        "# -------------------- LOAD MODEL & ENCODERS --------------------\n",
        "model = joblib.load('rf_model.joblib')\n",
        "\n",
        "CATEGORICAL_COLS = ['town', 'flat_type', 'storey_range', 'flat_model', 'block_code']\n",
        "FEATURES = ['month', 'town', 'flat_type', 'storey_range', 'floor_area_sqm',\n",
        "            'flat_model', 'lease_commence_date', 'block_number', 'block_code', 'remaining_lease']\n",
        "\n",
        "encoders = {}\n",
        "for col in CATEGORICAL_COLS:\n",
        "    with open(f\"/content/drive/MyDrive/capstone/price_prediction/label_encodings/encoding_map_{col}.pkl\", \"rb\") as f:\n",
        "        encoders[col] = pickle.load(f)\n",
        "\n",
        "# -------------------- MAIN PAGE --------------------\n",
        "st.title(\"🏠 Singapore Real Estate Price Predictor\")\n",
        "st.markdown(\"Enter the details of the HDB property to estimate its resale price.\")\n",
        "\n",
        "input_data = {}\n",
        "\n",
        "# ---- 1. Flat Characteristics ----\n",
        "st.markdown(\"### 🏢 Flat Information\")\n",
        "input_data['flat_type'] = encoders['flat_type'][st.selectbox(\"Flat Type\", list(encoders['flat_type'].keys()))]\n",
        "input_data['flat_model'] = encoders['flat_model'][st.selectbox(\"Flat Model\", list(encoders['flat_model'].keys()))]\n",
        "input_data['storey_range'] = encoders['storey_range'][st.selectbox(\"Storey Range\", list(encoders['storey_range'].keys()))]\n",
        "\n",
        "# ---- 2. Size ----\n",
        "st.markdown(\"### 📐 Size & Layout\")\n",
        "input_data['floor_area_sqm'] = st.number_input(\"Floor Area (sqm)\", min_value=10.0, max_value=300.0, value=70.0)\n",
        "\n",
        "# ---- 3. Lease ----\n",
        "st.markdown(\"### 📜 Lease Details\")\n",
        "input_data['lease_commence_date'] = st.number_input(\"Lease Commencement Year\", min_value=1960, max_value=2030, value=2000)\n",
        "input_data['remaining_lease'] = st.number_input(\"Remaining Lease (Years)\", min_value=0, max_value=99, value=60)\n",
        "input_data['month'] = st.number_input(\"Resale Month (1–12)\", min_value=1, max_value=12, value=1)\n",
        "\n",
        "# ---- 4. Location ----\n",
        "st.markdown(\"### 📍 Location Details\")\n",
        "input_data['town'] = encoders['town'][st.selectbox(\"Town\", list(encoders['town'].keys()))]\n",
        "input_data['block_number'] = st.text_input(\"Block Number (e.g., '123', 'B123')\")\n",
        "input_data['block_code'] = encoders['block_code'][st.selectbox(\"Block Code\", list(encoders['block_code'].keys()))]\n",
        "\n",
        "# ---- Predict Button ----\n",
        "if st.button(\"📊 Analyse Price\"):\n",
        "    try:\n",
        "        X = [[input_data[feature] for feature in FEATURES]]\n",
        "        prediction = model.predict(X)[0]\n",
        "        st.success(f\"💰 Estimated Resale Price: **SGD {round(prediction, 2):,}**\")\n",
        "    except Exception as e:\n",
        "        st.error(f\"Prediction failed: {e}\")\n",
        "\n"
      ],
      "metadata": {
        "colab": {
          "base_uri": "https://localhost:8080/"
        },
        "id": "_unrv0Vwv87q",
        "outputId": "d4283fd8-cde3-47e7-e58c-76b0de8241e2"
      },
      "execution_count": 4,
      "outputs": [
        {
          "output_type": "stream",
          "name": "stdout",
          "text": [
            "Overwriting run.py\n"
          ]
        }
      ]
    },
    {
      "cell_type": "code",
      "source": [
        "!cp '/content/drive/MyDrive/capstone/price_prediction/rf_model.joblib' '/content/'"
      ],
      "metadata": {
        "collapsed": true,
        "id": "R6iABT53xLti"
      },
      "execution_count": 2,
      "outputs": []
    },
    {
      "cell_type": "code",
      "source": [
        "!pip install streamlit\n",
        "!npm install localtunnel"
      ],
      "metadata": {
        "colab": {
          "base_uri": "https://localhost:8080/"
        },
        "collapsed": true,
        "id": "iDG79msexAOk",
        "outputId": "70baf6f1-4f7a-4eb7-b34f-83976d241cbd"
      },
      "execution_count": 3,
      "outputs": [
        {
          "output_type": "stream",
          "name": "stdout",
          "text": [
            "Collecting streamlit\n",
            "  Downloading streamlit-1.45.1-py3-none-any.whl.metadata (8.9 kB)\n",
            "Requirement already satisfied: altair<6,>=4.0 in /usr/local/lib/python3.11/dist-packages (from streamlit) (5.5.0)\n",
            "Requirement already satisfied: blinker<2,>=1.5.0 in /usr/local/lib/python3.11/dist-packages (from streamlit) (1.9.0)\n",
            "Requirement already satisfied: cachetools<6,>=4.0 in /usr/local/lib/python3.11/dist-packages (from streamlit) (5.5.2)\n",
            "Requirement already satisfied: click<9,>=7.0 in /usr/local/lib/python3.11/dist-packages (from streamlit) (8.2.1)\n",
            "Requirement already satisfied: numpy<3,>=1.23 in /usr/local/lib/python3.11/dist-packages (from streamlit) (2.0.2)\n",
            "Requirement already satisfied: packaging<25,>=20 in /usr/local/lib/python3.11/dist-packages (from streamlit) (24.2)\n",
            "Requirement already satisfied: pandas<3,>=1.4.0 in /usr/local/lib/python3.11/dist-packages (from streamlit) (2.2.2)\n",
            "Requirement already satisfied: pillow<12,>=7.1.0 in /usr/local/lib/python3.11/dist-packages (from streamlit) (11.2.1)\n",
            "Requirement already satisfied: protobuf<7,>=3.20 in /usr/local/lib/python3.11/dist-packages (from streamlit) (5.29.5)\n",
            "Requirement already satisfied: pyarrow>=7.0 in /usr/local/lib/python3.11/dist-packages (from streamlit) (18.1.0)\n",
            "Requirement already satisfied: requests<3,>=2.27 in /usr/local/lib/python3.11/dist-packages (from streamlit) (2.32.3)\n",
            "Requirement already satisfied: tenacity<10,>=8.1.0 in /usr/local/lib/python3.11/dist-packages (from streamlit) (9.1.2)\n",
            "Requirement already satisfied: toml<2,>=0.10.1 in /usr/local/lib/python3.11/dist-packages (from streamlit) (0.10.2)\n",
            "Requirement already satisfied: typing-extensions<5,>=4.4.0 in /usr/local/lib/python3.11/dist-packages (from streamlit) (4.14.0)\n",
            "Collecting watchdog<7,>=2.1.5 (from streamlit)\n",
            "  Downloading watchdog-6.0.0-py3-none-manylinux2014_x86_64.whl.metadata (44 kB)\n",
            "\u001b[2K     \u001b[90m━━━━━━━━━━━━━━━━━━━━━━━━━━━━━━━━━━━━━━━━\u001b[0m \u001b[32m44.3/44.3 kB\u001b[0m \u001b[31m1.6 MB/s\u001b[0m eta \u001b[36m0:00:00\u001b[0m\n",
            "\u001b[?25hRequirement already satisfied: gitpython!=3.1.19,<4,>=3.0.7 in /usr/local/lib/python3.11/dist-packages (from streamlit) (3.1.44)\n",
            "Collecting pydeck<1,>=0.8.0b4 (from streamlit)\n",
            "  Downloading pydeck-0.9.1-py2.py3-none-any.whl.metadata (4.1 kB)\n",
            "Requirement already satisfied: tornado<7,>=6.0.3 in /usr/local/lib/python3.11/dist-packages (from streamlit) (6.4.2)\n",
            "Requirement already satisfied: jinja2 in /usr/local/lib/python3.11/dist-packages (from altair<6,>=4.0->streamlit) (3.1.6)\n",
            "Requirement already satisfied: jsonschema>=3.0 in /usr/local/lib/python3.11/dist-packages (from altair<6,>=4.0->streamlit) (4.24.0)\n",
            "Requirement already satisfied: narwhals>=1.14.2 in /usr/local/lib/python3.11/dist-packages (from altair<6,>=4.0->streamlit) (1.41.0)\n",
            "Requirement already satisfied: gitdb<5,>=4.0.1 in /usr/local/lib/python3.11/dist-packages (from gitpython!=3.1.19,<4,>=3.0.7->streamlit) (4.0.12)\n",
            "Requirement already satisfied: python-dateutil>=2.8.2 in /usr/local/lib/python3.11/dist-packages (from pandas<3,>=1.4.0->streamlit) (2.9.0.post0)\n",
            "Requirement already satisfied: pytz>=2020.1 in /usr/local/lib/python3.11/dist-packages (from pandas<3,>=1.4.0->streamlit) (2025.2)\n",
            "Requirement already satisfied: tzdata>=2022.7 in /usr/local/lib/python3.11/dist-packages (from pandas<3,>=1.4.0->streamlit) (2025.2)\n",
            "Requirement already satisfied: charset-normalizer<4,>=2 in /usr/local/lib/python3.11/dist-packages (from requests<3,>=2.27->streamlit) (3.4.2)\n",
            "Requirement already satisfied: idna<4,>=2.5 in /usr/local/lib/python3.11/dist-packages (from requests<3,>=2.27->streamlit) (3.10)\n",
            "Requirement already satisfied: urllib3<3,>=1.21.1 in /usr/local/lib/python3.11/dist-packages (from requests<3,>=2.27->streamlit) (2.4.0)\n",
            "Requirement already satisfied: certifi>=2017.4.17 in /usr/local/lib/python3.11/dist-packages (from requests<3,>=2.27->streamlit) (2025.4.26)\n",
            "Requirement already satisfied: smmap<6,>=3.0.1 in /usr/local/lib/python3.11/dist-packages (from gitdb<5,>=4.0.1->gitpython!=3.1.19,<4,>=3.0.7->streamlit) (5.0.2)\n",
            "Requirement already satisfied: MarkupSafe>=2.0 in /usr/local/lib/python3.11/dist-packages (from jinja2->altair<6,>=4.0->streamlit) (3.0.2)\n",
            "Requirement already satisfied: attrs>=22.2.0 in /usr/local/lib/python3.11/dist-packages (from jsonschema>=3.0->altair<6,>=4.0->streamlit) (25.3.0)\n",
            "Requirement already satisfied: jsonschema-specifications>=2023.03.6 in /usr/local/lib/python3.11/dist-packages (from jsonschema>=3.0->altair<6,>=4.0->streamlit) (2025.4.1)\n",
            "Requirement already satisfied: referencing>=0.28.4 in /usr/local/lib/python3.11/dist-packages (from jsonschema>=3.0->altair<6,>=4.0->streamlit) (0.36.2)\n",
            "Requirement already satisfied: rpds-py>=0.7.1 in /usr/local/lib/python3.11/dist-packages (from jsonschema>=3.0->altair<6,>=4.0->streamlit) (0.25.1)\n",
            "Requirement already satisfied: six>=1.5 in /usr/local/lib/python3.11/dist-packages (from python-dateutil>=2.8.2->pandas<3,>=1.4.0->streamlit) (1.17.0)\n",
            "Downloading streamlit-1.45.1-py3-none-any.whl (9.9 MB)\n",
            "\u001b[2K   \u001b[90m━━━━━━━━━━━━━━━━━━━━━━━━━━━━━━━━━━━━━━━━\u001b[0m \u001b[32m9.9/9.9 MB\u001b[0m \u001b[31m65.8 MB/s\u001b[0m eta \u001b[36m0:00:00\u001b[0m\n",
            "\u001b[?25hDownloading pydeck-0.9.1-py2.py3-none-any.whl (6.9 MB)\n",
            "\u001b[2K   \u001b[90m━━━━━━━━━━━━━━━━━━━━━━━━━━━━━━━━━━━━━━━━\u001b[0m \u001b[32m6.9/6.9 MB\u001b[0m \u001b[31m88.2 MB/s\u001b[0m eta \u001b[36m0:00:00\u001b[0m\n",
            "\u001b[?25hDownloading watchdog-6.0.0-py3-none-manylinux2014_x86_64.whl (79 kB)\n",
            "\u001b[2K   \u001b[90m━━━━━━━━━━━━━━━━━━━━━━━━━━━━━━━━━━━━━━━━\u001b[0m \u001b[32m79.1/79.1 kB\u001b[0m \u001b[31m9.0 MB/s\u001b[0m eta \u001b[36m0:00:00\u001b[0m\n",
            "\u001b[?25hInstalling collected packages: watchdog, pydeck, streamlit\n",
            "Successfully installed pydeck-0.9.1 streamlit-1.45.1 watchdog-6.0.0\n",
            "\u001b[1G\u001b[0K⠙\u001b[1G\u001b[0K⠹\u001b[1G\u001b[0K⠸\u001b[1G\u001b[0K⠼\u001b[1G\u001b[0K⠴\u001b[1G\u001b[0K⠦\u001b[1G\u001b[0K⠧\u001b[1G\u001b[0K⠇\u001b[1G\u001b[0K⠏\u001b[1G\u001b[0K⠋\u001b[1G\u001b[0K⠙\u001b[1G\u001b[0K⠹\u001b[1G\u001b[0K⠸\u001b[1G\u001b[0K⠼\u001b[1G\u001b[0K⠴\u001b[1G\u001b[0K⠦\u001b[1G\u001b[0K⠧\u001b[1G\u001b[0K⠇\u001b[1G\u001b[0K⠏\u001b[1G\u001b[0K⠋\u001b[1G\u001b[0K\n",
            "added 22 packages in 2s\n",
            "\u001b[1G\u001b[0K⠋\u001b[1G\u001b[0K\n",
            "\u001b[1G\u001b[0K⠋\u001b[1G\u001b[0K3 packages are looking for funding\n",
            "\u001b[1G\u001b[0K⠋\u001b[1G\u001b[0K  run `npm fund` for details\n",
            "\u001b[1G\u001b[0K⠋\u001b[1G\u001b[0K"
          ]
        }
      ]
    },
    {
      "cell_type": "code",
      "source": [
        "# run streamlit\n",
        "!streamlit run run.py &>/content/logs.txt & npx localtunnel --port 8501 & curl ipv4.icanhazip.com"
      ],
      "metadata": {
        "colab": {
          "base_uri": "https://localhost:8080/"
        },
        "id": "-OleOG90xAwp",
        "outputId": "2d439f6b-6775-4853-ce3f-26f7cd6a05fc"
      },
      "execution_count": 5,
      "outputs": [
        {
          "output_type": "stream",
          "name": "stdout",
          "text": [
            "34.106.62.247\n",
            "\u001b[1G\u001b[0K⠙\u001b[1G\u001b[0K⠹\u001b[1G\u001b[0Kyour url is: https://sweet-dots-notice.loca.lt\n"
          ]
        }
      ]
    }
  ],
  "metadata": {
    "colab": {
      "provenance": [],
      "mount_file_id": "1a5xq8DQXI9_Oq1f2SMVg-J5Kgti7mzAp",
      "authorship_tag": "ABX9TyPUF/Q60/O0EAi9bOiCACgV",
      "include_colab_link": true
    },
    "kernelspec": {
      "display_name": "Python 3",
      "name": "python3"
    },
    "language_info": {
      "name": "python"
    },
    "widgets": {
      "application/vnd.jupyter.widget-state+json": {
        "f0ef87588d314e4784a37cf1534f25b6": {
          "model_module": "catboost-widget",
          "model_name": "CatboostWidgetModel",
          "model_module_version": "^1.0.0",
          "state": {
            "_dom_classes": [],
            "_model_module": "catboost-widget",
            "_model_module_version": "^1.0.0",
            "_model_name": "CatboostWidgetModel",
            "_view_count": null,
            "_view_module": "catboost-widget",
            "_view_module_version": "^1.0.0",
            "_view_name": "CatboostWidgetView",
            "data": {
              "catboost_info": {
                "path": "catboost_info",
                "name": "catboost_info",
                "content": {
                  "passed_iterations": 999,
                  "total_iterations": 1000,
                  "data": {
                    "iterations": [
                      {
                        "learn": [
                          156041.2341
                        ],
                        "iteration": 0,
                        "passed_time": 0.1350027534,
                        "remaining_time": 134.8677507,
                        "test": [
                          155787.6207
                        ]
                      },
                      {
                        "learn": [
                          146372.3977
                        ],
                        "iteration": 1,
                        "passed_time": 0.230021621,
                        "remaining_time": 114.7807889,
                        "test": [
                          146104.204
                        ]
                      },
                      {
                        "learn": [
                          137884.0636
                        ],
                        "iteration": 2,
                        "passed_time": 0.3214532736,
                        "remaining_time": 106.8296379,
                        "test": [
                          137626.0878
                        ]
                      },
                      {
                        "learn": [
                          130250.9996
                        ],
                        "iteration": 3,
                        "passed_time": 0.4188014647,
                        "remaining_time": 104.2815647,
                        "test": [
                          129975.3179
                        ]
                      },
                      {
                        "learn": [
                          123508.8028
                        ],
                        "iteration": 4,
                        "passed_time": 0.5123101762,
                        "remaining_time": 101.9497251,
                        "test": [
                          123217.5747
                        ]
                      },
                      {
                        "learn": [
                          117616.3027
                        ],
                        "iteration": 5,
                        "passed_time": 0.6013545511,
                        "remaining_time": 99.62440396,
                        "test": [
                          117351.1061
                        ]
                      },
                      {
                        "learn": [
                          112240.0769
                        ],
                        "iteration": 6,
                        "passed_time": 0.6911439628,
                        "remaining_time": 98.04370787,
                        "test": [
                          111969.5028
                        ]
                      },
                      {
                        "learn": [
                          107556.8335
                        ],
                        "iteration": 7,
                        "passed_time": 0.7860891911,
                        "remaining_time": 97.4750597,
                        "test": [
                          107274.431
                        ]
                      },
                      {
                        "learn": [
                          103602.3976
                        ],
                        "iteration": 8,
                        "passed_time": 0.8714154371,
                        "remaining_time": 95.95252202,
                        "test": [
                          103344.3753
                        ]
                      },
                      {
                        "learn": [
                          99756.41761
                        ],
                        "iteration": 9,
                        "passed_time": 0.961528807,
                        "remaining_time": 95.19135189,
                        "test": [
                          99497.43742
                        ]
                      },
                      {
                        "learn": [
                          96483.71012
                        ],
                        "iteration": 10,
                        "passed_time": 1.051065007,
                        "remaining_time": 94.50029928,
                        "test": [
                          96231.23889
                        ]
                      },
                      {
                        "learn": [
                          93471.14463
                        ],
                        "iteration": 11,
                        "passed_time": 1.164930909,
                        "remaining_time": 95.91264481,
                        "test": [
                          93234.75339
                        ]
                      },
                      {
                        "learn": [
                          90893.78932
                        ],
                        "iteration": 12,
                        "passed_time": 1.251887221,
                        "remaining_time": 95.04712978,
                        "test": [
                          90650.64212
                        ]
                      },
                      {
                        "learn": [
                          88516.42702
                        ],
                        "iteration": 13,
                        "passed_time": 1.347080557,
                        "remaining_time": 94.87295924,
                        "test": [
                          88280.23922
                        ]
                      },
                      {
                        "learn": [
                          86395.43622
                        ],
                        "iteration": 14,
                        "passed_time": 1.43766963,
                        "remaining_time": 94.40697234,
                        "test": [
                          86171.54124
                        ]
                      },
                      {
                        "learn": [
                          84429.28593
                        ],
                        "iteration": 15,
                        "passed_time": 1.530108947,
                        "remaining_time": 94.10170027,
                        "test": [
                          84204.36999
                        ]
                      },
                      {
                        "learn": [
                          82660.0862
                        ],
                        "iteration": 16,
                        "passed_time": 1.619895361,
                        "remaining_time": 93.66806703,
                        "test": [
                          82432.59913
                        ]
                      },
                      {
                        "learn": [
                          81169.12319
                        ],
                        "iteration": 17,
                        "passed_time": 1.710557072,
                        "remaining_time": 93.32039136,
                        "test": [
                          80939.79112
                        ]
                      },
                      {
                        "learn": [
                          79705.26265
                        ],
                        "iteration": 18,
                        "passed_time": 1.798302454,
                        "remaining_time": 92.84919514,
                        "test": [
                          79488.68297
                        ]
                      },
                      {
                        "learn": [
                          78458.92401
                        ],
                        "iteration": 19,
                        "passed_time": 1.888276501,
                        "remaining_time": 92.52554853,
                        "test": [
                          78243.83265
                        ]
                      },
                      {
                        "learn": [
                          77229.93631
                        ],
                        "iteration": 20,
                        "passed_time": 1.976903518,
                        "remaining_time": 92.16135925,
                        "test": [
                          77032.81508
                        ]
                      },
                      {
                        "learn": [
                          76070.50418
                        ],
                        "iteration": 21,
                        "passed_time": 2.063659507,
                        "remaining_time": 91.73904537,
                        "test": [
                          75877.92084
                        ]
                      },
                      {
                        "learn": [
                          75096.68071
                        ],
                        "iteration": 22,
                        "passed_time": 2.179533354,
                        "remaining_time": 92.58278637,
                        "test": [
                          74901.7025
                        ]
                      },
                      {
                        "learn": [
                          74048.4091
                        ],
                        "iteration": 23,
                        "passed_time": 2.271050681,
                        "remaining_time": 92.35606103,
                        "test": [
                          73866.03629
                        ]
                      },
                      {
                        "learn": [
                          73198.86356
                        ],
                        "iteration": 24,
                        "passed_time": 2.356505759,
                        "remaining_time": 91.90372461,
                        "test": [
                          73011.56098
                        ]
                      },
                      {
                        "learn": [
                          72411.69703
                        ],
                        "iteration": 25,
                        "passed_time": 2.443429643,
                        "remaining_time": 91.53463357,
                        "test": [
                          72231.97971
                        ]
                      },
                      {
                        "learn": [
                          71639.95223
                        ],
                        "iteration": 26,
                        "passed_time": 2.53058822,
                        "remaining_time": 91.19490139,
                        "test": [
                          71456.40678
                        ]
                      },
                      {
                        "learn": [
                          70952.95827
                        ],
                        "iteration": 27,
                        "passed_time": 2.616878119,
                        "remaining_time": 90.84305471,
                        "test": [
                          70768.4125
                        ]
                      },
                      {
                        "learn": [
                          70316.07108
                        ],
                        "iteration": 28,
                        "passed_time": 2.701001237,
                        "remaining_time": 90.43697245,
                        "test": [
                          70129.10512
                        ]
                      },
                      {
                        "learn": [
                          69695.75572
                        ],
                        "iteration": 29,
                        "passed_time": 2.783797428,
                        "remaining_time": 90.00945016,
                        "test": [
                          69512.05796
                        ]
                      },
                      {
                        "learn": [
                          69169.03013
                        ],
                        "iteration": 30,
                        "passed_time": 2.86837969,
                        "remaining_time": 89.65999742,
                        "test": [
                          68986.43642
                        ]
                      },
                      {
                        "learn": [
                          68666.01112
                        ],
                        "iteration": 31,
                        "passed_time": 2.957064609,
                        "remaining_time": 89.45120442,
                        "test": [
                          68484.40109
                        ]
                      },
                      {
                        "learn": [
                          68206.05274
                        ],
                        "iteration": 32,
                        "passed_time": 3.042365506,
                        "remaining_time": 89.15052861,
                        "test": [
                          68022.66287
                        ]
                      },
                      {
                        "learn": [
                          67713.96477
                        ],
                        "iteration": 33,
                        "passed_time": 3.132981809,
                        "remaining_time": 89.01354198,
                        "test": [
                          67540.70425
                        ]
                      },
                      {
                        "learn": [
                          67327.23652
                        ],
                        "iteration": 34,
                        "passed_time": 3.239060679,
                        "remaining_time": 89.30553015,
                        "test": [
                          67154.24723
                        ]
                      },
                      {
                        "learn": [
                          66785.14532
                        ],
                        "iteration": 35,
                        "passed_time": 3.328768952,
                        "remaining_time": 89.13703528,
                        "test": [
                          66612.28775
                        ]
                      },
                      {
                        "learn": [
                          66435.74593
                        ],
                        "iteration": 36,
                        "passed_time": 3.414579034,
                        "remaining_time": 88.87134079,
                        "test": [
                          66259.87387
                        ]
                      },
                      {
                        "learn": [
                          66128.50716
                        ],
                        "iteration": 37,
                        "passed_time": 3.551225736,
                        "remaining_time": 89.9020831,
                        "test": [
                          65954.9279
                        ]
                      },
                      {
                        "learn": [
                          65603.33962
                        ],
                        "iteration": 38,
                        "passed_time": 3.714606723,
                        "remaining_time": 91.53171951,
                        "test": [
                          65431.13528
                        ]
                      },
                      {
                        "learn": [
                          65145.23018
                        ],
                        "iteration": 39,
                        "passed_time": 3.903176914,
                        "remaining_time": 93.67624593,
                        "test": [
                          64978.37317
                        ]
                      },
                      {
                        "learn": [
                          64851.31352
                        ],
                        "iteration": 40,
                        "passed_time": 4.083308169,
                        "remaining_time": 95.50957401,
                        "test": [
                          64684.03651
                        ]
                      },
                      {
                        "learn": [
                          64573.52632
                        ],
                        "iteration": 41,
                        "passed_time": 4.27764463,
                        "remaining_time": 97.57103704,
                        "test": [
                          64403.39027
                        ]
                      },
                      {
                        "learn": [
                          64241.12061
                        ],
                        "iteration": 42,
                        "passed_time": 4.464440009,
                        "remaining_time": 99.35974625,
                        "test": [
                          64075.1184
                        ]
                      },
                      {
                        "learn": [
                          64015.12431
                        ],
                        "iteration": 43,
                        "passed_time": 4.662808886,
                        "remaining_time": 101.3101203,
                        "test": [
                          63849.30868
                        ]
                      },
                      {
                        "learn": [
                          63799.53893
                        ],
                        "iteration": 44,
                        "passed_time": 4.855775229,
                        "remaining_time": 103.050341,
                        "test": [
                          63637.92887
                        ]
                      },
                      {
                        "learn": [
                          63518.74535
                        ],
                        "iteration": 45,
                        "passed_time": 5.029991346,
                        "remaining_time": 104.3176466,
                        "test": [
                          63363.96073
                        ]
                      },
                      {
                        "learn": [
                          63199.09037
                        ],
                        "iteration": 46,
                        "passed_time": 5.202750238,
                        "remaining_time": 105.4940633,
                        "test": [
                          63047.20822
                        ]
                      },
                      {
                        "learn": [
                          62833.00232
                        ],
                        "iteration": 47,
                        "passed_time": 5.400141759,
                        "remaining_time": 107.1028115,
                        "test": [
                          62686.24456
                        ]
                      },
                      {
                        "learn": [
                          62574.96732
                        ],
                        "iteration": 48,
                        "passed_time": 5.59650977,
                        "remaining_time": 108.6179753,
                        "test": [
                          62434.77012
                        ]
                      },
                      {
                        "learn": [
                          62334.08261
                        ],
                        "iteration": 49,
                        "passed_time": 5.789887349,
                        "remaining_time": 110.0078596,
                        "test": [
                          62197.24497
                        ]
                      },
                      {
                        "learn": [
                          62191.27321
                        ],
                        "iteration": 50,
                        "passed_time": 5.975560083,
                        "remaining_time": 111.1922847,
                        "test": [
                          62056.27039
                        ]
                      },
                      {
                        "learn": [
                          61835.09396
                        ],
                        "iteration": 51,
                        "passed_time": 6.171357177,
                        "remaining_time": 112.5085885,
                        "test": [
                          61701.00173
                        ]
                      },
                      {
                        "learn": [
                          61593.71431
                        ],
                        "iteration": 52,
                        "passed_time": 6.361840544,
                        "remaining_time": 113.6728867,
                        "test": [
                          61459.06929
                        ]
                      },
                      {
                        "learn": [
                          61432.85199
                        ],
                        "iteration": 53,
                        "passed_time": 6.550715588,
                        "remaining_time": 114.7588323,
                        "test": [
                          61296.44168
                        ]
                      },
                      {
                        "learn": [
                          61279.66422
                        ],
                        "iteration": 54,
                        "passed_time": 6.736617088,
                        "remaining_time": 115.74733,
                        "test": [
                          61144.4105
                        ]
                      },
                      {
                        "learn": [
                          61032.05034
                        ],
                        "iteration": 55,
                        "passed_time": 6.914390179,
                        "remaining_time": 116.556863,
                        "test": [
                          60900.61506
                        ]
                      },
                      {
                        "learn": [
                          60808.06497
                        ],
                        "iteration": 56,
                        "passed_time": 7.096126828,
                        "remaining_time": 117.3973263,
                        "test": [
                          60675.20222
                        ]
                      },
                      {
                        "learn": [
                          60597.95629
                        ],
                        "iteration": 57,
                        "passed_time": 7.242026229,
                        "remaining_time": 117.620495,
                        "test": [
                          60463.62388
                        ]
                      },
                      {
                        "learn": [
                          60342.05277
                        ],
                        "iteration": 58,
                        "passed_time": 7.413873019,
                        "remaining_time": 118.2449917,
                        "test": [
                          60207.08726
                        ]
                      },
                      {
                        "learn": [
                          60221.11227
                        ],
                        "iteration": 59,
                        "passed_time": 7.503707827,
                        "remaining_time": 117.5580893,
                        "test": [
                          60087.92885
                        ]
                      },
                      {
                        "learn": [
                          60082.57963
                        ],
                        "iteration": 60,
                        "passed_time": 7.600867328,
                        "remaining_time": 117.0035151,
                        "test": [
                          59949.16768
                        ]
                      },
                      {
                        "learn": [
                          60001.98907
                        ],
                        "iteration": 61,
                        "passed_time": 7.680052215,
                        "remaining_time": 116.1917577,
                        "test": [
                          59868.016
                        ]
                      },
                      {
                        "learn": [
                          59851.10982
                        ],
                        "iteration": 62,
                        "passed_time": 7.77240869,
                        "remaining_time": 115.5991578,
                        "test": [
                          59720.14621
                        ]
                      },
                      {
                        "learn": [
                          59752.28443
                        ],
                        "iteration": 63,
                        "passed_time": 7.853628171,
                        "remaining_time": 114.859312,
                        "test": [
                          59622.28363
                        ]
                      },
                      {
                        "learn": [
                          59557.76718
                        ],
                        "iteration": 64,
                        "passed_time": 7.943400982,
                        "remaining_time": 114.262768,
                        "test": [
                          59425.56307
                        ]
                      },
                      {
                        "learn": [
                          59273.38891
                        ],
                        "iteration": 65,
                        "passed_time": 8.03204035,
                        "remaining_time": 113.6655407,
                        "test": [
                          59141.20638
                        ]
                      },
                      {
                        "learn": [
                          59020.11914
                        ],
                        "iteration": 66,
                        "passed_time": 8.128568007,
                        "remaining_time": 113.1933425,
                        "test": [
                          58890.92163
                        ]
                      },
                      {
                        "learn": [
                          58822.42746
                        ],
                        "iteration": 67,
                        "passed_time": 8.21561339,
                        "remaining_time": 112.6022306,
                        "test": [
                          58693.38229
                        ]
                      },
                      {
                        "learn": [
                          58626.21616
                        ],
                        "iteration": 68,
                        "passed_time": 8.302219861,
                        "remaining_time": 112.0198071,
                        "test": [
                          58493.29213
                        ]
                      },
                      {
                        "learn": [
                          58444.52132
                        ],
                        "iteration": 69,
                        "passed_time": 8.407592135,
                        "remaining_time": 111.7008669,
                        "test": [
                          58315.22104
                        ]
                      },
                      {
                        "learn": [
                          58266.65352
                        ],
                        "iteration": 70,
                        "passed_time": 8.503730172,
                        "remaining_time": 111.2671173,
                        "test": [
                          58143.98357
                        ]
                      },
                      {
                        "learn": [
                          58098.22351
                        ],
                        "iteration": 71,
                        "passed_time": 8.608750267,
                        "remaining_time": 110.9572257,
                        "test": [
                          57974.51484
                        ]
                      },
                      {
                        "learn": [
                          57836.36029
                        ],
                        "iteration": 72,
                        "passed_time": 8.707200295,
                        "remaining_time": 110.5695161,
                        "test": [
                          57713.09088
                        ]
                      },
                      {
                        "learn": [
                          57735.32623
                        ],
                        "iteration": 73,
                        "passed_time": 8.79473515,
                        "remaining_time": 110.0530371,
                        "test": [
                          57611.1321
                        ]
                      },
                      {
                        "learn": [
                          57613.33438
                        ],
                        "iteration": 74,
                        "passed_time": 8.886154328,
                        "remaining_time": 109.5959034,
                        "test": [
                          57489.48914
                        ]
                      },
                      {
                        "learn": [
                          57402.72056
                        ],
                        "iteration": 75,
                        "passed_time": 8.972857264,
                        "remaining_time": 109.0910541,
                        "test": [
                          57279.71359
                        ]
                      },
                      {
                        "learn": [
                          57333.97555
                        ],
                        "iteration": 76,
                        "passed_time": 9.060119243,
                        "remaining_time": 108.603767,
                        "test": [
                          57210.18296
                        ]
                      },
                      {
                        "learn": [
                          57210.68909
                        ],
                        "iteration": 77,
                        "passed_time": 9.144393091,
                        "remaining_time": 108.0914158,
                        "test": [
                          57086.72149
                        ]
                      },
                      {
                        "learn": [
                          57067.93642
                        ],
                        "iteration": 78,
                        "passed_time": 9.232053377,
                        "remaining_time": 107.6293818,
                        "test": [
                          56942.48561
                        ]
                      },
                      {
                        "learn": [
                          56977.69789
                        ],
                        "iteration": 79,
                        "passed_time": 9.316299144,
                        "remaining_time": 107.1374402,
                        "test": [
                          56854.87601
                        ]
                      },
                      {
                        "learn": [
                          56814.30028
                        ],
                        "iteration": 80,
                        "passed_time": 9.411410222,
                        "remaining_time": 106.7788394,
                        "test": [
                          56690.38098
                        ]
                      },
                      {
                        "learn": [
                          56748.29275
                        ],
                        "iteration": 81,
                        "passed_time": 9.500453393,
                        "remaining_time": 106.3587343,
                        "test": [
                          56625.54746
                        ]
                      },
                      {
                        "learn": [
                          56619.73062
                        ],
                        "iteration": 82,
                        "passed_time": 9.61182368,
                        "remaining_time": 106.1932809,
                        "test": [
                          56498.14462
                        ]
                      },
                      {
                        "learn": [
                          56506.57231
                        ],
                        "iteration": 83,
                        "passed_time": 9.705887115,
                        "remaining_time": 105.8403881,
                        "test": [
                          56385.23598
                        ]
                      },
                      {
                        "learn": [
                          56359.23132
                        ],
                        "iteration": 84,
                        "passed_time": 9.798997688,
                        "remaining_time": 105.4833281,
                        "test": [
                          56234.5877
                        ]
                      },
                      {
                        "learn": [
                          56254.08931
                        ],
                        "iteration": 85,
                        "passed_time": 9.8826886,
                        "remaining_time": 105.0322951,
                        "test": [
                          56132.95796
                        ]
                      },
                      {
                        "learn": [
                          56141.76953
                        ],
                        "iteration": 86,
                        "passed_time": 9.976767512,
                        "remaining_time": 104.6987211,
                        "test": [
                          56019.63969
                        ]
                      },
                      {
                        "learn": [
                          55941.47268
                        ],
                        "iteration": 87,
                        "passed_time": 10.06738935,
                        "remaining_time": 104.3347624,
                        "test": [
                          55818.42246
                        ]
                      },
                      {
                        "learn": [
                          55837.83888
                        ],
                        "iteration": 88,
                        "passed_time": 10.16199962,
                        "remaining_time": 104.0177714,
                        "test": [
                          55714.31406
                        ]
                      },
                      {
                        "learn": [
                          55727.87815
                        ],
                        "iteration": 89,
                        "passed_time": 10.25084472,
                        "remaining_time": 103.6474299,
                        "test": [
                          55603.94415
                        ]
                      },
                      {
                        "learn": [
                          55610.35238
                        ],
                        "iteration": 90,
                        "passed_time": 10.34197024,
                        "remaining_time": 103.3060543,
                        "test": [
                          55484.87063
                        ]
                      },
                      {
                        "learn": [
                          55543.49781
                        ],
                        "iteration": 91,
                        "passed_time": 10.42934465,
                        "remaining_time": 102.9330972,
                        "test": [
                          55418.63077
                        ]
                      },
                      {
                        "learn": [
                          55462.99569
                        ],
                        "iteration": 92,
                        "passed_time": 10.51692032,
                        "remaining_time": 102.5682444,
                        "test": [
                          55339.40437
                        ]
                      },
                      {
                        "learn": [
                          55202.16454
                        ],
                        "iteration": 93,
                        "passed_time": 10.60929665,
                        "remaining_time": 102.2555613,
                        "test": [
                          55078.96296
                        ]
                      },
                      {
                        "learn": [
                          55131.28012
                        ],
                        "iteration": 94,
                        "passed_time": 10.72293809,
                        "remaining_time": 102.1500944,
                        "test": [
                          55008.40309
                        ]
                      },
                      {
                        "learn": [
                          55072.93446
                        ],
                        "iteration": 95,
                        "passed_time": 10.81221963,
                        "remaining_time": 101.8150682,
                        "test": [
                          54950.55866
                        ]
                      },
                      {
                        "learn": [
                          54960.03906
                        ],
                        "iteration": 96,
                        "passed_time": 10.9059273,
                        "remaining_time": 101.5263129,
                        "test": [
                          54837.68059
                        ]
                      },
                      {
                        "learn": [
                          54909.59911
                        ],
                        "iteration": 97,
                        "passed_time": 10.98963212,
                        "remaining_time": 101.1494711,
                        "test": [
                          54789.41564
                        ]
                      },
                      {
                        "learn": [
                          54772.3097
                        ],
                        "iteration": 98,
                        "passed_time": 11.08069834,
                        "remaining_time": 100.8455475,
                        "test": [
                          54652.64081
                        ]
                      },
                      {
                        "learn": [
                          54742.42981
                        ],
                        "iteration": 99,
                        "passed_time": 11.16864048,
                        "remaining_time": 100.5177644,
                        "test": [
                          54623.37107
                        ]
                      },
                      {
                        "learn": [
                          54631.05029
                        ],
                        "iteration": 100,
                        "passed_time": 11.2576645,
                        "remaining_time": 100.2043603,
                        "test": [
                          54510.73291
                        ]
                      },
                      {
                        "learn": [
                          54513.2784
                        ],
                        "iteration": 101,
                        "passed_time": 11.34654715,
                        "remaining_time": 99.89411119,
                        "test": [
                          54392.54651
                        ]
                      },
                      {
                        "learn": [
                          54412.12352
                        ],
                        "iteration": 102,
                        "passed_time": 11.43813322,
                        "remaining_time": 99.61170391,
                        "test": [
                          54297.15518
                        ]
                      },
                      {
                        "learn": [
                          54290.42616
                        ],
                        "iteration": 103,
                        "passed_time": 11.53354179,
                        "remaining_time": 99.36589848,
                        "test": [
                          54174.17773
                        ]
                      },
                      {
                        "learn": [
                          54175.8405
                        ],
                        "iteration": 104,
                        "passed_time": 11.62729622,
                        "remaining_time": 99.10885827,
                        "test": [
                          54059.32838
                        ]
                      },
                      {
                        "learn": [
                          54041.1007
                        ],
                        "iteration": 105,
                        "passed_time": 11.74544602,
                        "remaining_time": 99.0606485,
                        "test": [
                          53922.02601
                        ]
                      },
                      {
                        "learn": [
                          53967.41922
                        ],
                        "iteration": 106,
                        "passed_time": 11.82781357,
                        "remaining_time": 98.7125002,
                        "test": [
                          53849.58618
                        ]
                      },
                      {
                        "learn": [
                          53861.38463
                        ],
                        "iteration": 107,
                        "passed_time": 11.91269277,
                        "remaining_time": 98.39001803,
                        "test": [
                          53740.15844
                        ]
                      },
                      {
                        "learn": [
                          53727.80704
                        ],
                        "iteration": 108,
                        "passed_time": 12.00500399,
                        "remaining_time": 98.13264731,
                        "test": [
                          53608.90573
                        ]
                      },
                      {
                        "learn": [
                          53627.21324
                        ],
                        "iteration": 109,
                        "passed_time": 12.09071084,
                        "remaining_time": 97.82484222,
                        "test": [
                          53503.10274
                        ]
                      },
                      {
                        "learn": [
                          53511.11565
                        ],
                        "iteration": 110,
                        "passed_time": 12.18413389,
                        "remaining_time": 97.58283808,
                        "test": [
                          53385.65931
                        ]
                      },
                      {
                        "learn": [
                          53476.1253
                        ],
                        "iteration": 111,
                        "passed_time": 12.26134183,
                        "remaining_time": 97.21492454,
                        "test": [
                          53351.18138
                        ]
                      },
                      {
                        "learn": [
                          53429.48852
                        ],
                        "iteration": 112,
                        "passed_time": 12.34553758,
                        "remaining_time": 96.90700735,
                        "test": [
                          53306.19025
                        ]
                      },
                      {
                        "learn": [
                          53385.92257
                        ],
                        "iteration": 113,
                        "passed_time": 12.43621311,
                        "remaining_time": 96.65337558,
                        "test": [
                          53262.87363
                        ]
                      },
                      {
                        "learn": [
                          53357.23131
                        ],
                        "iteration": 114,
                        "passed_time": 12.51691144,
                        "remaining_time": 96.32579671,
                        "test": [
                          53236.05661
                        ]
                      },
                      {
                        "learn": [
                          53227.72087
                        ],
                        "iteration": 115,
                        "passed_time": 12.60603776,
                        "remaining_time": 96.06670154,
                        "test": [
                          53106.53923
                        ]
                      },
                      {
                        "learn": [
                          53002.72584
                        ],
                        "iteration": 116,
                        "passed_time": 12.71111116,
                        "remaining_time": 95.93086458,
                        "test": [
                          52883.73166
                        ]
                      },
                      {
                        "learn": [
                          52893.00238
                        ],
                        "iteration": 117,
                        "passed_time": 12.81850431,
                        "remaining_time": 95.81288812,
                        "test": [
                          52777.32864
                        ]
                      },
                      {
                        "learn": [
                          52827.01312
                        ],
                        "iteration": 118,
                        "passed_time": 12.89702152,
                        "remaining_time": 95.48131059,
                        "test": [
                          52714.02307
                        ]
                      },
                      {
                        "learn": [
                          52741.96146
                        ],
                        "iteration": 119,
                        "passed_time": 12.99415297,
                        "remaining_time": 95.2904551,
                        "test": [
                          52629.36544
                        ]
                      },
                      {
                        "learn": [
                          52653.89232
                        ],
                        "iteration": 120,
                        "passed_time": 13.08896233,
                        "remaining_time": 95.08428004,
                        "test": [
                          52544.49502
                        ]
                      },
                      {
                        "learn": [
                          52589.669
                        ],
                        "iteration": 121,
                        "passed_time": 13.18023656,
                        "remaining_time": 94.85448935,
                        "test": [
                          52479.90445
                        ]
                      },
                      {
                        "learn": [
                          52523.07972
                        ],
                        "iteration": 122,
                        "passed_time": 13.26051067,
                        "remaining_time": 94.54851914,
                        "test": [
                          52414.4909
                        ]
                      },
                      {
                        "learn": [
                          52346.92338
                        ],
                        "iteration": 123,
                        "passed_time": 13.35499446,
                        "remaining_time": 94.34657374,
                        "test": [
                          52238.39755
                        ]
                      },
                      {
                        "learn": [
                          52218.58139
                        ],
                        "iteration": 124,
                        "passed_time": 13.44751084,
                        "remaining_time": 94.13257587,
                        "test": [
                          52111.55806
                        ]
                      },
                      {
                        "learn": [
                          52113.92158
                        ],
                        "iteration": 125,
                        "passed_time": 13.53814447,
                        "remaining_time": 93.90744657,
                        "test": [
                          52003.65086
                        ]
                      },
                      {
                        "learn": [
                          52053.35071
                        ],
                        "iteration": 126,
                        "passed_time": 13.62437775,
                        "remaining_time": 93.65418719,
                        "test": [
                          51940.9082
                        ]
                      },
                      {
                        "learn": [
                          51992.27939
                        ],
                        "iteration": 127,
                        "passed_time": 13.71538563,
                        "remaining_time": 93.43606459,
                        "test": [
                          51878.5723
                        ]
                      },
                      {
                        "learn": [
                          51883.12729
                        ],
                        "iteration": 128,
                        "passed_time": 13.8211764,
                        "remaining_time": 93.3197259,
                        "test": [
                          51773.72324
                        ]
                      },
                      {
                        "learn": [
                          51839.62313
                        ],
                        "iteration": 129,
                        "passed_time": 13.90965102,
                        "remaining_time": 93.08766451,
                        "test": [
                          51731.93098
                        ]
                      },
                      {
                        "learn": [
                          51802.17499
                        ],
                        "iteration": 130,
                        "passed_time": 13.99181104,
                        "remaining_time": 92.81590681,
                        "test": [
                          51695.01457
                        ]
                      },
                      {
                        "learn": [
                          51722.17236
                        ],
                        "iteration": 131,
                        "passed_time": 14.08309324,
                        "remaining_time": 92.60700704,
                        "test": [
                          51614.13196
                        ]
                      },
                      {
                        "learn": [
                          51654.67963
                        ],
                        "iteration": 132,
                        "passed_time": 14.17239897,
                        "remaining_time": 92.38699178,
                        "test": [
                          51547.00626
                        ]
                      },
                      {
                        "learn": [
                          51590.11997
                        ],
                        "iteration": 133,
                        "passed_time": 14.25786836,
                        "remaining_time": 92.14413435,
                        "test": [
                          51483.58654
                        ]
                      },
                      {
                        "learn": [
                          51495.92992
                        ],
                        "iteration": 134,
                        "passed_time": 14.34538317,
                        "remaining_time": 91.91671439,
                        "test": [
                          51388.86101
                        ]
                      },
                      {
                        "learn": [
                          51453.98948
                        ],
                        "iteration": 135,
                        "passed_time": 14.43946944,
                        "remaining_time": 91.73309998,
                        "test": [
                          51345.08483
                        ]
                      },
                      {
                        "learn": [
                          51338.16386
                        ],
                        "iteration": 136,
                        "passed_time": 14.53320085,
                        "remaining_time": 91.5485572,
                        "test": [
                          51229.65432
                        ]
                      },
                      {
                        "learn": [
                          51284.62302
                        ],
                        "iteration": 137,
                        "passed_time": 14.62080506,
                        "remaining_time": 91.32705767,
                        "test": [
                          51177.49928
                        ]
                      },
                      {
                        "learn": [
                          51216.5235
                        ],
                        "iteration": 138,
                        "passed_time": 14.70670675,
                        "remaining_time": 91.09693895,
                        "test": [
                          51109.06492
                        ]
                      },
                      {
                        "learn": [
                          51134.44789
                        ],
                        "iteration": 139,
                        "passed_time": 14.81468776,
                        "remaining_time": 91.00451051,
                        "test": [
                          51026.69388
                        ]
                      },
                      {
                        "learn": [
                          51038.00292
                        ],
                        "iteration": 140,
                        "passed_time": 14.91897359,
                        "remaining_time": 90.88934972,
                        "test": [
                          50929.64736
                        ]
                      },
                      {
                        "learn": [
                          50944.96982
                        ],
                        "iteration": 141,
                        "passed_time": 15.01381123,
                        "remaining_time": 90.71725375,
                        "test": [
                          50837.89188
                        ]
                      },
                      {
                        "learn": [
                          50916.93336
                        ],
                        "iteration": 142,
                        "passed_time": 15.09186336,
                        "remaining_time": 90.44564265,
                        "test": [
                          50810.40167
                        ]
                      },
                      {
                        "learn": [
                          50808.493
                        ],
                        "iteration": 143,
                        "passed_time": 15.18376583,
                        "remaining_time": 90.25905243,
                        "test": [
                          50700.02026
                        ]
                      },
                      {
                        "learn": [
                          50751.3561
                        ],
                        "iteration": 144,
                        "passed_time": 15.25897413,
                        "remaining_time": 89.9753302,
                        "test": [
                          50641.10102
                        ]
                      },
                      {
                        "learn": [
                          50650.08303
                        ],
                        "iteration": 145,
                        "passed_time": 15.35624094,
                        "remaining_time": 89.82349153,
                        "test": [
                          50538.23395
                        ]
                      },
                      {
                        "learn": [
                          50504.8562
                        ],
                        "iteration": 146,
                        "passed_time": 15.44751141,
                        "remaining_time": 89.63760023,
                        "test": [
                          50389.13694
                        ]
                      },
                      {
                        "learn": [
                          50336.71675
                        ],
                        "iteration": 147,
                        "passed_time": 15.5397673,
                        "remaining_time": 89.45866042,
                        "test": [
                          50220.74591
                        ]
                      },
                      {
                        "learn": [
                          50241.92434
                        ],
                        "iteration": 148,
                        "passed_time": 15.62303533,
                        "remaining_time": 89.22955077,
                        "test": [
                          50127.17617
                        ]
                      },
                      {
                        "learn": [
                          50170.05134
                        ],
                        "iteration": 149,
                        "passed_time": 15.7120202,
                        "remaining_time": 89.03478114,
                        "test": [
                          50056.11438
                        ]
                      },
                      {
                        "learn": [
                          50090.78202
                        ],
                        "iteration": 150,
                        "passed_time": 15.80821961,
                        "remaining_time": 88.88197651,
                        "test": [
                          49978.41183
                        ]
                      },
                      {
                        "learn": [
                          50041.8252
                        ],
                        "iteration": 151,
                        "passed_time": 15.90894455,
                        "remaining_time": 88.75516431,
                        "test": [
                          49928.43286
                        ]
                      },
                      {
                        "learn": [
                          49983.30992
                        ],
                        "iteration": 152,
                        "passed_time": 15.99201698,
                        "remaining_time": 88.53096983,
                        "test": [
                          49869.02458
                        ]
                      },
                      {
                        "learn": [
                          49930.58982
                        ],
                        "iteration": 153,
                        "passed_time": 16.08236231,
                        "remaining_time": 88.34856179,
                        "test": [
                          49815.62513
                        ]
                      },
                      {
                        "learn": [
                          49865.52328
                        ],
                        "iteration": 154,
                        "passed_time": 16.16922399,
                        "remaining_time": 88.14835012,
                        "test": [
                          49751.83342
                        ]
                      },
                      {
                        "learn": [
                          49775.32857
                        ],
                        "iteration": 155,
                        "passed_time": 16.26898866,
                        "remaining_time": 88.01940017,
                        "test": [
                          49660.69258
                        ]
                      },
                      {
                        "learn": [
                          49688.06882
                        ],
                        "iteration": 156,
                        "passed_time": 16.35973482,
                        "remaining_time": 87.84239782,
                        "test": [
                          49573.86663
                        ]
                      },
                      {
                        "learn": [
                          49650.46282
                        ],
                        "iteration": 157,
                        "passed_time": 16.45254911,
                        "remaining_time": 87.67750856,
                        "test": [
                          49536.92301
                        ]
                      },
                      {
                        "learn": [
                          49610.17699
                        ],
                        "iteration": 158,
                        "passed_time": 16.56383373,
                        "remaining_time": 87.61122116,
                        "test": [
                          49497.37068
                        ]
                      },
                      {
                        "learn": [
                          49464.09523
                        ],
                        "iteration": 159,
                        "passed_time": 16.66677817,
                        "remaining_time": 87.50058537,
                        "test": [
                          49352.01594
                        ]
                      },
                      {
                        "learn": [
                          49344.5927
                        ],
                        "iteration": 160,
                        "passed_time": 16.76715966,
                        "remaining_time": 87.37668915,
                        "test": [
                          49229.0527
                        ]
                      },
                      {
                        "learn": [
                          49286.67055
                        ],
                        "iteration": 161,
                        "passed_time": 16.85723737,
                        "remaining_time": 87.19978346,
                        "test": [
                          49173.48189
                        ]
                      },
                      {
                        "learn": [
                          49202.67484
                        ],
                        "iteration": 162,
                        "passed_time": 16.96954626,
                        "remaining_time": 87.13809952,
                        "test": [
                          49086.69941
                        ]
                      },
                      {
                        "learn": [
                          49157.05258
                        ],
                        "iteration": 163,
                        "passed_time": 17.05484326,
                        "remaining_time": 86.93810344,
                        "test": [
                          49040.64851
                        ]
                      },
                      {
                        "learn": [
                          49109.4951
                        ],
                        "iteration": 164,
                        "passed_time": 17.14123671,
                        "remaining_time": 86.74504639,
                        "test": [
                          48991.76194
                        ]
                      },
                      {
                        "learn": [
                          49005.73452
                        ],
                        "iteration": 165,
                        "passed_time": 17.23958147,
                        "remaining_time": 86.61331896,
                        "test": [
                          48890.25681
                        ]
                      },
                      {
                        "learn": [
                          48929.62575
                        ],
                        "iteration": 166,
                        "passed_time": 17.32492315,
                        "remaining_time": 86.41713162,
                        "test": [
                          48815.60089
                        ]
                      },
                      {
                        "learn": [
                          48873.29922
                        ],
                        "iteration": 167,
                        "passed_time": 17.45647292,
                        "remaining_time": 86.45110401,
                        "test": [
                          48757.72994
                        ]
                      },
                      {
                        "learn": [
                          48827.79567
                        ],
                        "iteration": 168,
                        "passed_time": 17.607298,
                        "remaining_time": 86.57789729,
                        "test": [
                          48709.68775
                        ]
                      },
                      {
                        "learn": [
                          48781.29456
                        ],
                        "iteration": 169,
                        "passed_time": 17.78798546,
                        "remaining_time": 86.84722313,
                        "test": [
                          48663.12872
                        ]
                      },
                      {
                        "learn": [
                          48727.47351
                        ],
                        "iteration": 170,
                        "passed_time": 17.97652004,
                        "remaining_time": 87.14932816,
                        "test": [
                          48607.92378
                        ]
                      },
                      {
                        "learn": [
                          48699.8922
                        ],
                        "iteration": 171,
                        "passed_time": 18.16747859,
                        "remaining_time": 87.45739696,
                        "test": [
                          48581.3721
                        ]
                      },
                      {
                        "learn": [
                          48659.08843
                        ],
                        "iteration": 172,
                        "passed_time": 18.37074439,
                        "remaining_time": 87.81852956,
                        "test": [
                          48541.58862
                        ]
                      },
                      {
                        "learn": [
                          48567.33587
                        ],
                        "iteration": 173,
                        "passed_time": 18.55572788,
                        "remaining_time": 88.08638637,
                        "test": [
                          48448.45105
                        ]
                      },
                      {
                        "learn": [
                          48477.97672
                        ],
                        "iteration": 174,
                        "passed_time": 18.76129534,
                        "remaining_time": 88.4461066,
                        "test": [
                          48360.28318
                        ]
                      },
                      {
                        "learn": [
                          48380.99176
                        ],
                        "iteration": 175,
                        "passed_time": 18.95011277,
                        "remaining_time": 88.72098252,
                        "test": [
                          48265.13699
                        ]
                      },
                      {
                        "learn": [
                          48279.27067
                        ],
                        "iteration": 176,
                        "passed_time": 19.1421093,
                        "remaining_time": 89.00540086,
                        "test": [
                          48161.65693
                        ]
                      },
                      {
                        "learn": [
                          48211.69551
                        ],
                        "iteration": 177,
                        "passed_time": 19.34840865,
                        "remaining_time": 89.35051634,
                        "test": [
                          48092.9544
                        ]
                      },
                      {
                        "learn": [
                          48171.73074
                        ],
                        "iteration": 178,
                        "passed_time": 19.53877594,
                        "remaining_time": 89.61639691,
                        "test": [
                          48049.51086
                        ]
                      },
                      {
                        "learn": [
                          48086.1042
                        ],
                        "iteration": 179,
                        "passed_time": 19.74646502,
                        "remaining_time": 89.95611841,
                        "test": [
                          47966.58725
                        ]
                      },
                      {
                        "learn": [
                          47993.59496
                        ],
                        "iteration": 180,
                        "passed_time": 19.97527212,
                        "remaining_time": 90.38534732,
                        "test": [
                          47874.80093
                        ]
                      },
                      {
                        "learn": [
                          47919.61974
                        ],
                        "iteration": 181,
                        "passed_time": 20.16635774,
                        "remaining_time": 90.63780565,
                        "test": [
                          47802.11684
                        ]
                      },
                      {
                        "learn": [
                          47855.72282
                        ],
                        "iteration": 182,
                        "passed_time": 20.35331068,
                        "remaining_time": 90.86696625,
                        "test": [
                          47738.12312
                        ]
                      },
                      {
                        "learn": [
                          47770.81756
                        ],
                        "iteration": 183,
                        "passed_time": 20.54664704,
                        "remaining_time": 91.11991297,
                        "test": [
                          47653.06723
                        ]
                      },
                      {
                        "learn": [
                          47712.21341
                        ],
                        "iteration": 184,
                        "passed_time": 20.73184122,
                        "remaining_time": 91.33216538,
                        "test": [
                          47596.0723
                        ]
                      },
                      {
                        "learn": [
                          47664.32918
                        ],
                        "iteration": 185,
                        "passed_time": 20.91088776,
                        "remaining_time": 91.51323999,
                        "test": [
                          47546.99997
                        ]
                      },
                      {
                        "learn": [
                          47603.85743
                        ],
                        "iteration": 186,
                        "passed_time": 21.09646835,
                        "remaining_time": 91.71887041,
                        "test": [
                          47488.89078
                        ]
                      },
                      {
                        "learn": [
                          47540.32044
                        ],
                        "iteration": 187,
                        "passed_time": 21.25059282,
                        "remaining_time": 91.78447537,
                        "test": [
                          47423.56589
                        ]
                      },
                      {
                        "learn": [
                          47517.70881
                        ],
                        "iteration": 188,
                        "passed_time": 21.43558623,
                        "remaining_time": 91.98021393,
                        "test": [
                          47400.7555
                        ]
                      },
                      {
                        "learn": [
                          47457.00077
                        ],
                        "iteration": 189,
                        "passed_time": 21.53010659,
                        "remaining_time": 91.7862439,
                        "test": [
                          47340.69849
                        ]
                      },
                      {
                        "learn": [
                          47400.47837
                        ],
                        "iteration": 190,
                        "passed_time": 21.61992008,
                        "remaining_time": 91.57337877,
                        "test": [
                          47285.6568
                        ]
                      },
                      {
                        "learn": [
                          47344.60521
                        ],
                        "iteration": 191,
                        "passed_time": 21.71413188,
                        "remaining_time": 91.380305,
                        "test": [
                          47233.36089
                        ]
                      },
                      {
                        "learn": [
                          47299.73807
                        ],
                        "iteration": 192,
                        "passed_time": 21.80808486,
                        "remaining_time": 91.18717347,
                        "test": [
                          47187.58134
                        ]
                      },
                      {
                        "learn": [
                          47265.07752
                        ],
                        "iteration": 193,
                        "passed_time": 21.90667787,
                        "remaining_time": 91.01434209,
                        "test": [
                          47152.89036
                        ]
                      },
                      {
                        "learn": [
                          47156.07926
                        ],
                        "iteration": 194,
                        "passed_time": 21.99697137,
                        "remaining_time": 90.80801002,
                        "test": [
                          47043.83939
                        ]
                      },
                      {
                        "learn": [
                          47112.74641
                        ],
                        "iteration": 195,
                        "passed_time": 22.08229564,
                        "remaining_time": 90.58247805,
                        "test": [
                          47001.4822
                        ]
                      },
                      {
                        "learn": [
                          47056.86289
                        ],
                        "iteration": 196,
                        "passed_time": 22.17274386,
                        "remaining_time": 90.37925543,
                        "test": [
                          46946.27036
                        ]
                      },
                      {
                        "learn": [
                          46962.07244
                        ],
                        "iteration": 197,
                        "passed_time": 22.27286681,
                        "remaining_time": 90.21635952,
                        "test": [
                          46851.08291
                        ]
                      },
                      {
                        "learn": [
                          46916.36329
                        ],
                        "iteration": 198,
                        "passed_time": 22.37678617,
                        "remaining_time": 90.0693755,
                        "test": [
                          46803.43131
                        ]
                      },
                      {
                        "learn": [
                          46867.84921
                        ],
                        "iteration": 199,
                        "passed_time": 22.46715894,
                        "remaining_time": 89.86863577,
                        "test": [
                          46753.66274
                        ]
                      },
                      {
                        "learn": [
                          46822.18855
                        ],
                        "iteration": 200,
                        "passed_time": 22.55994953,
                        "remaining_time": 89.67860533,
                        "test": [
                          46709.0941
                        ]
                      },
                      {
                        "learn": [
                          46783.65507
                        ],
                        "iteration": 201,
                        "passed_time": 22.64799838,
                        "remaining_time": 89.47080549,
                        "test": [
                          46669.04003
                        ]
                      },
                      {
                        "learn": [
                          46753.03278
                        ],
                        "iteration": 202,
                        "passed_time": 22.73937205,
                        "remaining_time": 89.27723904,
                        "test": [
                          46639.10784
                        ]
                      },
                      {
                        "learn": [
                          46647.04597
                        ],
                        "iteration": 203,
                        "passed_time": 22.83265755,
                        "remaining_time": 89.09213436,
                        "test": [
                          46533.28498
                        ]
                      },
                      {
                        "learn": [
                          46589.22314
                        ],
                        "iteration": 204,
                        "passed_time": 22.93335028,
                        "remaining_time": 88.9366511,
                        "test": [
                          46475.57479
                        ]
                      },
                      {
                        "learn": [
                          46491.12351
                        ],
                        "iteration": 205,
                        "passed_time": 23.02162736,
                        "remaining_time": 88.73384526,
                        "test": [
                          46379.05796
                        ]
                      },
                      {
                        "learn": [
                          46419.86505
                        ],
                        "iteration": 206,
                        "passed_time": 23.11405242,
                        "remaining_time": 88.54803656,
                        "test": [
                          46310.65443
                        ]
                      },
                      {
                        "learn": [
                          46353.83019
                        ],
                        "iteration": 207,
                        "passed_time": 23.20066678,
                        "remaining_time": 88.34100045,
                        "test": [
                          46243.14901
                        ]
                      },
                      {
                        "learn": [
                          46321.47873
                        ],
                        "iteration": 208,
                        "passed_time": 23.29577384,
                        "remaining_time": 88.16725887,
                        "test": [
                          46209.19653
                        ]
                      },
                      {
                        "learn": [
                          46198.28557
                        ],
                        "iteration": 209,
                        "passed_time": 23.40553168,
                        "remaining_time": 88.04938109,
                        "test": [
                          46087.82341
                        ]
                      },
                      {
                        "learn": [
                          46165.98731
                        ],
                        "iteration": 210,
                        "passed_time": 23.49220364,
                        "remaining_time": 87.84525437,
                        "test": [
                          46056.27783
                        ]
                      },
                      {
                        "learn": [
                          46099.28759
                        ],
                        "iteration": 211,
                        "passed_time": 23.57637917,
                        "remaining_time": 87.63295652,
                        "test": [
                          45990.22336
                        ]
                      },
                      {
                        "learn": [
                          46061.51941
                        ],
                        "iteration": 212,
                        "passed_time": 23.67221852,
                        "remaining_time": 87.46495762,
                        "test": [
                          45952.62101
                        ]
                      },
                      {
                        "learn": [
                          45974.33924
                        ],
                        "iteration": 213,
                        "passed_time": 23.75466986,
                        "remaining_time": 87.24846032,
                        "test": [
                          45865.57418
                        ]
                      },
                      {
                        "learn": [
                          45922.18432
                        ],
                        "iteration": 214,
                        "passed_time": 23.84313151,
                        "remaining_time": 87.05515459,
                        "test": [
                          45815.83341
                        ]
                      },
                      {
                        "learn": [
                          45880.54382
                        ],
                        "iteration": 215,
                        "passed_time": 23.94686003,
                        "remaining_time": 86.91823271,
                        "test": [
                          45776.51728
                        ]
                      },
                      {
                        "learn": [
                          45801.65856
                        ],
                        "iteration": 216,
                        "passed_time": 24.03352842,
                        "remaining_time": 86.72005878,
                        "test": [
                          45698.44142
                        ]
                      },
                      {
                        "learn": [
                          45783.74442
                        ],
                        "iteration": 217,
                        "passed_time": 24.10964463,
                        "remaining_time": 86.48505549,
                        "test": [
                          45679.79987
                        ]
                      },
                      {
                        "learn": [
                          45710.69569
                        ],
                        "iteration": 218,
                        "passed_time": 24.20123813,
                        "remaining_time": 86.30669853,
                        "test": [
                          45607.67059
                        ]
                      },
                      {
                        "learn": [
                          45646.75099
                        ],
                        "iteration": 219,
                        "passed_time": 24.29209646,
                        "remaining_time": 86.1265238,
                        "test": [
                          45542.55458
                        ]
                      },
                      {
                        "learn": [
                          45595.13327
                        ],
                        "iteration": 220,
                        "passed_time": 24.40409227,
                        "remaining_time": 86.02166459,
                        "test": [
                          45492.04781
                        ]
                      },
                      {
                        "learn": [
                          45532.75091
                        ],
                        "iteration": 221,
                        "passed_time": 24.49058219,
                        "remaining_time": 85.8273556,
                        "test": [
                          45428.16989
                        ]
                      },
                      {
                        "learn": [
                          45491.78132
                        ],
                        "iteration": 222,
                        "passed_time": 24.58326325,
                        "remaining_time": 85.65558541,
                        "test": [
                          45384.99421
                        ]
                      },
                      {
                        "learn": [
                          45448.73082
                        ],
                        "iteration": 223,
                        "passed_time": 24.67647122,
                        "remaining_time": 85.48634671,
                        "test": [
                          45340.41687
                        ]
                      },
                      {
                        "learn": [
                          45395.6607
                        ],
                        "iteration": 224,
                        "passed_time": 24.76886342,
                        "remaining_time": 85.31497399,
                        "test": [
                          45284.92207
                        ]
                      },
                      {
                        "learn": [
                          45378.02965
                        ],
                        "iteration": 225,
                        "passed_time": 24.84908044,
                        "remaining_time": 85.10260291,
                        "test": [
                          45266.90939
                        ]
                      },
                      {
                        "learn": [
                          45338.46306
                        ],
                        "iteration": 226,
                        "passed_time": 24.9614267,
                        "remaining_time": 85.00080546,
                        "test": [
                          45227.75172
                        ]
                      },
                      {
                        "learn": [
                          45305.36103
                        ],
                        "iteration": 227,
                        "passed_time": 25.04578255,
                        "remaining_time": 84.80414093,
                        "test": [
                          45197.44395
                        ]
                      },
                      {
                        "learn": [
                          45242.00271
                        ],
                        "iteration": 228,
                        "passed_time": 25.13691216,
                        "remaining_time": 84.63126321,
                        "test": [
                          45135.8817
                        ]
                      },
                      {
                        "learn": [
                          45188.60327
                        ],
                        "iteration": 229,
                        "passed_time": 25.23661803,
                        "remaining_time": 84.48780818,
                        "test": [
                          45084.0126
                        ]
                      },
                      {
                        "learn": [
                          45131.73785
                        ],
                        "iteration": 230,
                        "passed_time": 25.33300642,
                        "remaining_time": 84.33368803,
                        "test": [
                          45028.71468
                        ]
                      },
                      {
                        "learn": [
                          45092.1194
                        ],
                        "iteration": 231,
                        "passed_time": 25.43801055,
                        "remaining_time": 84.20858664,
                        "test": [
                          44988.10309
                        ]
                      },
                      {
                        "learn": [
                          45036.51057
                        ],
                        "iteration": 232,
                        "passed_time": 25.52413188,
                        "remaining_time": 84.0214985,
                        "test": [
                          44932.15242
                        ]
                      },
                      {
                        "learn": [
                          44990.25287
                        ],
                        "iteration": 233,
                        "passed_time": 25.61433317,
                        "remaining_time": 83.8486291,
                        "test": [
                          44884.88201
                        ]
                      },
                      {
                        "learn": [
                          44946.11627
                        ],
                        "iteration": 234,
                        "passed_time": 25.70542996,
                        "remaining_time": 83.67937838,
                        "test": [
                          44841.38958
                        ]
                      },
                      {
                        "learn": [
                          44920.10128
                        ],
                        "iteration": 235,
                        "passed_time": 25.78882516,
                        "remaining_time": 83.48585771,
                        "test": [
                          44814.54235
                        ]
                      },
                      {
                        "learn": [
                          44868.23213
                        ],
                        "iteration": 236,
                        "passed_time": 25.87427508,
                        "remaining_time": 83.29988139,
                        "test": [
                          44761.3168
                        ]
                      },
                      {
                        "learn": [
                          44845.79537
                        ],
                        "iteration": 237,
                        "passed_time": 25.96814566,
                        "remaining_time": 83.14171005,
                        "test": [
                          44738.27687
                        ]
                      },
                      {
                        "learn": [
                          44809.92997
                        ],
                        "iteration": 238,
                        "passed_time": 26.05881207,
                        "remaining_time": 82.97387441,
                        "test": [
                          44703.71016
                        ]
                      },
                      {
                        "learn": [
                          44783.66303
                        ],
                        "iteration": 239,
                        "passed_time": 26.14065418,
                        "remaining_time": 82.77873825,
                        "test": [
                          44677.1318
                        ]
                      },
                      {
                        "learn": [
                          44765.20808
                        ],
                        "iteration": 240,
                        "passed_time": 26.22764474,
                        "remaining_time": 82.60075668,
                        "test": [
                          44661.10786
                        ]
                      },
                      {
                        "learn": [
                          44742.05225
                        ],
                        "iteration": 241,
                        "passed_time": 26.31099845,
                        "remaining_time": 82.41213564,
                        "test": [
                          44638.4052
                        ]
                      },
                      {
                        "learn": [
                          44672.3303
                        ],
                        "iteration": 242,
                        "passed_time": 26.40125343,
                        "remaining_time": 82.24588002,
                        "test": [
                          44569.02665
                        ]
                      },
                      {
                        "learn": [
                          44643.39214
                        ],
                        "iteration": 243,
                        "passed_time": 26.50717378,
                        "remaining_time": 82.12878434,
                        "test": [
                          44539.27433
                        ]
                      },
                      {
                        "learn": [
                          44608.67968
                        ],
                        "iteration": 244,
                        "passed_time": 26.60285751,
                        "remaining_time": 81.98023436,
                        "test": [
                          44506.21563
                        ]
                      },
                      {
                        "learn": [
                          44563.77499
                        ],
                        "iteration": 245,
                        "passed_time": 26.68900324,
                        "remaining_time": 81.80287985,
                        "test": [
                          44459.21865
                        ]
                      },
                      {
                        "learn": [
                          44501.95214
                        ],
                        "iteration": 246,
                        "passed_time": 26.78069504,
                        "remaining_time": 81.6431715,
                        "test": [
                          44397.34927
                        ]
                      },
                      {
                        "learn": [
                          44472.1777
                        ],
                        "iteration": 247,
                        "passed_time": 26.86474526,
                        "remaining_time": 81.46084047,
                        "test": [
                          44365.89947
                        ]
                      },
                      {
                        "learn": [
                          44446.42297
                        ],
                        "iteration": 248,
                        "passed_time": 26.96393068,
                        "remaining_time": 81.32494756,
                        "test": [
                          44339.15181
                        ]
                      },
                      {
                        "learn": [
                          44399.10175
                        ],
                        "iteration": 249,
                        "passed_time": 27.05017721,
                        "remaining_time": 81.15053162,
                        "test": [
                          44293.42039
                        ]
                      },
                      {
                        "learn": [
                          44375.83137
                        ],
                        "iteration": 250,
                        "passed_time": 27.13609015,
                        "remaining_time": 80.9758228,
                        "test": [
                          44269.22938
                        ]
                      },
                      {
                        "learn": [
                          44343.27016
                        ],
                        "iteration": 251,
                        "passed_time": 27.23059339,
                        "remaining_time": 80.82731688,
                        "test": [
                          44236.0362
                        ]
                      },
                      {
                        "learn": [
                          44261.09506
                        ],
                        "iteration": 252,
                        "passed_time": 27.32603277,
                        "remaining_time": 80.6820019,
                        "test": [
                          44156.12558
                        ]
                      },
                      {
                        "learn": [
                          44216.75262
                        ],
                        "iteration": 253,
                        "passed_time": 27.42406863,
                        "remaining_time": 80.54470552,
                        "test": [
                          44113.73822
                        ]
                      },
                      {
                        "learn": [
                          44128.6983
                        ],
                        "iteration": 254,
                        "passed_time": 27.53505555,
                        "remaining_time": 80.44555444,
                        "test": [
                          44028.88167
                        ]
                      },
                      {
                        "learn": [
                          44086.55386
                        ],
                        "iteration": 255,
                        "passed_time": 27.62776811,
                        "remaining_time": 80.29320107,
                        "test": [
                          43986.59279
                        ]
                      },
                      {
                        "learn": [
                          44047.57209
                        ],
                        "iteration": 256,
                        "passed_time": 27.71596186,
                        "remaining_time": 80.1282477,
                        "test": [
                          43949.6075
                        ]
                      },
                      {
                        "learn": [
                          43980.51886
                        ],
                        "iteration": 257,
                        "passed_time": 27.8033172,
                        "remaining_time": 79.96147814,
                        "test": [
                          43880.80696
                        ]
                      },
                      {
                        "learn": [
                          43933.80256
                        ],
                        "iteration": 258,
                        "passed_time": 27.89558704,
                        "remaining_time": 79.80938223,
                        "test": [
                          43831.54901
                        ]
                      },
                      {
                        "learn": [
                          43908.48072
                        ],
                        "iteration": 259,
                        "passed_time": 27.99328607,
                        "remaining_time": 79.67319881,
                        "test": [
                          43805.06933
                        ]
                      },
                      {
                        "learn": [
                          43847.48945
                        ],
                        "iteration": 260,
                        "passed_time": 28.08927325,
                        "remaining_time": 79.53246334,
                        "test": [
                          43744.02912
                        ]
                      },
                      {
                        "learn": [
                          43773.39327
                        ],
                        "iteration": 261,
                        "passed_time": 28.17818617,
                        "remaining_time": 79.37214273,
                        "test": [
                          43671.20757
                        ]
                      },
                      {
                        "learn": [
                          43694.46787
                        ],
                        "iteration": 262,
                        "passed_time": 28.26852844,
                        "remaining_time": 79.21637056,
                        "test": [
                          43592.5958
                        ]
                      },
                      {
                        "learn": [
                          43638.91668
                        ],
                        "iteration": 263,
                        "passed_time": 28.35879929,
                        "remaining_time": 79.06089498,
                        "test": [
                          43539.63722
                        ]
                      },
                      {
                        "learn": [
                          43616.7089
                        ],
                        "iteration": 264,
                        "passed_time": 28.4472176,
                        "remaining_time": 78.90077333,
                        "test": [
                          43516.90722
                        ]
                      },
                      {
                        "learn": [
                          43571.58623
                        ],
                        "iteration": 265,
                        "passed_time": 28.55603609,
                        "remaining_time": 78.79748305,
                        "test": [
                          43470.5791
                        ]
                      },
                      {
                        "learn": [
                          43499.7847
                        ],
                        "iteration": 266,
                        "passed_time": 28.65118968,
                        "remaining_time": 78.65663685,
                        "test": [
                          43400.8744
                        ]
                      },
                      {
                        "learn": [
                          43467.53336
                        ],
                        "iteration": 267,
                        "passed_time": 28.7332252,
                        "remaining_time": 78.48030168,
                        "test": [
                          43369.42765
                        ]
                      },
                      {
                        "learn": [
                          43407.64852
                        ],
                        "iteration": 268,
                        "passed_time": 28.82317254,
                        "remaining_time": 78.32616777,
                        "test": [
                          43311.45667
                        ]
                      },
                      {
                        "learn": [
                          43353.98293
                        ],
                        "iteration": 269,
                        "passed_time": 28.91311486,
                        "remaining_time": 78.17249574,
                        "test": [
                          43258.09875
                        ]
                      },
                      {
                        "learn": [
                          43326.95318
                        ],
                        "iteration": 270,
                        "passed_time": 29.02142863,
                        "remaining_time": 78.06871391,
                        "test": [
                          43231.63674
                        ]
                      },
                      {
                        "learn": [
                          43312.36914
                        ],
                        "iteration": 271,
                        "passed_time": 29.0928896,
                        "remaining_time": 77.86626333,
                        "test": [
                          43216.9534
                        ]
                      },
                      {
                        "learn": [
                          43278.25438
                        ],
                        "iteration": 272,
                        "passed_time": 29.18495067,
                        "remaining_time": 77.71963054,
                        "test": [
                          43181.24271
                        ]
                      },
                      {
                        "learn": [
                          43242.56284
                        ],
                        "iteration": 273,
                        "passed_time": 29.27373565,
                        "remaining_time": 77.56471562,
                        "test": [
                          43146.28737
                        ]
                      },
                      {
                        "learn": [
                          43198.88008
                        ],
                        "iteration": 274,
                        "passed_time": 29.3718748,
                        "remaining_time": 77.43494264,
                        "test": [
                          43102.52965
                        ]
                      },
                      {
                        "learn": [
                          43150.83321
                        ],
                        "iteration": 275,
                        "passed_time": 29.45604948,
                        "remaining_time": 77.26876748,
                        "test": [
                          43054.23201
                        ]
                      },
                      {
                        "learn": [
                          43084.58953
                        ],
                        "iteration": 276,
                        "passed_time": 29.54331556,
                        "remaining_time": 77.11125325,
                        "test": [
                          42989.89079
                        ]
                      },
                      {
                        "learn": [
                          43045.03386
                        ],
                        "iteration": 277,
                        "passed_time": 29.6507873,
                        "remaining_time": 77.00672099,
                        "test": [
                          42951.19695
                        ]
                      },
                      {
                        "learn": [
                          43016.56078
                        ],
                        "iteration": 278,
                        "passed_time": 29.74000519,
                        "remaining_time": 76.8549955,
                        "test": [
                          42921.72129
                        ]
                      },
                      {
                        "learn": [
                          42999.41015
                        ],
                        "iteration": 279,
                        "passed_time": 29.82273931,
                        "remaining_time": 76.68704394,
                        "test": [
                          42904.54011
                        ]
                      },
                      {
                        "learn": [
                          42956.08959
                        ],
                        "iteration": 280,
                        "passed_time": 29.91561447,
                        "remaining_time": 76.54564699,
                        "test": [
                          42863.86921
                        ]
                      },
                      {
                        "learn": [
                          42911.86386
                        ],
                        "iteration": 281,
                        "passed_time": 30.0183845,
                        "remaining_time": 76.42978748,
                        "test": [
                          42820.67292
                        ]
                      },
                      {
                        "learn": [
                          42867.56943
                        ],
                        "iteration": 282,
                        "passed_time": 30.11101644,
                        "remaining_time": 76.28833494,
                        "test": [
                          42777.46012
                        ]
                      },
                      {
                        "learn": [
                          42794.07005
                        ],
                        "iteration": 283,
                        "passed_time": 30.19510433,
                        "remaining_time": 76.12568556,
                        "test": [
                          42706.49681
                        ]
                      },
                      {
                        "learn": [
                          42757.47483
                        ],
                        "iteration": 284,
                        "passed_time": 30.28785334,
                        "remaining_time": 75.98531628,
                        "test": [
                          42670.97162
                        ]
                      },
                      {
                        "learn": [
                          42743.52712
                        ],
                        "iteration": 285,
                        "passed_time": 30.3670407,
                        "remaining_time": 75.8114233,
                        "test": [
                          42657.17642
                        ]
                      },
                      {
                        "learn": [
                          42718.06732
                        ],
                        "iteration": 286,
                        "passed_time": 30.45555005,
                        "remaining_time": 75.66134907,
                        "test": [
                          42632.63726
                        ]
                      },
                      {
                        "learn": [
                          42679.10911
                        ],
                        "iteration": 287,
                        "passed_time": 30.54179261,
                        "remaining_time": 75.50609839,
                        "test": [
                          42592.42223
                        ]
                      },
                      {
                        "learn": [
                          42646.40182
                        ],
                        "iteration": 288,
                        "passed_time": 30.64990582,
                        "remaining_time": 75.40513163,
                        "test": [
                          42559.5625
                        ]
                      },
                      {
                        "learn": [
                          42591.89589
                        ],
                        "iteration": 289,
                        "passed_time": 30.74030452,
                        "remaining_time": 75.26074556,
                        "test": [
                          42503.65401
                        ]
                      },
                      {
                        "learn": [
                          42507.58275
                        ],
                        "iteration": 290,
                        "passed_time": 30.83238086,
                        "remaining_time": 75.12081797,
                        "test": [
                          42420.44582
                        ]
                      },
                      {
                        "learn": [
                          42468.27643
                        ],
                        "iteration": 291,
                        "passed_time": 30.91483399,
                        "remaining_time": 74.95788516,
                        "test": [
                          42380.47204
                        ]
                      },
                      {
                        "learn": [
                          42433.38606
                        ],
                        "iteration": 292,
                        "passed_time": 31.02737225,
                        "remaining_time": 74.86809618,
                        "test": [
                          42346.13034
                        ]
                      },
                      {
                        "learn": [
                          42412.46645
                        ],
                        "iteration": 293,
                        "passed_time": 31.11216714,
                        "remaining_time": 74.71153062,
                        "test": [
                          42326.05508
                        ]
                      },
                      {
                        "learn": [
                          42368.7341
                        ],
                        "iteration": 294,
                        "passed_time": 31.20602222,
                        "remaining_time": 74.57710396,
                        "test": [
                          42284.68857
                        ]
                      },
                      {
                        "learn": [
                          42332.23831
                        ],
                        "iteration": 295,
                        "passed_time": 31.29774957,
                        "remaining_time": 74.43789088,
                        "test": [
                          42247.56607
                        ]
                      },
                      {
                        "learn": [
                          42276.06668
                        ],
                        "iteration": 296,
                        "passed_time": 31.3971296,
                        "remaining_time": 74.31711148,
                        "test": [
                          42195.05323
                        ]
                      },
                      {
                        "learn": [
                          42231.38086
                        ],
                        "iteration": 297,
                        "passed_time": 31.53788216,
                        "remaining_time": 74.29393716,
                        "test": [
                          42149.82681
                        ]
                      },
                      {
                        "learn": [
                          42181.59702
                        ],
                        "iteration": 298,
                        "passed_time": 31.70490763,
                        "remaining_time": 74.33157274,
                        "test": [
                          42100.91636
                        ]
                      },
                      {
                        "learn": [
                          42161.05543
                        ],
                        "iteration": 299,
                        "passed_time": 31.88135597,
                        "remaining_time": 74.38983059,
                        "test": [
                          42079.46016
                        ]
                      },
                      {
                        "learn": [
                          42127.33676
                        ],
                        "iteration": 300,
                        "passed_time": 32.09620941,
                        "remaining_time": 74.53571555,
                        "test": [
                          42047.1729
                        ]
                      },
                      {
                        "learn": [
                          42087.26582
                        ],
                        "iteration": 301,
                        "passed_time": 32.28183374,
                        "remaining_time": 74.61165547,
                        "test": [
                          42007.80301
                        ]
                      },
                      {
                        "learn": [
                          42060.21929
                        ],
                        "iteration": 302,
                        "passed_time": 32.48240604,
                        "remaining_time": 74.72025417,
                        "test": [
                          41981.9377
                        ]
                      },
                      {
                        "learn": [
                          42035.51262
                        ],
                        "iteration": 303,
                        "passed_time": 32.67189955,
                        "remaining_time": 74.80145422,
                        "test": [
                          41958.52648
                        ]
                      },
                      {
                        "learn": [
                          41973.90191
                        ],
                        "iteration": 304,
                        "passed_time": 32.86305185,
                        "remaining_time": 74.88465914,
                        "test": [
                          41895.36733
                        ]
                      },
                      {
                        "learn": [
                          41920.61121
                        ],
                        "iteration": 305,
                        "passed_time": 33.05663409,
                        "remaining_time": 74.97158189,
                        "test": [
                          41840.774
                        ]
                      },
                      {
                        "learn": [
                          41884.18766
                        ],
                        "iteration": 306,
                        "passed_time": 33.23384509,
                        "remaining_time": 75.01972198,
                        "test": [
                          41805.88858
                        ]
                      },
                      {
                        "learn": [
                          41849.26019
                        ],
                        "iteration": 307,
                        "passed_time": 33.42287892,
                        "remaining_time": 75.09296172,
                        "test": [
                          41771.58099
                        ]
                      },
                      {
                        "learn": [
                          41778.60959
                        ],
                        "iteration": 308,
                        "passed_time": 33.59454607,
                        "remaining_time": 75.12566776,
                        "test": [
                          41701.43027
                        ]
                      },
                      {
                        "learn": [
                          41757.73296
                        ],
                        "iteration": 309,
                        "passed_time": 33.7967722,
                        "remaining_time": 75.2250736,
                        "test": [
                          41679.03508
                        ]
                      },
                      {
                        "learn": [
                          41725.86201
                        ],
                        "iteration": 310,
                        "passed_time": 33.96573919,
                        "remaining_time": 75.24885628,
                        "test": [
                          41648.83885
                        ]
                      },
                      {
                        "learn": [
                          41700.81465
                        ],
                        "iteration": 311,
                        "passed_time": 34.18124631,
                        "remaining_time": 75.37403032,
                        "test": [
                          41624.00048
                        ]
                      },
                      {
                        "learn": [
                          41658.75268
                        ],
                        "iteration": 312,
                        "passed_time": 34.38201696,
                        "remaining_time": 75.46468259,
                        "test": [
                          41583.40626
                        ]
                      },
                      {
                        "learn": [
                          41639.79793
                        ],
                        "iteration": 313,
                        "passed_time": 34.56646507,
                        "remaining_time": 75.5178186,
                        "test": [
                          41564.62839
                        ]
                      },
                      {
                        "learn": [
                          41612.66397
                        ],
                        "iteration": 314,
                        "passed_time": 34.76406025,
                        "remaining_time": 75.59803578,
                        "test": [
                          41538.32749
                        ]
                      },
                      {
                        "learn": [
                          41581.88406
                        ],
                        "iteration": 315,
                        "passed_time": 34.96004709,
                        "remaining_time": 75.67301333,
                        "test": [
                          41507.02348
                        ]
                      },
                      {
                        "learn": [
                          41558.57996
                        ],
                        "iteration": 316,
                        "passed_time": 35.15979217,
                        "remaining_time": 75.75437871,
                        "test": [
                          41484.40504
                        ]
                      },
                      {
                        "learn": [
                          41536.55602
                        ],
                        "iteration": 317,
                        "passed_time": 35.34114063,
                        "remaining_time": 75.79452172,
                        "test": [
                          41462.85617
                        ]
                      },
                      {
                        "learn": [
                          41515.38336
                        ],
                        "iteration": 318,
                        "passed_time": 35.47303768,
                        "remaining_time": 75.72770741,
                        "test": [
                          41441.75831
                        ]
                      },
                      {
                        "learn": [
                          41482.62483
                        ],
                        "iteration": 319,
                        "passed_time": 35.56110965,
                        "remaining_time": 75.567358,
                        "test": [
                          41409.76242
                        ]
                      },
                      {
                        "learn": [
                          41435.5893
                        ],
                        "iteration": 320,
                        "passed_time": 35.65000815,
                        "remaining_time": 75.40920727,
                        "test": [
                          41359.90149
                        ]
                      },
                      {
                        "learn": [
                          41363.83754
                        ],
                        "iteration": 321,
                        "passed_time": 35.73658542,
                        "remaining_time": 75.24659911,
                        "test": [
                          41288.77329
                        ]
                      },
                      {
                        "learn": [
                          41329.45126
                        ],
                        "iteration": 322,
                        "passed_time": 35.82344634,
                        "remaining_time": 75.08505625,
                        "test": [
                          41253.63329
                        ]
                      },
                      {
                        "learn": [
                          41273.20184
                        ],
                        "iteration": 323,
                        "passed_time": 35.91338125,
                        "remaining_time": 74.93038805,
                        "test": [
                          41198.79797
                        ]
                      },
                      {
                        "learn": [
                          41180.47417
                        ],
                        "iteration": 324,
                        "passed_time": 36.02788234,
                        "remaining_time": 74.82714025,
                        "test": [
                          41107.64132
                        ]
                      },
                      {
                        "learn": [
                          41158.30444
                        ],
                        "iteration": 325,
                        "passed_time": 36.10917606,
                        "remaining_time": 74.65516768,
                        "test": [
                          41085.70763
                        ]
                      },
                      {
                        "learn": [
                          41125.01672
                        ],
                        "iteration": 326,
                        "passed_time": 36.2182129,
                        "remaining_time": 74.54084795,
                        "test": [
                          41050.78089
                        ]
                      },
                      {
                        "learn": [
                          41063.7251
                        ],
                        "iteration": 327,
                        "passed_time": 36.30858173,
                        "remaining_time": 74.38831378,
                        "test": [
                          40988.79664
                        ]
                      },
                      {
                        "learn": [
                          41021.41699
                        ],
                        "iteration": 328,
                        "passed_time": 36.39774675,
                        "remaining_time": 74.23370234,
                        "test": [
                          40946.349
                        ]
                      },
                      {
                        "learn": [
                          41004.93843
                        ],
                        "iteration": 329,
                        "passed_time": 36.48736549,
                        "remaining_time": 74.08040873,
                        "test": [
                          40930.32996
                        ]
                      },
                      {
                        "learn": [
                          40976.94103
                        ],
                        "iteration": 330,
                        "passed_time": 36.57982589,
                        "remaining_time": 73.93324327,
                        "test": [
                          40900.8655
                        ]
                      },
                      {
                        "learn": [
                          40918.9178
                        ],
                        "iteration": 331,
                        "passed_time": 36.67114185,
                        "remaining_time": 73.7841047,
                        "test": [
                          40844.19138
                        ]
                      },
                      {
                        "learn": [
                          40878.58177
                        ],
                        "iteration": 332,
                        "passed_time": 36.76279959,
                        "remaining_time": 73.63599798,
                        "test": [
                          40803.61
                        ]
                      },
                      {
                        "learn": [
                          40834.357
                        ],
                        "iteration": 333,
                        "passed_time": 36.84557503,
                        "remaining_time": 73.47051788,
                        "test": [
                          40759.32832
                        ]
                      },
                      {
                        "learn": [
                          40811.622
                        ],
                        "iteration": 334,
                        "passed_time": 36.93404421,
                        "remaining_time": 73.31683402,
                        "test": [
                          40735.86786
                        ]
                      },
                      {
                        "learn": [
                          40750.70665
                        ],
                        "iteration": 335,
                        "passed_time": 37.03874336,
                        "remaining_time": 73.19561188,
                        "test": [
                          40674.96413
                        ]
                      },
                      {
                        "learn": [
                          40725.23069
                        ],
                        "iteration": 336,
                        "passed_time": 37.13140878,
                        "remaining_time": 73.05081312,
                        "test": [
                          40651.10253
                        ]
                      },
                      {
                        "learn": [
                          40701.67
                        ],
                        "iteration": 337,
                        "passed_time": 37.23390731,
                        "remaining_time": 72.92558178,
                        "test": [
                          40626.7302
                        ]
                      },
                      {
                        "learn": [
                          40661.68217
                        ],
                        "iteration": 338,
                        "passed_time": 37.33322025,
                        "remaining_time": 72.79427311,
                        "test": [
                          40586.0093
                        ]
                      },
                      {
                        "learn": [
                          40631.58397
                        ],
                        "iteration": 339,
                        "passed_time": 37.4200312,
                        "remaining_time": 72.63888409,
                        "test": [
                          40557.31192
                        ]
                      },
                      {
                        "learn": [
                          40576.61179
                        ],
                        "iteration": 340,
                        "passed_time": 37.51434993,
                        "remaining_time": 72.49840646,
                        "test": [
                          40502.59347
                        ]
                      },
                      {
                        "learn": [
                          40548.92372
                        ],
                        "iteration": 341,
                        "passed_time": 37.59793013,
                        "remaining_time": 72.33753809,
                        "test": [
                          40473.20731
                        ]
                      },
                      {
                        "learn": [
                          40537.92237
                        ],
                        "iteration": 342,
                        "passed_time": 37.683749,
                        "remaining_time": 72.18140844,
                        "test": [
                          40462.84407
                        ]
                      },
                      {
                        "learn": [
                          40504.05332
                        ],
                        "iteration": 343,
                        "passed_time": 37.76586603,
                        "remaining_time": 72.01862824,
                        "test": [
                          40430.3512
                        ]
                      },
                      {
                        "learn": [
                          40455.19864
                        ],
                        "iteration": 344,
                        "passed_time": 37.8570895,
                        "remaining_time": 71.8736047,
                        "test": [
                          40380.6128
                        ]
                      },
                      {
                        "learn": [
                          40432.38803
                        ],
                        "iteration": 345,
                        "passed_time": 37.94021365,
                        "remaining_time": 71.71358304,
                        "test": [
                          40358.06237
                        ]
                      },
                      {
                        "learn": [
                          40381.02299
                        ],
                        "iteration": 346,
                        "passed_time": 38.03589605,
                        "remaining_time": 71.57763723,
                        "test": [
                          40308.65884
                        ]
                      },
                      {
                        "learn": [
                          40354.87739
                        ],
                        "iteration": 347,
                        "passed_time": 38.14151533,
                        "remaining_time": 71.46054022,
                        "test": [
                          40283.34531
                        ]
                      },
                      {
                        "learn": [
                          40318.43868
                        ],
                        "iteration": 348,
                        "passed_time": 38.25318855,
                        "remaining_time": 71.35480157,
                        "test": [
                          40246.45707
                        ]
                      },
                      {
                        "learn": [
                          40282.92186
                        ],
                        "iteration": 349,
                        "passed_time": 38.34708075,
                        "remaining_time": 71.2160071,
                        "test": [
                          40210.65473
                        ]
                      },
                      {
                        "learn": [
                          40265.49103
                        ],
                        "iteration": 350,
                        "passed_time": 38.43577209,
                        "remaining_time": 71.06785209,
                        "test": [
                          40192.43952
                        ]
                      },
                      {
                        "learn": [
                          40239.69907
                        ],
                        "iteration": 351,
                        "passed_time": 38.52589664,
                        "remaining_time": 70.92267336,
                        "test": [
                          40165.81511
                        ]
                      },
                      {
                        "learn": [
                          40165.2402
                        ],
                        "iteration": 352,
                        "passed_time": 38.62079957,
                        "remaining_time": 70.78656465,
                        "test": [
                          40092.97835
                        ]
                      },
                      {
                        "learn": [
                          40121.94393
                        ],
                        "iteration": 353,
                        "passed_time": 38.71290791,
                        "remaining_time": 70.64558901,
                        "test": [
                          40050.84516
                        ]
                      },
                      {
                        "learn": [
                          40100.07676
                        ],
                        "iteration": 354,
                        "passed_time": 38.80484826,
                        "remaining_time": 70.50458345,
                        "test": [
                          40028.74712
                        ]
                      },
                      {
                        "learn": [
                          40075.34593
                        ],
                        "iteration": 355,
                        "passed_time": 38.8929869,
                        "remaining_time": 70.3569763,
                        "test": [
                          40002.60773
                        ]
                      },
                      {
                        "learn": [
                          40051.08229
                        ],
                        "iteration": 356,
                        "passed_time": 38.98340825,
                        "remaining_time": 70.21381373,
                        "test": [
                          39978.07708
                        ]
                      },
                      {
                        "learn": [
                          40014.73561
                        ],
                        "iteration": 357,
                        "passed_time": 39.07052716,
                        "remaining_time": 70.06502357,
                        "test": [
                          39943.4116
                        ]
                      },
                      {
                        "learn": [
                          39972.59297
                        ],
                        "iteration": 358,
                        "passed_time": 39.2003582,
                        "remaining_time": 69.99284013,
                        "test": [
                          39900.64809
                        ]
                      },
                      {
                        "learn": [
                          39916.34598
                        ],
                        "iteration": 359,
                        "passed_time": 39.29325265,
                        "remaining_time": 69.85467137,
                        "test": [
                          39845.29415
                        ]
                      },
                      {
                        "learn": [
                          39883.68664
                        ],
                        "iteration": 360,
                        "passed_time": 39.38854772,
                        "remaining_time": 69.72100276,
                        "test": [
                          39811.05695
                        ]
                      },
                      {
                        "learn": [
                          39847.20001
                        ],
                        "iteration": 361,
                        "passed_time": 39.47767866,
                        "remaining_time": 69.57668228,
                        "test": [
                          39774.82456
                        ]
                      },
                      {
                        "learn": [
                          39807.85182
                        ],
                        "iteration": 362,
                        "passed_time": 39.57098989,
                        "remaining_time": 69.44000153,
                        "test": [
                          39736.85317
                        ]
                      },
                      {
                        "learn": [
                          39778.10649
                        ],
                        "iteration": 363,
                        "passed_time": 39.6589851,
                        "remaining_time": 69.29427066,
                        "test": [
                          39705.56342
                        ]
                      },
                      {
                        "learn": [
                          39747.73785
                        ],
                        "iteration": 364,
                        "passed_time": 39.74365533,
                        "remaining_time": 69.1430716,
                        "test": [
                          39674.56929
                        ]
                      },
                      {
                        "learn": [
                          39725.18849
                        ],
                        "iteration": 365,
                        "passed_time": 39.82905123,
                        "remaining_time": 68.99349312,
                        "test": [
                          39651.33036
                        ]
                      },
                      {
                        "learn": [
                          39686.72337
                        ],
                        "iteration": 366,
                        "passed_time": 39.91976193,
                        "remaining_time": 68.85343134,
                        "test": [
                          39613.84022
                        ]
                      },
                      {
                        "learn": [
                          39640.60962
                        ],
                        "iteration": 367,
                        "passed_time": 40.00600715,
                        "remaining_time": 68.70596879,
                        "test": [
                          39568.23742
                        ]
                      },
                      {
                        "learn": [
                          39604.87411
                        ],
                        "iteration": 368,
                        "passed_time": 40.09232434,
                        "remaining_time": 68.55896114,
                        "test": [
                          39531.84652
                        ]
                      },
                      {
                        "learn": [
                          39569.67261
                        ],
                        "iteration": 369,
                        "passed_time": 40.19446656,
                        "remaining_time": 68.43922684,
                        "test": [
                          39496.79691
                        ]
                      },
                      {
                        "learn": [
                          39525.29943
                        ],
                        "iteration": 370,
                        "passed_time": 40.30673793,
                        "remaining_time": 68.33676053,
                        "test": [
                          39453.82751
                        ]
                      },
                      {
                        "learn": [
                          39500.61762
                        ],
                        "iteration": 371,
                        "passed_time": 40.3929369,
                        "remaining_time": 68.19022681,
                        "test": [
                          39428.20009
                        ]
                      },
                      {
                        "learn": [
                          39459.39103
                        ],
                        "iteration": 372,
                        "passed_time": 40.48591495,
                        "remaining_time": 68.05541199,
                        "test": [
                          39386.47579
                        ]
                      },
                      {
                        "learn": [
                          39447.19926
                        ],
                        "iteration": 373,
                        "passed_time": 40.56794434,
                        "remaining_time": 67.90249507,
                        "test": [
                          39374.15725
                        ]
                      },
                      {
                        "learn": [
                          39417.47777
                        ],
                        "iteration": 374,
                        "passed_time": 40.65489499,
                        "remaining_time": 67.75815832,
                        "test": [
                          39344.81758
                        ]
                      },
                      {
                        "learn": [
                          39403.98676
                        ],
                        "iteration": 375,
                        "passed_time": 40.74023955,
                        "remaining_time": 67.61146139,
                        "test": [
                          39331.75673
                        ]
                      },
                      {
                        "learn": [
                          39380.68128
                        ],
                        "iteration": 376,
                        "passed_time": 40.82696951,
                        "remaining_time": 67.46737933,
                        "test": [
                          39307.69701
                        ]
                      },
                      {
                        "learn": [
                          39348.54808
                        ],
                        "iteration": 377,
                        "passed_time": 40.91460878,
                        "remaining_time": 67.32509698,
                        "test": [
                          39276.69189
                        ]
                      },
                      {
                        "learn": [
                          39309.30734
                        ],
                        "iteration": 378,
                        "passed_time": 41.00066566,
                        "remaining_time": 67.18051022,
                        "test": [
                          39235.91148
                        ]
                      },
                      {
                        "learn": [
                          39271.73344
                        ],
                        "iteration": 379,
                        "passed_time": 41.09396339,
                        "remaining_time": 67.04804553,
                        "test": [
                          39199.30101
                        ]
                      },
                      {
                        "learn": [
                          39253.34555
                        ],
                        "iteration": 380,
                        "passed_time": 41.18501831,
                        "remaining_time": 66.91214261,
                        "test": [
                          39181.90152
                        ]
                      },
                      {
                        "learn": [
                          39199.09133
                        ],
                        "iteration": 381,
                        "passed_time": 41.31758616,
                        "remaining_time": 66.84363415,
                        "test": [
                          39129.02122
                        ]
                      },
                      {
                        "learn": [
                          39169.83868
                        ],
                        "iteration": 382,
                        "passed_time": 41.4049979,
                        "remaining_time": 66.70204622,
                        "test": [
                          39098.28109
                        ]
                      },
                      {
                        "learn": [
                          39160.52453
                        ],
                        "iteration": 383,
                        "passed_time": 41.48714477,
                        "remaining_time": 66.55229474,
                        "test": [
                          39089.12283
                        ]
                      },
                      {
                        "learn": [
                          39120.45501
                        ],
                        "iteration": 384,
                        "passed_time": 41.57595834,
                        "remaining_time": 66.41354384,
                        "test": [
                          39052.37076
                        ]
                      },
                      {
                        "learn": [
                          39086.39847
                        ],
                        "iteration": 385,
                        "passed_time": 41.67226019,
                        "remaining_time": 66.28696309,
                        "test": [
                          39019.15266
                        ]
                      },
                      {
                        "learn": [
                          39071.4439
                        ],
                        "iteration": 386,
                        "passed_time": 41.75147444,
                        "remaining_time": 66.13347243,
                        "test": [
                          39003.68368
                        ]
                      },
                      {
                        "learn": [
                          39011.49674
                        ],
                        "iteration": 387,
                        "passed_time": 41.84848903,
                        "remaining_time": 66.00844145,
                        "test": [
                          38943.48402
                        ]
                      },
                      {
                        "learn": [
                          38981.67474
                        ],
                        "iteration": 388,
                        "passed_time": 41.93283814,
                        "remaining_time": 65.86366093,
                        "test": [
                          38912.33128
                        ]
                      },
                      {
                        "learn": [
                          38962.78181
                        ],
                        "iteration": 389,
                        "passed_time": 42.02078575,
                        "remaining_time": 65.72481873,
                        "test": [
                          38892.28217
                        ]
                      },
                      {
                        "learn": [
                          38946.17493
                        ],
                        "iteration": 390,
                        "passed_time": 42.10651419,
                        "remaining_time": 65.58278041,
                        "test": [
                          38875.22212
                        ]
                      },
                      {
                        "learn": [
                          38936.2748
                        ],
                        "iteration": 391,
                        "passed_time": 42.19288963,
                        "remaining_time": 65.4420329,
                        "test": [
                          38865.08309
                        ]
                      },
                      {
                        "learn": [
                          38911.23051
                        ],
                        "iteration": 392,
                        "passed_time": 42.32294477,
                        "remaining_time": 65.36902665,
                        "test": [
                          38840.32944
                        ]
                      },
                      {
                        "learn": [
                          38890.65257
                        ],
                        "iteration": 393,
                        "passed_time": 42.41370261,
                        "remaining_time": 65.23528879,
                        "test": [
                          38819.25797
                        ]
                      },
                      {
                        "learn": [
                          38871.28398
                        ],
                        "iteration": 394,
                        "passed_time": 42.50554494,
                        "remaining_time": 65.10342959,
                        "test": [
                          38800.85084
                        ]
                      },
                      {
                        "learn": [
                          38850.21276
                        ],
                        "iteration": 395,
                        "passed_time": 42.59263081,
                        "remaining_time": 64.9645177,
                        "test": [
                          38778.01478
                        ]
                      },
                      {
                        "learn": [
                          38808.6783
                        ],
                        "iteration": 396,
                        "passed_time": 42.68121612,
                        "remaining_time": 64.82814439,
                        "test": [
                          38738.19604
                        ]
                      },
                      {
                        "learn": [
                          38761.94095
                        ],
                        "iteration": 397,
                        "passed_time": 42.76956624,
                        "remaining_time": 64.69165546,
                        "test": [
                          38692.21207
                        ]
                      },
                      {
                        "learn": [
                          38734.33472
                        ],
                        "iteration": 398,
                        "passed_time": 42.85582499,
                        "remaining_time": 64.55225769,
                        "test": [
                          38663.22284
                        ]
                      },
                      {
                        "learn": [
                          38713.93722
                        ],
                        "iteration": 399,
                        "passed_time": 42.94780903,
                        "remaining_time": 64.42171354,
                        "test": [
                          38644.25078
                        ]
                      },
                      {
                        "learn": [
                          38692.10542
                        ],
                        "iteration": 400,
                        "passed_time": 43.03364057,
                        "remaining_time": 64.28217132,
                        "test": [
                          38622.71795
                        ]
                      },
                      {
                        "learn": [
                          38665.06173
                        ],
                        "iteration": 401,
                        "passed_time": 43.12353286,
                        "remaining_time": 64.14893694,
                        "test": [
                          38595.5263
                        ]
                      },
                      {
                        "learn": [
                          38648.42855
                        ],
                        "iteration": 402,
                        "passed_time": 43.2062374,
                        "remaining_time": 64.0052698,
                        "test": [
                          38579.4011
                        ]
                      },
                      {
                        "learn": [
                          38618.22623
                        ],
                        "iteration": 403,
                        "passed_time": 43.34075968,
                        "remaining_time": 63.93834844,
                        "test": [
                          38550.44165
                        ]
                      },
                      {
                        "learn": [
                          38600.76945
                        ],
                        "iteration": 404,
                        "passed_time": 43.42872835,
                        "remaining_time": 63.80269967,
                        "test": [
                          38532.1163
                        ]
                      },
                      {
                        "learn": [
                          38580.95124
                        ],
                        "iteration": 405,
                        "passed_time": 43.52114185,
                        "remaining_time": 63.67378881,
                        "test": [
                          38512.33384
                        ]
                      },
                      {
                        "learn": [
                          38561.97317
                        ],
                        "iteration": 406,
                        "passed_time": 43.60863658,
                        "remaining_time": 63.53789065,
                        "test": [
                          38494.84192
                        ]
                      },
                      {
                        "learn": [
                          38517.12444
                        ],
                        "iteration": 407,
                        "passed_time": 43.70716983,
                        "remaining_time": 63.41824641,
                        "test": [
                          38449.06765
                        ]
                      },
                      {
                        "learn": [
                          38462.66375
                        ],
                        "iteration": 408,
                        "passed_time": 43.79909802,
                        "remaining_time": 63.2891612,
                        "test": [
                          38394.90341
                        ]
                      },
                      {
                        "learn": [
                          38437.13005
                        ],
                        "iteration": 409,
                        "passed_time": 43.89152434,
                        "remaining_time": 63.16097406,
                        "test": [
                          38368.44511
                        ]
                      },
                      {
                        "learn": [
                          38405.54694
                        ],
                        "iteration": 410,
                        "passed_time": 43.981627,
                        "remaining_time": 63.02963091,
                        "test": [
                          38336.59037
                        ]
                      },
                      {
                        "learn": [
                          38382.17617
                        ],
                        "iteration": 411,
                        "passed_time": 44.06922832,
                        "remaining_time": 62.89491808,
                        "test": [
                          38312.90156
                        ]
                      },
                      {
                        "learn": [
                          38356.34412
                        ],
                        "iteration": 412,
                        "passed_time": 44.15772518,
                        "remaining_time": 62.76170625,
                        "test": [
                          38287.91328
                        ]
                      },
                      {
                        "learn": [
                          38325.26518
                        ],
                        "iteration": 413,
                        "passed_time": 44.25474299,
                        "remaining_time": 62.64077148,
                        "test": [
                          38257.08762
                        ]
                      },
                      {
                        "learn": [
                          38307.32469
                        ],
                        "iteration": 414,
                        "passed_time": 44.38134315,
                        "remaining_time": 62.56165239,
                        "test": [
                          38239.94257
                        ]
                      },
                      {
                        "learn": [
                          38276.25578
                        ],
                        "iteration": 415,
                        "passed_time": 44.47369972,
                        "remaining_time": 62.4342323,
                        "test": [
                          38211.1619
                        ]
                      },
                      {
                        "learn": [
                          38261.22233
                        ],
                        "iteration": 416,
                        "passed_time": 44.55775506,
                        "remaining_time": 62.29537458,
                        "test": [
                          38197.01468
                        ]
                      },
                      {
                        "learn": [
                          38245.48552
                        ],
                        "iteration": 417,
                        "passed_time": 44.64231591,
                        "remaining_time": 62.15748291,
                        "test": [
                          38181.41306
                        ]
                      },
                      {
                        "learn": [
                          38216.06645
                        ],
                        "iteration": 418,
                        "passed_time": 44.73557363,
                        "remaining_time": 62.03190521,
                        "test": [
                          38152.5775
                        ]
                      },
                      {
                        "learn": [
                          38179.36008
                        ],
                        "iteration": 419,
                        "passed_time": 44.83024753,
                        "remaining_time": 61.90843706,
                        "test": [
                          38116.04501
                        ]
                      },
                      {
                        "learn": [
                          38149.84302
                        ],
                        "iteration": 420,
                        "passed_time": 44.9141455,
                        "remaining_time": 61.77028561,
                        "test": [
                          38086.8166
                        ]
                      },
                      {
                        "learn": [
                          38119.79843
                        ],
                        "iteration": 421,
                        "passed_time": 45.0087455,
                        "remaining_time": 61.64704953,
                        "test": [
                          38058.01093
                        ]
                      },
                      {
                        "learn": [
                          38108.42862
                        ],
                        "iteration": 422,
                        "passed_time": 45.09091077,
                        "remaining_time": 61.50698703,
                        "test": [
                          38047.59026
                        ]
                      },
                      {
                        "learn": [
                          38094.86814
                        ],
                        "iteration": 423,
                        "passed_time": 45.17090583,
                        "remaining_time": 61.36424943,
                        "test": [
                          38034.55924
                        ]
                      },
                      {
                        "learn": [
                          38055.70204
                        ],
                        "iteration": 424,
                        "passed_time": 45.26660411,
                        "remaining_time": 61.24305262,
                        "test": [
                          37994.99896
                        ]
                      },
                      {
                        "learn": [
                          38034.52582
                        ],
                        "iteration": 425,
                        "passed_time": 45.37608696,
                        "remaining_time": 61.1405491,
                        "test": [
                          37974.38566
                        ]
                      },
                      {
                        "learn": [
                          38017.69941
                        ],
                        "iteration": 426,
                        "passed_time": 45.53141523,
                        "remaining_time": 61.09953379,
                        "test": [
                          37956.5375
                        ]
                      },
                      {
                        "learn": [
                          37992.27123
                        ],
                        "iteration": 427,
                        "passed_time": 45.68356987,
                        "remaining_time": 61.0537429,
                        "test": [
                          37931.47694
                        ]
                      },
                      {
                        "learn": [
                          37965.47411
                        ],
                        "iteration": 428,
                        "passed_time": 45.84947895,
                        "remaining_time": 61.02576335,
                        "test": [
                          37904.02534
                        ]
                      },
                      {
                        "learn": [
                          37938.95431
                        ],
                        "iteration": 429,
                        "passed_time": 46.03321617,
                        "remaining_time": 61.02077493,
                        "test": [
                          37877.59522
                        ]
                      },
                      {
                        "learn": [
                          37913.9954
                        ],
                        "iteration": 430,
                        "passed_time": 46.22025019,
                        "remaining_time": 61.01930942,
                        "test": [
                          37852.17401
                        ]
                      },
                      {
                        "learn": [
                          37882.29021
                        ],
                        "iteration": 431,
                        "passed_time": 46.45916107,
                        "remaining_time": 61.08519326,
                        "test": [
                          37821.56167
                        ]
                      },
                      {
                        "learn": [
                          37857.99117
                        ],
                        "iteration": 432,
                        "passed_time": 46.65178194,
                        "remaining_time": 61.08905395,
                        "test": [
                          37796.59391
                        ]
                      },
                      {
                        "learn": [
                          37850.66859
                        ],
                        "iteration": 433,
                        "passed_time": 46.84681485,
                        "remaining_time": 61.09515485,
                        "test": [
                          37789.00964
                        ]
                      },
                      {
                        "learn": [
                          37828.07654
                        ],
                        "iteration": 434,
                        "passed_time": 47.02106854,
                        "remaining_time": 61.0733419,
                        "test": [
                          37766.3073
                        ]
                      },
                      {
                        "learn": [
                          37798.33523
                        ],
                        "iteration": 435,
                        "passed_time": 47.20599627,
                        "remaining_time": 61.06463737,
                        "test": [
                          37737.07949
                        ]
                      },
                      {
                        "learn": [
                          37780.52417
                        ],
                        "iteration": 436,
                        "passed_time": 47.39023278,
                        "remaining_time": 61.05423582,
                        "test": [
                          37720.12583
                        ]
                      },
                      {
                        "learn": [
                          37751.74062
                        ],
                        "iteration": 437,
                        "passed_time": 47.63928904,
                        "remaining_time": 61.12621105,
                        "test": [
                          37692.82048
                        ]
                      },
                      {
                        "learn": [
                          37717.33117
                        ],
                        "iteration": 438,
                        "passed_time": 47.84705825,
                        "remaining_time": 61.14396282,
                        "test": [
                          37657.90893
                        ]
                      },
                      {
                        "learn": [
                          37707.46467
                        ],
                        "iteration": 439,
                        "passed_time": 48.0192765,
                        "remaining_time": 61.11544282,
                        "test": [
                          37648.14794
                        ]
                      },
                      {
                        "learn": [
                          37683.15708
                        ],
                        "iteration": 440,
                        "passed_time": 48.21757941,
                        "remaining_time": 61.11933535,
                        "test": [
                          37623.92958
                        ]
                      },
                      {
                        "learn": [
                          37671.41905
                        ],
                        "iteration": 441,
                        "passed_time": 48.40892682,
                        "remaining_time": 61.11353205,
                        "test": [
                          37612.14113
                        ]
                      },
                      {
                        "learn": [
                          37646.42401
                        ],
                        "iteration": 442,
                        "passed_time": 48.65137035,
                        "remaining_time": 61.17113608,
                        "test": [
                          37586.32899
                        ]
                      },
                      {
                        "learn": [
                          37621.5369
                        ],
                        "iteration": 443,
                        "passed_time": 48.84442647,
                        "remaining_time": 61.16554305,
                        "test": [
                          37562.73933
                        ]
                      },
                      {
                        "learn": [
                          37610.19162
                        ],
                        "iteration": 444,
                        "passed_time": 49.01549736,
                        "remaining_time": 61.13168772,
                        "test": [
                          37551.95243
                        ]
                      },
                      {
                        "learn": [
                          37592.31395
                        ],
                        "iteration": 445,
                        "passed_time": 49.19950218,
                        "remaining_time": 61.11328298,
                        "test": [
                          37535.53799
                        ]
                      },
                      {
                        "learn": [
                          37572.46206
                        ],
                        "iteration": 446,
                        "passed_time": 49.378488,
                        "remaining_time": 61.08792811,
                        "test": [
                          37516.97967
                        ]
                      },
                      {
                        "learn": [
                          37549.58166
                        ],
                        "iteration": 447,
                        "passed_time": 49.46975057,
                        "remaining_time": 60.95379981,
                        "test": [
                          37495.52308
                        ]
                      },
                      {
                        "learn": [
                          37513.14003
                        ],
                        "iteration": 448,
                        "passed_time": 49.58018981,
                        "remaining_time": 60.84339552,
                        "test": [
                          37459.80975
                        ]
                      },
                      {
                        "learn": [
                          37482.21444
                        ],
                        "iteration": 449,
                        "passed_time": 49.67109959,
                        "remaining_time": 60.70912173,
                        "test": [
                          37428.81121
                        ]
                      },
                      {
                        "learn": [
                          37467.36078
                        ],
                        "iteration": 450,
                        "passed_time": 49.77969313,
                        "remaining_time": 60.59656658,
                        "test": [
                          37413.50075
                        ]
                      },
                      {
                        "learn": [
                          37446.81754
                        ],
                        "iteration": 451,
                        "passed_time": 49.85563487,
                        "remaining_time": 60.44444227,
                        "test": [
                          37392.10264
                        ]
                      },
                      {
                        "learn": [
                          37428.46732
                        ],
                        "iteration": 452,
                        "passed_time": 49.93554736,
                        "remaining_time": 60.29744902,
                        "test": [
                          37373.71106
                        ]
                      },
                      {
                        "learn": [
                          37411.59201
                        ],
                        "iteration": 453,
                        "passed_time": 50.02354951,
                        "remaining_time": 60.16048025,
                        "test": [
                          37358.33754
                        ]
                      },
                      {
                        "learn": [
                          37368.10813
                        ],
                        "iteration": 454,
                        "passed_time": 50.10836265,
                        "remaining_time": 60.01990691,
                        "test": [
                          37316.65298
                        ]
                      },
                      {
                        "learn": [
                          37362.77328
                        ],
                        "iteration": 455,
                        "passed_time": 50.1871777,
                        "remaining_time": 59.87242252,
                        "test": [
                          37311.63105
                        ]
                      },
                      {
                        "learn": [
                          37348.9233
                        ],
                        "iteration": 456,
                        "passed_time": 50.27239089,
                        "remaining_time": 59.73284082,
                        "test": [
                          37296.82266
                        ]
                      },
                      {
                        "learn": [
                          37334.07636
                        ],
                        "iteration": 457,
                        "passed_time": 50.36290904,
                        "remaining_time": 59.59977445,
                        "test": [
                          37283.23623
                        ]
                      },
                      {
                        "learn": [
                          37319.65228
                        ],
                        "iteration": 458,
                        "passed_time": 50.44548078,
                        "remaining_time": 59.45752746,
                        "test": [
                          37269.98114
                        ]
                      },
                      {
                        "learn": [
                          37300.36697
                        ],
                        "iteration": 459,
                        "passed_time": 50.54006933,
                        "remaining_time": 59.32964661,
                        "test": [
                          37250.30441
                        ]
                      },
                      {
                        "learn": [
                          37256.86646
                        ],
                        "iteration": 460,
                        "passed_time": 50.66590785,
                        "remaining_time": 59.23844757,
                        "test": [
                          37206.6696
                        ]
                      },
                      {
                        "learn": [
                          37235.20682
                        ],
                        "iteration": 461,
                        "passed_time": 50.76780839,
                        "remaining_time": 59.11922275,
                        "test": [
                          37185.13849
                        ]
                      },
                      {
                        "learn": [
                          37211.78838
                        ],
                        "iteration": 462,
                        "passed_time": 50.86570174,
                        "remaining_time": 58.99542513,
                        "test": [
                          37163.7619
                        ]
                      },
                      {
                        "learn": [
                          37190.4813
                        ],
                        "iteration": 463,
                        "passed_time": 50.9624975,
                        "remaining_time": 58.87047125,
                        "test": [
                          37141.80026
                        ]
                      },
                      {
                        "learn": [
                          37171.99152
                        ],
                        "iteration": 464,
                        "passed_time": 51.05060144,
                        "remaining_time": 58.73563821,
                        "test": [
                          37124.26719
                        ]
                      },
                      {
                        "learn": [
                          37149.26549
                        ],
                        "iteration": 465,
                        "passed_time": 51.14408498,
                        "remaining_time": 58.60717034,
                        "test": [
                          37099.51774
                        ]
                      },
                      {
                        "learn": [
                          37117.51566
                        ],
                        "iteration": 466,
                        "passed_time": 51.23498025,
                        "remaining_time": 58.47589823,
                        "test": [
                          37067.6674
                        ]
                      },
                      {
                        "learn": [
                          37098.68509
                        ],
                        "iteration": 467,
                        "passed_time": 51.32792934,
                        "remaining_time": 58.34713336,
                        "test": [
                          37050.43781
                        ]
                      },
                      {
                        "learn": [
                          37069.58321
                        ],
                        "iteration": 468,
                        "passed_time": 51.40993178,
                        "remaining_time": 58.20612746,
                        "test": [
                          37020.15687
                        ]
                      },
                      {
                        "learn": [
                          37042.73172
                        ],
                        "iteration": 469,
                        "passed_time": 51.50090133,
                        "remaining_time": 58.07548447,
                        "test": [
                          36993.17782
                        ]
                      },
                      {
                        "learn": [
                          37023.46827
                        ],
                        "iteration": 470,
                        "passed_time": 51.5866274,
                        "remaining_time": 57.9391208,
                        "test": [
                          36973.22261
                        ]
                      },
                      {
                        "learn": [
                          37008.02158
                        ],
                        "iteration": 471,
                        "passed_time": 51.70090428,
                        "remaining_time": 57.83490988,
                        "test": [
                          36959.16586
                        ]
                      },
                      {
                        "learn": [
                          36977.94699
                        ],
                        "iteration": 472,
                        "passed_time": 51.81566956,
                        "remaining_time": 57.73120055,
                        "test": [
                          36929.57808
                        ]
                      },
                      {
                        "learn": [
                          36965.2694
                        ],
                        "iteration": 473,
                        "passed_time": 51.90027981,
                        "remaining_time": 57.5939814,
                        "test": [
                          36917.39506
                        ]
                      },
                      {
                        "learn": [
                          36929.9699
                        ],
                        "iteration": 474,
                        "passed_time": 51.99122804,
                        "remaining_time": 57.46398889,
                        "test": [
                          36882.42562
                        ]
                      },
                      {
                        "learn": [
                          36907.23761
                        ],
                        "iteration": 475,
                        "passed_time": 52.08001762,
                        "remaining_time": 57.3317841,
                        "test": [
                          36860.16418
                        ]
                      },
                      {
                        "learn": [
                          36886.0235
                        ],
                        "iteration": 476,
                        "passed_time": 52.16488201,
                        "remaining_time": 57.19545763,
                        "test": [
                          36839.75741
                        ]
                      },
                      {
                        "learn": [
                          36866.82134
                        ],
                        "iteration": 477,
                        "passed_time": 52.26098237,
                        "remaining_time": 57.07161673,
                        "test": [
                          36818.78757
                        ]
                      },
                      {
                        "learn": [
                          36858.64463
                        ],
                        "iteration": 478,
                        "passed_time": 52.34952863,
                        "remaining_time": 56.93967519,
                        "test": [
                          36810.40669
                        ]
                      },
                      {
                        "learn": [
                          36834.24983
                        ],
                        "iteration": 479,
                        "passed_time": 52.44125484,
                        "remaining_time": 56.81135941,
                        "test": [
                          36785.50753
                        ]
                      },
                      {
                        "learn": [
                          36817.01654
                        ],
                        "iteration": 480,
                        "passed_time": 52.52597241,
                        "remaining_time": 56.67563343,
                        "test": [
                          36767.94841
                        ]
                      },
                      {
                        "learn": [
                          36805.0338
                        ],
                        "iteration": 481,
                        "passed_time": 52.60906142,
                        "remaining_time": 56.53836891,
                        "test": [
                          36756.18541
                        ]
                      },
                      {
                        "learn": [
                          36780.42948
                        ],
                        "iteration": 482,
                        "passed_time": 52.72032579,
                        "remaining_time": 56.43148744,
                        "test": [
                          36730.33248
                        ]
                      },
                      {
                        "learn": [
                          36768.05811
                        ],
                        "iteration": 483,
                        "passed_time": 52.80731395,
                        "remaining_time": 56.2987066,
                        "test": [
                          36717.74348
                        ]
                      },
                      {
                        "learn": [
                          36740.78293
                        ],
                        "iteration": 484,
                        "passed_time": 52.9133575,
                        "remaining_time": 56.18634869,
                        "test": [
                          36690.50176
                        ]
                      },
                      {
                        "learn": [
                          36726.09172
                        ],
                        "iteration": 485,
                        "passed_time": 53.00119198,
                        "remaining_time": 56.05475859,
                        "test": [
                          36675.70898
                        ]
                      },
                      {
                        "learn": [
                          36704.96198
                        ],
                        "iteration": 486,
                        "passed_time": 53.08761908,
                        "remaining_time": 55.92186569,
                        "test": [
                          36654.52988
                        ]
                      },
                      {
                        "learn": [
                          36693.77608
                        ],
                        "iteration": 487,
                        "passed_time": 53.17133937,
                        "remaining_time": 55.78632327,
                        "test": [
                          36643.75767
                        ]
                      },
                      {
                        "learn": [
                          36665.96914
                        ],
                        "iteration": 488,
                        "passed_time": 53.25653314,
                        "remaining_time": 55.65253259,
                        "test": [
                          36616.97465
                        ]
                      },
                      {
                        "learn": [
                          36650.15559
                        ],
                        "iteration": 489,
                        "passed_time": 53.34530127,
                        "remaining_time": 55.5226605,
                        "test": [
                          36601.62888
                        ]
                      },
                      {
                        "learn": [
                          36597.63074
                        ],
                        "iteration": 490,
                        "passed_time": 53.4349131,
                        "remaining_time": 55.39383048,
                        "test": [
                          36549.60102
                        ]
                      },
                      {
                        "learn": [
                          36582.1661
                        ],
                        "iteration": 491,
                        "passed_time": 53.52022519,
                        "remaining_time": 55.26072031,
                        "test": [
                          36534.11959
                        ]
                      },
                      {
                        "learn": [
                          36558.945
                        ],
                        "iteration": 492,
                        "passed_time": 53.60701624,
                        "remaining_time": 55.12932502,
                        "test": [
                          36511.29108
                        ]
                      },
                      {
                        "learn": [
                          36534.795
                        ],
                        "iteration": 493,
                        "passed_time": 53.72259212,
                        "remaining_time": 55.02759435,
                        "test": [
                          36489.27685
                        ]
                      },
                      {
                        "learn": [
                          36522.78875
                        ],
                        "iteration": 494,
                        "passed_time": 53.8070295,
                        "remaining_time": 54.89404019,
                        "test": [
                          36476.75257
                        ]
                      },
                      {
                        "learn": [
                          36497.52343
                        ],
                        "iteration": 495,
                        "passed_time": 53.9271785,
                        "remaining_time": 54.7969717,
                        "test": [
                          36453.32853
                        ]
                      },
                      {
                        "learn": [
                          36484.58168
                        ],
                        "iteration": 496,
                        "passed_time": 54.01491757,
                        "remaining_time": 54.66700913,
                        "test": [
                          36440.48673
                        ]
                      },
                      {
                        "learn": [
                          36475.18767
                        ],
                        "iteration": 497,
                        "passed_time": 54.1009867,
                        "remaining_time": 54.53553277,
                        "test": [
                          36431.71978
                        ]
                      },
                      {
                        "learn": [
                          36465.50194
                        ],
                        "iteration": 498,
                        "passed_time": 54.19282567,
                        "remaining_time": 54.41003138,
                        "test": [
                          36422.34814
                        ]
                      },
                      {
                        "learn": [
                          36451.11817
                        ],
                        "iteration": 499,
                        "passed_time": 54.28767828,
                        "remaining_time": 54.28767828,
                        "test": [
                          36408.88301
                        ]
                      },
                      {
                        "learn": [
                          36413.36747
                        ],
                        "iteration": 500,
                        "passed_time": 54.36908573,
                        "remaining_time": 54.15204347,
                        "test": [
                          36369.23951
                        ]
                      },
                      {
                        "learn": [
                          36391.9453
                        ],
                        "iteration": 501,
                        "passed_time": 54.4610597,
                        "remaining_time": 54.02710703,
                        "test": [
                          36348.01405
                        ]
                      },
                      {
                        "learn": [
                          36375.40031
                        ],
                        "iteration": 502,
                        "passed_time": 54.54459469,
                        "remaining_time": 53.89396334,
                        "test": [
                          36332.59265
                        ]
                      },
                      {
                        "learn": [
                          36346.06054
                        ],
                        "iteration": 503,
                        "passed_time": 54.64541899,
                        "remaining_time": 53.77803139,
                        "test": [
                          36304.36952
                        ]
                      },
                      {
                        "learn": [
                          36324.39371
                        ],
                        "iteration": 504,
                        "passed_time": 54.76380653,
                        "remaining_time": 53.67937472,
                        "test": [
                          36282.95793
                        ]
                      },
                      {
                        "learn": [
                          36315.68817
                        ],
                        "iteration": 505,
                        "passed_time": 54.85693602,
                        "remaining_time": 53.55598102,
                        "test": [
                          36274.24117
                        ]
                      },
                      {
                        "learn": [
                          36290.82491
                        ],
                        "iteration": 506,
                        "passed_time": 54.96340671,
                        "remaining_time": 53.4456795,
                        "test": [
                          36248.62718
                        ]
                      },
                      {
                        "learn": [
                          36278.31042
                        ],
                        "iteration": 507,
                        "passed_time": 55.05338135,
                        "remaining_time": 53.31941658,
                        "test": [
                          36234.98666
                        ]
                      },
                      {
                        "learn": [
                          36254.8491
                        ],
                        "iteration": 508,
                        "passed_time": 55.14078209,
                        "remaining_time": 53.19081337,
                        "test": [
                          36212.54252
                        ]
                      },
                      {
                        "learn": [
                          36211.54529
                        ],
                        "iteration": 509,
                        "passed_time": 55.23918156,
                        "remaining_time": 53.07293915,
                        "test": [
                          36170.65378
                        ]
                      },
                      {
                        "learn": [
                          36193.96324
                        ],
                        "iteration": 510,
                        "passed_time": 55.32612759,
                        "remaining_time": 52.9441808,
                        "test": [
                          36153.24229
                        ]
                      },
                      {
                        "learn": [
                          36169.91888
                        ],
                        "iteration": 511,
                        "passed_time": 55.42254444,
                        "remaining_time": 52.82461267,
                        "test": [
                          36129.85314
                        ]
                      },
                      {
                        "learn": [
                          36142.02046
                        ],
                        "iteration": 512,
                        "passed_time": 55.50545193,
                        "remaining_time": 52.69231012,
                        "test": [
                          36101.49344
                        ]
                      },
                      {
                        "learn": [
                          36131.78708
                        ],
                        "iteration": 513,
                        "passed_time": 55.59515549,
                        "remaining_time": 52.56662562,
                        "test": [
                          36091.13115
                        ]
                      },
                      {
                        "learn": [
                          36113.98579
                        ],
                        "iteration": 514,
                        "passed_time": 55.67257686,
                        "remaining_time": 52.42951413,
                        "test": [
                          36073.20903
                        ]
                      },
                      {
                        "learn": [
                          36101.43113
                        ],
                        "iteration": 515,
                        "passed_time": 55.7916502,
                        "remaining_time": 52.3317029,
                        "test": [
                          36060.32722
                        ]
                      },
                      {
                        "learn": [
                          36070.66349
                        ],
                        "iteration": 516,
                        "passed_time": 55.88194867,
                        "remaining_time": 52.2069269,
                        "test": [
                          36031.05303
                        ]
                      },
                      {
                        "learn": [
                          36057.41707
                        ],
                        "iteration": 517,
                        "passed_time": 55.99040088,
                        "remaining_time": 52.09917611,
                        "test": [
                          36018.13298
                        ]
                      },
                      {
                        "learn": [
                          36049.22517
                        ],
                        "iteration": 518,
                        "passed_time": 56.06931046,
                        "remaining_time": 51.96404302,
                        "test": [
                          36009.81781
                        ]
                      },
                      {
                        "learn": [
                          36041.55772
                        ],
                        "iteration": 519,
                        "passed_time": 56.14561108,
                        "remaining_time": 51.82671792,
                        "test": [
                          36002.51924
                        ]
                      },
                      {
                        "learn": [
                          36026.78436
                        ],
                        "iteration": 520,
                        "passed_time": 56.24229657,
                        "remaining_time": 51.70836863,
                        "test": [
                          35989.96627
                        ]
                      },
                      {
                        "learn": [
                          36004.19431
                        ],
                        "iteration": 521,
                        "passed_time": 56.33296038,
                        "remaining_time": 51.58458825,
                        "test": [
                          35968.30637
                        ]
                      },
                      {
                        "learn": [
                          35994.04507
                        ],
                        "iteration": 522,
                        "passed_time": 56.41791613,
                        "remaining_time": 51.45572848,
                        "test": [
                          35957.71252
                        ]
                      },
                      {
                        "learn": [
                          35971.23414
                        ],
                        "iteration": 523,
                        "passed_time": 56.50575393,
                        "remaining_time": 51.32965434,
                        "test": [
                          35935.72677
                        ]
                      },
                      {
                        "learn": [
                          35959.02744
                        ],
                        "iteration": 524,
                        "passed_time": 56.59258904,
                        "remaining_time": 51.20281866,
                        "test": [
                          35922.50175
                        ]
                      },
                      {
                        "learn": [
                          35943.58386
                        ],
                        "iteration": 525,
                        "passed_time": 56.68480596,
                        "remaining_time": 51.08098484,
                        "test": [
                          35906.45307
                        ]
                      },
                      {
                        "learn": [
                          35922.4788
                        ],
                        "iteration": 526,
                        "passed_time": 56.80235321,
                        "remaining_time": 50.98199823,
                        "test": [
                          35884.78722
                        ]
                      },
                      {
                        "learn": [
                          35913.55045
                        ],
                        "iteration": 527,
                        "passed_time": 56.88674554,
                        "remaining_time": 50.85330283,
                        "test": [
                          35875.61689
                        ]
                      },
                      {
                        "learn": [
                          35904.41288
                        ],
                        "iteration": 528,
                        "passed_time": 56.98358447,
                        "remaining_time": 50.73585688,
                        "test": [
                          35866.87797
                        ]
                      },
                      {
                        "learn": [
                          35877.36542
                        ],
                        "iteration": 529,
                        "passed_time": 57.08411821,
                        "remaining_time": 50.62176521,
                        "test": [
                          35840.25606
                        ]
                      },
                      {
                        "learn": [
                          35869.82827
                        ],
                        "iteration": 530,
                        "passed_time": 57.16954542,
                        "remaining_time": 50.49438192,
                        "test": [
                          35832.76904
                        ]
                      },
                      {
                        "learn": [
                          35854.09126
                        ],
                        "iteration": 531,
                        "passed_time": 57.25058442,
                        "remaining_time": 50.36329607,
                        "test": [
                          35815.94295
                        ]
                      },
                      {
                        "learn": [
                          35841.6547
                        ],
                        "iteration": 532,
                        "passed_time": 57.3422744,
                        "remaining_time": 50.2417301,
                        "test": [
                          35803.17341
                        ]
                      },
                      {
                        "learn": [
                          35822.3747
                        ],
                        "iteration": 533,
                        "passed_time": 57.43049501,
                        "remaining_time": 50.11724845,
                        "test": [
                          35783.78575
                        ]
                      },
                      {
                        "learn": [
                          35795.45913
                        ],
                        "iteration": 534,
                        "passed_time": 57.52529476,
                        "remaining_time": 49.99862068,
                        "test": [
                          35757.18097
                        ]
                      },
                      {
                        "learn": [
                          35775.41758
                        ],
                        "iteration": 535,
                        "passed_time": 57.61080884,
                        "remaining_time": 49.87204347,
                        "test": [
                          35738.13807
                        ]
                      },
                      {
                        "learn": [
                          35753.60448
                        ],
                        "iteration": 536,
                        "passed_time": 57.7011568,
                        "remaining_time": 49.74978696,
                        "test": [
                          35714.75794
                        ]
                      },
                      {
                        "learn": [
                          35723.49917
                        ],
                        "iteration": 537,
                        "passed_time": 57.83139919,
                        "remaining_time": 49.66190786,
                        "test": [
                          35686.16806
                        ]
                      },
                      {
                        "learn": [
                          35700.41771
                        ],
                        "iteration": 538,
                        "passed_time": 57.9236954,
                        "remaining_time": 49.54141666,
                        "test": [
                          35663.12931
                        ]
                      },
                      {
                        "learn": [
                          35661.22678
                        ],
                        "iteration": 539,
                        "passed_time": 58.02002025,
                        "remaining_time": 49.4244617,
                        "test": [
                          35624.53344
                        ]
                      },
                      {
                        "learn": [
                          35639.47558
                        ],
                        "iteration": 540,
                        "passed_time": 58.12200942,
                        "remaining_time": 49.31238877,
                        "test": [
                          35603.04224
                        ]
                      },
                      {
                        "learn": [
                          35624.40826
                        ],
                        "iteration": 541,
                        "passed_time": 58.21767302,
                        "remaining_time": 49.19500783,
                        "test": [
                          35587.88566
                        ]
                      },
                      {
                        "learn": [
                          35609.48019
                        ],
                        "iteration": 542,
                        "passed_time": 58.30979454,
                        "remaining_time": 49.07472579,
                        "test": [
                          35573.33196
                        ]
                      },
                      {
                        "learn": [
                          35600.80607
                        ],
                        "iteration": 543,
                        "passed_time": 58.39364637,
                        "remaining_time": 48.94761534,
                        "test": [
                          35567.13398
                        ]
                      },
                      {
                        "learn": [
                          35579.47955
                        ],
                        "iteration": 544,
                        "passed_time": 58.48751062,
                        "remaining_time": 48.82902263,
                        "test": [
                          35547.93055
                        ]
                      },
                      {
                        "learn": [
                          35564.59317
                        ],
                        "iteration": 545,
                        "passed_time": 58.57112271,
                        "remaining_time": 48.70199581,
                        "test": [
                          35533.17643
                        ]
                      },
                      {
                        "learn": [
                          35554.15148
                        ],
                        "iteration": 546,
                        "passed_time": 58.66197878,
                        "remaining_time": 48.58112685,
                        "test": [
                          35523.02691
                        ]
                      },
                      {
                        "learn": [
                          35538.10317
                        ],
                        "iteration": 547,
                        "passed_time": 58.74790948,
                        "remaining_time": 48.4563049,
                        "test": [
                          35506.64608
                        ]
                      },
                      {
                        "learn": [
                          35513.80029
                        ],
                        "iteration": 548,
                        "passed_time": 58.86825768,
                        "remaining_time": 48.35989838,
                        "test": [
                          35482.7777
                        ]
                      },
                      {
                        "learn": [
                          35501.57548
                        ],
                        "iteration": 549,
                        "passed_time": 58.95150343,
                        "remaining_time": 48.23304826,
                        "test": [
                          35469.97515
                        ]
                      },
                      {
                        "learn": [
                          35490.79196
                        ],
                        "iteration": 550,
                        "passed_time": 59.03826843,
                        "remaining_time": 48.10922419,
                        "test": [
                          35459.66236
                        ]
                      },
                      {
                        "learn": [
                          35470.60671
                        ],
                        "iteration": 551,
                        "passed_time": 59.14384452,
                        "remaining_time": 48.00080135,
                        "test": [
                          35440.65797
                        ]
                      },
                      {
                        "learn": [
                          35460.54237
                        ],
                        "iteration": 552,
                        "passed_time": 59.23745744,
                        "remaining_time": 47.88271876,
                        "test": [
                          35429.92829
                        ]
                      },
                      {
                        "learn": [
                          35446.83759
                        ],
                        "iteration": 553,
                        "passed_time": 59.32362924,
                        "remaining_time": 47.75873401,
                        "test": [
                          35415.96168
                        ]
                      },
                      {
                        "learn": [
                          35417.79744
                        ],
                        "iteration": 554,
                        "passed_time": 59.45265633,
                        "remaining_time": 47.66924697,
                        "test": [
                          35386.79438
                        ]
                      },
                      {
                        "learn": [
                          35378.84817
                        ],
                        "iteration": 555,
                        "passed_time": 59.60961561,
                        "remaining_time": 47.60192325,
                        "test": [
                          35346.78743
                        ]
                      },
                      {
                        "learn": [
                          35366.4105
                        ],
                        "iteration": 556,
                        "passed_time": 59.79747804,
                        "remaining_time": 47.55885597,
                        "test": [
                          35333.88481
                        ]
                      },
                      {
                        "learn": [
                          35357.17653
                        ],
                        "iteration": 557,
                        "passed_time": 59.99799894,
                        "remaining_time": 47.52529665,
                        "test": [
                          35325.03745
                        ]
                      },
                      {
                        "learn": [
                          35346.88955
                        ],
                        "iteration": 558,
                        "passed_time": 60.18852429,
                        "remaining_time": 47.4832544,
                        "test": [
                          35315.47628
                        ]
                      },
                      {
                        "learn": [
                          35316.20045
                        ],
                        "iteration": 559,
                        "passed_time": 60.40013432,
                        "remaining_time": 47.45724839,
                        "test": [
                          35283.77437
                        ]
                      },
                      {
                        "learn": [
                          35304.17463
                        ],
                        "iteration": 560,
                        "passed_time": 60.60213414,
                        "remaining_time": 47.4230604,
                        "test": [
                          35272.15948
                        ]
                      },
                      {
                        "learn": [
                          35287.05775
                        ],
                        "iteration": 561,
                        "passed_time": 60.79910163,
                        "remaining_time": 47.38435323,
                        "test": [
                          35254.48376
                        ]
                      },
                      {
                        "learn": [
                          35272.63334
                        ],
                        "iteration": 562,
                        "passed_time": 61.00589991,
                        "remaining_time": 47.3527145,
                        "test": [
                          35241.03806
                        ]
                      },
                      {
                        "learn": [
                          35254.9529
                        ],
                        "iteration": 563,
                        "passed_time": 61.181452,
                        "remaining_time": 47.29629977,
                        "test": [
                          35224.52137
                        ]
                      },
                      {
                        "learn": [
                          35234.9417
                        ],
                        "iteration": 564,
                        "passed_time": 61.36334212,
                        "remaining_time": 47.24434305,
                        "test": [
                          35204.59972
                        ]
                      },
                      {
                        "learn": [
                          35194.60555
                        ],
                        "iteration": 565,
                        "passed_time": 61.57835197,
                        "remaining_time": 47.21732289,
                        "test": [
                          35166.04413
                        ]
                      },
                      {
                        "learn": [
                          35183.35444
                        ],
                        "iteration": 566,
                        "passed_time": 61.77733396,
                        "remaining_time": 47.17739965,
                        "test": [
                          35153.39908
                        ]
                      },
                      {
                        "learn": [
                          35164.01319
                        ],
                        "iteration": 567,
                        "passed_time": 61.97716674,
                        "remaining_time": 47.13756344,
                        "test": [
                          35135.78304
                        ]
                      },
                      {
                        "learn": [
                          35142.58783
                        ],
                        "iteration": 568,
                        "passed_time": 62.21856775,
                        "remaining_time": 47.12865149,
                        "test": [
                          35116.37309
                        ]
                      },
                      {
                        "learn": [
                          35128.43819
                        ],
                        "iteration": 569,
                        "passed_time": 62.42485413,
                        "remaining_time": 47.09243382,
                        "test": [
                          35102.44371
                        ]
                      },
                      {
                        "learn": [
                          35120.05967
                        ],
                        "iteration": 570,
                        "passed_time": 62.63366983,
                        "remaining_time": 47.05752077,
                        "test": [
                          35094.84257
                        ]
                      },
                      {
                        "learn": [
                          35096.1995
                        ],
                        "iteration": 571,
                        "passed_time": 62.86020471,
                        "remaining_time": 47.03525807,
                        "test": [
                          35070.45551
                        ]
                      },
                      {
                        "learn": [
                          35080.69963
                        ],
                        "iteration": 572,
                        "passed_time": 63.08058527,
                        "remaining_time": 47.00769618,
                        "test": [
                          35054.12053
                        ]
                      },
                      {
                        "learn": [
                          35068.59193
                        ],
                        "iteration": 573,
                        "passed_time": 63.22849433,
                        "remaining_time": 46.92567698,
                        "test": [
                          35041.60681
                        ]
                      },
                      {
                        "learn": [
                          35053.27395
                        ],
                        "iteration": 574,
                        "passed_time": 63.416779,
                        "remaining_time": 46.87327144,
                        "test": [
                          35027.12672
                        ]
                      },
                      {
                        "learn": [
                          35038.00266
                        ],
                        "iteration": 575,
                        "passed_time": 63.57348992,
                        "remaining_time": 46.7971523,
                        "test": [
                          35012.17122
                        ]
                      },
                      {
                        "learn": [
                          35026.91018
                        ],
                        "iteration": 576,
                        "passed_time": 63.69647524,
                        "remaining_time": 46.69602951,
                        "test": [
                          35000.66648
                        ]
                      },
                      {
                        "learn": [
                          35013.05972
                        ],
                        "iteration": 577,
                        "passed_time": 63.86858331,
                        "remaining_time": 46.63069577,
                        "test": [
                          34987.04016
                        ]
                      },
                      {
                        "learn": [
                          34998.27193
                        ],
                        "iteration": 578,
                        "passed_time": 63.99105898,
                        "remaining_time": 46.52890472,
                        "test": [
                          34971.0138
                        ]
                      },
                      {
                        "learn": [
                          34980.68901
                        ],
                        "iteration": 579,
                        "passed_time": 64.11070292,
                        "remaining_time": 46.42499177,
                        "test": [
                          34953.51838
                        ]
                      },
                      {
                        "learn": [
                          34974.11665
                        ],
                        "iteration": 580,
                        "passed_time": 64.19149742,
                        "remaining_time": 46.29300761,
                        "test": [
                          34946.78578
                        ]
                      },
                      {
                        "learn": [
                          34966.25782
                        ],
                        "iteration": 581,
                        "passed_time": 64.28811978,
                        "remaining_time": 46.17256712,
                        "test": [
                          34939.34012
                        ]
                      },
                      {
                        "learn": [
                          34954.13091
                        ],
                        "iteration": 582,
                        "passed_time": 64.37094691,
                        "remaining_time": 46.0423411,
                        "test": [
                          34926.27188
                        ]
                      },
                      {
                        "learn": [
                          34939.77915
                        ],
                        "iteration": 583,
                        "passed_time": 64.48498505,
                        "remaining_time": 45.9345099,
                        "test": [
                          34911.74142
                        ]
                      },
                      {
                        "learn": [
                          34918.9073
                        ],
                        "iteration": 584,
                        "passed_time": 64.5767399,
                        "remaining_time": 45.81084967,
                        "test": [
                          34890.7426
                        ]
                      },
                      {
                        "learn": [
                          34902.07015
                        ],
                        "iteration": 585,
                        "passed_time": 64.66455093,
                        "remaining_time": 45.68451209,
                        "test": [
                          34874.8793
                        ]
                      },
                      {
                        "learn": [
                          34869.52228
                        ],
                        "iteration": 586,
                        "passed_time": 64.75771175,
                        "remaining_time": 45.56206977,
                        "test": [
                          34843.70157
                        ]
                      },
                      {
                        "learn": [
                          34857.16164
                        ],
                        "iteration": 587,
                        "passed_time": 64.84215994,
                        "remaining_time": 45.43362227,
                        "test": [
                          34831.42638
                        ]
                      },
                      {
                        "learn": [
                          34840.23823
                        ],
                        "iteration": 588,
                        "passed_time": 64.93088546,
                        "remaining_time": 45.30830887,
                        "test": [
                          34814.79512
                        ]
                      },
                      {
                        "learn": [
                          34818.2818
                        ],
                        "iteration": 589,
                        "passed_time": 65.02070303,
                        "remaining_time": 45.18387838,
                        "test": [
                          34793.58076
                        ]
                      },
                      {
                        "learn": [
                          34799.02467
                        ],
                        "iteration": 590,
                        "passed_time": 65.13801571,
                        "remaining_time": 45.07859294,
                        "test": [
                          34775.62503
                        ]
                      },
                      {
                        "learn": [
                          34788.08923
                        ],
                        "iteration": 591,
                        "passed_time": 65.23314014,
                        "remaining_time": 44.95797496,
                        "test": [
                          34765.41207
                        ]
                      },
                      {
                        "learn": [
                          34770.73949
                        ],
                        "iteration": 592,
                        "passed_time": 65.31803006,
                        "remaining_time": 44.83041861,
                        "test": [
                          34745.89761
                        ]
                      },
                      {
                        "learn": [
                          34748.81164
                        ],
                        "iteration": 593,
                        "passed_time": 65.41440728,
                        "remaining_time": 44.7108575,
                        "test": [
                          34723.77595
                        ]
                      },
                      {
                        "learn": [
                          34734.64265
                        ],
                        "iteration": 594,
                        "passed_time": 65.52003177,
                        "remaining_time": 44.59766868,
                        "test": [
                          34710.0583
                        ]
                      },
                      {
                        "learn": [
                          34721.66794
                        ],
                        "iteration": 595,
                        "passed_time": 65.60778394,
                        "remaining_time": 44.47239046,
                        "test": [
                          34696.72595
                        ]
                      },
                      {
                        "learn": [
                          34710.98977
                        ],
                        "iteration": 596,
                        "passed_time": 65.69205155,
                        "remaining_time": 44.34488572,
                        "test": [
                          34685.28171
                        ]
                      },
                      {
                        "learn": [
                          34691.15259
                        ],
                        "iteration": 597,
                        "passed_time": 65.79012812,
                        "remaining_time": 44.22680853,
                        "test": [
                          34666.0975
                        ]
                      },
                      {
                        "learn": [
                          34675.6237
                        ],
                        "iteration": 598,
                        "passed_time": 65.86734943,
                        "remaining_time": 44.0948366,
                        "test": [
                          34651.24579
                        ]
                      },
                      {
                        "learn": [
                          34661.9251
                        ],
                        "iteration": 599,
                        "passed_time": 65.95831884,
                        "remaining_time": 43.97221256,
                        "test": [
                          34638.3102
                        ]
                      },
                      {
                        "learn": [
                          34651.76231
                        ],
                        "iteration": 600,
                        "passed_time": 66.04278808,
                        "remaining_time": 43.84537844,
                        "test": [
                          34627.92991
                        ]
                      },
                      {
                        "learn": [
                          34633.56944
                        ],
                        "iteration": 601,
                        "passed_time": 66.17248467,
                        "remaining_time": 43.74858621,
                        "test": [
                          34610.09424
                        ]
                      },
                      {
                        "learn": [
                          34621.46437
                        ],
                        "iteration": 602,
                        "passed_time": 66.26544183,
                        "remaining_time": 43.62749653,
                        "test": [
                          34597.90636
                        ]
                      },
                      {
                        "learn": [
                          34613.87849
                        ],
                        "iteration": 603,
                        "passed_time": 66.35500169,
                        "remaining_time": 43.50427263,
                        "test": [
                          34590.39904
                        ]
                      },
                      {
                        "learn": [
                          34603.06549
                        ],
                        "iteration": 604,
                        "passed_time": 66.43146682,
                        "remaining_time": 43.37261057,
                        "test": [
                          34578.43184
                        ]
                      },
                      {
                        "learn": [
                          34588.791
                        ],
                        "iteration": 605,
                        "passed_time": 66.53615624,
                        "remaining_time": 43.25948112,
                        "test": [
                          34565.3013
                        ]
                      },
                      {
                        "learn": [
                          34572.33328
                        ],
                        "iteration": 606,
                        "passed_time": 66.62257376,
                        "remaining_time": 43.13454941,
                        "test": [
                          34550.25469
                        ]
                      },
                      {
                        "learn": [
                          34563.16303
                        ],
                        "iteration": 607,
                        "passed_time": 66.71041882,
                        "remaining_time": 43.01066476,
                        "test": [
                          34541.11871
                        ]
                      },
                      {
                        "learn": [
                          34550.84531
                        ],
                        "iteration": 608,
                        "passed_time": 66.80029133,
                        "remaining_time": 42.88820018,
                        "test": [
                          34529.04914
                        ]
                      },
                      {
                        "learn": [
                          34528.83684
                        ],
                        "iteration": 609,
                        "passed_time": 66.8965513,
                        "remaining_time": 42.76992624,
                        "test": [
                          34508.07048
                        ]
                      },
                      {
                        "learn": [
                          34514.05063
                        ],
                        "iteration": 610,
                        "passed_time": 66.97742719,
                        "remaining_time": 42.64192991,
                        "test": [
                          34493.19802
                        ]
                      },
                      {
                        "learn": [
                          34498.90291
                        ],
                        "iteration": 611,
                        "passed_time": 67.06885687,
                        "remaining_time": 42.52077854,
                        "test": [
                          34478.54718
                        ]
                      },
                      {
                        "learn": [
                          34482.49091
                        ],
                        "iteration": 612,
                        "passed_time": 67.18818312,
                        "remaining_time": 42.41733584,
                        "test": [
                          34463.09232
                        ]
                      },
                      {
                        "learn": [
                          34471.96711
                        ],
                        "iteration": 613,
                        "passed_time": 67.28545024,
                        "remaining_time": 42.2999736,
                        "test": [
                          34452.1621
                        ]
                      },
                      {
                        "learn": [
                          34459.38368
                        ],
                        "iteration": 614,
                        "passed_time": 67.36628845,
                        "remaining_time": 42.17239196,
                        "test": [
                          34439.32753
                        ]
                      },
                      {
                        "learn": [
                          34448.67338
                        ],
                        "iteration": 615,
                        "passed_time": 67.45157052,
                        "remaining_time": 42.04773227,
                        "test": [
                          34428.24732
                        ]
                      },
                      {
                        "learn": [
                          34433.09439
                        ],
                        "iteration": 616,
                        "passed_time": 67.5355755,
                        "remaining_time": 41.92240748,
                        "test": [
                          34412.07367
                        ]
                      },
                      {
                        "learn": [
                          34403.93693
                        ],
                        "iteration": 617,
                        "passed_time": 67.65231679,
                        "remaining_time": 41.81745148,
                        "test": [
                          34382.30647
                        ]
                      },
                      {
                        "learn": [
                          34394.41947
                        ],
                        "iteration": 618,
                        "passed_time": 67.74143575,
                        "remaining_time": 41.69545561,
                        "test": [
                          34372.81658
                        ]
                      },
                      {
                        "learn": [
                          34384.87912
                        ],
                        "iteration": 619,
                        "passed_time": 67.83214818,
                        "remaining_time": 41.57454243,
                        "test": [
                          34363.59113
                        ]
                      },
                      {
                        "learn": [
                          34370.99337
                        ],
                        "iteration": 620,
                        "passed_time": 67.9091146,
                        "remaining_time": 41.44533725,
                        "test": [
                          34350.50021
                        ]
                      },
                      {
                        "learn": [
                          34362.1773
                        ],
                        "iteration": 621,
                        "passed_time": 67.98794616,
                        "remaining_time": 41.31743352,
                        "test": [
                          34342.42185
                        ]
                      },
                      {
                        "learn": [
                          34352.49423
                        ],
                        "iteration": 622,
                        "passed_time": 68.08150572,
                        "remaining_time": 41.19859977,
                        "test": [
                          34331.66266
                        ]
                      },
                      {
                        "learn": [
                          34345.44514
                        ],
                        "iteration": 623,
                        "passed_time": 68.18654436,
                        "remaining_time": 41.08676391,
                        "test": [
                          34324.64526
                        ]
                      },
                      {
                        "learn": [
                          34333.45123
                        ],
                        "iteration": 624,
                        "passed_time": 68.29805184,
                        "remaining_time": 40.97883111,
                        "test": [
                          34312.14265
                        ]
                      },
                      {
                        "learn": [
                          34320.88604
                        ],
                        "iteration": 625,
                        "passed_time": 68.39110445,
                        "remaining_time": 40.85986113,
                        "test": [
                          34299.45637
                        ]
                      },
                      {
                        "learn": [
                          34301.55992
                        ],
                        "iteration": 626,
                        "passed_time": 68.48318591,
                        "remaining_time": 40.74039608,
                        "test": [
                          34280.50467
                        ]
                      },
                      {
                        "learn": [
                          34277.81456
                        ],
                        "iteration": 627,
                        "passed_time": 68.57378672,
                        "remaining_time": 40.62014118,
                        "test": [
                          34256.80618
                        ]
                      },
                      {
                        "learn": [
                          34270.44365
                        ],
                        "iteration": 628,
                        "passed_time": 68.67634248,
                        "remaining_time": 40.50703189,
                        "test": [
                          34248.93771
                        ]
                      },
                      {
                        "learn": [
                          34252.41049
                        ],
                        "iteration": 629,
                        "passed_time": 68.76693927,
                        "remaining_time": 40.38693259,
                        "test": [
                          34230.45725
                        ]
                      },
                      {
                        "learn": [
                          34237.17472
                        ],
                        "iteration": 630,
                        "passed_time": 68.858652,
                        "remaining_time": 40.26757938,
                        "test": [
                          34215.84747
                        ]
                      },
                      {
                        "learn": [
                          34223.68898
                        ],
                        "iteration": 631,
                        "passed_time": 68.9472191,
                        "remaining_time": 40.14648201,
                        "test": [
                          34202.16757
                        ]
                      },
                      {
                        "learn": [
                          34213.0442
                        ],
                        "iteration": 632,
                        "passed_time": 69.03298525,
                        "remaining_time": 40.02386349,
                        "test": [
                          34192.20414
                        ]
                      },
                      {
                        "learn": [
                          34206.66769
                        ],
                        "iteration": 633,
                        "passed_time": 69.11344831,
                        "remaining_time": 39.89829981,
                        "test": [
                          34186.04614
                        ]
                      },
                      {
                        "learn": [
                          34197.37486
                        ],
                        "iteration": 634,
                        "passed_time": 69.23738829,
                        "remaining_time": 39.79786886,
                        "test": [
                          34177.88599
                        ]
                      },
                      {
                        "learn": [
                          34185.69085
                        ],
                        "iteration": 635,
                        "passed_time": 69.3225445,
                        "remaining_time": 39.67516698,
                        "test": [
                          34165.94077
                        ]
                      },
                      {
                        "learn": [
                          34175.24748
                        ],
                        "iteration": 636,
                        "passed_time": 69.40287488,
                        "remaining_time": 39.54983294,
                        "test": [
                          34155.45188
                        ]
                      },
                      {
                        "learn": [
                          34161.66924
                        ],
                        "iteration": 637,
                        "passed_time": 69.4883096,
                        "remaining_time": 39.42753617,
                        "test": [
                          34141.91501
                        ]
                      },
                      {
                        "learn": [
                          34150.78823
                        ],
                        "iteration": 638,
                        "passed_time": 69.57780672,
                        "remaining_time": 39.3076498,
                        "test": [
                          34131.2216
                        ]
                      },
                      {
                        "learn": [
                          34138.67019
                        ],
                        "iteration": 639,
                        "passed_time": 69.68824289,
                        "remaining_time": 39.19963662,
                        "test": [
                          34119.21535
                        ]
                      },
                      {
                        "learn": [
                          34126.30814
                        ],
                        "iteration": 640,
                        "passed_time": 69.79128136,
                        "remaining_time": 39.08747271,
                        "test": [
                          34106.9609
                        ]
                      },
                      {
                        "learn": [
                          34115.98049
                        ],
                        "iteration": 641,
                        "passed_time": 69.88363076,
                        "remaining_time": 38.96937665,
                        "test": [
                          34097.16258
                        ]
                      },
                      {
                        "learn": [
                          34095.01348
                        ],
                        "iteration": 642,
                        "passed_time": 69.97586408,
                        "remaining_time": 38.85129623,
                        "test": [
                          34077.27853
                        ]
                      },
                      {
                        "learn": [
                          34090.17841
                        ],
                        "iteration": 643,
                        "passed_time": 70.05584984,
                        "remaining_time": 38.72652569,
                        "test": [
                          34072.11078
                        ]
                      },
                      {
                        "learn": [
                          34075.18953
                        ],
                        "iteration": 644,
                        "passed_time": 70.1510518,
                        "remaining_time": 38.61026882,
                        "test": [
                          34055.75646
                        ]
                      },
                      {
                        "learn": [
                          34062.01769
                        ],
                        "iteration": 645,
                        "passed_time": 70.26799814,
                        "remaining_time": 38.50599279,
                        "test": [
                          34042.2411
                        ]
                      },
                      {
                        "learn": [
                          34048.64372
                        ],
                        "iteration": 646,
                        "passed_time": 70.37206157,
                        "remaining_time": 38.39464874,
                        "test": [
                          34028.38467
                        ]
                      },
                      {
                        "learn": [
                          34035.99518
                        ],
                        "iteration": 647,
                        "passed_time": 70.45985153,
                        "remaining_time": 38.27448725,
                        "test": [
                          34015.65857
                        ]
                      },
                      {
                        "learn": [
                          34025.98054
                        ],
                        "iteration": 648,
                        "passed_time": 70.54958976,
                        "remaining_time": 38.15547921,
                        "test": [
                          34005.60286
                        ]
                      },
                      {
                        "learn": [
                          34014.43971
                        ],
                        "iteration": 649,
                        "passed_time": 70.63255558,
                        "remaining_time": 38.03291454,
                        "test": [
                          33994.46385
                        ]
                      },
                      {
                        "learn": [
                          33998.65925
                        ],
                        "iteration": 650,
                        "passed_time": 70.74493435,
                        "remaining_time": 37.92623977,
                        "test": [
                          33978.16772
                        ]
                      },
                      {
                        "learn": [
                          33990.17965
                        ],
                        "iteration": 651,
                        "passed_time": 70.83198678,
                        "remaining_time": 37.80602976,
                        "test": [
                          33969.61766
                        ]
                      },
                      {
                        "learn": [
                          33975.47906
                        ],
                        "iteration": 652,
                        "passed_time": 70.92373303,
                        "remaining_time": 37.68841556,
                        "test": [
                          33954.52642
                        ]
                      },
                      {
                        "learn": [
                          33968.90263
                        ],
                        "iteration": 653,
                        "passed_time": 71.01179382,
                        "remaining_time": 37.56893068,
                        "test": [
                          33948.79984
                        ]
                      },
                      {
                        "learn": [
                          33961.88207
                        ],
                        "iteration": 654,
                        "passed_time": 71.09956723,
                        "remaining_time": 37.44939037,
                        "test": [
                          33941.70443
                        ]
                      },
                      {
                        "learn": [
                          33948.32845
                        ],
                        "iteration": 655,
                        "passed_time": 71.18649515,
                        "remaining_time": 37.32950355,
                        "test": [
                          33929.24114
                        ]
                      },
                      {
                        "learn": [
                          33940.42603
                        ],
                        "iteration": 656,
                        "passed_time": 71.31398115,
                        "remaining_time": 37.23089122,
                        "test": [
                          33920.65351
                        ]
                      },
                      {
                        "learn": [
                          33927.25927
                        ],
                        "iteration": 657,
                        "passed_time": 71.40598474,
                        "remaining_time": 37.11374891,
                        "test": [
                          33907.45411
                        ]
                      },
                      {
                        "learn": [
                          33920.50278
                        ],
                        "iteration": 658,
                        "passed_time": 71.49019391,
                        "remaining_time": 36.99264966,
                        "test": [
                          33900.25162
                        ]
                      },
                      {
                        "learn": [
                          33905.06831
                        ],
                        "iteration": 659,
                        "passed_time": 71.58178074,
                        "remaining_time": 36.8754628,
                        "test": [
                          33886.31892
                        ]
                      },
                      {
                        "learn": [
                          33892.2272
                        ],
                        "iteration": 660,
                        "passed_time": 71.67527765,
                        "remaining_time": 36.75933302,
                        "test": [
                          33872.74451
                        ]
                      },
                      {
                        "learn": [
                          33877.92503
                        ],
                        "iteration": 661,
                        "passed_time": 71.78273922,
                        "remaining_time": 36.6504016,
                        "test": [
                          33859.34718
                        ]
                      },
                      {
                        "learn": [
                          33864.50751
                        ],
                        "iteration": 662,
                        "passed_time": 71.8683738,
                        "remaining_time": 36.53038005,
                        "test": [
                          33845.99653
                        ]
                      },
                      {
                        "learn": [
                          33849.86038
                        ],
                        "iteration": 663,
                        "passed_time": 71.94998503,
                        "remaining_time": 36.40842616,
                        "test": [
                          33830.71597
                        ]
                      },
                      {
                        "learn": [
                          33843.78762
                        ],
                        "iteration": 664,
                        "passed_time": 72.03237665,
                        "remaining_time": 36.28698674,
                        "test": [
                          33825.14474
                        ]
                      },
                      {
                        "learn": [
                          33829.80296
                        ],
                        "iteration": 665,
                        "passed_time": 72.11798965,
                        "remaining_time": 36.1672801,
                        "test": [
                          33812.28626
                        ]
                      },
                      {
                        "learn": [
                          33819.9966
                        ],
                        "iteration": 666,
                        "passed_time": 72.20910149,
                        "remaining_time": 36.05042099,
                        "test": [
                          33802.15776
                        ]
                      },
                      {
                        "learn": [
                          33807.84899
                        ],
                        "iteration": 667,
                        "passed_time": 72.33031634,
                        "remaining_time": 35.94860034,
                        "test": [
                          33789.47962
                        ]
                      },
                      {
                        "learn": [
                          33798.69061
                        ],
                        "iteration": 668,
                        "passed_time": 72.41493204,
                        "remaining_time": 35.82861361,
                        "test": [
                          33781.66861
                        ]
                      },
                      {
                        "learn": [
                          33790.25335
                        ],
                        "iteration": 669,
                        "passed_time": 72.50162682,
                        "remaining_time": 35.70975649,
                        "test": [
                          33772.93234
                        ]
                      },
                      {
                        "learn": [
                          33779.29783
                        ],
                        "iteration": 670,
                        "passed_time": 72.5872954,
                        "remaining_time": 35.59049208,
                        "test": [
                          33762.7054
                        ]
                      },
                      {
                        "learn": [
                          33767.41043
                        ],
                        "iteration": 671,
                        "passed_time": 72.67387683,
                        "remaining_time": 35.47177322,
                        "test": [
                          33750.44829
                        ]
                      },
                      {
                        "learn": [
                          33762.37505
                        ],
                        "iteration": 672,
                        "passed_time": 72.78071528,
                        "remaining_time": 35.36299242,
                        "test": [
                          33745.50979
                        ]
                      },
                      {
                        "learn": [
                          33751.62208
                        ],
                        "iteration": 673,
                        "passed_time": 72.87107153,
                        "remaining_time": 35.24624528,
                        "test": [
                          33733.99826
                        ]
                      },
                      {
                        "learn": [
                          33739.69891
                        ],
                        "iteration": 674,
                        "passed_time": 72.95264819,
                        "remaining_time": 35.12534913,
                        "test": [
                          33722.00564
                        ]
                      },
                      {
                        "learn": [
                          33718.11277
                        ],
                        "iteration": 675,
                        "passed_time": 73.04436112,
                        "remaining_time": 35.00942752,
                        "test": [
                          33700.82232
                        ]
                      },
                      {
                        "learn": [
                          33700.75426
                        ],
                        "iteration": 676,
                        "passed_time": 73.12949248,
                        "remaining_time": 34.89043733,
                        "test": [
                          33684.48498
                        ]
                      },
                      {
                        "learn": [
                          33691.42147
                        ],
                        "iteration": 677,
                        "passed_time": 73.22435263,
                        "remaining_time": 34.77616747,
                        "test": [
                          33676.79461
                        ]
                      },
                      {
                        "learn": [
                          33680.39977
                        ],
                        "iteration": 678,
                        "passed_time": 73.33932982,
                        "remaining_time": 34.6714652,
                        "test": [
                          33667.43617
                        ]
                      },
                      {
                        "learn": [
                          33661.69855
                        ],
                        "iteration": 679,
                        "passed_time": 73.44893214,
                        "remaining_time": 34.56420336,
                        "test": [
                          33648.89818
                        ]
                      },
                      {
                        "learn": [
                          33647.00603
                        ],
                        "iteration": 680,
                        "passed_time": 73.53839582,
                        "remaining_time": 34.44750113,
                        "test": [
                          33634.73614
                        ]
                      },
                      {
                        "learn": [
                          33637.55165
                        ],
                        "iteration": 681,
                        "passed_time": 73.69030464,
                        "remaining_time": 34.35999542,
                        "test": [
                          33624.81978
                        ]
                      },
                      {
                        "learn": [
                          33629.43914
                        ],
                        "iteration": 682,
                        "passed_time": 73.86804753,
                        "remaining_time": 34.28429146,
                        "test": [
                          33617.31487
                        ]
                      },
                      {
                        "learn": [
                          33613.37701
                        ],
                        "iteration": 683,
                        "passed_time": 74.05958878,
                        "remaining_time": 34.21466382,
                        "test": [
                          33601.402
                        ]
                      },
                      {
                        "learn": [
                          33596.0259
                        ],
                        "iteration": 684,
                        "passed_time": 74.26282983,
                        "remaining_time": 34.15006043,
                        "test": [
                          33584.85756
                        ]
                      },
                      {
                        "learn": [
                          33580.8273
                        ],
                        "iteration": 685,
                        "passed_time": 74.50722078,
                        "remaining_time": 34.10388823,
                        "test": [
                          33571.33834
                        ]
                      },
                      {
                        "learn": [
                          33568.4983
                        ],
                        "iteration": 686,
                        "passed_time": 74.70762431,
                        "remaining_time": 34.03709812,
                        "test": [
                          33558.92693
                        ]
                      },
                      {
                        "learn": [
                          33552.65234
                        ],
                        "iteration": 687,
                        "passed_time": 74.91542703,
                        "remaining_time": 33.97327505,
                        "test": [
                          33543.85646
                        ]
                      },
                      {
                        "learn": [
                          33541.4997
                        ],
                        "iteration": 688,
                        "passed_time": 75.11000625,
                        "remaining_time": 33.90306523,
                        "test": [
                          33532.63314
                        ]
                      },
                      {
                        "learn": [
                          33534.14682
                        ],
                        "iteration": 689,
                        "passed_time": 75.29048254,
                        "remaining_time": 33.82615882,
                        "test": [
                          33525.55855
                        ]
                      },
                      {
                        "learn": [
                          33518.01112
                        ],
                        "iteration": 690,
                        "passed_time": 75.51044214,
                        "remaining_time": 33.76660871,
                        "test": [
                          33509.93842
                        ]
                      },
                      {
                        "learn": [
                          33502.19013
                        ],
                        "iteration": 691,
                        "passed_time": 75.7223837,
                        "remaining_time": 33.70302627,
                        "test": [
                          33494.689
                        ]
                      },
                      {
                        "learn": [
                          33492.07447
                        ],
                        "iteration": 692,
                        "passed_time": 75.91730188,
                        "remaining_time": 33.63147428,
                        "test": [
                          33484.80428
                        ]
                      },
                      {
                        "learn": [
                          33477.64365
                        ],
                        "iteration": 693,
                        "passed_time": 76.11266735,
                        "remaining_time": 33.55976399,
                        "test": [
                          33469.31945
                        ]
                      },
                      {
                        "learn": [
                          33464.55398
                        ],
                        "iteration": 694,
                        "passed_time": 76.3111942,
                        "remaining_time": 33.48908522,
                        "test": [
                          33455.90121
                        ]
                      },
                      {
                        "learn": [
                          33459.30036
                        ],
                        "iteration": 695,
                        "passed_time": 76.4905458,
                        "remaining_time": 33.40966368,
                        "test": [
                          33450.1374
                        ]
                      },
                      {
                        "learn": [
                          33446.73727
                        ],
                        "iteration": 696,
                        "passed_time": 76.68775892,
                        "remaining_time": 33.33772016,
                        "test": [
                          33437.55697
                        ]
                      },
                      {
                        "learn": [
                          33438.38772
                        ],
                        "iteration": 697,
                        "passed_time": 76.87236207,
                        "remaining_time": 33.25996181,
                        "test": [
                          33430.10907
                        ]
                      },
                      {
                        "learn": [
                          33418.34001
                        ],
                        "iteration": 698,
                        "passed_time": 77.05712177,
                        "remaining_time": 33.18196517,
                        "test": [
                          33410.90803
                        ]
                      },
                      {
                        "learn": [
                          33403.67165
                        ],
                        "iteration": 699,
                        "passed_time": 77.23874522,
                        "remaining_time": 33.10231938,
                        "test": [
                          33396.19024
                        ]
                      },
                      {
                        "learn": [
                          33390.29083
                        ],
                        "iteration": 700,
                        "passed_time": 77.41079717,
                        "remaining_time": 33.01830008,
                        "test": [
                          33383.3989
                        ]
                      },
                      {
                        "learn": [
                          33373.65265
                        ],
                        "iteration": 701,
                        "passed_time": 77.60937449,
                        "remaining_time": 32.94529002,
                        "test": [
                          33365.99519
                        ]
                      },
                      {
                        "learn": [
                          33357.95784
                        ],
                        "iteration": 702,
                        "passed_time": 77.74688275,
                        "remaining_time": 32.84612258,
                        "test": [
                          33350.17121
                        ]
                      },
                      {
                        "learn": [
                          33351.27682
                        ],
                        "iteration": 703,
                        "passed_time": 77.83485151,
                        "remaining_time": 32.72601711,
                        "test": [
                          33343.49358
                        ]
                      },
                      {
                        "learn": [
                          33340.44873
                        ],
                        "iteration": 704,
                        "passed_time": 77.92618362,
                        "remaining_time": 32.60741017,
                        "test": [
                          33332.08639
                        ]
                      },
                      {
                        "learn": [
                          33327.54909
                        ],
                        "iteration": 705,
                        "passed_time": 78.00840687,
                        "remaining_time": 32.48508728,
                        "test": [
                          33319.64801
                        ]
                      },
                      {
                        "learn": [
                          33317.04518
                        ],
                        "iteration": 706,
                        "passed_time": 78.10523349,
                        "remaining_time": 32.36892986,
                        "test": [
                          33307.94017
                        ]
                      },
                      {
                        "learn": [
                          33303.91856
                        ],
                        "iteration": 707,
                        "passed_time": 78.20873079,
                        "remaining_time": 32.25557824,
                        "test": [
                          33294.99616
                        ]
                      },
                      {
                        "learn": [
                          33285.91702
                        ],
                        "iteration": 708,
                        "passed_time": 78.30474139,
                        "remaining_time": 32.13918158,
                        "test": [
                          33276.91386
                        ]
                      },
                      {
                        "learn": [
                          33270.73438
                        ],
                        "iteration": 709,
                        "passed_time": 78.39285484,
                        "remaining_time": 32.01961677,
                        "test": [
                          33262.06491
                        ]
                      },
                      {
                        "learn": [
                          33262.72061
                        ],
                        "iteration": 710,
                        "passed_time": 78.48471158,
                        "remaining_time": 31.90166195,
                        "test": [
                          33254.61503
                        ]
                      },
                      {
                        "learn": [
                          33247.33347
                        ],
                        "iteration": 711,
                        "passed_time": 78.57607153,
                        "remaining_time": 31.7835795,
                        "test": [
                          33242.07765
                        ]
                      },
                      {
                        "learn": [
                          33232.48107
                        ],
                        "iteration": 712,
                        "passed_time": 78.68936872,
                        "remaining_time": 31.67440228,
                        "test": [
                          33227.03478
                        ]
                      },
                      {
                        "learn": [
                          33220.53775
                        ],
                        "iteration": 713,
                        "passed_time": 78.7904747,
                        "remaining_time": 31.5603302,
                        "test": [
                          33215.547
                        ]
                      },
                      {
                        "learn": [
                          33204.24387
                        ],
                        "iteration": 714,
                        "passed_time": 78.88371078,
                        "remaining_time": 31.44315744,
                        "test": [
                          33198.95056
                        ]
                      },
                      {
                        "learn": [
                          33183.23499
                        ],
                        "iteration": 715,
                        "passed_time": 78.97361805,
                        "remaining_time": 31.32473118,
                        "test": [
                          33178.85808
                        ]
                      },
                      {
                        "learn": [
                          33178.14774
                        ],
                        "iteration": 716,
                        "passed_time": 79.05999706,
                        "remaining_time": 31.20499187,
                        "test": [
                          33174.01607
                        ]
                      },
                      {
                        "learn": [
                          33170.63022
                        ],
                        "iteration": 717,
                        "passed_time": 79.1635929,
                        "remaining_time": 31.09210752,
                        "test": [
                          33165.92858
                        ]
                      },
                      {
                        "learn": [
                          33154.04177
                        ],
                        "iteration": 718,
                        "passed_time": 79.26796303,
                        "remaining_time": 30.97955161,
                        "test": [
                          33149.72221
                        ]
                      },
                      {
                        "learn": [
                          33134.70745
                        ],
                        "iteration": 719,
                        "passed_time": 79.35308849,
                        "remaining_time": 30.85953441,
                        "test": [
                          33131.10151
                        ]
                      },
                      {
                        "learn": [
                          33129.15702
                        ],
                        "iteration": 720,
                        "passed_time": 79.44046463,
                        "remaining_time": 30.74048493,
                        "test": [
                          33125.48942
                        ]
                      },
                      {
                        "learn": [
                          33116.63489
                        ],
                        "iteration": 721,
                        "passed_time": 79.53263842,
                        "remaining_time": 30.62337047,
                        "test": [
                          33114.02564
                        ]
                      },
                      {
                        "learn": [
                          33107.93046
                        ],
                        "iteration": 722,
                        "passed_time": 79.62277849,
                        "remaining_time": 30.50554584,
                        "test": [
                          33104.64791
                        ]
                      },
                      {
                        "learn": [
                          33096.38164
                        ],
                        "iteration": 723,
                        "passed_time": 79.74332293,
                        "remaining_time": 30.3993883,
                        "test": [
                          33093.12812
                        ]
                      },
                      {
                        "learn": [
                          33080.94935
                        ],
                        "iteration": 724,
                        "passed_time": 79.84078376,
                        "remaining_time": 30.28443522,
                        "test": [
                          33077.83966
                        ]
                      },
                      {
                        "learn": [
                          33075.18773
                        ],
                        "iteration": 725,
                        "passed_time": 79.92336421,
                        "remaining_time": 30.16391432,
                        "test": [
                          33071.57399
                        ]
                      },
                      {
                        "learn": [
                          33063.65571
                        ],
                        "iteration": 726,
                        "passed_time": 80.01222497,
                        "remaining_time": 30.04585614,
                        "test": [
                          33060.05067
                        ]
                      },
                      {
                        "learn": [
                          33045.48883
                        ],
                        "iteration": 727,
                        "passed_time": 80.10075843,
                        "remaining_time": 29.9277559,
                        "test": [
                          33041.88219
                        ]
                      },
                      {
                        "learn": [
                          33035.9962
                        ],
                        "iteration": 728,
                        "passed_time": 80.20643739,
                        "remaining_time": 29.81611047,
                        "test": [
                          33033.44149
                        ]
                      },
                      {
                        "learn": [
                          33027.32999
                        ],
                        "iteration": 729,
                        "passed_time": 80.29499755,
                        "remaining_time": 29.69814978,
                        "test": [
                          33024.81263
                        ]
                      },
                      {
                        "learn": [
                          33016.89645
                        ],
                        "iteration": 730,
                        "passed_time": 80.38665241,
                        "remaining_time": 29.58140834,
                        "test": [
                          33013.93897
                        ]
                      },
                      {
                        "learn": [
                          33010.00025
                        ],
                        "iteration": 731,
                        "passed_time": 80.47445096,
                        "remaining_time": 29.46332358,
                        "test": [
                          33007.30286
                        ]
                      },
                      {
                        "learn": [
                          32999.30409
                        ],
                        "iteration": 732,
                        "passed_time": 80.55628283,
                        "remaining_time": 29.34314804,
                        "test": [
                          32996.86216
                        ]
                      },
                      {
                        "learn": [
                          32993.63408
                        ],
                        "iteration": 733,
                        "passed_time": 80.63757031,
                        "remaining_time": 29.2228797,
                        "test": [
                          32991.39193
                        ]
                      },
                      {
                        "learn": [
                          32982.50702
                        ],
                        "iteration": 734,
                        "passed_time": 80.75261353,
                        "remaining_time": 29.11488787,
                        "test": [
                          32980.55113
                        ]
                      },
                      {
                        "learn": [
                          32969.84148
                        ],
                        "iteration": 735,
                        "passed_time": 80.85752759,
                        "remaining_time": 29.00324359,
                        "test": [
                          32967.81073
                        ]
                      },
                      {
                        "learn": [
                          32952.44941
                        ],
                        "iteration": 736,
                        "passed_time": 80.94717669,
                        "remaining_time": 28.88617024,
                        "test": [
                          32951.67134
                        ]
                      },
                      {
                        "learn": [
                          32945.24651
                        ],
                        "iteration": 737,
                        "passed_time": 81.04060185,
                        "remaining_time": 28.77051177,
                        "test": [
                          32944.73892
                        ]
                      },
                      {
                        "learn": [
                          32934.57945
                        ],
                        "iteration": 738,
                        "passed_time": 81.13345723,
                        "remaining_time": 28.65471223,
                        "test": [
                          32935.50258
                        ]
                      },
                      {
                        "learn": [
                          32911.44893
                        ],
                        "iteration": 739,
                        "passed_time": 81.22886153,
                        "remaining_time": 28.53987027,
                        "test": [
                          32912.29392
                        ]
                      },
                      {
                        "learn": [
                          32898.068
                        ],
                        "iteration": 740,
                        "passed_time": 81.33591642,
                        "remaining_time": 28.42915297,
                        "test": [
                          32898.75554
                        ]
                      },
                      {
                        "learn": [
                          32893.17266
                        ],
                        "iteration": 741,
                        "passed_time": 81.41418393,
                        "remaining_time": 28.30843592,
                        "test": [
                          32893.79837
                        ]
                      },
                      {
                        "learn": [
                          32886.24392
                        ],
                        "iteration": 742,
                        "passed_time": 81.50516769,
                        "remaining_time": 28.19223162,
                        "test": [
                          32886.84115
                        ]
                      },
                      {
                        "learn": [
                          32876.31115
                        ],
                        "iteration": 743,
                        "passed_time": 81.59727271,
                        "remaining_time": 28.07648093,
                        "test": [
                          32877.15524
                        ]
                      },
                      {
                        "learn": [
                          32861.05374
                        ],
                        "iteration": 744,
                        "passed_time": 81.68631839,
                        "remaining_time": 27.95974656,
                        "test": [
                          32862.7343
                        ]
                      },
                      {
                        "learn": [
                          32851.83437
                        ],
                        "iteration": 745,
                        "passed_time": 81.78824229,
                        "remaining_time": 27.84747124,
                        "test": [
                          32853.00239
                        ]
                      },
                      {
                        "learn": [
                          32845.72904
                        ],
                        "iteration": 746,
                        "passed_time": 81.89498113,
                        "remaining_time": 27.73685439,
                        "test": [
                          32847.56426
                        ]
                      },
                      {
                        "learn": [
                          32834.81038
                        ],
                        "iteration": 747,
                        "passed_time": 81.97975361,
                        "remaining_time": 27.61884747,
                        "test": [
                          32836.70129
                        ]
                      },
                      {
                        "learn": [
                          32824.4803
                        ],
                        "iteration": 748,
                        "passed_time": 82.0632943,
                        "remaining_time": 27.50051651,
                        "test": [
                          32826.01248
                        ]
                      },
                      {
                        "learn": [
                          32819.69621
                        ],
                        "iteration": 749,
                        "passed_time": 82.14066685,
                        "remaining_time": 27.38022228,
                        "test": [
                          32821.09253
                        ]
                      },
                      {
                        "learn": [
                          32815.67382
                        ],
                        "iteration": 750,
                        "passed_time": 82.22853728,
                        "remaining_time": 27.26352301,
                        "test": [
                          32816.91267
                        ]
                      },
                      {
                        "learn": [
                          32803.6461
                        ],
                        "iteration": 751,
                        "passed_time": 82.33611607,
                        "remaining_time": 27.15339998,
                        "test": [
                          32805.08176
                        ]
                      },
                      {
                        "learn": [
                          32793.75071
                        ],
                        "iteration": 752,
                        "passed_time": 82.42966714,
                        "remaining_time": 27.03868232,
                        "test": [
                          32796.39838
                        ]
                      },
                      {
                        "learn": [
                          32782.27573
                        ],
                        "iteration": 753,
                        "passed_time": 82.51699885,
                        "remaining_time": 26.92199167,
                        "test": [
                          32784.56088
                        ]
                      },
                      {
                        "learn": [
                          32771.55275
                        ],
                        "iteration": 754,
                        "passed_time": 82.6050465,
                        "remaining_time": 26.80561112,
                        "test": [
                          32774.0776
                        ]
                      },
                      {
                        "learn": [
                          32765.67075
                        ],
                        "iteration": 755,
                        "passed_time": 82.68701728,
                        "remaining_time": 26.6873442,
                        "test": [
                          32767.65873
                        ]
                      },
                      {
                        "learn": [
                          32756.33334
                        ],
                        "iteration": 756,
                        "passed_time": 82.7784404,
                        "remaining_time": 26.57220742,
                        "test": [
                          32758.53627
                        ]
                      },
                      {
                        "learn": [
                          32740.69518
                        ],
                        "iteration": 757,
                        "passed_time": 82.90194805,
                        "remaining_time": 26.46737656,
                        "test": [
                          32743.19755
                        ]
                      },
                      {
                        "learn": [
                          32730.81577
                        ],
                        "iteration": 758,
                        "passed_time": 82.98788126,
                        "remaining_time": 26.35056572,
                        "test": [
                          32732.90824
                        ]
                      },
                      {
                        "learn": [
                          32719.44727
                        ],
                        "iteration": 759,
                        "passed_time": 83.07254465,
                        "remaining_time": 26.23343515,
                        "test": [
                          32721.98863
                        ]
                      },
                      {
                        "learn": [
                          32705.12436
                        ],
                        "iteration": 760,
                        "passed_time": 83.17457113,
                        "remaining_time": 26.12184297,
                        "test": [
                          32708.05259
                        ]
                      },
                      {
                        "learn": [
                          32689.16454
                        ],
                        "iteration": 761,
                        "passed_time": 83.26437389,
                        "remaining_time": 26.00645799,
                        "test": [
                          32692.37499
                        ]
                      },
                      {
                        "learn": [
                          32679.70057
                        ],
                        "iteration": 762,
                        "passed_time": 83.37190955,
                        "remaining_time": 25.89664818,
                        "test": [
                          32682.81777
                        ]
                      },
                      {
                        "learn": [
                          32671.25837
                        ],
                        "iteration": 763,
                        "passed_time": 83.45841073,
                        "remaining_time": 25.78034677,
                        "test": [
                          32674.45305
                        ]
                      },
                      {
                        "learn": [
                          32660.74263
                        ],
                        "iteration": 764,
                        "passed_time": 83.5455199,
                        "remaining_time": 25.66431004,
                        "test": [
                          32664.95634
                        ]
                      },
                      {
                        "learn": [
                          32650.53267
                        ],
                        "iteration": 765,
                        "passed_time": 83.62869684,
                        "remaining_time": 25.5471476,
                        "test": [
                          32654.52994
                        ]
                      },
                      {
                        "learn": [
                          32643.12623
                        ],
                        "iteration": 766,
                        "passed_time": 83.71343321,
                        "remaining_time": 25.43054751,
                        "test": [
                          32649.02283
                        ]
                      },
                      {
                        "learn": [
                          32636.84106
                        ],
                        "iteration": 767,
                        "passed_time": 83.79178979,
                        "remaining_time": 25.31210317,
                        "test": [
                          32642.51398
                        ]
                      },
                      {
                        "learn": [
                          32629.30034
                        ],
                        "iteration": 768,
                        "passed_time": 83.92725289,
                        "remaining_time": 25.21091732,
                        "test": [
                          32634.81476
                        ]
                      },
                      {
                        "learn": [
                          32613.41452
                        ],
                        "iteration": 769,
                        "passed_time": 84.01776615,
                        "remaining_time": 25.09621586,
                        "test": [
                          32618.94325
                        ]
                      },
                      {
                        "learn": [
                          32600.21311
                        ],
                        "iteration": 770,
                        "passed_time": 84.11036123,
                        "remaining_time": 24.98219549,
                        "test": [
                          32606.61263
                        ]
                      },
                      {
                        "learn": [
                          32581.65252
                        ],
                        "iteration": 771,
                        "passed_time": 84.19936009,
                        "remaining_time": 24.86716852,
                        "test": [
                          32588.99197
                        ]
                      },
                      {
                        "learn": [
                          32567.51631
                        ],
                        "iteration": 772,
                        "passed_time": 84.29420614,
                        "remaining_time": 24.75392599,
                        "test": [
                          32575.61019
                        ]
                      },
                      {
                        "learn": [
                          32550.75215
                        ],
                        "iteration": 773,
                        "passed_time": 84.40587054,
                        "remaining_time": 24.64564179,
                        "test": [
                          32559.57704
                        ]
                      },
                      {
                        "learn": [
                          32545.48728
                        ],
                        "iteration": 774,
                        "passed_time": 84.49748564,
                        "remaining_time": 24.53152809,
                        "test": [
                          32554.46045
                        ]
                      },
                      {
                        "learn": [
                          32541.28162
                        ],
                        "iteration": 775,
                        "passed_time": 84.57505273,
                        "remaining_time": 24.41341728,
                        "test": [
                          32550.40266
                        ]
                      },
                      {
                        "learn": [
                          32535.90755
                        ],
                        "iteration": 776,
                        "passed_time": 84.66090773,
                        "remaining_time": 24.29778948,
                        "test": [
                          32545.67693
                        ]
                      },
                      {
                        "learn": [
                          32525.24723
                        ],
                        "iteration": 777,
                        "passed_time": 84.74759954,
                        "remaining_time": 24.18247699,
                        "test": [
                          32535.41987
                        ]
                      },
                      {
                        "learn": [
                          32510.75328
                        ],
                        "iteration": 778,
                        "passed_time": 84.84493079,
                        "remaining_time": 24.07025636,
                        "test": [
                          32520.5157
                        ]
                      },
                      {
                        "learn": [
                          32498.39406
                        ],
                        "iteration": 779,
                        "passed_time": 85.1799446,
                        "remaining_time": 24.02511258,
                        "test": [
                          32508.005
                        ]
                      },
                      {
                        "learn": [
                          32491.89319
                        ],
                        "iteration": 780,
                        "passed_time": 85.27047103,
                        "remaining_time": 23.91066985,
                        "test": [
                          32502.18352
                        ]
                      },
                      {
                        "learn": [
                          32481.7822
                        ],
                        "iteration": 781,
                        "passed_time": 85.36584454,
                        "remaining_time": 23.79763953,
                        "test": [
                          32492.54052
                        ]
                      },
                      {
                        "learn": [
                          32469.46751
                        ],
                        "iteration": 782,
                        "passed_time": 85.46777982,
                        "remaining_time": 23.68647282,
                        "test": [
                          32480.60259
                        ]
                      },
                      {
                        "learn": [
                          32460.23055
                        ],
                        "iteration": 783,
                        "passed_time": 85.56025329,
                        "remaining_time": 23.57272285,
                        "test": [
                          32471.7506
                        ]
                      },
                      {
                        "learn": [
                          32452.75503
                        ],
                        "iteration": 784,
                        "passed_time": 85.65590505,
                        "remaining_time": 23.45989756,
                        "test": [
                          32463.46055
                        ]
                      },
                      {
                        "learn": [
                          32447.02782
                        ],
                        "iteration": 785,
                        "passed_time": 85.74270205,
                        "remaining_time": 23.34470514,
                        "test": [
                          32458.41776
                        ]
                      },
                      {
                        "learn": [
                          32427.9397
                        ],
                        "iteration": 786,
                        "passed_time": 85.82861367,
                        "remaining_time": 23.22934525,
                        "test": [
                          32440.25962
                        ]
                      },
                      {
                        "learn": [
                          32418.04809
                        ],
                        "iteration": 787,
                        "passed_time": 85.92090981,
                        "remaining_time": 23.11577777,
                        "test": [
                          32431.22052
                        ]
                      },
                      {
                        "learn": [
                          32404.57976
                        ],
                        "iteration": 788,
                        "passed_time": 86.00909829,
                        "remaining_time": 23.0011657,
                        "test": [
                          32417.82672
                        ]
                      },
                      {
                        "learn": [
                          32396.78002
                        ],
                        "iteration": 789,
                        "passed_time": 86.09522992,
                        "remaining_time": 22.88607378,
                        "test": [
                          32409.60056
                        ]
                      },
                      {
                        "learn": [
                          32391.91318
                        ],
                        "iteration": 790,
                        "passed_time": 86.22082943,
                        "remaining_time": 22.78148338,
                        "test": [
                          32404.30151
                        ]
                      },
                      {
                        "learn": [
                          32383.80115
                        ],
                        "iteration": 791,
                        "passed_time": 86.31952228,
                        "remaining_time": 22.66977353,
                        "test": [
                          32396.38228
                        ]
                      },
                      {
                        "learn": [
                          32367.71064
                        ],
                        "iteration": 792,
                        "passed_time": 86.40954539,
                        "remaining_time": 22.55583341,
                        "test": [
                          32380.96445
                        ]
                      },
                      {
                        "learn": [
                          32354.15456
                        ],
                        "iteration": 793,
                        "passed_time": 86.51934108,
                        "remaining_time": 22.44708346,
                        "test": [
                          32367.19638
                        ]
                      },
                      {
                        "learn": [
                          32346.02374
                        ],
                        "iteration": 794,
                        "passed_time": 86.60799325,
                        "remaining_time": 22.33287876,
                        "test": [
                          32358.99914
                        ]
                      },
                      {
                        "learn": [
                          32338.56948
                        ],
                        "iteration": 795,
                        "passed_time": 86.69973282,
                        "remaining_time": 22.21952952,
                        "test": [
                          32351.50906
                        ]
                      },
                      {
                        "learn": [
                          32325.37351
                        ],
                        "iteration": 796,
                        "passed_time": 86.78963727,
                        "remaining_time": 22.10576708,
                        "test": [
                          32337.85702
                        ]
                      },
                      {
                        "learn": [
                          32309.72937
                        ],
                        "iteration": 797,
                        "passed_time": 86.89005623,
                        "remaining_time": 21.99472601,
                        "test": [
                          32323.34555
                        ]
                      },
                      {
                        "learn": [
                          32296.48787
                        ],
                        "iteration": 798,
                        "passed_time": 86.97799784,
                        "remaining_time": 21.88057267,
                        "test": [
                          32310.31258
                        ]
                      },
                      {
                        "learn": [
                          32281.68995
                        ],
                        "iteration": 799,
                        "passed_time": 87.06799516,
                        "remaining_time": 21.76699879,
                        "test": [
                          32296.36619
                        ]
                      },
                      {
                        "learn": [
                          32277.88451
                        ],
                        "iteration": 800,
                        "passed_time": 87.15271544,
                        "remaining_time": 21.65217275,
                        "test": [
                          32292.88626
                        ]
                      },
                      {
                        "learn": [
                          32264.41105
                        ],
                        "iteration": 801,
                        "passed_time": 87.30703139,
                        "remaining_time": 21.55460376,
                        "test": [
                          32279.25241
                        ]
                      },
                      {
                        "learn": [
                          32247.1108
                        ],
                        "iteration": 802,
                        "passed_time": 87.39896643,
                        "remaining_time": 21.44158952,
                        "test": [
                          32262.59159
                        ]
                      },
                      {
                        "learn": [
                          32238.92089
                        ],
                        "iteration": 803,
                        "passed_time": 87.50875715,
                        "remaining_time": 21.3329806,
                        "test": [
                          32254.13447
                        ]
                      },
                      {
                        "learn": [
                          32230.80855
                        ],
                        "iteration": 804,
                        "passed_time": 87.59246427,
                        "remaining_time": 21.21805035,
                        "test": [
                          32246.86947
                        ]
                      },
                      {
                        "learn": [
                          32225.52366
                        ],
                        "iteration": 805,
                        "passed_time": 87.72146219,
                        "remaining_time": 21.11409884,
                        "test": [
                          32242.1618
                        ]
                      },
                      {
                        "learn": [
                          32216.06578
                        ],
                        "iteration": 806,
                        "passed_time": 87.87335145,
                        "remaining_time": 21.01555989,
                        "test": [
                          32232.28812
                        ]
                      },
                      {
                        "learn": [
                          32207.90113
                        ],
                        "iteration": 807,
                        "passed_time": 88.05874373,
                        "remaining_time": 20.92485,
                        "test": [
                          32224.41969
                        ]
                      },
                      {
                        "learn": [
                          32196.11266
                        ],
                        "iteration": 808,
                        "passed_time": 88.29251375,
                        "remaining_time": 20.84532772,
                        "test": [
                          32213.00399
                        ]
                      },
                      {
                        "learn": [
                          32185.42425
                        ],
                        "iteration": 809,
                        "passed_time": 88.52310575,
                        "remaining_time": 20.76467913,
                        "test": [
                          32202.40407
                        ]
                      },
                      {
                        "learn": [
                          32174.42701
                        ],
                        "iteration": 810,
                        "passed_time": 88.74217566,
                        "remaining_time": 20.68097559,
                        "test": [
                          32192.20625
                        ]
                      },
                      {
                        "learn": [
                          32166.68406
                        ],
                        "iteration": 811,
                        "passed_time": 88.94376107,
                        "remaining_time": 20.59289049,
                        "test": [
                          32185.20362
                        ]
                      },
                      {
                        "learn": [
                          32158.3626
                        ],
                        "iteration": 812,
                        "passed_time": 89.09485291,
                        "remaining_time": 20.49291205,
                        "test": [
                          32177.42283
                        ]
                      },
                      {
                        "learn": [
                          32148.75406
                        ],
                        "iteration": 813,
                        "passed_time": 89.26575651,
                        "remaining_time": 20.39733503,
                        "test": [
                          32166.84494
                        ]
                      },
                      {
                        "learn": [
                          32142.4047
                        ],
                        "iteration": 814,
                        "passed_time": 89.48211075,
                        "remaining_time": 20.31189017,
                        "test": [
                          32160.65622
                        ]
                      },
                      {
                        "learn": [
                          32135.10879
                        ],
                        "iteration": 815,
                        "passed_time": 89.66991966,
                        "remaining_time": 20.21968777,
                        "test": [
                          32154.11274
                        ]
                      },
                      {
                        "learn": [
                          32123.22367
                        ],
                        "iteration": 816,
                        "passed_time": 89.86781293,
                        "remaining_time": 20.12951012,
                        "test": [
                          32142.55787
                        ]
                      },
                      {
                        "learn": [
                          32107.98937
                        ],
                        "iteration": 817,
                        "passed_time": 90.07727687,
                        "remaining_time": 20.04164351,
                        "test": [
                          32128.5752
                        ]
                      },
                      {
                        "learn": [
                          32102.44488
                        ],
                        "iteration": 818,
                        "passed_time": 90.27156397,
                        "remaining_time": 19.95012586,
                        "test": [
                          32123.28552
                        ]
                      },
                      {
                        "learn": [
                          32096.72156
                        ],
                        "iteration": 819,
                        "passed_time": 90.4787207,
                        "remaining_time": 19.86118259,
                        "test": [
                          32118.17956
                        ]
                      },
                      {
                        "learn": [
                          32085.61444
                        ],
                        "iteration": 820,
                        "passed_time": 90.71200541,
                        "remaining_time": 19.77764795,
                        "test": [
                          32108.25994
                        ]
                      },
                      {
                        "learn": [
                          32077.38742
                        ],
                        "iteration": 821,
                        "passed_time": 90.89013834,
                        "remaining_time": 19.68180611,
                        "test": [
                          32099.20556
                        ]
                      },
                      {
                        "learn": [
                          32066.47533
                        ],
                        "iteration": 822,
                        "passed_time": 91.06435153,
                        "remaining_time": 19.58492129,
                        "test": [
                          32088.9239
                        ]
                      },
                      {
                        "learn": [
                          32059.1611
                        ],
                        "iteration": 823,
                        "passed_time": 91.22773984,
                        "remaining_time": 19.48553666,
                        "test": [
                          32082.04112
                        ]
                      },
                      {
                        "learn": [
                          32051.60163
                        ],
                        "iteration": 824,
                        "passed_time": 91.4113,
                        "remaining_time": 19.39027576,
                        "test": [
                          32074.31175
                        ]
                      },
                      {
                        "learn": [
                          32039.96098
                        ],
                        "iteration": 825,
                        "passed_time": 91.62147015,
                        "remaining_time": 19.30040654,
                        "test": [
                          32063.55453
                        ]
                      },
                      {
                        "learn": [
                          32023.22352
                        ],
                        "iteration": 826,
                        "passed_time": 91.71168362,
                        "remaining_time": 19.18515268,
                        "test": [
                          32047.83215
                        ]
                      },
                      {
                        "learn": [
                          32013.58103
                        ],
                        "iteration": 827,
                        "passed_time": 91.81822696,
                        "remaining_time": 19.07335149,
                        "test": [
                          32037.80473
                        ]
                      },
                      {
                        "learn": [
                          32004.78195
                        ],
                        "iteration": 828,
                        "passed_time": 91.90902608,
                        "remaining_time": 18.95831539,
                        "test": [
                          32029.00911
                        ]
                      },
                      {
                        "learn": [
                          31996.28511
                        ],
                        "iteration": 829,
                        "passed_time": 92.00470039,
                        "remaining_time": 18.84433622,
                        "test": [
                          32020.60235
                        ]
                      },
                      {
                        "learn": [
                          31985.84247
                        ],
                        "iteration": 830,
                        "passed_time": 92.08958059,
                        "remaining_time": 18.72820592,
                        "test": [
                          32009.7657
                        ]
                      },
                      {
                        "learn": [
                          31973.73789
                        ],
                        "iteration": 831,
                        "passed_time": 92.18592964,
                        "remaining_time": 18.61446656,
                        "test": [
                          31998.41192
                        ]
                      },
                      {
                        "learn": [
                          31968.53402
                        ],
                        "iteration": 832,
                        "passed_time": 92.27300573,
                        "remaining_time": 18.49890991,
                        "test": [
                          31993.79799
                        ]
                      },
                      {
                        "learn": [
                          31958.26292
                        ],
                        "iteration": 833,
                        "passed_time": 92.36295889,
                        "remaining_time": 18.38399422,
                        "test": [
                          31983.24988
                        ]
                      },
                      {
                        "learn": [
                          31947.59102
                        ],
                        "iteration": 834,
                        "passed_time": 92.44969401,
                        "remaining_time": 18.26850241,
                        "test": [
                          31974.01066
                        ]
                      },
                      {
                        "learn": [
                          31935.57074
                        ],
                        "iteration": 835,
                        "passed_time": 92.54556109,
                        "remaining_time": 18.15487083,
                        "test": [
                          31961.83604
                        ]
                      },
                      {
                        "learn": [
                          31922.06447
                        ],
                        "iteration": 836,
                        "passed_time": 92.67786835,
                        "remaining_time": 18.04837818,
                        "test": [
                          31948.75565
                        ]
                      },
                      {
                        "learn": [
                          31916.23863
                        ],
                        "iteration": 837,
                        "passed_time": 92.76270407,
                        "remaining_time": 17.93264685,
                        "test": [
                          31944.43148
                        ]
                      },
                      {
                        "learn": [
                          31908.90943
                        ],
                        "iteration": 838,
                        "passed_time": 92.87258542,
                        "remaining_time": 17.82179529,
                        "test": [
                          31938.08498
                        ]
                      },
                      {
                        "learn": [
                          31894.94985
                        ],
                        "iteration": 839,
                        "passed_time": 92.96268113,
                        "remaining_time": 17.70717736,
                        "test": [
                          31924.10709
                        ]
                      },
                      {
                        "learn": [
                          31879.81407
                        ],
                        "iteration": 840,
                        "passed_time": 93.04973787,
                        "remaining_time": 17.59204319,
                        "test": [
                          31909.88989
                        ]
                      },
                      {
                        "learn": [
                          31869.04883
                        ],
                        "iteration": 841,
                        "passed_time": 93.13671069,
                        "remaining_time": 17.47695996,
                        "test": [
                          31898.92482
                        ]
                      },
                      {
                        "learn": [
                          31862.66268
                        ],
                        "iteration": 842,
                        "passed_time": 93.22357604,
                        "remaining_time": 17.36192341,
                        "test": [
                          31891.88937
                        ]
                      },
                      {
                        "learn": [
                          31851.89023
                        ],
                        "iteration": 843,
                        "passed_time": 93.31350704,
                        "remaining_time": 17.24752026,
                        "test": [
                          31881.57756
                        ]
                      },
                      {
                        "learn": [
                          31839.47458
                        ],
                        "iteration": 844,
                        "passed_time": 93.40522207,
                        "remaining_time": 17.13350227,
                        "test": [
                          31869.3295
                        ]
                      },
                      {
                        "learn": [
                          31833.59542
                        ],
                        "iteration": 845,
                        "passed_time": 93.49063252,
                        "remaining_time": 17.01838937,
                        "test": [
                          31864.2112
                        ]
                      },
                      {
                        "learn": [
                          31823.61157
                        ],
                        "iteration": 846,
                        "passed_time": 93.58414637,
                        "remaining_time": 16.90481038,
                        "test": [
                          31853.72001
                        ]
                      },
                      {
                        "learn": [
                          31812.91485
                        ],
                        "iteration": 847,
                        "passed_time": 93.73744119,
                        "remaining_time": 16.80199418,
                        "test": [
                          31843.4982
                        ]
                      },
                      {
                        "learn": [
                          31803.92078
                        ],
                        "iteration": 848,
                        "passed_time": 93.92759081,
                        "remaining_time": 16.70561391,
                        "test": [
                          31835.01464
                        ]
                      },
                      {
                        "learn": [
                          31796.08948
                        ],
                        "iteration": 849,
                        "passed_time": 94.01763029,
                        "remaining_time": 16.59134652,
                        "test": [
                          31826.31754
                        ]
                      },
                      {
                        "learn": [
                          31786.93663
                        ],
                        "iteration": 850,
                        "passed_time": 94.10316664,
                        "remaining_time": 16.47634763,
                        "test": [
                          31816.80759
                        ]
                      },
                      {
                        "learn": [
                          31781.67015
                        ],
                        "iteration": 851,
                        "passed_time": 94.19418184,
                        "remaining_time": 16.36236962,
                        "test": [
                          31811.66262
                        ]
                      },
                      {
                        "learn": [
                          31776.73946
                        ],
                        "iteration": 852,
                        "passed_time": 94.28731742,
                        "remaining_time": 16.24881086,
                        "test": [
                          31807.50536
                        ]
                      },
                      {
                        "learn": [
                          31759.22148
                        ],
                        "iteration": 853,
                        "passed_time": 94.37622382,
                        "remaining_time": 16.13457691,
                        "test": [
                          31791.14794
                        ]
                      },
                      {
                        "learn": [
                          31753.4185
                        ],
                        "iteration": 854,
                        "passed_time": 94.46421193,
                        "remaining_time": 16.02024647,
                        "test": [
                          31786.02123
                        ]
                      },
                      {
                        "learn": [
                          31747.42123
                        ],
                        "iteration": 855,
                        "passed_time": 94.55027343,
                        "remaining_time": 15.90565347,
                        "test": [
                          31780.25036
                        ]
                      },
                      {
                        "learn": [
                          31736.77615
                        ],
                        "iteration": 856,
                        "passed_time": 94.63691834,
                        "remaining_time": 15.79122441,
                        "test": [
                          31769.96762
                        ]
                      },
                      {
                        "learn": [
                          31724.23241
                        ],
                        "iteration": 857,
                        "passed_time": 94.78566988,
                        "remaining_time": 15.68713884,
                        "test": [
                          31757.27037
                        ]
                      },
                      {
                        "learn": [
                          31713.74742
                        ],
                        "iteration": 858,
                        "passed_time": 94.87403015,
                        "remaining_time": 15.57303638,
                        "test": [
                          31746.549
                        ]
                      },
                      {
                        "learn": [
                          31705.49774
                        ],
                        "iteration": 859,
                        "passed_time": 94.9798391,
                        "remaining_time": 15.46183427,
                        "test": [
                          31738.28719
                        ]
                      },
                      {
                        "learn": [
                          31697.16847
                        ],
                        "iteration": 860,
                        "passed_time": 95.05970902,
                        "remaining_time": 15.34645709,
                        "test": [
                          31729.65531
                        ]
                      },
                      {
                        "learn": [
                          31693.57473
                        ],
                        "iteration": 861,
                        "passed_time": 95.14543634,
                        "remaining_time": 15.23210002,
                        "test": [
                          31726.33676
                        ]
                      },
                      {
                        "learn": [
                          31688.94738
                        ],
                        "iteration": 862,
                        "passed_time": 95.23292297,
                        "remaining_time": 15.11808858,
                        "test": [
                          31721.42565
                        ]
                      },
                      {
                        "learn": [
                          31681.43788
                        ],
                        "iteration": 863,
                        "passed_time": 95.32414538,
                        "remaining_time": 15.00472659,
                        "test": [
                          31714.3911
                        ]
                      },
                      {
                        "learn": [
                          31674.61373
                        ],
                        "iteration": 864,
                        "passed_time": 95.40956886,
                        "remaining_time": 14.89051075,
                        "test": [
                          31708.2038
                        ]
                      },
                      {
                        "learn": [
                          31656.83962
                        ],
                        "iteration": 865,
                        "passed_time": 95.49993073,
                        "remaining_time": 14.77712554,
                        "test": [
                          31690.76225
                        ]
                      },
                      {
                        "learn": [
                          31647.36523
                        ],
                        "iteration": 866,
                        "passed_time": 95.59064453,
                        "remaining_time": 14.66384743,
                        "test": [
                          31681.61471
                        ]
                      },
                      {
                        "learn": [
                          31641.32166
                        ],
                        "iteration": 867,
                        "passed_time": 95.67696511,
                        "remaining_time": 14.54995322,
                        "test": [
                          31675.24399
                        ]
                      },
                      {
                        "learn": [
                          31636.95148
                        ],
                        "iteration": 868,
                        "passed_time": 95.8096228,
                        "remaining_time": 14.4431077,
                        "test": [
                          31671.45847
                        ]
                      },
                      {
                        "learn": [
                          31625.78903
                        ],
                        "iteration": 869,
                        "passed_time": 95.90276607,
                        "remaining_time": 14.33029838,
                        "test": [
                          31660.28426
                        ]
                      },
                      {
                        "learn": [
                          31614.74015
                        ],
                        "iteration": 870,
                        "passed_time": 96.00402323,
                        "remaining_time": 14.21873593,
                        "test": [
                          31649.53689
                        ]
                      },
                      {
                        "learn": [
                          31606.10866
                        ],
                        "iteration": 871,
                        "passed_time": 96.1009988,
                        "remaining_time": 14.10656863,
                        "test": [
                          31640.42927
                        ]
                      },
                      {
                        "learn": [
                          31600.00672
                        ],
                        "iteration": 872,
                        "passed_time": 96.18491215,
                        "remaining_time": 13.9925359,
                        "test": [
                          31634.14348
                        ]
                      },
                      {
                        "learn": [
                          31591.92995
                        ],
                        "iteration": 873,
                        "passed_time": 96.27350656,
                        "remaining_time": 13.87924694,
                        "test": [
                          31625.95164
                        ]
                      },
                      {
                        "learn": [
                          31587.2016
                        ],
                        "iteration": 874,
                        "passed_time": 96.35510375,
                        "remaining_time": 13.76501482,
                        "test": [
                          31621.41328
                        ]
                      },
                      {
                        "learn": [
                          31577.14905
                        ],
                        "iteration": 875,
                        "passed_time": 96.44114918,
                        "remaining_time": 13.65148687,
                        "test": [
                          31610.98005
                        ]
                      },
                      {
                        "learn": [
                          31569.49342
                        ],
                        "iteration": 876,
                        "passed_time": 96.53157043,
                        "remaining_time": 13.53863531,
                        "test": [
                          31603.11189
                        ]
                      },
                      {
                        "learn": [
                          31560.94982
                        ],
                        "iteration": 877,
                        "passed_time": 96.61816734,
                        "remaining_time": 13.42530343,
                        "test": [
                          31593.87154
                        ]
                      },
                      {
                        "learn": [
                          31544.57976
                        ],
                        "iteration": 878,
                        "passed_time": 96.70402733,
                        "remaining_time": 13.31193095,
                        "test": [
                          31577.51992
                        ]
                      },
                      {
                        "learn": [
                          31537.19628
                        ],
                        "iteration": 879,
                        "passed_time": 96.84750217,
                        "remaining_time": 13.20647757,
                        "test": [
                          31570.63995
                        ]
                      },
                      {
                        "learn": [
                          31528.50567
                        ],
                        "iteration": 880,
                        "passed_time": 96.93973956,
                        "remaining_time": 13.09401703,
                        "test": [
                          31562.42877
                        ]
                      },
                      {
                        "learn": [
                          31516.61186
                        ],
                        "iteration": 881,
                        "passed_time": 97.04706994,
                        "remaining_time": 12.9836216,
                        "test": [
                          31550.90402
                        ]
                      },
                      {
                        "learn": [
                          31511.79154
                        ],
                        "iteration": 882,
                        "passed_time": 97.13723173,
                        "remaining_time": 12.87095822,
                        "test": [
                          31546.6917
                        ]
                      },
                      {
                        "learn": [
                          31507.56583
                        ],
                        "iteration": 883,
                        "passed_time": 97.22271375,
                        "remaining_time": 12.75773167,
                        "test": [
                          31542.98967
                        ]
                      },
                      {
                        "learn": [
                          31500.99298
                        ],
                        "iteration": 884,
                        "passed_time": 97.30935542,
                        "remaining_time": 12.6447185,
                        "test": [
                          31536.11953
                        ]
                      },
                      {
                        "learn": [
                          31493.87458
                        ],
                        "iteration": 885,
                        "passed_time": 97.40127344,
                        "remaining_time": 12.53244376,
                        "test": [
                          31528.83798
                        ]
                      },
                      {
                        "learn": [
                          31484.57984
                        ],
                        "iteration": 886,
                        "passed_time": 97.49356184,
                        "remaining_time": 12.42026211,
                        "test": [
                          31519.16407
                        ]
                      },
                      {
                        "learn": [
                          31479.76887
                        ],
                        "iteration": 887,
                        "passed_time": 97.58288916,
                        "remaining_time": 12.30775179,
                        "test": [
                          31514.09601
                        ]
                      },
                      {
                        "learn": [
                          31472.61261
                        ],
                        "iteration": 888,
                        "passed_time": 97.66652207,
                        "remaining_time": 12.19458262,
                        "test": [
                          31507.25447
                        ]
                      },
                      {
                        "learn": [
                          31467.05115
                        ],
                        "iteration": 889,
                        "passed_time": 97.75453519,
                        "remaining_time": 12.0820212,
                        "test": [
                          31501.62269
                        ]
                      },
                      {
                        "learn": [
                          31450.82705
                        ],
                        "iteration": 890,
                        "passed_time": 97.8871149,
                        "remaining_time": 11.97496692,
                        "test": [
                          31485.89671
                        ]
                      },
                      {
                        "learn": [
                          31438.19661
                        ],
                        "iteration": 891,
                        "passed_time": 97.98710622,
                        "remaining_time": 11.86390972,
                        "test": [
                          31474.16053
                        ]
                      },
                      {
                        "learn": [
                          31432.69063
                        ],
                        "iteration": 892,
                        "passed_time": 98.09818715,
                        "remaining_time": 11.75420608,
                        "test": [
                          31468.6784
                        ]
                      },
                      {
                        "learn": [
                          31422.60511
                        ],
                        "iteration": 893,
                        "passed_time": 98.19460622,
                        "remaining_time": 11.64276092,
                        "test": [
                          31458.4012
                        ]
                      },
                      {
                        "learn": [
                          31416.34472
                        ],
                        "iteration": 894,
                        "passed_time": 98.27783373,
                        "remaining_time": 11.52980172,
                        "test": [
                          31451.98488
                        ]
                      },
                      {
                        "learn": [
                          31408.95082
                        ],
                        "iteration": 895,
                        "passed_time": 98.36801522,
                        "remaining_time": 11.41771605,
                        "test": [
                          31444.92221
                        ]
                      },
                      {
                        "learn": [
                          31404.93219
                        ],
                        "iteration": 896,
                        "passed_time": 98.44953615,
                        "remaining_time": 11.30468475,
                        "test": [
                          31441.31136
                        ]
                      },
                      {
                        "learn": [
                          31397.66225
                        ],
                        "iteration": 897,
                        "passed_time": 98.53623464,
                        "remaining_time": 11.19231173,
                        "test": [
                          31434.53376
                        ]
                      },
                      {
                        "learn": [
                          31391.93025
                        ],
                        "iteration": 898,
                        "passed_time": 98.61857902,
                        "remaining_time": 11.07950665,
                        "test": [
                          31429.0284
                        ]
                      },
                      {
                        "learn": [
                          31380.82641
                        ],
                        "iteration": 899,
                        "passed_time": 98.71407281,
                        "remaining_time": 10.96823031,
                        "test": [
                          31418.34586
                        ]
                      },
                      {
                        "learn": [
                          31375.10568
                        ],
                        "iteration": 900,
                        "passed_time": 98.79705238,
                        "remaining_time": 10.85561397,
                        "test": [
                          31412.44008
                        ]
                      },
                      {
                        "learn": [
                          31368.77728
                        ],
                        "iteration": 901,
                        "passed_time": 98.93471378,
                        "remaining_time": 10.74900438,
                        "test": [
                          31405.97796
                        ]
                      },
                      {
                        "learn": [
                          31358.56103
                        ],
                        "iteration": 902,
                        "passed_time": 99.02475308,
                        "remaining_time": 10.63721046,
                        "test": [
                          31397.22223
                        ]
                      },
                      {
                        "learn": [
                          31352.54576
                        ],
                        "iteration": 903,
                        "passed_time": 99.12439731,
                        "remaining_time": 10.52648467,
                        "test": [
                          31391.14101
                        ]
                      },
                      {
                        "learn": [
                          31343.5179
                        ],
                        "iteration": 904,
                        "passed_time": 99.21522019,
                        "remaining_time": 10.41485737,
                        "test": [
                          31382.35877
                        ]
                      },
                      {
                        "learn": [
                          31337.67241
                        ],
                        "iteration": 905,
                        "passed_time": 99.31008087,
                        "remaining_time": 10.30369492,
                        "test": [
                          31376.82057
                        ]
                      },
                      {
                        "learn": [
                          31331.70529
                        ],
                        "iteration": 906,
                        "passed_time": 99.4009744,
                        "remaining_time": 10.19216165,
                        "test": [
                          31370.59775
                        ]
                      },
                      {
                        "learn": [
                          31323.9873
                        ],
                        "iteration": 907,
                        "passed_time": 99.49715242,
                        "remaining_time": 10.08120928,
                        "test": [
                          31362.45051
                        ]
                      },
                      {
                        "learn": [
                          31316.45276
                        ],
                        "iteration": 908,
                        "passed_time": 99.58782726,
                        "remaining_time": 9.969738482,
                        "test": [
                          31355.34696
                        ]
                      },
                      {
                        "learn": [
                          31312.20402
                        ],
                        "iteration": 909,
                        "passed_time": 99.67169774,
                        "remaining_time": 9.857640436,
                        "test": [
                          31351.41639
                        ]
                      },
                      {
                        "learn": [
                          31302.2578
                        ],
                        "iteration": 910,
                        "passed_time": 99.7618131,
                        "remaining_time": 9.746214452,
                        "test": [
                          31342.53496
                        ]
                      },
                      {
                        "learn": [
                          31298.09747
                        ],
                        "iteration": 911,
                        "passed_time": 99.85054647,
                        "remaining_time": 9.634701853,
                        "test": [
                          31338.29165
                        ]
                      },
                      {
                        "learn": [
                          31293.31902
                        ],
                        "iteration": 912,
                        "passed_time": 99.98105572,
                        "remaining_time": 9.527219986,
                        "test": [
                          31333.85684
                        ]
                      },
                      {
                        "learn": [
                          31287.19224
                        ],
                        "iteration": 913,
                        "passed_time": 100.0692178,
                        "remaining_time": 9.415703211,
                        "test": [
                          31328.47864
                        ]
                      },
                      {
                        "learn": [
                          31280.73718
                        ],
                        "iteration": 914,
                        "passed_time": 100.1774128,
                        "remaining_time": 9.30609846,
                        "test": [
                          31321.8215
                        ]
                      },
                      {
                        "learn": [
                          31275.81468
                        ],
                        "iteration": 915,
                        "passed_time": 100.2612602,
                        "remaining_time": 9.19426404,
                        "test": [
                          31317.3596
                        ]
                      },
                      {
                        "learn": [
                          31268.8022
                        ],
                        "iteration": 916,
                        "passed_time": 100.3481393,
                        "remaining_time": 9.082765058,
                        "test": [
                          31310.44105
                        ]
                      },
                      {
                        "learn": [
                          31259.40119
                        ],
                        "iteration": 917,
                        "passed_time": 100.4388312,
                        "remaining_time": 8.971660301,
                        "test": [
                          31301.37042
                        ]
                      },
                      {
                        "learn": [
                          31251.94836
                        ],
                        "iteration": 918,
                        "passed_time": 100.5259928,
                        "remaining_time": 8.860288814,
                        "test": [
                          31294.65154
                        ]
                      },
                      {
                        "learn": [
                          31244.98568
                        ],
                        "iteration": 919,
                        "passed_time": 100.614062,
                        "remaining_time": 8.749048871,
                        "test": [
                          31287.81063
                        ]
                      },
                      {
                        "learn": [
                          31237.57829
                        ],
                        "iteration": 920,
                        "passed_time": 100.6990717,
                        "remaining_time": 8.637596816,
                        "test": [
                          31280.4205
                        ]
                      },
                      {
                        "learn": [
                          31232.44262
                        ],
                        "iteration": 921,
                        "passed_time": 100.7917725,
                        "remaining_time": 8.526852768,
                        "test": [
                          31275.95717
                        ]
                      },
                      {
                        "learn": [
                          31215.507
                        ],
                        "iteration": 922,
                        "passed_time": 100.8818633,
                        "remaining_time": 8.415930089,
                        "test": [
                          31258.96653
                        ]
                      },
                      {
                        "learn": [
                          31205.26161
                        ],
                        "iteration": 923,
                        "passed_time": 101.0402037,
                        "remaining_time": 8.310666102,
                        "test": [
                          31249.01271
                        ]
                      },
                      {
                        "learn": [
                          31200.70708
                        ],
                        "iteration": 924,
                        "passed_time": 101.1257488,
                        "remaining_time": 8.19938504,
                        "test": [
                          31244.56625
                        ]
                      },
                      {
                        "learn": [
                          31193.4424
                        ],
                        "iteration": 925,
                        "passed_time": 101.2425599,
                        "remaining_time": 8.090658137,
                        "test": [
                          31237.45804
                        ]
                      },
                      {
                        "learn": [
                          31183.91535
                        ],
                        "iteration": 926,
                        "passed_time": 101.3333869,
                        "remaining_time": 7.979867575,
                        "test": [
                          31227.98757
                        ]
                      },
                      {
                        "learn": [
                          31173.57851
                        ],
                        "iteration": 927,
                        "passed_time": 101.4257271,
                        "remaining_time": 7.869237447,
                        "test": [
                          31217.99203
                        ]
                      },
                      {
                        "learn": [
                          31164.69383
                        ],
                        "iteration": 928,
                        "passed_time": 101.5217803,
                        "remaining_time": 7.758930463,
                        "test": [
                          31209.79268
                        ]
                      },
                      {
                        "learn": [
                          31160.13486
                        ],
                        "iteration": 929,
                        "passed_time": 101.6822559,
                        "remaining_time": 7.653503134,
                        "test": [
                          31205.41139
                        ]
                      },
                      {
                        "learn": [
                          31154.00286
                        ],
                        "iteration": 930,
                        "passed_time": 101.8510735,
                        "remaining_time": 7.548575804,
                        "test": [
                          31199.22983
                        ]
                      },
                      {
                        "learn": [
                          31148.7294
                        ],
                        "iteration": 931,
                        "passed_time": 102.0856487,
                        "remaining_time": 7.448309132,
                        "test": [
                          31194.34041
                        ]
                      },
                      {
                        "learn": [
                          31134.48719
                        ],
                        "iteration": 932,
                        "passed_time": 102.2913006,
                        "remaining_time": 7.345677533,
                        "test": [
                          31179.60277
                        ]
                      },
                      {
                        "learn": [
                          31129.84198
                        ],
                        "iteration": 933,
                        "passed_time": 102.4902737,
                        "remaining_time": 7.242353389,
                        "test": [
                          31174.96023
                        ]
                      },
                      {
                        "learn": [
                          31122.59756
                        ],
                        "iteration": 934,
                        "passed_time": 102.6822339,
                        "remaining_time": 7.138337117,
                        "test": [
                          31167.65617
                        ]
                      },
                      {
                        "learn": [
                          31118.1545
                        ],
                        "iteration": 935,
                        "passed_time": 102.8957776,
                        "remaining_time": 7.035608726,
                        "test": [
                          31163.05592
                        ]
                      },
                      {
                        "learn": [
                          31110.81604
                        ],
                        "iteration": 936,
                        "passed_time": 103.0666245,
                        "remaining_time": 6.929773042,
                        "test": [
                          31155.53883
                        ]
                      },
                      {
                        "learn": [
                          31103.90828
                        ],
                        "iteration": 937,
                        "passed_time": 103.2677442,
                        "remaining_time": 6.825799722,
                        "test": [
                          31149.02044
                        ]
                      },
                      {
                        "learn": [
                          31097.87177
                        ],
                        "iteration": 938,
                        "passed_time": 103.416421,
                        "remaining_time": 6.718212651,
                        "test": [
                          31143.99251
                        ]
                      },
                      {
                        "learn": [
                          31093.67287
                        ],
                        "iteration": 939,
                        "passed_time": 103.5987286,
                        "remaining_time": 6.612684805,
                        "test": [
                          31140.11666
                        ]
                      },
                      {
                        "learn": [
                          31085.82567
                        ],
                        "iteration": 940,
                        "passed_time": 103.7941824,
                        "remaining_time": 6.507818025,
                        "test": [
                          31132.58341
                        ]
                      },
                      {
                        "learn": [
                          31077.48253
                        ],
                        "iteration": 941,
                        "passed_time": 103.9998323,
                        "remaining_time": 6.403386703,
                        "test": [
                          31123.62936
                        ]
                      },
                      {
                        "learn": [
                          31071.26583
                        ],
                        "iteration": 942,
                        "passed_time": 104.2136588,
                        "remaining_time": 6.299234941,
                        "test": [
                          31117.18674
                        ]
                      },
                      {
                        "learn": [
                          31063.52512
                        ],
                        "iteration": 943,
                        "passed_time": 104.4756079,
                        "remaining_time": 6.197705552,
                        "test": [
                          31109.84154
                        ]
                      },
                      {
                        "learn": [
                          31057.30414
                        ],
                        "iteration": 944,
                        "passed_time": 104.6550105,
                        "remaining_time": 6.09103236,
                        "test": [
                          31103.31819
                        ]
                      },
                      {
                        "learn": [
                          31049.53566
                        ],
                        "iteration": 945,
                        "passed_time": 104.8097597,
                        "remaining_time": 5.982798121,
                        "test": [
                          31095.09316
                        ]
                      },
                      {
                        "learn": [
                          31042.23555
                        ],
                        "iteration": 946,
                        "passed_time": 104.9994349,
                        "remaining_time": 5.876420328,
                        "test": [
                          31088.11586
                        ]
                      },
                      {
                        "learn": [
                          31030.27769
                        ],
                        "iteration": 947,
                        "passed_time": 105.1712275,
                        "remaining_time": 5.768885895,
                        "test": [
                          31075.80465
                        ]
                      },
                      {
                        "learn": [
                          31026.73377
                        ],
                        "iteration": 948,
                        "passed_time": 105.5872795,
                        "remaining_time": 5.674342735,
                        "test": [
                          31072.5766
                        ]
                      },
                      {
                        "learn": [
                          31022.7486
                        ],
                        "iteration": 949,
                        "passed_time": 105.7105224,
                        "remaining_time": 5.563711703,
                        "test": [
                          31069.31373
                        ]
                      },
                      {
                        "learn": [
                          31011.593
                        ],
                        "iteration": 950,
                        "passed_time": 105.7980873,
                        "remaining_time": 5.451215855,
                        "test": [
                          31057.21177
                        ]
                      },
                      {
                        "learn": [
                          31004.57189
                        ],
                        "iteration": 951,
                        "passed_time": 105.8736737,
                        "remaining_time": 5.338168422,
                        "test": [
                          31050.45084
                        ]
                      },
                      {
                        "learn": [
                          30998.31962
                        ],
                        "iteration": 952,
                        "passed_time": 105.9670933,
                        "remaining_time": 5.226079103,
                        "test": [
                          31043.67678
                        ]
                      },
                      {
                        "learn": [
                          30992.84746
                        ],
                        "iteration": 953,
                        "passed_time": 106.0466807,
                        "remaining_time": 5.113361961,
                        "test": [
                          31038.88549
                        ]
                      },
                      {
                        "learn": [
                          30982.74983
                        ],
                        "iteration": 954,
                        "passed_time": 106.1386171,
                        "remaining_time": 5.001296092,
                        "test": [
                          31028.66563
                        ]
                      },
                      {
                        "learn": [
                          30976.25398
                        ],
                        "iteration": 955,
                        "passed_time": 106.2283626,
                        "remaining_time": 4.889171499,
                        "test": [
                          31022.32419
                        ]
                      },
                      {
                        "learn": [
                          30970.39324
                        ],
                        "iteration": 956,
                        "passed_time": 106.3148152,
                        "remaining_time": 4.776945719,
                        "test": [
                          31016.45024
                        ]
                      },
                      {
                        "learn": [
                          30962.45144
                        ],
                        "iteration": 957,
                        "passed_time": 106.4027827,
                        "remaining_time": 4.664840162,
                        "test": [
                          31008.30237
                        ]
                      },
                      {
                        "learn": [
                          30955.7624
                        ],
                        "iteration": 958,
                        "passed_time": 106.5003037,
                        "remaining_time": 4.553193378,
                        "test": [
                          31002.60673
                        ]
                      },
                      {
                        "learn": [
                          30950.90048
                        ],
                        "iteration": 959,
                        "passed_time": 106.5873005,
                        "remaining_time": 4.441137519,
                        "test": [
                          30998.45404
                        ]
                      },
                      {
                        "learn": [
                          30941.34403
                        ],
                        "iteration": 960,
                        "passed_time": 106.7315725,
                        "remaining_time": 4.331458198,
                        "test": [
                          30989.09652
                        ]
                      },
                      {
                        "learn": [
                          30932.32773
                        ],
                        "iteration": 961,
                        "passed_time": 106.8210629,
                        "remaining_time": 4.219543027,
                        "test": [
                          30980.61742
                        ]
                      },
                      {
                        "learn": [
                          30920.20488
                        ],
                        "iteration": 962,
                        "passed_time": 106.9189002,
                        "remaining_time": 4.107995126,
                        "test": [
                          30968.89328
                        ]
                      },
                      {
                        "learn": [
                          30910.8913
                        ],
                        "iteration": 963,
                        "passed_time": 107.0413713,
                        "remaining_time": 3.997395608,
                        "test": [
                          30959.09856
                        ]
                      },
                      {
                        "learn": [
                          30905.45701
                        ],
                        "iteration": 964,
                        "passed_time": 107.1281833,
                        "remaining_time": 3.885478152,
                        "test": [
                          30954.33165
                        ]
                      },
                      {
                        "learn": [
                          30900.20555
                        ],
                        "iteration": 965,
                        "passed_time": 107.2084756,
                        "remaining_time": 3.773383201,
                        "test": [
                          30948.67088
                        ]
                      },
                      {
                        "learn": [
                          30886.10082
                        ],
                        "iteration": 966,
                        "passed_time": 107.2992459,
                        "remaining_time": 3.661711598,
                        "test": [
                          30934.19231
                        ]
                      },
                      {
                        "learn": [
                          30880.40255
                        ],
                        "iteration": 967,
                        "passed_time": 107.3855958,
                        "remaining_time": 3.549937051,
                        "test": [
                          30928.48244
                        ]
                      },
                      {
                        "learn": [
                          30866.40861
                        ],
                        "iteration": 968,
                        "passed_time": 107.4773756,
                        "remaining_time": 3.438388694,
                        "test": [
                          30914.22247
                        ]
                      },
                      {
                        "learn": [
                          30860.70383
                        ],
                        "iteration": 969,
                        "passed_time": 107.593374,
                        "remaining_time": 3.327630125,
                        "test": [
                          30909.03066
                        ]
                      },
                      {
                        "learn": [
                          30854.97932
                        ],
                        "iteration": 970,
                        "passed_time": 107.7254908,
                        "remaining_time": 3.217342155,
                        "test": [
                          30903.04225
                        ]
                      },
                      {
                        "learn": [
                          30844.08809
                        ],
                        "iteration": 971,
                        "passed_time": 107.836768,
                        "remaining_time": 3.106408954,
                        "test": [
                          30892.59711
                        ]
                      },
                      {
                        "learn": [
                          30835.01873
                        ],
                        "iteration": 972,
                        "passed_time": 107.9367563,
                        "remaining_time": 2.995161789,
                        "test": [
                          30884.26195
                        ]
                      },
                      {
                        "learn": [
                          30828.50632
                        ],
                        "iteration": 973,
                        "passed_time": 108.0172146,
                        "remaining_time": 2.883416407,
                        "test": [
                          30877.18843
                        ]
                      },
                      {
                        "learn": [
                          30825.18862
                        ],
                        "iteration": 974,
                        "passed_time": 108.107573,
                        "remaining_time": 2.77198905,
                        "test": [
                          30873.59267
                        ]
                      },
                      {
                        "learn": [
                          30812.88886
                        ],
                        "iteration": 975,
                        "passed_time": 108.1980297,
                        "remaining_time": 2.660607288,
                        "test": [
                          30861.02529
                        ]
                      },
                      {
                        "learn": [
                          30804.95867
                        ],
                        "iteration": 976,
                        "passed_time": 108.2839294,
                        "remaining_time": 2.549161082,
                        "test": [
                          30853.92577
                        ]
                      },
                      {
                        "learn": [
                          30798.42315
                        ],
                        "iteration": 977,
                        "passed_time": 108.3726968,
                        "remaining_time": 2.437831626,
                        "test": [
                          30847.4763
                        ]
                      },
                      {
                        "learn": [
                          30792.465
                        ],
                        "iteration": 978,
                        "passed_time": 108.4623306,
                        "remaining_time": 2.326566845,
                        "test": [
                          30841.43543
                        ]
                      },
                      {
                        "learn": [
                          30785.89639
                        ],
                        "iteration": 979,
                        "passed_time": 108.5466472,
                        "remaining_time": 2.215237699,
                        "test": [
                          30835.47777
                        ]
                      },
                      {
                        "learn": [
                          30777.64472
                        ],
                        "iteration": 980,
                        "passed_time": 108.6617007,
                        "remaining_time": 2.104558933,
                        "test": [
                          30828.29512
                        ]
                      },
                      {
                        "learn": [
                          30767.90809
                        ],
                        "iteration": 981,
                        "passed_time": 108.8108429,
                        "remaining_time": 1.994496102,
                        "test": [
                          30818.45073
                        ]
                      },
                      {
                        "learn": [
                          30764.17717
                        ],
                        "iteration": 982,
                        "passed_time": 108.8887113,
                        "remaining_time": 1.883121151,
                        "test": [
                          30814.8705
                        ]
                      },
                      {
                        "learn": [
                          30754.25366
                        ],
                        "iteration": 983,
                        "passed_time": 108.9838862,
                        "remaining_time": 1.77209571,
                        "test": [
                          30804.75505
                        ]
                      },
                      {
                        "learn": [
                          30750.00594
                        ],
                        "iteration": 984,
                        "passed_time": 109.0654698,
                        "remaining_time": 1.660895479,
                        "test": [
                          30800.59333
                        ]
                      },
                      {
                        "learn": [
                          30744.06849
                        ],
                        "iteration": 985,
                        "passed_time": 109.1551423,
                        "remaining_time": 1.549870174,
                        "test": [
                          30794.72734
                        ]
                      },
                      {
                        "learn": [
                          30735.27372
                        ],
                        "iteration": 986,
                        "passed_time": 109.2464424,
                        "remaining_time": 1.438909575,
                        "test": [
                          30786.46301
                        ]
                      },
                      {
                        "learn": [
                          30730.0107
                        ],
                        "iteration": 987,
                        "passed_time": 109.3446713,
                        "remaining_time": 1.328072931,
                        "test": [
                          30782.00738
                        ]
                      },
                      {
                        "learn": [
                          30723.35351
                        ],
                        "iteration": 988,
                        "passed_time": 109.4381605,
                        "remaining_time": 1.217209065,
                        "test": [
                          30775.40908
                        ]
                      },
                      {
                        "learn": [
                          30713.07336
                        ],
                        "iteration": 989,
                        "passed_time": 109.5291955,
                        "remaining_time": 1.10635551,
                        "test": [
                          30764.96955
                        ]
                      },
                      {
                        "learn": [
                          30704.28135
                        ],
                        "iteration": 990,
                        "passed_time": 109.635199,
                        "remaining_time": 0.9956778924,
                        "test": [
                          30755.62842
                        ]
                      },
                      {
                        "learn": [
                          30699.11889
                        ],
                        "iteration": 991,
                        "passed_time": 109.7309718,
                        "remaining_time": 0.8849271916,
                        "test": [
                          30750.27559
                        ]
                      },
                      {
                        "learn": [
                          30695.37227
                        ],
                        "iteration": 992,
                        "passed_time": 109.8818143,
                        "remaining_time": 0.7745948639,
                        "test": [
                          30747.21823
                        ]
                      },
                      {
                        "learn": [
                          30684.93694
                        ],
                        "iteration": 993,
                        "passed_time": 109.9771358,
                        "remaining_time": 0.6638458899,
                        "test": [
                          30736.68888
                        ]
                      },
                      {
                        "learn": [
                          30678.05023
                        ],
                        "iteration": 994,
                        "passed_time": 110.0643168,
                        "remaining_time": 0.5530870193,
                        "test": [
                          30729.83001
                        ]
                      },
                      {
                        "learn": [
                          30671.4386
                        ],
                        "iteration": 995,
                        "passed_time": 110.148378,
                        "remaining_time": 0.4423629637,
                        "test": [
                          30723.00604
                        ]
                      },
                      {
                        "learn": [
                          30665.22468
                        ],
                        "iteration": 996,
                        "passed_time": 110.2359993,
                        "remaining_time": 0.3317031072,
                        "test": [
                          30717.42176
                        ]
                      },
                      {
                        "learn": [
                          30660.29546
                        ],
                        "iteration": 997,
                        "passed_time": 110.3145191,
                        "remaining_time": 0.2210711806,
                        "test": [
                          30712.33116
                        ]
                      },
                      {
                        "learn": [
                          30652.80679
                        ],
                        "iteration": 998,
                        "passed_time": 110.4003524,
                        "remaining_time": 0.1105108633,
                        "test": [
                          30705.01163
                        ]
                      },
                      {
                        "learn": [
                          30646.0754
                        ],
                        "iteration": 999,
                        "passed_time": 110.4828712,
                        "remaining_time": 0,
                        "test": [
                          30698.06917
                        ]
                      }
                    ],
                    "meta": {
                      "test_sets": [
                        "test"
                      ],
                      "test_metrics": [
                        {
                          "best_value": "Min",
                          "name": "RMSE"
                        }
                      ],
                      "learn_metrics": [
                        {
                          "best_value": "Min",
                          "name": "RMSE"
                        }
                      ],
                      "launch_mode": "Train",
                      "parameters": "",
                      "iteration_count": 1000,
                      "learn_sets": [
                        "learn"
                      ],
                      "name": "experiment"
                    }
                  }
                }
              }
            },
            "layout": "IPY_MODEL_c4aac4acabd4486388657ba353efef60"
          }
        }
      }
    }
  },
  "nbformat": 4,
  "nbformat_minor": 0
}